{
 "cells": [
  {
   "cell_type": "markdown",
   "id": "3a2ab54b",
   "metadata": {},
   "source": [
    "# What is Markdown"
   ]
  },
  {
   "cell_type": "markdown",
   "id": "e88f68ba",
   "metadata": {},
   "source": [
    "* Markdown is a light weight and popular markup language\n",
    "* used by data scientist and data analyst\n",
    "* Markup language is similar to HTML\n",
    "\n",
    "    #### In this session on Jupyter Notebook Markdown we are discussing following topics:\n",
    "    1. <a href=\"#1.-Headers\">Headers</a>\n",
    "    2. <a href=\"#2.-Block-quotes\">Block-quotes</a>\n",
    "    3. <a href=\"#3.-Mathematical-Symbol\">Mathematical Symbol</a>\n",
    "    4. <a href=\"#4.-Line-Break\">Line Break</a>\n",
    "    5. <a href=\"#5.-Bold-and-Italic-Text\">Bold and Italic Text</a>\n",
    "    6. <a href=\"#6.-Horizontal-Lines\">Horizontal Lines</a>\n",
    "    7. <a href=\"#7.-Ordered-List\">Ordered List</a>\n",
    "    8. <a href=\"#8.-Unordered-List\">Unordered List</a>\n",
    "    9. <a href=\"#9.-External-Link\">External Link</a>\n",
    "    10. <a href=\"#10.-Image\">Image</a>\n",
    "    11. <a href=\"#11.-Video\">Video</a>"
   ]
  },
  {
   "cell_type": "markdown",
   "id": "912103ac",
   "metadata": {},
   "source": [
    "# 1. Headers #\n",
    "* Markdown header sizes are defined by the number of # characters placed before the text. \n",
    "    \n",
    "# H1\n",
    "## H2\n",
    "### H3\n",
    "#### H4\n",
    "##### H5\n",
    "###### H6"
   ]
  },
  {
   "cell_type": "markdown",
   "id": "17812383",
   "metadata": {},
   "source": [
    "# 2. Block-quotes\n",
    "introduction to jupyter notebook\n",
    ">jupyter notebook is best for doing data analysis"
   ]
  },
  {
   "cell_type": "markdown",
   "id": "7786a153",
   "metadata": {},
   "source": [
    "# 3. Mathematical Symbol\n",
    "* $\\sum$\n",
    "* $\\forall$"
   ]
  },
  {
   "cell_type": "markdown",
   "id": "c2dc74ee",
   "metadata": {},
   "source": [
    "[<a href=\"#What-is-Markdown\">Back to top</a>]"
   ]
  },
  {
   "cell_type": "markdown",
   "id": "09c4cd6c",
   "metadata": {},
   "source": [
    "# 4. Line Break\n",
    "the line breaks after using <br> br tags and it is awesome"
   ]
  },
  {
   "cell_type": "markdown",
   "id": "79468506",
   "metadata": {},
   "source": [
    "# 5. Bold and Italic Text\n",
    "* *sometext*  \n",
    "* _sometext_\n",
    "* **sometext** \n",
    "* __sometext__"
   ]
  },
  {
   "cell_type": "markdown",
   "id": "83c99db7",
   "metadata": {},
   "source": [
    "# 6. Horizontal Lines\n",
    "---\n",
    "###### horizontal line in jupyter notebook\n",
    "---"
   ]
  },
  {
   "cell_type": "markdown",
   "id": "328739ed",
   "metadata": {},
   "source": [
    "[<a href=\"#What-is-Markdown\">Back to top</a>]"
   ]
  },
  {
   "cell_type": "markdown",
   "id": "d7996221",
   "metadata": {},
   "source": [
    "# 7. Ordered List\n",
    "1. Python\n",
    "2. Java\n",
    "3. Julia"
   ]
  },
  {
   "cell_type": "markdown",
   "id": "efffeabf",
   "metadata": {},
   "source": [
    "# 8. Unordered List\n",
    "- Java\n",
    "- Python\n",
    "- HTML"
   ]
  },
  {
   "cell_type": "markdown",
   "id": "765d5768",
   "metadata": {},
   "source": [
    "# 9. External Link"
   ]
  },
  {
   "cell_type": "markdown",
   "id": "a5499e85",
   "metadata": {},
   "source": [
    "[<a href=\"https://www.cricbuzz.com/\" >Visit Cricbuzz</a>]"
   ]
  },
  {
   "cell_type": "markdown",
   "id": "a8747ed4",
   "metadata": {},
   "source": [
    "[<a href=\"#What-is-Markdown\">Back to top</a>]"
   ]
  },
  {
   "cell_type": "markdown",
   "id": "245fd1c6",
   "metadata": {},
   "source": [
    "# 10. Image\n",
    "![](python.png)\n",
    "<img src=\"jupyter.png\" width=\"200\" height=\"250\" />"
   ]
  },
  {
   "cell_type": "markdown",
   "id": "a80c5ded",
   "metadata": {},
   "source": [
    "# 11. Video\n",
    "<video controls src=\"kashmirfiles.MP4\" width=\"850\" height=\"550\" />"
   ]
  },
  {
   "cell_type": "markdown",
   "id": "aaceeccd",
   "metadata": {},
   "source": [
    "[<a href=\"#What-is-Markdown\">Back to top</a>]"
   ]
  }
 ],
 "metadata": {
  "kernelspec": {
   "display_name": "Python 3 (ipykernel)",
   "language": "python",
   "name": "python3"
  },
  "language_info": {
   "codemirror_mode": {
    "name": "ipython",
    "version": 3
   },
   "file_extension": ".py",
   "mimetype": "text/x-python",
   "name": "python",
   "nbconvert_exporter": "python",
   "pygments_lexer": "ipython3",
   "version": "3.9.13"
  }
 },
 "nbformat": 4,
 "nbformat_minor": 5
}
