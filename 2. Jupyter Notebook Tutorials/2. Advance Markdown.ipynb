{
 "cells": [
  {
   "cell_type": "markdown",
   "id": "1376967b",
   "metadata": {},
   "source": [
    "<a id=\"1\"></a>\n",
    "# <p style=\"background-color:lightgreen;font-family:newtimeroman;color:darkblue;font-size:200%;text-align:center;border-radius:10px 10px;\">Advance Markdown Use</p>"
   ]
  },
  {
   "cell_type": "markdown",
   "id": "3b0b3bc0",
   "metadata": {},
   "source": [
    "1. [Internal and External Link](#2)\n",
    "2. [Making Table](#3)\n",
    "3. [Use of different geometric shape](#4)\n",
    "4. [Adding Maths formula](#5)"
   ]
  },
  {
   "cell_type": "markdown",
   "id": "f60f45fb",
   "metadata": {},
   "source": [
    "<a id=\"2\"></a>\n",
    "## <p style=\"background-color:lightblue;font-family:newtimeroman;color:black;font-size:150%;text-align:left;border-radius:10px 10px;\">1. Internal and External Link</p>"
   ]
  },
  {
   "cell_type": "markdown",
   "id": "c0b67771",
   "metadata": {},
   "source": [
    "> ### <p style=\"background-color:orange;font-family:newtimeroman;color:white;font-size:150%;text-align:left;border-radius:10px 10px;\"> a. Adding Internal Link</p>"
   ]
  },
  {
   "cell_type": "markdown",
   "id": "3d7487ad",
   "metadata": {},
   "source": [
    "<div class=\"alert alert-block alert-info\">\n",
    "<b>How to add Internal link:</b>\n",
    "\n",
    "```plaintext\n",
    "    In Jupyter Notebook Markdown files, you can easily add   internal links to navigate between sections or create a table  of contents for your document. \n",
    "```\n",
    "</div>"
   ]
  },
  {
   "cell_type": "markdown",
   "id": "f9f9228d",
   "metadata": {},
   "source": [
    "<div class=\"alert alert-block alert-warning\">\n",
    "<b>Example:</b> <br>\n",
    "\n",
    "Suppose you have a Markdown document then with the following template you can give ingternal links:\n",
    "```plaintext\n",
    "[Section title](#division_ID)\n",
    "```\n",
    "\n",
    "> * **jupyter markdown code**\n",
    "```python    \n",
    "1. [Introduction](#1)\n",
    "2. [Methods](#2)\n",
    "3. [Results](#3)\n",
    "```\n",
    "\n",
    "> * **Another way of adding Internal link**\n",
    "```python\n",
    "<a href=\"#introduction\">Go to Introduction</a>\n",
    "```\n",
    "</div>"
   ]
  },
  {
   "cell_type": "markdown",
   "id": "9381b13f",
   "metadata": {},
   "source": [
    "For going in the top click here [Back to top](#1)"
   ]
  },
  {
   "cell_type": "markdown",
   "id": "ab5a68a5",
   "metadata": {},
   "source": [
    "> ### <p style=\"background-color:orange;font-family:newtimeroman;color:white;font-size:150%;text-align:left;border-radius:10px 10px;\"> b. Adding External Link</p>"
   ]
  },
  {
   "cell_type": "markdown",
   "id": "c0f8e38f",
   "metadata": {},
   "source": [
    "<div class=\"alert alert-block alert-info\">\n",
    "<b>How to add External link</b> \n",
    "\n",
    "```markdown\n",
    "    In Jupyter Notebook Markdown files, you can easily  add   external links to reference websites, documents or resources.\n",
    "```\n",
    "</div>"
   ]
  },
  {
   "cell_type": "markdown",
   "id": "5f0a9363",
   "metadata": {},
   "source": [
    "<div class=\"alert alert-block alert-warning\">\n",
    "<b>Example:</b> <br>\n",
    "\n",
    "Suppose you have a Markdown document then with the following template you can give External links:\n",
    "```plaintext\n",
    "<a href=\"website url\">name to be shown to open link</a>\n",
    "```\n",
    "\n",
    "> * **jupyter markdown code**\n",
    "```python    \n",
    "[Visit OpenAI](https://www.openai.com/)\n",
    "```\n",
    "\n",
    "> * **Another way of adding External link**\n",
    "```markdown\n",
    "<a href=\"https://www.openai.com/\">Link for OpenAI website</a>\n",
    "```\n",
    "</div>"
   ]
  },
  {
   "cell_type": "markdown",
   "id": "7c2d10b9",
   "metadata": {},
   "source": [
    "Visit the OpenAI website: [Visit OpenAI](https://www.openai.com/)"
   ]
  },
  {
   "cell_type": "markdown",
   "id": "6b958b8e",
   "metadata": {},
   "source": [
    "Visit the OpenAI website: <a href=\"https://www.openai.com/\">Link for OpenAI website</a>"
   ]
  },
  {
   "cell_type": "markdown",
   "id": "89a677a3",
   "metadata": {},
   "source": [
    "For going in the top click here [Back to top](#1)"
   ]
  },
  {
   "cell_type": "markdown",
   "id": "39407579",
   "metadata": {},
   "source": [
    "<a id=\"3\"></a>\n",
    "## <p style=\"background-color:lightblue;font-family:newtimeroman;color:black;font-size:150%;text-align:left;border-radius:10px 10px;\">2. Making Table</p>"
   ]
  },
  {
   "cell_type": "markdown",
   "id": "44691732",
   "metadata": {},
   "source": [
    "<div class=\"alert alert-block alert-info\">\n",
    "<b>Adding table using markdown</b> \n",
    "\n",
    "```text\n",
    "    In Markdown, we can create a simple table by using pipe | characters to separate columns and hyphens - to create the table header. Here's an example of how to create a basic table:\n",
    "```\n",
    "</div>"
   ]
  },
  {
   "cell_type": "markdown",
   "id": "e1456f41",
   "metadata": {},
   "source": [
    "<div class=\"alert alert-block alert-warning\">\n",
    "<b>Example:</b> <br>\n",
    "\n",
    "> * **jupyter markdown code**\n",
    "```markdown\n",
    "| Task            | Priority | Status   |\n",
    "| --------------- | -------- | -------- |\n",
    "| Write report    | High     | In Progress |\n",
    "| Edit presentation | Medium  | Not Started |\n",
    "| Review code     | High     | Completed |\n",
    "| Test application | Low     | In Progress |\n",
    "```\n",
    "</div>"
   ]
  },
  {
   "cell_type": "markdown",
   "id": "3a3caa24",
   "metadata": {},
   "source": [
    "<h3><b>Output<b><h3>\n",
    "\n",
    "    \n",
    "| Task            | Priority | Status   |\n",
    "| --------------- | -------- | -------- |\n",
    "| Write report    | High     | In Progress |\n",
    "| Edit presentation | Medium  | Not Started |\n",
    "| Review code     | High     | Completed |\n",
    "| Test application | Low     | In Progress |"
   ]
  },
  {
   "cell_type": "markdown",
   "id": "b0895f08",
   "metadata": {},
   "source": [
    "For going in the top click here [Back to top](#1)"
   ]
  },
  {
   "cell_type": "markdown",
   "id": "a116e243",
   "metadata": {},
   "source": [
    "<a id=\"4\"></a>\n",
    "## <p style=\"background-color:lightblue;font-family:newtimeroman;color:black;font-size:150%;text-align:left;border-radius:10px 10px;\">3. Use of different geometric shape</p>"
   ]
  },
  {
   "cell_type": "markdown",
   "id": "5cb3b5c2",
   "metadata": {},
   "source": [
    "<p>I will display &#9658;</p>\n",
    "<p>I will display &#9635;</p>"
   ]
  },
  {
   "cell_type": "markdown",
   "id": "2ead1c0d",
   "metadata": {},
   "source": [
    "<div class=\"alert alert-block alert-info\">\n",
    "<b>Different geometric shape</b> \n",
    "\n",
    "    \n",
    "| Unicode | Code   | Symbol                                      |\n",
    "| ------- | ------ | ------------------------------------------- |\n",
    "| **9632**| **25A0** | <span style=\"color:black\">&#9632;</span> BLACK SQUARE |\n",
    "| **9633**| **25A1** | <span style=\"color:white\">&#9633;</span> WHITE SQUARE |\n",
    "| **9634**| **25A2** | <span style=\"color:white; background-color:black\">&#9634;</span> WHITE SQUARE WITH ROUNDED CORNERS |\n",
    "| **9635**| **25A3** | <span style=\"color:white; background-color:black\">&#9635;</span> WHITE SQUARE CONTAINING BLACK SMALL SQUARE |\n",
    "| **9636**| **25A4** | <span style=\"color:black\">&#9636;</span> SQUARE WITH HORIZONTAL FILL |\n",
    "| **9637**| **25A5** | <span style=\"color:black\">&#9637;</span> SQUARE WITH VERTICAL FILL |\n",
    "| **9638**| **25A6** | <span style=\"color:black\">&#9638;</span> SQUARE WITH ORTHOGONAL CROSSHATCH FILL |\n",
    "| **9639**| **25A7** | <span style=\"color:black\">&#9639;</span> SQUARE WITH UPPER LEFT TO LOWER RIGHT FILL |\n",
    "| **9640**| **25A8** | <span style=\"color:black\">&#9640;</span> SQUARE WITH UPPER RIGHT TO LOWER LEFT FILL |\n",
    "| **9641**| **25A9** | <span style=\"color:black\">&#9641;</span> SQUARE WITH DIAGONAL CROSSHATCH FILL |\n",
    "| **9642**| **25AA** | <span style=\"color:black\">&#9642;</span> BLACK SMALL SQUARE |\n",
    "| **9643**| **25AB** | <span style=\"color:white\">&#9643;</span> WHITE SMALL SQUARE |\n",
    "| **9644**| **25AC** | <span style=\"color:black\">&#9644;</span> BLACK RECTANGLE |\n",
    "| **9645**| **25AD** | <span style=\"color:white\">&#9645;</span> WHITE RECTANGLE |\n",
    "| **9646**| **25AE** | <span style=\"color:black\">&#9646;</span> BLACK VERTICAL RECTANGLE |\n",
    "| **9647**| **25AF** | <span style=\"color:white\">&#9647;</span> WHITE VERTICAL RECTANGLE |\n",
    "| **9648**| **25B0** | <span style=\"color:black\">&#9648;</span> BLACK PARALLELOGRAM |\n",
    "| **9649**| **25B1** | <span style=\"color:white\">&#9649;</span> WHITE PARALLELOGRAM |\n",
    "| **9650**| **25B2** | <span style=\"color:black\">&#9650;</span> BLACK UP-POINTING TRIANGLE |\n",
    "| **9651**| **25B3** | <span style=\"color:white\">&#9651;</span> WHITE UP-POINTING TRIANGLE |\n",
    "| **9652**| **25B4** | <span style=\"color:black\">&#9652;</span> BLACK UP-POINTING SMALL TRIANGLE |\n",
    "| **9653**| **25B5** | <span style=\"color:white\">&#9653;</span> WHITE UP-POINTING SMALL TRIANGLE |\n",
    "| **9654**| **25B6** | <span style=\"color:black\">&#9654;</span> BLACK RIGHT-POINTING TRIANGLE |\n",
    "| **9655**| **25B7** | <span style=\"color:white\">&#9655;</span> WHITE RIGHT-POINTING TRIANGLE |\n",
    "| **9656**| **25B8** | <span style=\"color:black\">&#9656;</span> BLACK RIGHT-POINTING SMALL TRIANGLE |\n",
    "| **9657**| **25B9** | <span style=\"color:white\">&#9657;</span> WHITE RIGHT-POINTING SMALL TRIANGLE |\n",
    "| **9658**| **25BA** | <span style=\"color:black\">&#9658;</span> BLACK RIGHT-POINTING POINTER |\n",
    "| **9659**| **25BB** | <span style=\"color:white\">&#9659;</span> WHITE RIGHT-POINTING POINTER |\n",
    "| **9660**| **25BC** | <span style=\"color:black\">&#9660;</span> BLACK DOWN-POINTING TRIANGLE |\n",
    "| **9661**| **25BD** | <span style=\"color:white\">&#9661;</span> WHITE DOWN-POINTING TRIANGLE |\n",
    "| **9662**| **25BE** | <span style=\"color:black\">&#9662;</span> BLACK DOWN-POINTING SMALL TRIANGLE |\n",
    "| **9663**| **25BF** | <span style=\"color:white\">&#9663;</span> WHITE DOWN-POINTING SMALL TRIANGLE |\n",
    "| **9664**| **25C0** | <span style=\"color:black\">&#9664;</span> BLACK LEFT-POINTING TRIANGLE |\n",
    "| **9665**| **25C1** | <span style=\"color:white\">&#9665;</span> WHITE LEFT-POINTING TRIANGLE |\n",
    "| **9666**| **25C2** | <span style=\"color:black\">&#9666;</span> BLACK LEFT-POINTING SMALL TRIANGLE |\n",
    "| **9667**| **25C3** | <span style=\"color:white\">&#9667;</span> WHITE LEFT-POINTING SMALL TRIANGLE |\n",
    "| **9668**| **25C4** | <span style=\"color:black\">&#9668;</span> BLACK LEFT-POINTING POINTER |\n",
    "| **9669**| **25C5** | <span style=\"color:white\">&#9669;</span> WHITE LEFT-POINTING POINTER |\n",
    "| **9670**| **25C6** | <span style=\"color:black\">&#9670;</span> BLACK DIAMOND |\n",
    "| **9671**| **25C7** | <span style=\"color:white\">&#9671;</span> WHITE DIAMOND |\n",
    "| **9672**| **25C8** | <span style=\"color:white; background-color:black\">&#9672;</span> WHITE DIAMOND CONTAINING BLACK SMALL DIAMOND |\n",
    "| **9673**| **25C9** | <span style=\"color:black\">&#9673;</span> FISHEYE |\n",
    "| **9674**| **25CA** | <span style=\"color:black\">&#9674;</span> LOZENGE |\n",
    "| **9675**| **25CB** | <span style=\"color:white\">&#9675;</span> WHITE CIRCLE |\n",
    "| **9676**| **25CC** | <span style=\"color:white\">&#9676;</span> DOTTED CIRCLE |\n",
    "| **9677**| **25CD** | <span style=\"color:black\">&#9677;</span> CIRCLE WITH VERTICAL FILL |\n",
    "| **9678**| **25CE** | <span style=\"color:black\">&#9678;</span> BULLSEYE |\n",
    "| **9679**| **25CF** | <span style=\"color:black\">&#9679;</span> BLACK CIRCLE |\n",
    "| **9680**| **25D0** | <span style=\"color:black\">&#9680;</span> CIRCLE WITH LEFT HALF BLACK |\n",
    "| **9681**| **25D1** | <span style=\"color:black\">&#9681;</span> CIRCLE WITH RIGHT HALF BLACK |\n",
    "| **9682**| **25D2** | <span style=\"color:black\">&#9682;</span> CIRCLE WITH LOWER HALF BLACK |\n",
    "| **9683**| **25D3** | <span style=\"color:black\">&#9683;</span> CIRCLE WITH UPPER HALF BLACK |\n",
    "| **9684**| **25D4** | <span style=\"color:black\">&#9684;</span> CIRCLE WITH UPPER RIGHT QUADRANT BLACK |\n",
    "| **9685**| **25D5** | <span style=\"color:black\">&#9685;</span> CIRCLE WITH ALL BUT UPPER LEFT QUADRANT BLACK |\n",
    "| **9686**| **25D6** | <span style=\"color:black\">&#9686;</span> LEFT HALF BLACK CIRCLE |\n",
    "| **9687**| **25D7** | <span style=\"color:black\">&#9687;</span> RIGHT HALF BLACK CIRCLE |\n",
    "| **9688**| **25D8** | <span style=\"color:white\">&#9688;</span> INVERSE BULLET |\n",
    "| **9689**| **25D9** | <span style=\"color:white\">&#9689;</span> INVERSE WHITE CIRCLE |\n",
    "| **9690**| **25DA** | <span style=\"color:white\">&#9690;</span> UPPER HALF INVERSE WHITE CIRCLE |\n",
    "| **9691**| **25DB** | <span style=\"color:white\">&#9691;</span> LOWER HALF INVERSE WHITE CIRCLE |\n",
    "| **9692**| **25DC** | <span style=\"color:white\">&#9692;</span> UPPER LEFT QUADRANT CIRCULAR ARC |\n",
    "| **9693**| **25DD** | <span style=\"color:white\">&#9693;</span> UPPER RIGHT QUADRANT CIRCULAR ARC |\n",
    "| **9694**| **25DE** | <span style=\"color:white\">&#9694;</span> LOWER RIGHT QUADRANT CIRCULAR ARC |\n",
    "| **9695**| **25DF** | <span style=\"color:white\">&#9695;</span> LOWER LEFT QUADRANT CIRCULAR ARC |\n",
    "| **9696**| **25E0** | <span style=\"color:black\">&#9696;</span> UPPER HALF CIRCLE |\n",
    "| **9697**| **25E1** | <span style=\"color:black\">&#9697;</span> LOWER HALF CIRCLE |\n",
    "| **9698**| **25E2** | <span style=\"color:black\">&#9698;</span> BLACK LOWER RIGHT TRIANGLE |\n",
    "| **9699**| **25E3** | <span style=\"color:black\">&#9699;</span> BLACK LOWER LEFT TRIANGLE |\n",
    "| **9700**| **25E4** | <span style=\"color:black\">&#9700;</span> BLACK UPPER LEFT TRIANGLE |\n",
    "| **9701**| **25E5** | <span style=\"color:black\">&#9701;</span> BLACK UPPER RIGHT TRIANGLE |\n",
    "| **9702**| **25E6** | <span style=\"color:white\">&#9702;</span> WHITE BULLET |\n",
    "| **9703**| **25E7** | <span style=\"color:black\">&#9703;</span> SQUARE WITH LEFT HALF BLACK |\n",
    "| **9704**| **25E8** | <span style=\"color:black\">&#9704;</span> SQUARE WITH RIGHT HALF BLACK |\n",
    "| **9705**| **25E9** | <span style=\"color:black\">&#9705;</span> SQUARE WITH UPPER LEFT DIAGONAL HALF BLACK |\n",
    "| **9706**| **25EA** | <span style=\"color:black\">&#9706;</span> SQUARE WITH LOWER RIGHT DIAGONAL HALF BLACK |\n",
    "| **9707**| **25EB** | <span style=\"color:white\">&#9707;</span> WHITE SQUARE WITH VERTICAL BISECTING LINE |\n",
    "| **9708**| **25EC** | <span style=\"color:white\">&#9708;</span> WHITE UP-POINTING TRIANGLE WITH DOT |\n",
    "| **9709**| **25ED** | <span style=\"color:black\">&#9709;</span> UP-POINTING TRIANGLE WITH LEFT HALF BLACK |\n",
    "| **9710**| **25EE** | <span style=\"color:black\">&#9710;</span> UP-POINTING TRIANGLE WITH RIGHT HALF BLACK |\n",
    "| **9711**| **25EF** | <span style=\"color:black\">&#9711;</span> LARGE CIRCLE |\n",
    "| **9712**| **25F0** | <span style=\"color:white\">&#9712;</span> WHITE SQUARE WITH UPPER LEFT QUADRANT |\n",
    "| **9713**| **25F1** | <span style=\"color:white\">&#9713;</span> WHITE SQUARE WITH LOWER LEFT QUADRANT |\n",
    "| **9714**| **25F2** | <span style=\"color:white\">&#9714;</span> WHITE SQUARE WITH LOWER RIGHT QUADRANT |\n",
    "| **9715**| **25F3** | <span style=\"color:white\">&#9715;</span> WHITE SQUARE WITH UPPER RIGHT QUADRANT |\n",
    "| **9716**| **25F4** | <span style=\"color:white\">&#9716;</span> WHITE CIRCLE WITH UPPER LEFT QUADRANT |\n",
    "| **9717**| **25F5** | <span style=\"color:white\">&#9717;</span> WHITE CIRCLE WITH LOWER LEFT QUADRANT |\n",
    "| **9718**| **25F6** | <span style=\"color:white\">&#9718;</span> WHITE CIRCLE WITH LOWER RIGHT QUADRANT |\n",
    "| **9719**| **25F7** | <span style=\"color:white\">&#9719;</span> WHITE CIRCLE WITH UPPER RIGHT QUADRANT |\n",
    "| **9720**| **25F8** | <span style=\"color:white\">&#9720;</span> UPPER LEFT TRIANGLE |\n",
    "| **9721**| **25F9** | <span style=\"color:white\">&#9721;</span> UPPER RIGHT TRIANGLE |\n",
    "| **9722**| **25FA** | <span style=\"color:white\">&#9722;</span> LOWER LEFT TRIANGLE |\n",
    "| **9723**| **25FB** | <span style=\"color:white\">&#9723;</span> WHITE MEDIUM SQUARE |\n",
    "| **9724**| **25FC** | <span style=\"color:black\">&#9724;</span> BLACK MEDIUM SQUARE |\n",
    "| **9725**| **25FD** | <span style=\"color:white\">&#9725;</span> WHITE MEDIUM SMALL SQUARE |\n",
    "| **9726**| **25FE** | <span style=\"color:black\">&#9726;</span> BLACK MEDIUM SMALL SQUARE |\n",
    "| **9727**| **25FF** | <span style=\"color:white\">&#9727;</span> LOWER RIGHT TRIANGLE |\n",
    "\n",
    "</div>"
   ]
  },
  {
   "cell_type": "markdown",
   "id": "6c42a682",
   "metadata": {},
   "source": [
    "For going in the top click here [Back to top](#1)"
   ]
  },
  {
   "cell_type": "markdown",
   "id": "c146c5f7",
   "metadata": {},
   "source": [
    "<a id=\"5\"></a>\n",
    "## <p style=\"background-color:lightblue;font-family:newtimeroman;color:black;font-size:150%;text-align:left;border-radius:10px 10px;\">4. Adding Maths formula</p>"
   ]
  },
  {
   "cell_type": "markdown",
   "id": "40c4fdae",
   "metadata": {},
   "source": [
    "$e^{i\\pi} + 1 = 0$\n",
    "\n",
    "\\begin{equation}\n",
    "e^x=\\sum_{i=0}^\\infty \\frac{1}{i!}x^i\n",
    "\\end{equation}"
   ]
  },
  {
   "cell_type": "markdown",
   "id": "9ceead81",
   "metadata": {},
   "source": [
    "For going in the top click here [Back to top](#1)"
   ]
  },
  {
   "cell_type": "markdown",
   "id": "d3ccf1d2",
   "metadata": {},
   "source": [
    "<a id=\"3\"></a>\n",
    "## <p style=\"background-color:lightblue;font-family:newtimeroman;color:black;font-size:150%;text-align:left;border-radius:10px 10px;\">2. Making Table</p>"
   ]
  },
  {
   "cell_type": "markdown",
   "id": "2fecd2cb",
   "metadata": {},
   "source": [
    "https://www.ibm.com/docs/en/watson-studio-local/1.2.3?topic=notebooks-markdown-jupyter-cheatsheet"
   ]
  },
  {
   "cell_type": "markdown",
   "id": "54041da4",
   "metadata": {},
   "source": [
    "<a href=\"https://www.datacamp.com/tutorial/markdown-in-jupyter-notebook\" > Link to Data camp</a> "
   ]
  },
  {
   "cell_type": "markdown",
   "id": "0c186ac4",
   "metadata": {},
   "source": [
    "<a href=\"https://www.geeksforgeeks.org/markdown-cell-in-jupyter-notebook/\" > Geek for geeks link </a>"
   ]
  },
  {
   "cell_type": "markdown",
   "id": "2a2c82e3",
   "metadata": {},
   "source": [
    "<a href=\"https://medium.com/analytics-vidhya/the-ultimate-markdown-guide-for-jupyter-notebook-d5e5abf728fd\" > Medium blog link </a>"
   ]
  }
 ],
 "metadata": {
  "kernelspec": {
   "display_name": "Python 3 (ipykernel)",
   "language": "python",
   "name": "python3"
  },
  "language_info": {
   "codemirror_mode": {
    "name": "ipython",
    "version": 3
   },
   "file_extension": ".py",
   "mimetype": "text/x-python",
   "name": "python",
   "nbconvert_exporter": "python",
   "pygments_lexer": "ipython3",
   "version": "3.11.7"
  }
 },
 "nbformat": 4,
 "nbformat_minor": 5
}
