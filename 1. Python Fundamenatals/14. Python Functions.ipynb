{
 "cells": [
  {
   "cell_type": "markdown",
   "id": "07d74783",
   "metadata": {},
   "source": [
    "# Functions\n",
    ">* A function is a block of code which only runs when it is called.\n",
    ">* You can pass data, known as parameters, into a function.\n",
    ">* A function can return data as a result.\n",
    "\n",
    "![](functiontypes.jpg)"
   ]
  },
  {
   "cell_type": "markdown",
   "id": "ac98be49",
   "metadata": {},
   "source": [
    "## Abstraction\n",
    "* Abstraction in python is defined as a process of handling complexity by hiding unnecessary information from the user.\n",
    "\n",
    "## Decomposition\n",
    "* It involves breaking down a complex problem or system into smaller parts that are more manageable and easier to understand. The smaller parts can then be examined and solved, or designed individually, as they are simpler to work with."
   ]
  },
  {
   "cell_type": "markdown",
   "id": "7d22a296",
   "metadata": {},
   "source": [
    "## Components of a function\n",
    "![](function.png)"
   ]
  },
  {
   "cell_type": "code",
   "execution_count": 1,
   "id": "998762b4",
   "metadata": {},
   "outputs": [
    {
     "data": {
      "text/plain": [
       "'third part is i which will work as input gathering variable.\\ni is called as parameter when we are making a function.\\n\\n4th part is creating the docstring() which is actually \\ndocumented string docstring tells us about the function, \\nin short it is the description of the function docstring will \\ndescribe what should be the input, what will be the output and so on'"
      ]
     },
     "execution_count": 1,
     "metadata": {},
     "output_type": "execute_result"
    }
   ],
   "source": [
    "# def is_even (i):\n",
    "#    \"\"\" \"\"\"\n",
    "#    x=i%2==0  # this is main body of the function \n",
    "#    return   x\n",
    "\n",
    "# calling the fucntion\n",
    "\n",
    "'''here def is a keyword which means define and the second part is \n",
    "name of the function which is called identifier (is_even)'''\n",
    "\n",
    "# Rules for setting identifiers\n",
    "# 1 can only start with an alphabet or _\n",
    "# 2 followed by O or more letter, _ and digits\n",
    "# 3 keywords cannot be used as an identifiers\n",
    "\n",
    "\n",
    "'''third part is i which will work as input gathering variable.\n",
    "i is called as parameter when we are making a function.\n",
    "\n",
    "4th part is creating the docstring('''    ''') which is actually \n",
    "documented string docstring tells us about the function, \n",
    "in short it is the description of the function docstring will \n",
    "describe what should be the input, what will be the output and so on'''"
   ]
  },
  {
   "cell_type": "markdown",
   "id": "94f76aed",
   "metadata": {},
   "source": [
    "#### Creating a function :"
   ]
  },
  {
   "cell_type": "code",
   "execution_count": 2,
   "id": "e06c14ec",
   "metadata": {},
   "outputs": [],
   "source": [
    "def is_even (number):\n",
    "    \"\"\"\n",
    "    This function tells if \n",
    "    given number is odd or even\n",
    "    input- any valid integer\n",
    "    output- odd/even\n",
    "    created by- himanshu\n",
    "    last edited- 2/12/22\n",
    "    \"\"\"\n",
    "    if number%2==0:\n",
    "        return \"even\"\n",
    "    else:\n",
    "        return\"odd\""
   ]
  },
  {
   "cell_type": "code",
   "execution_count": 3,
   "id": "e0b8d63f",
   "metadata": {},
   "outputs": [
    {
     "name": "stdout",
     "output_type": "stream",
     "text": [
      "odd\n",
      "even\n",
      "odd\n",
      "even\n",
      "odd\n",
      "even\n",
      "odd\n",
      "even\n",
      "odd\n",
      "even\n"
     ]
    }
   ],
   "source": [
    "# calling the created fucntion\n",
    "for i in range(1,11):\n",
    "    print(is_even(i))"
   ]
  },
  {
   "cell_type": "code",
   "execution_count": 4,
   "id": "5e561245",
   "metadata": {},
   "outputs": [
    {
     "name": "stdout",
     "output_type": "stream",
     "text": [
      "\n",
      "    This function tells if \n",
      "    given number is odd or even\n",
      "    input- any valid integer\n",
      "    output- odd/even\n",
      "    created by- himanshu\n",
      "    last edited- 2/12/22\n",
      "    \n"
     ]
    }
   ],
   "source": [
    "# to get the documentation of the function\n",
    "print(is_even.__doc__)"
   ]
  },
  {
   "cell_type": "code",
   "execution_count": 5,
   "id": "64017ac6",
   "metadata": {},
   "outputs": [
    {
     "data": {
      "text/plain": [
       "\"print(value, ..., sep=' ', end='\\\\n', file=sys.stdout, flush=False)\\n\\nPrints the values to a stream, or to sys.stdout by default.\\nOptional keyword arguments:\\nfile:  a file-like object (stream); defaults to the current sys.stdout.\\nsep:   string inserted between values, default a space.\\nend:   string appended after the last value, default a newline.\\nflush: whether to forcibly flush the stream.\""
      ]
     },
     "execution_count": 5,
     "metadata": {},
     "output_type": "execute_result"
    }
   ],
   "source": [
    "print.__doc__"
   ]
  },
  {
   "cell_type": "code",
   "execution_count": 6,
   "id": "3cd43968",
   "metadata": {},
   "outputs": [
    {
     "data": {
      "text/plain": [
       "\"Define the builtin 'help'.\\n\\n    This is a wrapper around pydoc.help that provides a helpful message\\n    when 'help' is typed at the Python interactive prompt.\\n\\n    Calling help() at the Python prompt starts an interactive help session.\\n    Calling help(thing) prints help for the python object 'thing'.\\n    \""
      ]
     },
     "execution_count": 6,
     "metadata": {},
     "output_type": "execute_result"
    }
   ],
   "source": [
    "help.__doc__"
   ]
  },
  {
   "cell_type": "code",
   "execution_count": 7,
   "id": "eb20f445",
   "metadata": {},
   "outputs": [
    {
     "data": {
      "text/plain": [
       "\"type(object) -> the object's type\\ntype(name, bases, dict, **kwds) -> a new type\""
      ]
     },
     "execution_count": 7,
     "metadata": {},
     "output_type": "execute_result"
    }
   ],
   "source": [
    "type.__doc__"
   ]
  },
  {
   "cell_type": "markdown",
   "id": "1399e1a9",
   "metadata": {},
   "source": [
    "#### The 2 point of views"
   ]
  },
  {
   "cell_type": "code",
   "execution_count": 8,
   "id": "f3657e72",
   "metadata": {},
   "outputs": [
    {
     "data": {
      "text/plain": [
       "'generally the source code of making the fucntion and \\nin real running the function will be in two different files'"
      ]
     },
     "execution_count": 8,
     "metadata": {},
     "output_type": "execute_result"
    }
   ],
   "source": [
    "'''generally the source code of making the fucntion and \n",
    "in real running the function will be in two different files'''"
   ]
  },
  {
   "cell_type": "code",
   "execution_count": 9,
   "id": "3050301a",
   "metadata": {},
   "outputs": [],
   "source": [
    "'''the above function is for integers only \n",
    "if we take input as a string then instead of \n",
    "crashing the function it should return not allowed'''\n",
    "\n",
    "def is_even (number):\n",
    "    if type(number)==int:\n",
    "        if number%2==0:\n",
    "            return \"even\"\n",
    "        else:\n",
    "            return\"odd\"\n",
    "    else:\n",
    "        return \"not allowed\""
   ]
  },
  {
   "cell_type": "code",
   "execution_count": 10,
   "id": "b4b45f75",
   "metadata": {},
   "outputs": [
    {
     "data": {
      "text/plain": [
       "'not allowed'"
      ]
     },
     "execution_count": 10,
     "metadata": {},
     "output_type": "execute_result"
    }
   ],
   "source": [
    "x=is_even(\"hello\")\n",
    "x"
   ]
  },
  {
   "cell_type": "code",
   "execution_count": 11,
   "id": "e673a930",
   "metadata": {},
   "outputs": [],
   "source": [
    "def is_even (number):\n",
    "    if type(number)==int:\n",
    "        if number%2==0:\n",
    "            print(\"even\") \n",
    "        else:\n",
    "            print(\"odd\")\n",
    "    else:\n",
    "        return \"not allowed\""
   ]
  },
  {
   "cell_type": "code",
   "execution_count": 12,
   "id": "d6580a4f",
   "metadata": {
    "scrolled": true
   },
   "outputs": [
    {
     "name": "stdout",
     "output_type": "stream",
     "text": [
      "even\n",
      "None\n"
     ]
    }
   ],
   "source": [
    "x=is_even(4)\n",
    "print(x)"
   ]
  },
  {
   "cell_type": "code",
   "execution_count": 13,
   "id": "5d5d69da",
   "metadata": {},
   "outputs": [],
   "source": [
    "def divided_by_3(number):\n",
    "    if type(number) == int :\n",
    "        if number%3 == 0:\n",
    "            print(\"it can be divided by 3\")\n",
    "        else:\n",
    "            print(\"it can't be divided by 3\")\n",
    "    else :\n",
    "        return \"given input is not allowed\""
   ]
  },
  {
   "cell_type": "code",
   "execution_count": 14,
   "id": "bc4e5619",
   "metadata": {},
   "outputs": [
    {
     "name": "stdout",
     "output_type": "stream",
     "text": [
      "it can be divided by 3\n"
     ]
    }
   ],
   "source": [
    "x = divided_by_3(21)\n",
    "x"
   ]
  },
  {
   "cell_type": "code",
   "execution_count": 15,
   "id": "029f876a",
   "metadata": {},
   "outputs": [
    {
     "data": {
      "text/plain": [
       "'given input is not allowed'"
      ]
     },
     "execution_count": 15,
     "metadata": {},
     "output_type": "execute_result"
    }
   ],
   "source": [
    "y = divided_by_3(\"himanshu\")\n",
    "y"
   ]
  },
  {
   "cell_type": "markdown",
   "id": "b7991840",
   "metadata": {},
   "source": [
    "## Parameter vs. Arguments\n",
    "1. Default Arguments\n",
    "2. Positional Arguments\n",
    "3. Keyword Arguments\n",
    "4. Arbitrary Arguments"
   ]
  },
  {
   "cell_type": "markdown",
   "id": "b0f47bc6",
   "metadata": {},
   "source": [
    "#### 1.Default Arguments"
   ]
  },
  {
   "cell_type": "code",
   "execution_count": 16,
   "id": "891d0e9a",
   "metadata": {},
   "outputs": [
    {
     "name": "stdout",
     "output_type": "stream",
     "text": [
      "8\n",
      "9\n"
     ]
    }
   ],
   "source": [
    "def power(a,b):\n",
    "    return a**b\n",
    "\n",
    "a=power(2,3)\n",
    "b=power(3,2)\n",
    "\n",
    "print(a)\n",
    "print(b)"
   ]
  },
  {
   "cell_type": "code",
   "execution_count": 17,
   "id": "f9677360",
   "metadata": {},
   "outputs": [
    {
     "ename": "TypeError",
     "evalue": "power() missing 1 required positional argument: 'b'",
     "output_type": "error",
     "traceback": [
      "\u001b[1;31m---------------------------------------------------------------------------\u001b[0m",
      "\u001b[1;31mTypeError\u001b[0m                                 Traceback (most recent call last)",
      "\u001b[1;32m~\\AppData\\Local\\Temp\\ipykernel_6160\\3136284962.py\u001b[0m in \u001b[0;36m<module>\u001b[1;34m\u001b[0m\n\u001b[0;32m      3\u001b[0m even if we do not give an input then our code will crash.'''\n\u001b[0;32m      4\u001b[0m \u001b[1;33m\u001b[0m\u001b[0m\n\u001b[1;32m----> 5\u001b[1;33m \u001b[0mpower\u001b[0m\u001b[1;33m(\u001b[0m\u001b[1;36m1\u001b[0m\u001b[1;33m,\u001b[0m\u001b[1;33m)\u001b[0m\u001b[1;33m\u001b[0m\u001b[1;33m\u001b[0m\u001b[0m\n\u001b[0m\u001b[0;32m      6\u001b[0m \u001b[1;31m# this will throw an error\u001b[0m\u001b[1;33m\u001b[0m\u001b[1;33m\u001b[0m\u001b[0m\n\u001b[0;32m      7\u001b[0m \u001b[1;33m\u001b[0m\u001b[0m\n",
      "\u001b[1;31mTypeError\u001b[0m: power() missing 1 required positional argument: 'b'"
     ]
    }
   ],
   "source": [
    "'''if we give only one input in the above power fucntion \n",
    "then our code will crash.\n",
    "even if we do not give an input then our code will crash.'''\n",
    "\n",
    "power(1,)\n",
    "# this will throw an error\n",
    "\n",
    "'''to solve this we will be using the \"default argument\"'''"
   ]
  },
  {
   "cell_type": "markdown",
   "id": "19d8dcfd",
   "metadata": {},
   "source": [
    "> solution of the above problem with help of Default Arguments"
   ]
  },
  {
   "cell_type": "code",
   "execution_count": null,
   "id": "5ac75ba6",
   "metadata": {},
   "outputs": [],
   "source": [
    "def power(a=1,b=1):\n",
    "    return a**b\n",
    "\n",
    "'''here if we don't provide value of a or b or both \n",
    "then it will take the above mentioned dafault values,\n",
    "basically we are providing the default value in our function'''\n",
    "\n",
    "a=power(3)\n",
    "b=power(4,2)\n",
    "\n",
    "print(a)\n",
    "print(b)"
   ]
  },
  {
   "cell_type": "code",
   "execution_count": null,
   "id": "5559b3d4",
   "metadata": {},
   "outputs": [],
   "source": [
    "# we are providing york value as a default to the inp3 parameter\n",
    "\n",
    "def country(inp1,inp2,inp3=\"york\"):\n",
    "    print(inp1,inp2,inp3)\n",
    "\n",
    "country(\"india\",\"new\")"
   ]
  },
  {
   "cell_type": "markdown",
   "id": "5eeb8aea",
   "metadata": {},
   "source": [
    "#### 2.Positional Arguments\n",
    ">it is an order in which we give the argument then it will be received in by the parameter in the same order"
   ]
  },
  {
   "cell_type": "code",
   "execution_count": null,
   "id": "c75706e9",
   "metadata": {},
   "outputs": [],
   "source": [
    "a=power(2,3)\n",
    "b=power(3,2)\n",
    "c=power(2,4)\n",
    "\n",
    "print(a)\n",
    "print(b)\n",
    "print(c)"
   ]
  },
  {
   "cell_type": "markdown",
   "id": "2d0496f6",
   "metadata": {},
   "source": [
    "#### 3. Keyword arguments\n",
    ">here positional argument will not executed"
   ]
  },
  {
   "cell_type": "code",
   "execution_count": null,
   "id": "1a16c3d2",
   "metadata": {},
   "outputs": [],
   "source": [
    "print(power(b=2,a=3))\n",
    "\n",
    "''' here we have already defined the keyword for the given inputs,\n",
    "so here keyword argument will override the positional argument.\n",
    "\n",
    "This will be helpfull when we have to many parameters in \n",
    "the function and we don't know the order of the parameter '''"
   ]
  },
  {
   "cell_type": "markdown",
   "id": "69a7d116",
   "metadata": {},
   "source": [
    "#### 4.Arbitrary Argument"
   ]
  },
  {
   "cell_type": "code",
   "execution_count": 18,
   "id": "7bfa5a14",
   "metadata": {},
   "outputs": [],
   "source": [
    "def flexi(*number):\n",
    "    product=1\n",
    "    for i in number:\n",
    "        product=product*i\n",
    "    print(product)"
   ]
  },
  {
   "cell_type": "code",
   "execution_count": 19,
   "id": "36270009",
   "metadata": {},
   "outputs": [
    {
     "name": "stdout",
     "output_type": "stream",
     "text": [
      "1\n"
     ]
    }
   ],
   "source": [
    "flexi(1)"
   ]
  },
  {
   "cell_type": "code",
   "execution_count": 20,
   "id": "ea6560db",
   "metadata": {},
   "outputs": [
    {
     "name": "stdout",
     "output_type": "stream",
     "text": [
      "6\n"
     ]
    }
   ],
   "source": [
    "flexi(1,2,3)"
   ]
  },
  {
   "cell_type": "code",
   "execution_count": 21,
   "id": "44299663",
   "metadata": {},
   "outputs": [
    {
     "name": "stdout",
     "output_type": "stream",
     "text": [
      "6720\n"
     ]
    }
   ],
   "source": [
    "flexi(4,5,6,7,8)"
   ]
  },
  {
   "cell_type": "code",
   "execution_count": 22,
   "id": "48c35ddb",
   "metadata": {},
   "outputs": [],
   "source": [
    "def flexi(*number):\n",
    "    product=1\n",
    "    print(number)\n",
    "    for i in number:\n",
    "        product=product*i\n",
    "    print(product)\n",
    "# here it is going in the tuple"
   ]
  },
  {
   "cell_type": "code",
   "execution_count": 23,
   "id": "25668156",
   "metadata": {},
   "outputs": [
    {
     "name": "stdout",
     "output_type": "stream",
     "text": [
      "(1, 2, 3, 4, 5)\n",
      "120\n"
     ]
    }
   ],
   "source": [
    "flexi(1,2,3,4,5)"
   ]
  },
  {
   "cell_type": "code",
   "execution_count": 24,
   "id": "db907e46",
   "metadata": {},
   "outputs": [],
   "source": [
    "def flexi(*number):\n",
    "    product=1\n",
    "    print(number)\n",
    "    print(type(number))\n",
    "    for i in number:\n",
    "        product=product*i\n",
    "    print(product)"
   ]
  },
  {
   "cell_type": "code",
   "execution_count": 25,
   "id": "d9433bab",
   "metadata": {},
   "outputs": [
    {
     "name": "stdout",
     "output_type": "stream",
     "text": [
      "(1, 2, 3, 4, 5)\n",
      "<class 'tuple'>\n",
      "120\n"
     ]
    }
   ],
   "source": [
    "flexi(1,2,3,4,5)"
   ]
  },
  {
   "cell_type": "markdown",
   "id": "905a7fec",
   "metadata": {},
   "source": [
    "## args and kwargs\n",
    "* args and kwargs are special Python keywords that are used to pass the variable length of arguments to a function"
   ]
  },
  {
   "cell_type": "markdown",
   "id": "8cf397d6",
   "metadata": {},
   "source": [
    "#### 1. args\n",
    "* it allows us to pass a variable number of non-keyword arguments to a function.\n",
    "* basically it can handle any number of inputs inside the created function"
   ]
  },
  {
   "cell_type": "code",
   "execution_count": 26,
   "id": "10605bd3",
   "metadata": {},
   "outputs": [
    {
     "data": {
      "text/plain": [
       "6"
      ]
     },
     "execution_count": 26,
     "metadata": {},
     "output_type": "execute_result"
    }
   ],
   "source": [
    "def multiply (a,b):\n",
    "    return a*b\n",
    "\n",
    "# calling the above function\n",
    "multiply(2,3)"
   ]
  },
  {
   "cell_type": "code",
   "execution_count": 27,
   "id": "3e2892ee",
   "metadata": {},
   "outputs": [],
   "source": [
    "'''suppose someone asks you to modify the above code,\n",
    "that make it in such a way that we can add more inputs\n",
    "and then perform the multiplication on that '''\n",
    "\n",
    "def multiply (*args):\n",
    "    product = 1 #creating product variable which has initial value 1\n",
    "    \n",
    "    for i in args:\n",
    "        product = product*i\n",
    "    \n",
    "    return product"
   ]
  },
  {
   "cell_type": "code",
   "execution_count": 28,
   "id": "9c360c80",
   "metadata": {},
   "outputs": [
    {
     "data": {
      "text/plain": [
       "120"
      ]
     },
     "execution_count": 28,
     "metadata": {},
     "output_type": "execute_result"
    }
   ],
   "source": [
    "multiply(2,3,4,5)"
   ]
  },
  {
   "cell_type": "code",
   "execution_count": 29,
   "id": "4b1b0c68",
   "metadata": {},
   "outputs": [
    {
     "name": "stdout",
     "output_type": "stream",
     "text": [
      "(2, 3, 4, 5)\n"
     ]
    },
    {
     "data": {
      "text/plain": [
       "120"
      ]
     },
     "execution_count": 29,
     "metadata": {},
     "output_type": "execute_result"
    }
   ],
   "source": [
    "def multiply (*args):\n",
    "    product = 1 #creating product variable which has initial value 1\n",
    "    \n",
    "    for i in args:\n",
    "        product = product*i\n",
    "    \n",
    "    print(args) # here python is creating tuple fot args \n",
    "    \n",
    "    return product\n",
    "\n",
    "multiply(2,3,4,5)"
   ]
  },
  {
   "cell_type": "markdown",
   "id": "85a9afc1",
   "metadata": {},
   "source": [
    ">*  **Note :** we can use any other word instead of args. The character which you must include is astreick (*) "
   ]
  },
  {
   "cell_type": "code",
   "execution_count": 30,
   "id": "290af9cb",
   "metadata": {},
   "outputs": [
    {
     "data": {
      "text/plain": [
       "120"
      ]
     },
     "execution_count": 30,
     "metadata": {},
     "output_type": "execute_result"
    }
   ],
   "source": [
    "def multiply (*himanshu): # must use astreick (*)\n",
    "    product = 1 #creating product variable which has initial value 1\n",
    "    \n",
    "    for i in himanshu:\n",
    "        product = product*i\n",
    "    \n",
    "    return product\n",
    "\n",
    "multiply(2,3,4,5)"
   ]
  },
  {
   "cell_type": "markdown",
   "id": "743a82e5",
   "metadata": {},
   "source": [
    "#### 2. kwargs\n",
    "*  ** kwargs allows us to pass any number of keyword arguments.\n",
    "* Keyword arguments mean that they contain a key-value pair, like a Python dictionary.\n"
   ]
  },
  {
   "cell_type": "code",
   "execution_count": 31,
   "id": "3d80d1c2",
   "metadata": {},
   "outputs": [],
   "source": [
    "def display(**kwargs): # here kwargs will become dictionary\n",
    "    for (key,value) in kwargs.items():\n",
    "        print(key,\"->\",value)"
   ]
  },
  {
   "cell_type": "code",
   "execution_count": 32,
   "id": "7cbf6f4b",
   "metadata": {},
   "outputs": [
    {
     "name": "stdout",
     "output_type": "stream",
     "text": [
      "india -> delhi\n",
      "srilanka -> colombo\n",
      "nepal -> kathmandu\n",
      "pakistan -> islamabad\n"
     ]
    }
   ],
   "source": [
    "display(india='delhi',srilanka='colombo',nepal='kathmandu',pakistan='islamabad')"
   ]
  },
  {
   "cell_type": "markdown",
   "id": "67a17dda",
   "metadata": {},
   "source": [
    "#### Points to remember while using * args and ** kwargs\n",
    ">* order of the arguments matter(normal ->   * args -> ** kwargs)\n",
    ">* The words “args” and “kwargs” are only a convention, you can use any name of your choice"
   ]
  },
  {
   "cell_type": "markdown",
   "id": "d65a89ce",
   "metadata": {},
   "source": [
    "## How Functions are executed in memory?\n",
    "* function behaves as an independent program or block in the memory location. Once the code inside the function is executed then the block which was created for temporary base to perform the particular function, that block will be destroyed after execution\n",
    "* so if someone asks you the life time or life duration of the function then it is from the calling of the function to last return value of the function is the time span when it will be in active mode"
   ]
  },
  {
   "cell_type": "code",
   "execution_count": 33,
   "id": "22868735",
   "metadata": {},
   "outputs": [
    {
     "name": "stdout",
     "output_type": "stream",
     "text": [
      "odd\n"
     ]
    }
   ],
   "source": [
    "def is_even (number):\n",
    "    if number%2==0:\n",
    "        return \"even\"\n",
    "    else:\n",
    "        return\"odd\"\n",
    "    \n",
    "print(is_even(7))\n",
    "\n",
    "# run this code on pythontutor.com"
   ]
  },
  {
   "cell_type": "markdown",
   "id": "7c46ba0d",
   "metadata": {},
   "source": [
    "## Functions without return statement"
   ]
  },
  {
   "cell_type": "code",
   "execution_count": 34,
   "id": "26199801",
   "metadata": {},
   "outputs": [
    {
     "name": "stdout",
     "output_type": "stream",
     "text": [
      "odd\n",
      "None\n"
     ]
    }
   ],
   "source": [
    "def is_even (number):\n",
    "    if number%2==0:\n",
    "        print (\"even\")\n",
    "    else:\n",
    "        print(\"odd\")\n",
    "    \n",
    "print(is_even(7))\n",
    "\n",
    "# run this code on pythontutor.com"
   ]
  },
  {
   "cell_type": "code",
   "execution_count": 35,
   "id": "65d64eaa",
   "metadata": {},
   "outputs": [
    {
     "name": "stdout",
     "output_type": "stream",
     "text": [
      "None\n"
     ]
    }
   ],
   "source": [
    "L = [1,2,3]\n",
    "print(L.append(4))\n",
    "# run this code on pythontutor.com"
   ]
  },
  {
   "cell_type": "code",
   "execution_count": 36,
   "id": "68bde4db",
   "metadata": {},
   "outputs": [
    {
     "name": "stdout",
     "output_type": "stream",
     "text": [
      "[1, 2, 3, 4]\n"
     ]
    }
   ],
   "source": [
    "print(L)"
   ]
  },
  {
   "cell_type": "markdown",
   "id": "6468e5d7",
   "metadata": {},
   "source": [
    "## Variable scope"
   ]
  },
  {
   "cell_type": "markdown",
   "id": "39b2c76e",
   "metadata": {},
   "source": [
    "### Global variable and Local variable\n",
    "\n",
    "* The variable which comes under the main program scope is called as **Global Variable**\n",
    "* The variable which comes under the scope of function is called as **Local Variable**\n",
    "* local variable is created inside the function\n",
    "* global variable is in the main function and it can be used by the any created function\n",
    "* if a function does not have the local variable then it can use the global variable but it can not make any changes in the global variable, this is not allowed only use is allowed\n",
    "* global variable and local variable can have same name but they are independent of each other"
   ]
  },
  {
   "cell_type": "code",
   "execution_count": 38,
   "id": "e64b9efa",
   "metadata": {},
   "outputs": [
    {
     "name": "stdout",
     "output_type": "stream",
     "text": [
      "5\n",
      "6\n",
      "5\n"
     ]
    },
    {
     "data": {
      "text/plain": [
       "'here x is a global variable because it is variable of program\\nwhere as y is the local variable because it is variable of function'"
      ]
     },
     "execution_count": 38,
     "metadata": {},
     "output_type": "execute_result"
    }
   ],
   "source": [
    "def g(y):\n",
    "    print(x)\n",
    "    print(x+1)\n",
    "x=5\n",
    "g(x)\n",
    "print(x)\n",
    "'''here x is a global variable because it is variable of program\n",
    "where as y is the local variable because it is variable of function'''\n",
    "# execute this in the python tutor to know the description of code"
   ]
  },
  {
   "cell_type": "code",
   "execution_count": 41,
   "id": "875b8216",
   "metadata": {},
   "outputs": [
    {
     "name": "stdout",
     "output_type": "stream",
     "text": [
      "2\n",
      "5\n"
     ]
    }
   ],
   "source": [
    "def f(y):\n",
    "    x = 1\n",
    "    x += 1\n",
    "    print(x)\n",
    "x = 5\n",
    "f(x)\n",
    "print(x)\n",
    "# run this in python tutor to get detailed description of the code"
   ]
  },
  {
   "cell_type": "code",
   "execution_count": 47,
   "id": "d63f44f5",
   "metadata": {},
   "outputs": [
    {
     "ename": "UnboundLocalError",
     "evalue": "local variable 'x' referenced before assignment",
     "output_type": "error",
     "traceback": [
      "\u001b[1;31m---------------------------------------------------------------------------\u001b[0m",
      "\u001b[1;31mUnboundLocalError\u001b[0m                         Traceback (most recent call last)",
      "\u001b[1;32m~\\AppData\\Local\\Temp\\ipykernel_6160\\298723950.py\u001b[0m in \u001b[0;36m<module>\u001b[1;34m\u001b[0m\n\u001b[0;32m      2\u001b[0m     \u001b[0mx\u001b[0m \u001b[1;33m=\u001b[0m \u001b[0mx\u001b[0m\u001b[1;33m+\u001b[0m\u001b[1;36m1\u001b[0m\u001b[1;33m\u001b[0m\u001b[1;33m\u001b[0m\u001b[0m\n\u001b[0;32m      3\u001b[0m \u001b[0mx\u001b[0m\u001b[1;33m=\u001b[0m\u001b[1;36m5\u001b[0m\u001b[1;33m\u001b[0m\u001b[1;33m\u001b[0m\u001b[0m\n\u001b[1;32m----> 4\u001b[1;33m \u001b[0mh\u001b[0m\u001b[1;33m(\u001b[0m\u001b[0mx\u001b[0m\u001b[1;33m)\u001b[0m\u001b[1;33m\u001b[0m\u001b[1;33m\u001b[0m\u001b[0m\n\u001b[0m\u001b[0;32m      5\u001b[0m \u001b[0mprint\u001b[0m\u001b[1;33m(\u001b[0m\u001b[0mx\u001b[0m\u001b[1;33m)\u001b[0m\u001b[1;33m\u001b[0m\u001b[1;33m\u001b[0m\u001b[0m\n\u001b[0;32m      6\u001b[0m \u001b[1;33m\u001b[0m\u001b[0m\n",
      "\u001b[1;32m~\\AppData\\Local\\Temp\\ipykernel_6160\\298723950.py\u001b[0m in \u001b[0;36mh\u001b[1;34m(y)\u001b[0m\n\u001b[0;32m      1\u001b[0m \u001b[1;32mdef\u001b[0m \u001b[0mh\u001b[0m\u001b[1;33m(\u001b[0m\u001b[0my\u001b[0m\u001b[1;33m)\u001b[0m\u001b[1;33m:\u001b[0m\u001b[1;33m\u001b[0m\u001b[1;33m\u001b[0m\u001b[0m\n\u001b[1;32m----> 2\u001b[1;33m     \u001b[0mx\u001b[0m \u001b[1;33m=\u001b[0m \u001b[0mx\u001b[0m\u001b[1;33m+\u001b[0m\u001b[1;36m1\u001b[0m\u001b[1;33m\u001b[0m\u001b[1;33m\u001b[0m\u001b[0m\n\u001b[0m\u001b[0;32m      3\u001b[0m \u001b[0mx\u001b[0m\u001b[1;33m=\u001b[0m\u001b[1;36m5\u001b[0m\u001b[1;33m\u001b[0m\u001b[1;33m\u001b[0m\u001b[0m\n\u001b[0;32m      4\u001b[0m \u001b[0mh\u001b[0m\u001b[1;33m(\u001b[0m\u001b[0mx\u001b[0m\u001b[1;33m)\u001b[0m\u001b[1;33m\u001b[0m\u001b[1;33m\u001b[0m\u001b[0m\n\u001b[0;32m      5\u001b[0m \u001b[0mprint\u001b[0m\u001b[1;33m(\u001b[0m\u001b[0mx\u001b[0m\u001b[1;33m)\u001b[0m\u001b[1;33m\u001b[0m\u001b[1;33m\u001b[0m\u001b[0m\n",
      "\u001b[1;31mUnboundLocalError\u001b[0m: local variable 'x' referenced before assignment"
     ]
    }
   ],
   "source": [
    "def h(y):\n",
    "    x = x+1\n",
    "x=5\n",
    "h(x)\n",
    "print(x)\n",
    "\n",
    "# this will throw an error\n",
    "\n",
    "'''here inside the function variable is not available,\n",
    "so local variable is not available here\n",
    "so it can use the global variable x=5\n",
    "but it can not make changes to that global variable\n",
    "\n",
    "we can use the global variable but\n",
    "it does not allow us to make changes\n",
    "in the global variable.'''\n",
    "\n",
    "'''run this in python tutor to get \n",
    "detailed description of the code.''' "
   ]
  },
  {
   "cell_type": "code",
   "execution_count": 48,
   "id": "24c0ad1c",
   "metadata": {},
   "outputs": [
    {
     "data": {
      "text/plain": [
       "'there is a technique by which we can make changes \\nin the global variable using the function'"
      ]
     },
     "execution_count": 48,
     "metadata": {},
     "output_type": "execute_result"
    }
   ],
   "source": [
    "'''there is a technique by which we can make changes \n",
    "in the global variable using the function'''"
   ]
  },
  {
   "cell_type": "code",
   "execution_count": 43,
   "id": "2dbdc738",
   "metadata": {},
   "outputs": [
    {
     "name": "stdout",
     "output_type": "stream",
     "text": [
      "6\n"
     ]
    }
   ],
   "source": [
    "def h(y):\n",
    "    global x\n",
    "    '''we added this new line to make changes in the global \n",
    "    variable through our function h(y) using global keyword,\n",
    "    it allows us to make changes in the global varibale'''\n",
    "    x += 1\n",
    "x=5\n",
    "h(x)\n",
    "print(x)\n",
    "# run this in python tutor to get detailed description of the code"
   ]
  },
  {
   "cell_type": "code",
   "execution_count": 49,
   "id": "6880e3b3",
   "metadata": {},
   "outputs": [
    {
     "name": "stdout",
     "output_type": "stream",
     "text": [
      "in f(x): x = 4\n",
      "in main program scope: z = 4\n",
      "in main program scope: x = 3\n"
     ]
    }
   ],
   "source": [
    "def f(x):\n",
    "    x = x + 1\n",
    "    '''here we are incrementing the local variable by 1'''\n",
    "    print('in f(x): x =', x)\n",
    "    return x\n",
    "\n",
    "x = 3\n",
    "z = f(x)\n",
    "\n",
    "print('in main program scope: z =', z)\n",
    "print('in main program scope: x =', x)"
   ]
  },
  {
   "cell_type": "code",
   "execution_count": 44,
   "id": "400c8fb4",
   "metadata": {},
   "outputs": [
    {
     "data": {
      "text/plain": [
       "'E:\\\\1. Python\\\\1. Python programming beginner and intermediate'"
      ]
     },
     "execution_count": 44,
     "metadata": {},
     "output_type": "execute_result"
    }
   ],
   "source": [
    "pwd"
   ]
  },
  {
   "cell_type": "markdown",
   "id": "00245e56",
   "metadata": {},
   "source": [
    "## Nested functions\n",
    "* there will be function inside the existing function same as in the nested loop (loop inside loop)"
   ]
  },
  {
   "cell_type": "code",
   "execution_count": 59,
   "id": "8f52943b",
   "metadata": {},
   "outputs": [],
   "source": [
    "def f():\n",
    "    def g():\n",
    "        print(\"inside g\")\n",
    "    g()\n",
    "    print(\"inside f\")   "
   ]
  },
  {
   "cell_type": "code",
   "execution_count": 60,
   "id": "8be6ddbf",
   "metadata": {},
   "outputs": [
    {
     "name": "stdout",
     "output_type": "stream",
     "text": [
      "inside g\n",
      "inside f\n"
     ]
    }
   ],
   "source": [
    "# calling the f() function\n",
    "f()"
   ]
  },
  {
   "cell_type": "code",
   "execution_count": 61,
   "id": "28a1a545",
   "metadata": {},
   "outputs": [
    {
     "ename": "TypeError",
     "evalue": "g() missing 1 required positional argument: 'y'",
     "output_type": "error",
     "traceback": [
      "\u001b[1;31m---------------------------------------------------------------------------\u001b[0m",
      "\u001b[1;31mTypeError\u001b[0m                                 Traceback (most recent call last)",
      "\u001b[1;32m~\\AppData\\Local\\Temp\\ipykernel_6160\\2244504493.py\u001b[0m in \u001b[0;36m<module>\u001b[1;34m\u001b[0m\n\u001b[1;32m----> 1\u001b[1;33m \u001b[0mg\u001b[0m\u001b[1;33m(\u001b[0m\u001b[1;33m)\u001b[0m\u001b[1;33m\u001b[0m\u001b[1;33m\u001b[0m\u001b[0m\n\u001b[0m\u001b[0;32m      2\u001b[0m \u001b[1;33m\u001b[0m\u001b[0m\n\u001b[0;32m      3\u001b[0m \u001b[1;31m# it will throw an error\u001b[0m\u001b[1;33m\u001b[0m\u001b[1;33m\u001b[0m\u001b[0m\n\u001b[0;32m      4\u001b[0m \u001b[1;31m# we cannot access the g function without accessing the f function\u001b[0m\u001b[1;33m\u001b[0m\u001b[1;33m\u001b[0m\u001b[0m\n",
      "\u001b[1;31mTypeError\u001b[0m: g() missing 1 required positional argument: 'y'"
     ]
    }
   ],
   "source": [
    "g()\n",
    "\n",
    "# it will throw an error\n",
    "# we cannot access the g function without accessing the f function"
   ]
  },
  {
   "cell_type": "code",
   "execution_count": 66,
   "id": "974eafd4",
   "metadata": {},
   "outputs": [
    {
     "name": "stdout",
     "output_type": "stream",
     "text": [
      "in g(x): x = 4\n",
      "abc\n"
     ]
    }
   ],
   "source": [
    "def g(x):\n",
    "    def h():\n",
    "        x = 'abc'\n",
    "        print(x)\n",
    "    x = x + 1\n",
    "    print('in g(x): x =', x)\n",
    "    '''printing the value inside the g(x) function'''\n",
    "    h()  # calling the h() function\n",
    "    return x # returning the x value of g(x) function\n",
    "\n",
    "x = 3\n",
    "z = g(x)"
   ]
  },
  {
   "cell_type": "code",
   "execution_count": 67,
   "id": "07161424",
   "metadata": {},
   "outputs": [
    {
     "name": "stdout",
     "output_type": "stream",
     "text": [
      "in g(x): x = 4\n"
     ]
    }
   ],
   "source": [
    "def g(x):\n",
    "    def h():\n",
    "        x = 'abc'\n",
    "        print(x)\n",
    "    x = x + 1\n",
    "    print('in g(x): x =', x)\n",
    "#     h()\n",
    "    return x\n",
    "\n",
    "x = 3\n",
    "z = g(x)"
   ]
  },
  {
   "cell_type": "code",
   "execution_count": 68,
   "id": "e305f1f5",
   "metadata": {},
   "outputs": [
    {
     "name": "stdout",
     "output_type": "stream",
     "text": [
      "in g(x): x =  4\n",
      "in h(x): x =  5\n",
      "in main program scope: x =  3\n",
      "in main program scope: z =  4\n"
     ]
    }
   ],
   "source": [
    "def g(x):\n",
    "    def h(x):\n",
    "        x = x+1\n",
    "        print(\"in h(x): x = \", x)\n",
    "    x = x + 1\n",
    "    print('in g(x): x = ', x)\n",
    "    h(x)\n",
    "    return x\n",
    "\n",
    "x = 3\n",
    "z = g(x)\n",
    "print('in main program scope: x = ', x)\n",
    "print('in main program scope: z = ', z)"
   ]
  },
  {
   "cell_type": "markdown",
   "id": "ce182792",
   "metadata": {},
   "source": [
    "## Functions are 1st class citizens\n",
    "* in python functions act as a datatype, so operations which we usually do on any data type can also be performed on the fucntions also in the similiar way"
   ]
  },
  {
   "cell_type": "code",
   "execution_count": 69,
   "id": "314ab2d7",
   "metadata": {},
   "outputs": [],
   "source": [
    "# creating a function named square\n",
    "\n",
    "def square(num):\n",
    "    return num**2"
   ]
  },
  {
   "cell_type": "code",
   "execution_count": 70,
   "id": "ddfd57e2",
   "metadata": {},
   "outputs": [
    {
     "data": {
      "text/plain": [
       "function"
      ]
     },
     "execution_count": 70,
     "metadata": {},
     "output_type": "execute_result"
    }
   ],
   "source": [
    "type(square)"
   ]
  },
  {
   "cell_type": "code",
   "execution_count": 71,
   "id": "014193d3",
   "metadata": {},
   "outputs": [
    {
     "data": {
      "text/plain": [
       "2368219386064"
      ]
     },
     "execution_count": 71,
     "metadata": {},
     "output_type": "execute_result"
    }
   ],
   "source": [
    "id(square)"
   ]
  },
  {
   "cell_type": "code",
   "execution_count": 72,
   "id": "98c64db6",
   "metadata": {},
   "outputs": [
    {
     "data": {
      "text/plain": [
       "<function __main__.square(num)>"
      ]
     },
     "execution_count": 72,
     "metadata": {},
     "output_type": "execute_result"
    }
   ],
   "source": [
    "x = square\n",
    "# we are assigning the square function to x\n",
    "x"
   ]
  },
  {
   "cell_type": "code",
   "execution_count": 73,
   "id": "278f211e",
   "metadata": {},
   "outputs": [
    {
     "data": {
      "text/plain": [
       "2368219386064"
      ]
     },
     "execution_count": 73,
     "metadata": {},
     "output_type": "execute_result"
    }
   ],
   "source": [
    "id(x)\n",
    "# memort location of the x is same as square"
   ]
  },
  {
   "cell_type": "code",
   "execution_count": 75,
   "id": "4ba92fdf",
   "metadata": {},
   "outputs": [
    {
     "data": {
      "text/plain": [
       "9"
      ]
     },
     "execution_count": 75,
     "metadata": {},
     "output_type": "execute_result"
    }
   ],
   "source": [
    "x(3)"
   ]
  },
  {
   "cell_type": "code",
   "execution_count": 76,
   "id": "38d881bc",
   "metadata": {},
   "outputs": [],
   "source": [
    "# deleting a function\n",
    "del square"
   ]
  },
  {
   "cell_type": "code",
   "execution_count": 77,
   "id": "8641ef31",
   "metadata": {},
   "outputs": [
    {
     "ename": "NameError",
     "evalue": "name 'square' is not defined",
     "output_type": "error",
     "traceback": [
      "\u001b[1;31m---------------------------------------------------------------------------\u001b[0m",
      "\u001b[1;31mNameError\u001b[0m                                 Traceback (most recent call last)",
      "\u001b[1;32m~\\AppData\\Local\\Temp\\ipykernel_6160\\1056684087.py\u001b[0m in \u001b[0;36m<module>\u001b[1;34m\u001b[0m\n\u001b[1;32m----> 1\u001b[1;33m \u001b[0msquare\u001b[0m\u001b[1;33m(\u001b[0m\u001b[1;36m3\u001b[0m\u001b[1;33m)\u001b[0m\u001b[1;33m\u001b[0m\u001b[1;33m\u001b[0m\u001b[0m\n\u001b[0m",
      "\u001b[1;31mNameError\u001b[0m: name 'square' is not defined"
     ]
    }
   ],
   "source": [
    "square(3)\n",
    "'''it will throw an error because\n",
    "the square function is permanently \n",
    "deleted from the memory location'''"
   ]
  },
  {
   "cell_type": "code",
   "execution_count": 78,
   "id": "cc8a21a7",
   "metadata": {},
   "outputs": [],
   "source": [
    "def square(num):\n",
    "    return num**2"
   ]
  },
  {
   "cell_type": "code",
   "execution_count": 79,
   "id": "434b4151",
   "metadata": {},
   "outputs": [
    {
     "data": {
      "text/plain": [
       "[1, 2, 3, 4, <function __main__.square(num)>]"
      ]
     },
     "execution_count": 79,
     "metadata": {},
     "output_type": "execute_result"
    }
   ],
   "source": [
    "# storing the function in a list with other elements \n",
    "    \n",
    "L = [1,2,3,4,square]\n",
    "L"
   ]
  },
  {
   "cell_type": "code",
   "execution_count": 80,
   "id": "083b932e",
   "metadata": {},
   "outputs": [
    {
     "data": {
      "text/plain": [
       "<function __main__.square(num)>"
      ]
     },
     "execution_count": 80,
     "metadata": {},
     "output_type": "execute_result"
    }
   ],
   "source": [
    "# doing indexing \n",
    "L[-1]"
   ]
  },
  {
   "cell_type": "code",
   "execution_count": 81,
   "id": "d4cef4a9",
   "metadata": {
    "scrolled": true
   },
   "outputs": [
    {
     "data": {
      "text/plain": [
       "9"
      ]
     },
     "execution_count": 81,
     "metadata": {},
     "output_type": "execute_result"
    }
   ],
   "source": [
    "L[-1](3)"
   ]
  },
  {
   "cell_type": "code",
   "execution_count": 81,
   "id": "afb62a3e",
   "metadata": {
    "scrolled": true
   },
   "outputs": [
    {
     "data": {
      "text/plain": [
       "9"
      ]
     },
     "execution_count": 81,
     "metadata": {},
     "output_type": "execute_result"
    }
   ],
   "source": [
    "L[-1](3)"
   ]
  },
  {
   "cell_type": "code",
   "execution_count": 82,
   "id": "b69f7b35",
   "metadata": {},
   "outputs": [
    {
     "name": "stdout",
     "output_type": "stream",
     "text": [
      "7\n"
     ]
    }
   ],
   "source": [
    "# returning function objects\n",
    "def f():\n",
    "    def x(a,b):\n",
    "        return a+b\n",
    "    return x # x is another function inside the f\n",
    " \n",
    "val=f()(3,4) \n",
    "# we are calling first f function and then x by giving the second parenthesis\n",
    "\n",
    "print(val)\n",
    "# run this in python tutor\n",
    "# in return we are getting the function and we are doing the nested callling"
   ]
  },
  {
   "cell_type": "code",
   "execution_count": 83,
   "id": "8f3ec77c",
   "metadata": {},
   "outputs": [
    {
     "name": "stdout",
     "output_type": "stream",
     "text": [
      "inside func_b\n",
      "inside func_a\n",
      "None\n"
     ]
    }
   ],
   "source": [
    "# function as arguments\n",
    "def func_a():\n",
    "    print(\"inside func_a\")\n",
    "\n",
    "def func_c(z):\n",
    "    print(\"inside func_b\")\n",
    "    return z()\n",
    "\n",
    "print(func_c(func_a))\n",
    "\n",
    "# we are giving function as a value in another function\n",
    "# run this in python tutor"
   ]
  },
  {
   "cell_type": "markdown",
   "id": "6252c423",
   "metadata": {},
   "source": [
    "### Benefits\n",
    "* Renaming a function\n",
    "* Deleting a function\n",
    "* Storing a function\n",
    "* Returning a function\n",
    "* Function as argument"
   ]
  },
  {
   "cell_type": "markdown",
   "id": "462f77ec",
   "metadata": {},
   "source": [
    "## Benefits of using functions\n",
    "1. Every code is self-contained and used to break to the entire login into pieces (Code Modularity)\n",
    "2. Works on the philosophy of write once use forever! (Code Reusability)\n",
    "3. Code is organized and coherent (Code Readability)"
   ]
  }
 ],
 "metadata": {
  "kernelspec": {
   "display_name": "Python 3 (ipykernel)",
   "language": "python",
   "name": "python3"
  },
  "language_info": {
   "codemirror_mode": {
    "name": "ipython",
    "version": 3
   },
   "file_extension": ".py",
   "mimetype": "text/x-python",
   "name": "python",
   "nbconvert_exporter": "python",
   "pygments_lexer": "ipython3",
   "version": "3.9.13"
  }
 },
 "nbformat": 4,
 "nbformat_minor": 5
}
