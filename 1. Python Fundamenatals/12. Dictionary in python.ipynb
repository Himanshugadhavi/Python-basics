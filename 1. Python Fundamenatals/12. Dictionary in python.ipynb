{
 "cells": [
  {
   "cell_type": "markdown",
   "id": "cb241698",
   "metadata": {},
   "source": [
    "# Dictionary\n",
    "* Dictionaries are used to store data values in key:value pairs.\n",
    "* A dictionary is a collection which is **ordered**, changeable and do not allow duplicates.\n",
    ">* Rule 1 : dictionary has no indexing\n",
    ">* Rule 2 : dictionary is mutable data type\n",
    ">* Rule 3 : keys should always be immutable where as values are mutable\n",
    ">* Rule 4 : keys should be unique"
   ]
  },
  {
   "cell_type": "markdown",
   "id": "6cfc4458",
   "metadata": {},
   "source": [
    "## Note\n",
    "* Mutable = List,Sets,Dictionary\n",
    "* Immutable = String,tuples,int,float,boolean,complex"
   ]
  },
  {
   "cell_type": "markdown",
   "id": "3c7986f1",
   "metadata": {},
   "source": [
    "### Create"
   ]
  },
  {
   "cell_type": "code",
   "execution_count": 1,
   "id": "f44bde91",
   "metadata": {},
   "outputs": [
    {
     "name": "stdout",
     "output_type": "stream",
     "text": [
      "{}\n",
      "<class 'dict'>\n"
     ]
    }
   ],
   "source": [
    "D={}\n",
    "print(D)\n",
    "print(type(D))"
   ]
  },
  {
   "cell_type": "code",
   "execution_count": 2,
   "id": "e8c83161",
   "metadata": {},
   "outputs": [
    {
     "name": "stdout",
     "output_type": "stream",
     "text": [
      "{'name': 'himanshu', 'gender': 'male', 'age': 23}\n"
     ]
    }
   ],
   "source": [
    "D={\"name\":\"himanshu\",\"gender\":\"male\",\"age\":23}\n",
    "print(D)"
   ]
  },
  {
   "cell_type": "markdown",
   "id": "f4caefd6",
   "metadata": {},
   "source": [
    "* **Dictionary Items :**\n",
    ">* Dictionary items are ordered, changeable, and does not allow duplicates."
   ]
  },
  {
   "cell_type": "code",
   "execution_count": 3,
   "id": "279ead8b",
   "metadata": {},
   "outputs": [
    {
     "ename": "TypeError",
     "evalue": "unhashable type: 'list'",
     "output_type": "error",
     "traceback": [
      "\u001b[1;31m---------------------------------------------------------------------------\u001b[0m",
      "\u001b[1;31mTypeError\u001b[0m                                 Traceback (most recent call last)",
      "\u001b[1;32m~\\AppData\\Local\\Temp\\ipykernel_16036\\427323597.py\u001b[0m in \u001b[0;36m<module>\u001b[1;34m\u001b[0m\n\u001b[1;32m----> 1\u001b[1;33m \u001b[0mD1\u001b[0m\u001b[1;33m=\u001b[0m\u001b[1;33m{\u001b[0m\u001b[1;33m[\u001b[0m\u001b[1;36m1\u001b[0m\u001b[1;33m,\u001b[0m\u001b[1;36m2\u001b[0m\u001b[1;33m,\u001b[0m\u001b[1;36m3\u001b[0m\u001b[1;33m]\u001b[0m\u001b[1;33m:\u001b[0m\u001b[1;34m\"himanshu\"\u001b[0m\u001b[1;33m}\u001b[0m\u001b[1;33m\u001b[0m\u001b[1;33m\u001b[0m\u001b[0m\n\u001b[0m\u001b[0;32m      2\u001b[0m \u001b[1;31m# here key should be immutable so it will throw an error\u001b[0m\u001b[1;33m\u001b[0m\u001b[1;33m\u001b[0m\u001b[0m\n",
      "\u001b[1;31mTypeError\u001b[0m: unhashable type: 'list'"
     ]
    }
   ],
   "source": [
    "D1={[1,2,3]:\"himanshu\"}\n",
    "# here key should be immutable so it will throw an error"
   ]
  },
  {
   "cell_type": "code",
   "execution_count": 4,
   "id": "214ce29c",
   "metadata": {},
   "outputs": [
    {
     "name": "stdout",
     "output_type": "stream",
     "text": [
      "{(1, 2, 3): 'himanshu'}\n"
     ]
    }
   ],
   "source": [
    "D1={(1,2,3):\"himanshu\"}\n",
    "# here key is tuple so it will create an dictionary\n",
    "print(D1)"
   ]
  },
  {
   "cell_type": "code",
   "execution_count": 5,
   "id": "c83d14b3",
   "metadata": {},
   "outputs": [
    {
     "name": "stdout",
     "output_type": "stream",
     "text": [
      "{'name': 'rohit'}\n"
     ]
    }
   ],
   "source": [
    "D2={\"name\":\"rahul\",\"name\":\"rohit\"}\n",
    "print(D2)\n",
    "# this will show only rohit which is the latest value of the key name\n",
    "# so we can not repeat the key "
   ]
  },
  {
   "cell_type": "code",
   "execution_count": 6,
   "id": "4ad2813f",
   "metadata": {},
   "outputs": [
    {
     "name": "stdout",
     "output_type": "stream",
     "text": [
      "{'name': 'himanshu', 'college': 'gkvk', 'marks': {'m1': 56, 'm2': 65, 'eng': 67}}\n"
     ]
    }
   ],
   "source": [
    "# 2D dictionary or nested dictionary\n",
    "D3={\"name\":\"himanshu\",\"college\":\"gkvk\",\"marks\":{\"m1\":56,\"m2\":65,\"eng\":67}}\n",
    "print(D3)"
   ]
  },
  {
   "cell_type": "code",
   "execution_count": 7,
   "id": "0d321419",
   "metadata": {},
   "outputs": [],
   "source": [
    "myfamily = {\"child1\" : {\"name\" : \"Emil\",\"year\" : 2004},\"child2\" : {\n",
    "    \"name\" : \"Tobias\",\n",
    "    \"year\" : 2007\n",
    "  },\n",
    "  \"child3\" : {\n",
    "    \"name\" : \"Linus\",\n",
    "    \"year\" : 2011\n",
    "  }\n",
    "}"
   ]
  },
  {
   "cell_type": "markdown",
   "id": "72e078cc",
   "metadata": {},
   "source": [
    "* **The dict() Constructor :**\n",
    ">* It is also possible to use the dict() constructor to make a dictionary."
   ]
  },
  {
   "cell_type": "code",
   "execution_count": 8,
   "id": "52adc412",
   "metadata": {},
   "outputs": [
    {
     "name": "stdout",
     "output_type": "stream",
     "text": [
      "{'name': 'John', 'age': 36, 'country': 'Norway'}\n"
     ]
    }
   ],
   "source": [
    "thisdict = dict(name = \"John\", age = 36, country = \"Norway\")\n",
    "print(thisdict)"
   ]
  },
  {
   "cell_type": "markdown",
   "id": "91da28ea",
   "metadata": {},
   "source": [
    "* When we say that dictionaries are ordered, it means that the items have a defined order, and that order will not change.\n",
    "* Unordered means that the items does not have a defined order, you cannot refer to an item by using an index."
   ]
  },
  {
   "cell_type": "markdown",
   "id": "d9a8bbed",
   "metadata": {},
   "source": [
    "### Accessing item from a dictionary\n",
    "* You can access the items of a dictionary by referring to its key name, inside square brackets:"
   ]
  },
  {
   "cell_type": "code",
   "execution_count": 9,
   "id": "da94b2c4",
   "metadata": {},
   "outputs": [
    {
     "name": "stdout",
     "output_type": "stream",
     "text": [
      "{'name': 'himanshu', 'gender': 'male', 'age': 23}\n"
     ]
    }
   ],
   "source": [
    "D={\"name\":\"himanshu\",\"gender\":\"male\",\"age\":23}\n",
    "print(D)"
   ]
  },
  {
   "cell_type": "code",
   "execution_count": 10,
   "id": "f582bd3d",
   "metadata": {
    "scrolled": true
   },
   "outputs": [
    {
     "ename": "KeyError",
     "evalue": "0",
     "output_type": "error",
     "traceback": [
      "\u001b[1;31m---------------------------------------------------------------------------\u001b[0m",
      "\u001b[1;31mKeyError\u001b[0m                                  Traceback (most recent call last)",
      "\u001b[1;32m~\\AppData\\Local\\Temp\\ipykernel_16036\\408044730.py\u001b[0m in \u001b[0;36m<module>\u001b[1;34m\u001b[0m\n\u001b[1;32m----> 1\u001b[1;33m \u001b[0mD\u001b[0m\u001b[1;33m[\u001b[0m\u001b[1;36m0\u001b[0m\u001b[1;33m]\u001b[0m\u001b[1;33m\u001b[0m\u001b[1;33m\u001b[0m\u001b[0m\n\u001b[0m\u001b[0;32m      2\u001b[0m \u001b[1;31m# this will not work, we have to give the key name to aceess the value\u001b[0m\u001b[1;33m\u001b[0m\u001b[1;33m\u001b[0m\u001b[0m\n",
      "\u001b[1;31mKeyError\u001b[0m: 0"
     ]
    }
   ],
   "source": [
    "D[0]\n",
    "# this will not work, \n",
    "# we have to give the key name to aceess the value"
   ]
  },
  {
   "cell_type": "markdown",
   "id": "b6a939bb",
   "metadata": {},
   "source": [
    ">* in dictionary we don't have indexing or slicing\n",
    ">* only way is to give key to access the value"
   ]
  },
  {
   "cell_type": "code",
   "execution_count": 11,
   "id": "85f1c6b4",
   "metadata": {},
   "outputs": [
    {
     "name": "stdout",
     "output_type": "stream",
     "text": [
      "himanshu\n",
      "male\n",
      "23\n"
     ]
    }
   ],
   "source": [
    "print(D[\"name\"])\n",
    "print(D[\"gender\"])\n",
    "print(D[\"age\"])"
   ]
  },
  {
   "cell_type": "markdown",
   "id": "91734076",
   "metadata": {},
   "source": [
    ">* to access the value from the 2D dictionary"
   ]
  },
  {
   "cell_type": "code",
   "execution_count": 12,
   "id": "0cadd797",
   "metadata": {},
   "outputs": [
    {
     "name": "stdout",
     "output_type": "stream",
     "text": [
      "{'name': 'himanshu', 'college': 'gkvk', 'marks': {'m1': 56, 'm2': 65, 'eng': 67}}\n"
     ]
    }
   ],
   "source": [
    "D3={\"name\":\"himanshu\",\"college\":\"gkvk\",\"marks\":{\"m1\":56,\"m2\":65,\"eng\":67}}\n",
    "print(D3)"
   ]
  },
  {
   "cell_type": "code",
   "execution_count": 13,
   "id": "c824a3fd",
   "metadata": {},
   "outputs": [
    {
     "name": "stdout",
     "output_type": "stream",
     "text": [
      "{'m1': 56, 'm2': 65, 'eng': 67}\n"
     ]
    }
   ],
   "source": [
    "print(D3[\"marks\"])"
   ]
  },
  {
   "cell_type": "code",
   "execution_count": 14,
   "id": "f771c4ab",
   "metadata": {},
   "outputs": [
    {
     "data": {
      "text/plain": [
       "65"
      ]
     },
     "execution_count": 14,
     "metadata": {},
     "output_type": "execute_result"
    }
   ],
   "source": [
    "D3[\"marks\"][\"m2\"]\n",
    "# we will keep adding up the square brackets"
   ]
  },
  {
   "cell_type": "code",
   "execution_count": 15,
   "id": "57ce920a",
   "metadata": {},
   "outputs": [
    {
     "data": {
      "text/plain": [
       "'Mustang'"
      ]
     },
     "execution_count": 15,
     "metadata": {},
     "output_type": "execute_result"
    }
   ],
   "source": [
    "thisdict = {\"brand\": \"Ford\",\"model\": \"Mustang\",\"year\": 1964}\n",
    "x = thisdict[\"model\"]\n",
    "x"
   ]
  },
  {
   "cell_type": "markdown",
   "id": "8274ccdc",
   "metadata": {},
   "source": [
    ">* There is also a method called get() that will give you the same result:\n",
    ">* we can not us get() for accessing the 2D or 3D ductionary"
   ]
  },
  {
   "cell_type": "code",
   "execution_count": 16,
   "id": "25783c38",
   "metadata": {},
   "outputs": [
    {
     "data": {
      "text/plain": [
       "'Mustang'"
      ]
     },
     "execution_count": 16,
     "metadata": {},
     "output_type": "execute_result"
    }
   ],
   "source": [
    "x = thisdict.get(\"model\")\n",
    "x"
   ]
  },
  {
   "cell_type": "markdown",
   "id": "e0b17a13",
   "metadata": {},
   "source": [
    "### Edit\n",
    "* You can change the value of a specific item by referring to its key name:"
   ]
  },
  {
   "cell_type": "code",
   "execution_count": 17,
   "id": "6dfae406",
   "metadata": {},
   "outputs": [
    {
     "name": "stdout",
     "output_type": "stream",
     "text": [
      "{'name': 'himanshu', 'gender': 'male', 'age': 23}\n"
     ]
    }
   ],
   "source": [
    "D={\"name\":\"himanshu\",\"gender\":\"male\",\"age\":23}\n",
    "print(D)"
   ]
  },
  {
   "cell_type": "code",
   "execution_count": 18,
   "id": "25863f9b",
   "metadata": {},
   "outputs": [
    {
     "name": "stdout",
     "output_type": "stream",
     "text": [
      "{'name': 'appu', 'gender': 'male', 'age': 23}\n"
     ]
    }
   ],
   "source": [
    "D[\"name\"]=\"appu\"\n",
    "print(D)"
   ]
  },
  {
   "cell_type": "code",
   "execution_count": 19,
   "id": "9c094a9e",
   "metadata": {},
   "outputs": [
    {
     "name": "stdout",
     "output_type": "stream",
     "text": [
      "{'name': 'himanshu', 'college': 'gkvk', 'marks': {'m1': 56, 'm2': 65, 'eng': 67}}\n"
     ]
    }
   ],
   "source": [
    "D3={\"name\":\"himanshu\",\"college\":\"gkvk\",\"marks\":{\"m1\":56,\"m2\":65,\"eng\":67}}\n",
    "print(D3)"
   ]
  },
  {
   "cell_type": "code",
   "execution_count": 20,
   "id": "beb3f204",
   "metadata": {},
   "outputs": [
    {
     "name": "stdout",
     "output_type": "stream",
     "text": [
      "{'name': 'himanshu', 'college': 'gkvk', 'marks': {'m1': 73, 'm2': 65, 'eng': 67}}\n"
     ]
    }
   ],
   "source": [
    "D3[\"marks\"][\"m1\"]=73\n",
    "print(D3)"
   ]
  },
  {
   "cell_type": "markdown",
   "id": "fd360868",
   "metadata": {},
   "source": [
    "* **Update Dictionary :**\n",
    ">* The update() method will update the dictionary with the items from the given argument.\n",
    ">* The argument must be a dictionary, or an iterable object with key:value pairs."
   ]
  },
  {
   "cell_type": "code",
   "execution_count": 21,
   "id": "c151119c",
   "metadata": {},
   "outputs": [
    {
     "name": "stdout",
     "output_type": "stream",
     "text": [
      "{'brand': 'Ford', 'model': 'Mustang', 'year': 1964}\n",
      "{'brand': 'Ford', 'model': 'Mustang', 'year': 2020}\n"
     ]
    }
   ],
   "source": [
    "thisdict = {\"brand\": \"Ford\",\"model\": \"Mustang\",\"year\": 1964}\n",
    "print(thisdict)\n",
    "thisdict.update({\"year\": 2020})\n",
    "print(thisdict)"
   ]
  },
  {
   "cell_type": "markdown",
   "id": "1359b62f",
   "metadata": {},
   "source": [
    "### Add new key value pairs"
   ]
  },
  {
   "cell_type": "code",
   "execution_count": 22,
   "id": "2ae96a0d",
   "metadata": {},
   "outputs": [
    {
     "data": {
      "text/plain": [
       "{'name': 'appu', 'gender': 'male', 'age': 23}"
      ]
     },
     "execution_count": 22,
     "metadata": {},
     "output_type": "execute_result"
    }
   ],
   "source": [
    "D = {'name': 'appu', 'gender': 'male', 'age': 23}\n",
    "D"
   ]
  },
  {
   "cell_type": "code",
   "execution_count": 23,
   "id": "e225860b",
   "metadata": {},
   "outputs": [
    {
     "data": {
      "text/plain": [
       "{'name': 'appu', 'gender': 'male', 'age': 23, 'new age is': 24}"
      ]
     },
     "execution_count": 23,
     "metadata": {},
     "output_type": "execute_result"
    }
   ],
   "source": [
    "D[\"new age is\"]=24\n",
    "# new key-value pair will be added\n",
    "D"
   ]
  },
  {
   "cell_type": "code",
   "execution_count": 24,
   "id": "cf8a8a99",
   "metadata": {},
   "outputs": [
    {
     "data": {
      "text/plain": [
       "{'name': 'himanshu',\n",
       " 'college': 'gkvk',\n",
       " 'marks': {'m1': 73, 'm2': 65, 'eng': 67}}"
      ]
     },
     "execution_count": 24,
     "metadata": {},
     "output_type": "execute_result"
    }
   ],
   "source": [
    "D3 = {'name': 'himanshu','college': 'gkvk',\n",
    "      'marks': {'m1': 73, 'm2': 65, 'eng': 67}}\n",
    "D3"
   ]
  },
  {
   "cell_type": "code",
   "execution_count": 25,
   "id": "a0f8dd1c",
   "metadata": {
    "scrolled": true
   },
   "outputs": [
    {
     "data": {
      "text/plain": [
       "{'name': 'himanshu',\n",
       " 'college': 'gkvk',\n",
       " 'marks': {'m1': 73, 'm2': 65, 'eng': 67, 'm3': 87}}"
      ]
     },
     "execution_count": 25,
     "metadata": {},
     "output_type": "execute_result"
    }
   ],
   "source": [
    "D3[\"marks\"][\"m3\"]=87\n",
    "D3"
   ]
  },
  {
   "cell_type": "markdown",
   "id": "c05f5621",
   "metadata": {},
   "source": [
    "* **Update Dictionary :**\n",
    ">* The update() method will update the dictionary with the items from a given argument. If the item does not exist, the item will be added."
   ]
  },
  {
   "cell_type": "code",
   "execution_count": 26,
   "id": "8744beaf",
   "metadata": {},
   "outputs": [
    {
     "name": "stdout",
     "output_type": "stream",
     "text": [
      "{'brand': 'Ford', 'model': 'Mustang', 'year': 1964}\n",
      "{'brand': 'Ford', 'model': 'Mustang', 'year': 1964, 'color': 'red'}\n"
     ]
    }
   ],
   "source": [
    "thisdict = {\"brand\": \"Ford\",\"model\": \"Mustang\",\"year\": 1964}\n",
    "print(thisdict)\n",
    "thisdict.update({\"color\": \"red\"})\n",
    "print(thisdict)"
   ]
  },
  {
   "cell_type": "markdown",
   "id": "d7e50e6c",
   "metadata": {},
   "source": [
    "### Delete "
   ]
  },
  {
   "cell_type": "code",
   "execution_count": 27,
   "id": "b9292ecb",
   "metadata": {},
   "outputs": [
    {
     "data": {
      "text/plain": [
       "{}"
      ]
     },
     "execution_count": 27,
     "metadata": {},
     "output_type": "execute_result"
    }
   ],
   "source": [
    "D5={}\n",
    "D5"
   ]
  },
  {
   "cell_type": "code",
   "execution_count": 28,
   "id": "565e62fd",
   "metadata": {},
   "outputs": [],
   "source": [
    "del D5\n",
    "# it will delete the D5 dictionary "
   ]
  },
  {
   "cell_type": "code",
   "execution_count": 29,
   "id": "24394f98",
   "metadata": {},
   "outputs": [
    {
     "ename": "NameError",
     "evalue": "name 'D5' is not defined",
     "output_type": "error",
     "traceback": [
      "\u001b[1;31m---------------------------------------------------------------------------\u001b[0m",
      "\u001b[1;31mNameError\u001b[0m                                 Traceback (most recent call last)",
      "\u001b[1;32m~\\AppData\\Local\\Temp\\ipykernel_16036\\3125265451.py\u001b[0m in \u001b[0;36m<module>\u001b[1;34m\u001b[0m\n\u001b[1;32m----> 1\u001b[1;33m \u001b[0mD5\u001b[0m\u001b[1;33m\u001b[0m\u001b[1;33m\u001b[0m\u001b[0m\n\u001b[0m\u001b[0;32m      2\u001b[0m \u001b[1;31m# this will show an error because D5 dictionary has been deleted so it does not exist\u001b[0m\u001b[1;33m\u001b[0m\u001b[1;33m\u001b[0m\u001b[0m\n",
      "\u001b[1;31mNameError\u001b[0m: name 'D5' is not defined"
     ]
    }
   ],
   "source": [
    "D5\n",
    "# this will show an error because D5 dictionary has been deleted so it does not exist"
   ]
  },
  {
   "cell_type": "code",
   "execution_count": 30,
   "id": "0ffe6612",
   "metadata": {
    "scrolled": true
   },
   "outputs": [
    {
     "data": {
      "text/plain": [
       "{'name': 'appu', 'gender': 'male', 'age': 23, 'age is': 23}"
      ]
     },
     "execution_count": 30,
     "metadata": {},
     "output_type": "execute_result"
    }
   ],
   "source": [
    "D = {'name': 'appu', 'gender': 'male', 'age': 23, 'age is': 23}\n",
    "D"
   ]
  },
  {
   "cell_type": "code",
   "execution_count": 31,
   "id": "3578dfec",
   "metadata": {},
   "outputs": [],
   "source": [
    "del D[\"gender\"]"
   ]
  },
  {
   "cell_type": "code",
   "execution_count": 32,
   "id": "9c8b6d3a",
   "metadata": {},
   "outputs": [
    {
     "data": {
      "text/plain": [
       "{'name': 'appu', 'age': 23, 'age is': 23}"
      ]
     },
     "execution_count": 32,
     "metadata": {},
     "output_type": "execute_result"
    }
   ],
   "source": [
    "D"
   ]
  },
  {
   "cell_type": "markdown",
   "id": "90517e75",
   "metadata": {},
   "source": [
    ">* The popitem() method removes the last inserted item"
   ]
  },
  {
   "cell_type": "code",
   "execution_count": 33,
   "id": "c30fc5b1",
   "metadata": {},
   "outputs": [
    {
     "name": "stdout",
     "output_type": "stream",
     "text": [
      "{'brand': 'Ford', 'model': 'Mustang', 'year': 1964}\n",
      "{'brand': 'Ford', 'model': 'Mustang'}\n"
     ]
    }
   ],
   "source": [
    "thisdict = {\"brand\": \"Ford\",\"model\": \"Mustang\",\"year\": 1964}\n",
    "print(thisdict)\n",
    "thisdict.popitem()\n",
    "print(thisdict)"
   ]
  },
  {
   "cell_type": "markdown",
   "id": "3bbf425d",
   "metadata": {},
   "source": [
    ">* The pop() method removes the item with the specified key name:"
   ]
  },
  {
   "cell_type": "code",
   "execution_count": 34,
   "id": "8849d2e7",
   "metadata": {},
   "outputs": [
    {
     "name": "stdout",
     "output_type": "stream",
     "text": [
      "{'brand': 'Ford', 'model': 'Mustang', 'year': 1964}\n",
      "{'brand': 'Ford', 'year': 1964}\n"
     ]
    }
   ],
   "source": [
    "thisdict = {\"brand\": \"Ford\",\"model\": \"Mustang\",\"year\": 1964}\n",
    "print(thisdict)\n",
    "thisdict.pop(\"model\")\n",
    "print(thisdict)"
   ]
  },
  {
   "cell_type": "markdown",
   "id": "4acef452",
   "metadata": {},
   "source": [
    ">* The clear() method empties the dictionary:"
   ]
  },
  {
   "cell_type": "code",
   "execution_count": 35,
   "id": "1f1d5bc3",
   "metadata": {
    "scrolled": true
   },
   "outputs": [
    {
     "name": "stdout",
     "output_type": "stream",
     "text": [
      "{'brand': 'Ford', 'model': 'Mustang', 'year': 1964}\n"
     ]
    }
   ],
   "source": [
    "thisdict = {\"brand\": \"Ford\",\"model\": \"Mustang\",\"year\": 1964}\n",
    "print(thisdict)\n",
    "thisdict.clear()"
   ]
  },
  {
   "cell_type": "code",
   "execution_count": 36,
   "id": "8f7ceb83",
   "metadata": {},
   "outputs": [
    {
     "name": "stdout",
     "output_type": "stream",
     "text": [
      "{}\n"
     ]
    }
   ],
   "source": [
    "print(thisdict)"
   ]
  },
  {
   "cell_type": "markdown",
   "id": "42575a0f",
   "metadata": {},
   "source": [
    "### Operations"
   ]
  },
  {
   "cell_type": "code",
   "execution_count": 37,
   "id": "9be385bf",
   "metadata": {},
   "outputs": [
    {
     "data": {
      "text/plain": [
       "{3: 'himanshu'}"
      ]
     },
     "execution_count": 37,
     "metadata": {},
     "output_type": "execute_result"
    }
   ],
   "source": [
    "D1 = {3: 'himanshu'}\n",
    "D1"
   ]
  },
  {
   "cell_type": "code",
   "execution_count": 38,
   "id": "1db60417",
   "metadata": {},
   "outputs": [
    {
     "data": {
      "text/plain": [
       "{'name': 'rohit'}"
      ]
     },
     "execution_count": 38,
     "metadata": {},
     "output_type": "execute_result"
    }
   ],
   "source": [
    "D2 = {'name': 'rohit'}\n",
    "D2"
   ]
  },
  {
   "cell_type": "code",
   "execution_count": 39,
   "id": "a7e6e67f",
   "metadata": {
    "scrolled": false
   },
   "outputs": [
    {
     "ename": "TypeError",
     "evalue": "unsupported operand type(s) for +: 'dict' and 'dict'",
     "output_type": "error",
     "traceback": [
      "\u001b[1;31m---------------------------------------------------------------------------\u001b[0m",
      "\u001b[1;31mTypeError\u001b[0m                                 Traceback (most recent call last)",
      "\u001b[1;32m~\\AppData\\Local\\Temp\\ipykernel_16036\\313143970.py\u001b[0m in \u001b[0;36m<module>\u001b[1;34m\u001b[0m\n\u001b[0;32m      1\u001b[0m \u001b[1;31m# concatination\u001b[0m\u001b[1;33m\u001b[0m\u001b[1;33m\u001b[0m\u001b[0m\n\u001b[1;32m----> 2\u001b[1;33m \u001b[0mD1\u001b[0m\u001b[1;33m+\u001b[0m\u001b[0mD2\u001b[0m\u001b[1;33m\u001b[0m\u001b[1;33m\u001b[0m\u001b[0m\n\u001b[0m\u001b[0;32m      3\u001b[0m \u001b[1;31m# it will throw an error\u001b[0m\u001b[1;33m\u001b[0m\u001b[1;33m\u001b[0m\u001b[0m\n\u001b[0;32m      4\u001b[0m \u001b[1;31m# here concationation will not work\u001b[0m\u001b[1;33m\u001b[0m\u001b[1;33m\u001b[0m\u001b[0m\n",
      "\u001b[1;31mTypeError\u001b[0m: unsupported operand type(s) for +: 'dict' and 'dict'"
     ]
    }
   ],
   "source": [
    "# concatination\n",
    "D1+D2\n",
    "# it will throw an error\n",
    "# here concationation will not work"
   ]
  },
  {
   "cell_type": "markdown",
   "id": "d03399c1",
   "metadata": {},
   "source": [
    "* **Looping :**"
   ]
  },
  {
   "cell_type": "code",
   "execution_count": 40,
   "id": "475934d3",
   "metadata": {},
   "outputs": [
    {
     "data": {
      "text/plain": [
       "{'name': 'himanshu',\n",
       " 'college': 'gkvk',\n",
       " 'marks': {'m1': 64, 'm2': 65, 'eng': 67, 'm3': 87}}"
      ]
     },
     "execution_count": 40,
     "metadata": {},
     "output_type": "execute_result"
    }
   ],
   "source": [
    "D3 = {'name': 'himanshu',\n",
    " 'college': 'gkvk',\n",
    " 'marks': {'m1': 64, 'm2': 65, 'eng': 67, 'm3': 87}}\n",
    "D3"
   ]
  },
  {
   "cell_type": "code",
   "execution_count": 41,
   "id": "8c28efcc",
   "metadata": {},
   "outputs": [
    {
     "name": "stdout",
     "output_type": "stream",
     "text": [
      "name\n",
      "college\n",
      "marks\n"
     ]
    }
   ],
   "source": [
    "for i in D3:\n",
    "    print(i)\n",
    "# this will only print the keys not the values"
   ]
  },
  {
   "cell_type": "code",
   "execution_count": 42,
   "id": "14cb0ded",
   "metadata": {
    "scrolled": true
   },
   "outputs": [
    {
     "name": "stdout",
     "output_type": "stream",
     "text": [
      "himanshu\n",
      "gkvk\n",
      "{'m1': 64, 'm2': 65, 'eng': 67, 'm3': 87}\n"
     ]
    }
   ],
   "source": [
    "for i in D3.values():\n",
    "    print(i)\n",
    "# this will return the vlues"
   ]
  },
  {
   "cell_type": "markdown",
   "id": "e0f30565",
   "metadata": {},
   "source": [
    ">* Loop through both keys and values, by using the items() method:"
   ]
  },
  {
   "cell_type": "code",
   "execution_count": 43,
   "id": "c2ca3e5a",
   "metadata": {},
   "outputs": [
    {
     "name": "stdout",
     "output_type": "stream",
     "text": [
      "name himanshu\n",
      "college gkvk\n",
      "marks {'m1': 64, 'm2': 65, 'eng': 67, 'm3': 87}\n"
     ]
    }
   ],
   "source": [
    "for x, y in D3.items():\n",
    "    print(x, y)"
   ]
  },
  {
   "cell_type": "code",
   "execution_count": 44,
   "id": "cc68931e",
   "metadata": {},
   "outputs": [
    {
     "name": "stdout",
     "output_type": "stream",
     "text": [
      "name himanshu\n",
      "college gkvk\n",
      "marks {'m1': 64, 'm2': 65, 'eng': 67, 'm3': 87}\n"
     ]
    }
   ],
   "source": [
    "for i in D3:\n",
    "    print(i,D3[i])\n",
    "# this will give us the value along with the keys"
   ]
  },
  {
   "cell_type": "markdown",
   "id": "722db785",
   "metadata": {},
   "source": [
    "* **membership operators :**"
   ]
  },
  {
   "cell_type": "code",
   "execution_count": 45,
   "id": "7ecb840d",
   "metadata": {},
   "outputs": [
    {
     "data": {
      "text/plain": [
       "{'name': 'himanshu',\n",
       " 'college': 'gkvk',\n",
       " 'marks': {'m1': 64, 'm2': 65, 'eng': 67, 'm3': 87}}"
      ]
     },
     "execution_count": 45,
     "metadata": {},
     "output_type": "execute_result"
    }
   ],
   "source": [
    "D3"
   ]
  },
  {
   "cell_type": "code",
   "execution_count": 46,
   "id": "eef2453a",
   "metadata": {},
   "outputs": [
    {
     "name": "stdout",
     "output_type": "stream",
     "text": [
      "False\n"
     ]
    },
    {
     "data": {
      "text/plain": [
       "'it gives false because in dictionary everything is about keys \\nso membership operator will check in keys'"
      ]
     },
     "execution_count": 46,
     "metadata": {},
     "output_type": "execute_result"
    }
   ],
   "source": [
    "print(\"himanshu\" in D3)\n",
    "'''it gives false because in dictionary everything is about keys \n",
    "so membership operator will check in keys'''"
   ]
  },
  {
   "cell_type": "code",
   "execution_count": 47,
   "id": "b360056a",
   "metadata": {},
   "outputs": [
    {
     "data": {
      "text/plain": [
       "True"
      ]
     },
     "execution_count": 47,
     "metadata": {},
     "output_type": "execute_result"
    }
   ],
   "source": [
    "\"name\" in D3\n",
    "# this will return true because it inspects the keys of the dictionary"
   ]
  },
  {
   "cell_type": "markdown",
   "id": "f7a6ca68",
   "metadata": {},
   "source": [
    "### Fucntions"
   ]
  },
  {
   "cell_type": "code",
   "execution_count": 48,
   "id": "ba7bcff9",
   "metadata": {},
   "outputs": [
    {
     "data": {
      "text/plain": [
       "{'name': 'himanshu',\n",
       " 'college': 'gkvk',\n",
       " 'marks': {'m1': 64, 'm2': 65, 'eng': 67, 'm3': 87}}"
      ]
     },
     "execution_count": 48,
     "metadata": {},
     "output_type": "execute_result"
    }
   ],
   "source": [
    "D3 = {'name': 'himanshu',\n",
    " 'college': 'gkvk',\n",
    " 'marks': {'m1': 64, 'm2': 65, 'eng': 67, 'm3': 87}}\n",
    "D3"
   ]
  },
  {
   "cell_type": "code",
   "execution_count": 49,
   "id": "5c566111",
   "metadata": {},
   "outputs": [
    {
     "data": {
      "text/plain": [
       "3"
      ]
     },
     "execution_count": 49,
     "metadata": {},
     "output_type": "execute_result"
    }
   ],
   "source": [
    "len(D3)"
   ]
  },
  {
   "cell_type": "code",
   "execution_count": 50,
   "id": "53f3f8dc",
   "metadata": {},
   "outputs": [
    {
     "data": {
      "text/plain": [
       "'college'"
      ]
     },
     "execution_count": 50,
     "metadata": {},
     "output_type": "execute_result"
    }
   ],
   "source": [
    "min(D3)"
   ]
  },
  {
   "cell_type": "code",
   "execution_count": 51,
   "id": "1ecf7b09",
   "metadata": {},
   "outputs": [
    {
     "data": {
      "text/plain": [
       "'name'"
      ]
     },
     "execution_count": 51,
     "metadata": {},
     "output_type": "execute_result"
    }
   ],
   "source": [
    "max(D3)"
   ]
  },
  {
   "cell_type": "markdown",
   "id": "0286db99",
   "metadata": {},
   "source": [
    ">* **Note :** if keys are integer then sum will also work"
   ]
  },
  {
   "cell_type": "code",
   "execution_count": 52,
   "id": "50903ac0",
   "metadata": {},
   "outputs": [
    {
     "data": {
      "text/plain": [
       "['college', 'marks', 'name']"
      ]
     },
     "execution_count": 52,
     "metadata": {},
     "output_type": "execute_result"
    }
   ],
   "source": [
    "sorted(D3)"
   ]
  },
  {
   "cell_type": "code",
   "execution_count": 53,
   "id": "1d518823",
   "metadata": {},
   "outputs": [
    {
     "data": {
      "text/plain": [
       "['name', 'marks', 'college']"
      ]
     },
     "execution_count": 53,
     "metadata": {},
     "output_type": "execute_result"
    }
   ],
   "source": [
    "sorted(D3,reverse=True)"
   ]
  },
  {
   "cell_type": "markdown",
   "id": "a77f595c",
   "metadata": {},
   "source": [
    "* **Get Keys :**\n",
    ">* The keys() method will return a list of all the keys in the dictionary."
   ]
  },
  {
   "cell_type": "code",
   "execution_count": 54,
   "id": "3c35fafe",
   "metadata": {},
   "outputs": [
    {
     "data": {
      "text/plain": [
       "dict_keys(['name', 'college', 'marks'])"
      ]
     },
     "execution_count": 54,
     "metadata": {},
     "output_type": "execute_result"
    }
   ],
   "source": [
    "D3.keys()\n",
    "# this will give use the list of keys"
   ]
  },
  {
   "cell_type": "markdown",
   "id": "52250ef1",
   "metadata": {},
   "source": [
    "* **Get Values :**\n",
    ">* The values() method will return a list of all the values in the dictionary."
   ]
  },
  {
   "cell_type": "code",
   "execution_count": 55,
   "id": "9cb09ac5",
   "metadata": {},
   "outputs": [
    {
     "data": {
      "text/plain": [
       "dict_values(['himanshu', 'gkvk', {'m1': 64, 'm2': 65, 'eng': 67, 'm3': 87}])"
      ]
     },
     "execution_count": 55,
     "metadata": {},
     "output_type": "execute_result"
    }
   ],
   "source": [
    "D3.values()\n",
    "# to get the list of values inside the dictionary"
   ]
  },
  {
   "cell_type": "markdown",
   "id": "0a644912",
   "metadata": {},
   "source": [
    "* **Get Items :**\n",
    ">* The items() method will return each item in a dictionary, as tuples in a list."
   ]
  },
  {
   "cell_type": "code",
   "execution_count": 56,
   "id": "a82b481d",
   "metadata": {},
   "outputs": [
    {
     "name": "stdout",
     "output_type": "stream",
     "text": [
      "dict_items([('brand', 'Ford'), ('model', 'Mustang'), ('year', 1964)])\n",
      "dict_items([('brand', 'Ford'), ('model', 'Mustang'), ('year', 2020)])\n"
     ]
    }
   ],
   "source": [
    "car = {\"brand\": \"Ford\",\"model\": \"Mustang\",\"year\": 1964}\n",
    "\n",
    "x = car.items()\n",
    "print(x) #before the change\n",
    "\n",
    "car[\"year\"] = 2020\n",
    "print(x) #after the change"
   ]
  },
  {
   "cell_type": "markdown",
   "id": "d5d39c96",
   "metadata": {},
   "source": [
    "* **Copy a Dictionary :**\n",
    ">* You cannot copy a dictionary simply by typing dict2 = dict1, because: dict2 will only be a reference to dict1, and changes made in dict1 will automatically also be made in dict2.\n",
    ">* There are ways to make a copy, one way is to use the built-in Dictionary method copy()"
   ]
  },
  {
   "cell_type": "code",
   "execution_count": 57,
   "id": "0df62b9d",
   "metadata": {},
   "outputs": [
    {
     "name": "stdout",
     "output_type": "stream",
     "text": [
      "{'brand': 'Ford', 'model': 'Mustang', 'year': 1964}\n"
     ]
    }
   ],
   "source": [
    "thisdict = {\n",
    "  \"brand\": \"Ford\",\n",
    "  \"model\": \"Mustang\",\n",
    "  \"year\": 1964\n",
    "}\n",
    "mydict = thisdict.copy()\n",
    "print(mydict)"
   ]
  },
  {
   "cell_type": "code",
   "execution_count": 58,
   "id": "1722c40f",
   "metadata": {},
   "outputs": [
    {
     "data": {
      "text/plain": [
       "{'brand': 'maruti', 'model': 'Mustang', 'year': 1964}"
      ]
     },
     "execution_count": 58,
     "metadata": {},
     "output_type": "execute_result"
    }
   ],
   "source": [
    "mydict[\"brand\"]=\"maruti\"\n",
    "mydict\n",
    "# changes will be made in the newly copied mydict dictionary"
   ]
  },
  {
   "cell_type": "code",
   "execution_count": 59,
   "id": "549e3582",
   "metadata": {},
   "outputs": [
    {
     "data": {
      "text/plain": [
       "{'brand': 'Ford', 'model': 'Mustang', 'year': 1964}"
      ]
     },
     "execution_count": 59,
     "metadata": {},
     "output_type": "execute_result"
    }
   ],
   "source": [
    "thisdict\n",
    "# no changes will be made in the original thisdict dictionary"
   ]
  },
  {
   "cell_type": "markdown",
   "id": "27d15101",
   "metadata": {},
   "source": [
    ">* Another way to make a copy is to use the built-in function dict()."
   ]
  },
  {
   "cell_type": "code",
   "execution_count": 60,
   "id": "25841ad2",
   "metadata": {},
   "outputs": [
    {
     "name": "stdout",
     "output_type": "stream",
     "text": [
      "{'brand': 'Ford', 'model': 'Mustang', 'year': 1964}\n"
     ]
    }
   ],
   "source": [
    "thisdict = {\n",
    "  \"brand\": \"Ford\",\n",
    "  \"model\": \"Mustang\",\n",
    "  \"year\": 1964\n",
    "}\n",
    "mydict = dict(thisdict)\n",
    "print(mydict)"
   ]
  }
 ],
 "metadata": {
  "kernelspec": {
   "display_name": "Python 3 (ipykernel)",
   "language": "python",
   "name": "python3"
  },
  "language_info": {
   "codemirror_mode": {
    "name": "ipython",
    "version": 3
   },
   "file_extension": ".py",
   "mimetype": "text/x-python",
   "name": "python",
   "nbconvert_exporter": "python",
   "pygments_lexer": "ipython3",
   "version": "3.9.13"
  }
 },
 "nbformat": 4,
 "nbformat_minor": 5
}
