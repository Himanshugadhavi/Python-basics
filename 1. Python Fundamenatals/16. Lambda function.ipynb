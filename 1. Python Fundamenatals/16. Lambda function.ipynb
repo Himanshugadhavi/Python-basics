{
 "cells": [
  {
   "cell_type": "markdown",
   "id": "5069052f",
   "metadata": {},
   "source": [
    "# Lambda function\n",
    "\n",
    "* A lambda function is a small/one line function.\n",
    "* It is also called anonymous function\n",
    "* use any where, you have a function definition that takes one argument,\n",
    "* Use lambda functions when an anonymous function is required for a short period of time.\n",
    "* A lambda function can take any number of arguments, but can only have one expression.\n",
    "\n",
    "\n",
    "![](lambda.jpg)"
   ]
  },
  {
   "cell_type": "code",
   "execution_count": 1,
   "id": "2a505efa",
   "metadata": {},
   "outputs": [],
   "source": [
    "# lambda input: \"expression\"\n",
    "# this is the form of writing the lambda function"
   ]
  },
  {
   "cell_type": "code",
   "execution_count": 2,
   "id": "2df4fcce",
   "metadata": {},
   "outputs": [
    {
     "data": {
      "text/plain": [
       "144"
      ]
     },
     "execution_count": 2,
     "metadata": {},
     "output_type": "execute_result"
    }
   ],
   "source": [
    "x = lambda x : x**2\n",
    "x(12)"
   ]
  },
  {
   "cell_type": "code",
   "execution_count": 3,
   "id": "079ef620",
   "metadata": {},
   "outputs": [
    {
     "data": {
      "text/plain": [
       "function"
      ]
     },
     "execution_count": 3,
     "metadata": {},
     "output_type": "execute_result"
    }
   ],
   "source": [
    "type(x)"
   ]
  },
  {
   "cell_type": "code",
   "execution_count": 4,
   "id": "618b3ee3",
   "metadata": {},
   "outputs": [
    {
     "data": {
      "text/plain": [
       "14"
      ]
     },
     "execution_count": 4,
     "metadata": {},
     "output_type": "execute_result"
    }
   ],
   "source": [
    "a=lambda x,y : x+y\n",
    "a(5,9)"
   ]
  },
  {
   "cell_type": "code",
   "execution_count": 5,
   "id": "c0e4150f",
   "metadata": {},
   "outputs": [
    {
     "data": {
      "text/plain": [
       "function"
      ]
     },
     "execution_count": 5,
     "metadata": {},
     "output_type": "execute_result"
    }
   ],
   "source": [
    "type(a)"
   ]
  },
  {
   "cell_type": "markdown",
   "id": "58e9228c",
   "metadata": {},
   "source": [
    "### Difference between the normal function and lambda function\n",
    "1. lambda has no return values like in normal function\n",
    "2. lambda will return the whole function instead of giving you a value\n",
    "3. lambda will be written in only one line \n",
    "4. normal functions are made for code reuseability where as lambda is nor for code reuseability\n",
    "5. lambda function will not have any type of name"
   ]
  },
  {
   "cell_type": "markdown",
   "id": "234d9322",
   "metadata": {},
   "source": [
    "### Why Use Lambda Functions?\n",
    "* we use lambda function with higher order functions\n",
    "* The power of lambda is better shown when you use them as an anonymous function inside another function.\n",
    "* Use lambda functions when an anonymous function is required for a short period of time."
   ]
  },
  {
   "cell_type": "code",
   "execution_count": 6,
   "id": "90461d51",
   "metadata": {},
   "outputs": [],
   "source": [
    "# creating a lambda function if the first alphabet of the word is a or not \n",
    "b=lambda x: x[0]=='a'\n",
    "# we will get the results in the boolean form"
   ]
  },
  {
   "cell_type": "code",
   "execution_count": 7,
   "id": "3bf4ab0c",
   "metadata": {},
   "outputs": [
    {
     "data": {
      "text/plain": [
       "False"
      ]
     },
     "execution_count": 7,
     "metadata": {},
     "output_type": "execute_result"
    }
   ],
   "source": [
    "b('Apple')"
   ]
  },
  {
   "cell_type": "code",
   "execution_count": 8,
   "id": "3a350bb5",
   "metadata": {},
   "outputs": [
    {
     "data": {
      "text/plain": [
       "True"
      ]
     },
     "execution_count": 8,
     "metadata": {},
     "output_type": "execute_result"
    }
   ],
   "source": [
    "b('apple')"
   ]
  },
  {
   "cell_type": "code",
   "execution_count": 9,
   "id": "d1caed39",
   "metadata": {
    "scrolled": true
   },
   "outputs": [
    {
     "data": {
      "text/plain": [
       "False"
      ]
     },
     "execution_count": 9,
     "metadata": {},
     "output_type": "execute_result"
    }
   ],
   "source": [
    "b('banana')"
   ]
  },
  {
   "cell_type": "code",
   "execution_count": 10,
   "id": "f2f2b5d5",
   "metadata": {},
   "outputs": [],
   "source": [
    "# we want to know if the given number is odd or even\n",
    "a=lambda x: \"Even\" if x%2==0 else\"Odd\"\n",
    "# we are expressing our whole logic in the single line"
   ]
  },
  {
   "cell_type": "code",
   "execution_count": 11,
   "id": "922681a3",
   "metadata": {},
   "outputs": [
    {
     "data": {
      "text/plain": [
       "'Odd'"
      ]
     },
     "execution_count": 11,
     "metadata": {},
     "output_type": "execute_result"
    }
   ],
   "source": [
    "a(9)"
   ]
  },
  {
   "cell_type": "code",
   "execution_count": 12,
   "id": "84975d82",
   "metadata": {},
   "outputs": [
    {
     "data": {
      "text/plain": [
       "'Even'"
      ]
     },
     "execution_count": 12,
     "metadata": {},
     "output_type": "execute_result"
    }
   ],
   "source": [
    "a(8)"
   ]
  },
  {
   "cell_type": "code",
   "execution_count": 13,
   "id": "d1cd4a95",
   "metadata": {},
   "outputs": [
    {
     "data": {
      "text/plain": [
       "16"
      ]
     },
     "execution_count": 13,
     "metadata": {},
     "output_type": "execute_result"
    }
   ],
   "source": [
    "n,p=2,4\n",
    "def test():\n",
    "    return n**p\n",
    "test()"
   ]
  },
  {
   "cell_type": "code",
   "execution_count": 14,
   "id": "9ab1eabf",
   "metadata": {},
   "outputs": [
    {
     "data": {
      "text/plain": [
       "<function __main__.<lambda>(n, p)>"
      ]
     },
     "execution_count": 14,
     "metadata": {},
     "output_type": "execute_result"
    }
   ],
   "source": [
    "# lambda function\n",
    "lambda n,p :n**p"
   ]
  },
  {
   "cell_type": "code",
   "execution_count": 15,
   "id": "873e90c6",
   "metadata": {},
   "outputs": [
    {
     "data": {
      "text/plain": [
       "16"
      ]
     },
     "execution_count": 15,
     "metadata": {},
     "output_type": "execute_result"
    }
   ],
   "source": [
    "a = lambda n,p :n**p\n",
    "a(n,p)"
   ]
  },
  {
   "cell_type": "code",
   "execution_count": 16,
   "id": "0502a1a3",
   "metadata": {},
   "outputs": [
    {
     "data": {
      "text/plain": [
       "13"
      ]
     },
     "execution_count": 16,
     "metadata": {},
     "output_type": "execute_result"
    }
   ],
   "source": [
    "#lambda can take any number of argument\n",
    "la = lambda a,b,c : a+b+c\n",
    "la(2,3,8)"
   ]
  },
  {
   "cell_type": "code",
   "execution_count": 17,
   "id": "c43b2cb2",
   "metadata": {},
   "outputs": [
    {
     "data": {
      "text/plain": [
       "9"
      ]
     },
     "execution_count": 17,
     "metadata": {},
     "output_type": "execute_result"
    }
   ],
   "source": [
    "# add tow numbers by using lambda function\n",
    "add = lambda x,y : x+y\n",
    "add(3,6)"
   ]
  },
  {
   "cell_type": "code",
   "execution_count": 18,
   "id": "56aa42c4",
   "metadata": {},
   "outputs": [
    {
     "data": {
      "text/plain": [
       "113.0"
      ]
     },
     "execution_count": 18,
     "metadata": {},
     "output_type": "execute_result"
    }
   ],
   "source": [
    "# find celsius from fahrenheit\n",
    "c_to_f = lambda c : (9/5)*c+32\n",
    "c_to_f(45)"
   ]
  },
  {
   "cell_type": "code",
   "execution_count": 19,
   "id": "d6fa7cd1",
   "metadata": {},
   "outputs": [
    {
     "data": {
      "text/plain": [
       "13"
      ]
     },
     "execution_count": 19,
     "metadata": {},
     "output_type": "execute_result"
    }
   ],
   "source": [
    "# find max form two numbers\n",
    "find_max = lambda x,y : x if x>y else y\n",
    "find_max(4,13)"
   ]
  },
  {
   "cell_type": "code",
   "execution_count": 20,
   "id": "3b5529bd",
   "metadata": {},
   "outputs": [
    {
     "data": {
      "text/plain": [
       "14"
      ]
     },
     "execution_count": 20,
     "metadata": {},
     "output_type": "execute_result"
    }
   ],
   "source": [
    "# find string length by using lambda function\n",
    "Str=\"this is string\"\n",
    "str_len = lambda Str : len(Str)\n",
    "str_len(Str)"
   ]
  },
  {
   "cell_type": "markdown",
   "id": "b88869f3",
   "metadata": {},
   "source": [
    "### Higher order functions\n",
    "* A function is called Higher Order Function if it contains other functions as a parameter or returns a function as an output i.e, the functions that operate with another function are known as Higher order Functions.\n",
    "\n",
    "### Properties of higher-order functions:\n",
    "\n",
    "* A function is an instance of the Object type.\n",
    "* You can store the function in a variable.\n",
    "* You can pass the function as a parameter to another function.\n",
    "* You can return the function from a function.\n",
    "* You can store them in data structures such as hash tables, lists, …"
   ]
  },
  {
   "cell_type": "code",
   "execution_count": 21,
   "id": "1300f5e7",
   "metadata": {},
   "outputs": [
    {
     "data": {
      "text/plain": [
       "[11, 14, 21, 23, 56, 78, 45, 29, 28]"
      ]
     },
     "execution_count": 21,
     "metadata": {},
     "output_type": "execute_result"
    }
   ],
   "source": [
    "# creating a list\n",
    "L=[11,14,21,23,56,78,45,29,28]\n",
    "L"
   ]
  },
  {
   "cell_type": "code",
   "execution_count": 22,
   "id": "75a6b00a",
   "metadata": {},
   "outputs": [
    {
     "data": {
      "text/plain": [
       "'we want to make one function such that when we pass \\nthe above list it will return the three output'"
      ]
     },
     "execution_count": 22,
     "metadata": {},
     "output_type": "execute_result"
    }
   ],
   "source": [
    "'''we want to make one function such that when we pass \n",
    "the above list it will return the three output'''\n",
    "\n",
    "# first output = we want sum of all the even numbers inside the list L\n",
    "# second output = we want output of all odd number\n",
    "# third output = we want sum of numbers which are devisible by 3"
   ]
  },
  {
   "cell_type": "code",
   "execution_count": 23,
   "id": "caab4b7c",
   "metadata": {},
   "outputs": [],
   "source": [
    "# our normal code would be like this\n",
    "def return_sum(L):\n",
    "    even_sum=0 # initial sum of even numbers\n",
    "    odd_sum=0\n",
    "    div3_sum=0\n",
    "    \n",
    "    # now we will run a loop on the list L\n",
    "    for i in L:\n",
    "        if i%2==0:\n",
    "            even_sum=even_sum+i\n",
    "        if i%2!=0:\n",
    "            odd_sum=odd_sum+i\n",
    "        if i%3==0:\n",
    "            div3_sum=div3_sum+i\n",
    "    return(even_sum,odd_sum,div3_sum)"
   ]
  },
  {
   "cell_type": "code",
   "execution_count": 24,
   "id": "2afac244",
   "metadata": {},
   "outputs": [
    {
     "data": {
      "text/plain": [
       "(176, 129, 144)"
      ]
     },
     "execution_count": 24,
     "metadata": {},
     "output_type": "execute_result"
    }
   ],
   "source": [
    "return_sum(L)\n",
    "# we are getting the answer but we can still improve the logic\n",
    "# so we will improve this normal function to higher order function"
   ]
  },
  {
   "cell_type": "code",
   "execution_count": 25,
   "id": "ffbc6c77",
   "metadata": {},
   "outputs": [],
   "source": [
    "def return_sum(func,L):\n",
    "    result=0\n",
    "    \n",
    "    for i in L:\n",
    "        if func(i):\n",
    "            result=result+i\n",
    "    return result"
   ]
  },
  {
   "cell_type": "code",
   "execution_count": 26,
   "id": "21250efe",
   "metadata": {},
   "outputs": [
    {
     "name": "stdout",
     "output_type": "stream",
     "text": [
      "176\n",
      "129\n",
      "144\n"
     ]
    }
   ],
   "source": [
    "# here x,y and z are values one by one inside the list L\n",
    "\n",
    "x=lambda x:x%2==0\n",
    "y=lambda y:y%2!=0\n",
    "z=lambda z:z%3==0\n",
    "print(return_sum(x,L))\n",
    "print(return_sum(y,L))\n",
    "print(return_sum(z,L))"
   ]
  },
  {
   "cell_type": "code",
   "execution_count": 27,
   "id": "80876ac5",
   "metadata": {},
   "outputs": [
    {
     "name": "stdout",
     "output_type": "stream",
     "text": [
      "hello\n",
      "hello\n"
     ]
    },
    {
     "data": {
      "text/plain": [
       "'In the above example, a function object referenced \\nby shout and creates a second name pointing to it, yell.'"
      ]
     },
     "execution_count": 27,
     "metadata": {},
     "output_type": "execute_result"
    }
   ],
   "source": [
    "# Python program to illustrate functions \n",
    "# can be treated as objects \n",
    "def shout(text): \n",
    "    return text.lower() \n",
    "    \n",
    "print(shout('HELLO')) \n",
    "    \n",
    "# Assigning function to a variable\n",
    "yell = shout \n",
    "    \n",
    "print(yell('HELLO'))\n",
    "'''In the above example, a function object referenced \n",
    "by shout and creates a second name pointing to it, yell.'''"
   ]
  },
  {
   "cell_type": "code",
   "execution_count": 28,
   "id": "f1ed3981",
   "metadata": {},
   "outputs": [],
   "source": [
    "'''Say you have a function definition that takes one argument, \n",
    "and that argument will be multiplied with an unknown number:'''\n",
    "\n",
    "def myfunc(n):\n",
    "    return lambda a : a * n"
   ]
  },
  {
   "cell_type": "code",
   "execution_count": 29,
   "id": "1707a82e",
   "metadata": {},
   "outputs": [
    {
     "name": "stdout",
     "output_type": "stream",
     "text": [
      "22\n"
     ]
    }
   ],
   "source": [
    "'''Use that function definition to make a function \n",
    "that always doubles the number you send in:''' \n",
    "\n",
    "def myfunc(n):\n",
    "    return lambda a : a * n\n",
    "\n",
    "mydoubler = myfunc(2)\n",
    "\n",
    "print(mydoubler(11))"
   ]
  },
  {
   "cell_type": "code",
   "execution_count": 30,
   "id": "9eed01b3",
   "metadata": {},
   "outputs": [
    {
     "name": "stdout",
     "output_type": "stream",
     "text": [
      "33\n"
     ]
    }
   ],
   "source": [
    "'''Or, use the same function definition to make a \n",
    "function that always triples the number you send in:'''\n",
    "\n",
    "def myfunc(n):\n",
    "    return lambda a : a * n\n",
    "\n",
    "mytripler = myfunc(3)\n",
    "\n",
    "print(mytripler(11))"
   ]
  },
  {
   "cell_type": "markdown",
   "id": "101c4fc0",
   "metadata": {},
   "source": [
    "## we will look at some higher order functions of python\n",
    "1. Map\n",
    "2. Filter\n",
    "3. Reduce"
   ]
  },
  {
   "cell_type": "markdown",
   "id": "ef95466b",
   "metadata": {},
   "source": [
    "## 1. Map\n",
    "* The map() function executes a specified function for each item in an iterable(i.e, List, Tuple, Set etc). The item is sent to the function as a parameter.\n",
    "* map will work on every item of the given iterables\n",
    "### Syntax\n",
    "* map(function, iterables)\n",
    "    * Parameter - Description\n",
    "    * function  -  Required. The function to execute for each item\n",
    "    * iterable  -  Required. A sequence, collection or an iterator object. You can send as many iterables as you like, just make sure the function has one parameter for each iterable."
   ]
  },
  {
   "cell_type": "code",
   "execution_count": 31,
   "id": "4f11106c",
   "metadata": {},
   "outputs": [
    {
     "name": "stdout",
     "output_type": "stream",
     "text": [
      "<map object at 0x000001C29342CEE0>\n"
     ]
    }
   ],
   "source": [
    "# Make new fruits by sending two iterable objects into the function:\n",
    "\n",
    "def myfunc(a, b):\n",
    "    return a + b\n",
    "x = map(myfunc, ('apple', 'banana', 'cherry'),\n",
    "        ('orange', 'lemon', 'pineapple'))\n",
    "\n",
    "print(x)\n",
    "# it will return the output as a map object which we can not see \n",
    "# so in the below cell we will do the type conversion into the list"
   ]
  },
  {
   "cell_type": "code",
   "execution_count": 32,
   "id": "8c91fd1a",
   "metadata": {},
   "outputs": [
    {
     "name": "stdout",
     "output_type": "stream",
     "text": [
      "['appleorange', 'bananalemon', 'cherrypineapple']\n"
     ]
    }
   ],
   "source": [
    "#convert the map into a list, for readability:\n",
    "print(list(x))"
   ]
  },
  {
   "cell_type": "code",
   "execution_count": 33,
   "id": "69b0bb77",
   "metadata": {},
   "outputs": [
    {
     "data": {
      "text/plain": [
       "[1, 2, 3, 4, 5, 6, 7]"
      ]
     },
     "execution_count": 33,
     "metadata": {},
     "output_type": "execute_result"
    }
   ],
   "source": [
    "L=[1,2,3,4,5,6,7]\n",
    "L"
   ]
  },
  {
   "cell_type": "code",
   "execution_count": 34,
   "id": "88aaae20",
   "metadata": {},
   "outputs": [
    {
     "data": {
      "text/plain": [
       "<map at 0x1c293423100>"
      ]
     },
     "execution_count": 34,
     "metadata": {},
     "output_type": "execute_result"
    }
   ],
   "source": [
    "map(lambda x:x*2,L)"
   ]
  },
  {
   "cell_type": "code",
   "execution_count": 35,
   "id": "96dbd494",
   "metadata": {},
   "outputs": [
    {
     "data": {
      "text/plain": [
       "[2, 4, 6, 8, 10, 12, 14]"
      ]
     },
     "execution_count": 35,
     "metadata": {},
     "output_type": "execute_result"
    }
   ],
   "source": [
    "list(map(lambda x:x*2,L))"
   ]
  },
  {
   "cell_type": "code",
   "execution_count": 36,
   "id": "68dead7a",
   "metadata": {},
   "outputs": [
    {
     "data": {
      "text/plain": [
       "[2, 4, 6, 8, 10, 12, 14]"
      ]
     },
     "execution_count": 36,
     "metadata": {},
     "output_type": "execute_result"
    }
   ],
   "source": [
    "# we can store that map into a variable and then convert the variable\n",
    "a=map(lambda x:x*2,L)\n",
    "list(a)"
   ]
  },
  {
   "cell_type": "code",
   "execution_count": 37,
   "id": "8f265dbb",
   "metadata": {
    "scrolled": true
   },
   "outputs": [
    {
     "data": {
      "text/plain": [
       "[False, True, False, True, False, True, False]"
      ]
     },
     "execution_count": 37,
     "metadata": {},
     "output_type": "execute_result"
    }
   ],
   "source": [
    "list(map(lambda x:x%2==0,L))"
   ]
  },
  {
   "cell_type": "code",
   "execution_count": 38,
   "id": "3e7a6713",
   "metadata": {},
   "outputs": [
    {
     "data": {
      "text/plain": [
       "['odd', 'even', 'odd', 'even', 'odd', 'even', 'odd']"
      ]
     },
     "execution_count": 38,
     "metadata": {},
     "output_type": "execute_result"
    }
   ],
   "source": [
    "list(map(lambda x: \"even\" if x%2==0 else \"odd\",L))"
   ]
  },
  {
   "cell_type": "code",
   "execution_count": 39,
   "id": "66aa7b27",
   "metadata": {},
   "outputs": [
    {
     "data": {
      "text/plain": [
       "['Rahul', 'Nitish', 'Disha']"
      ]
     },
     "execution_count": 39,
     "metadata": {},
     "output_type": "execute_result"
    }
   ],
   "source": [
    "# fetch names from a list of dict\n",
    "\n",
    "users = [\n",
    "    {\n",
    "        'name':'Rahul',\n",
    "        'age':45,\n",
    "        'gender':'male'\n",
    "    },\n",
    "    {\n",
    "        'name':'Nitish',\n",
    "        'age':33,\n",
    "        'gender':'male'\n",
    "    },\n",
    "    {\n",
    "        'name':'Disha',\n",
    "        'age':50,\n",
    "        'gender':'female'\n",
    "    }\n",
    "]\n",
    "\n",
    "list(map(lambda users:users['name'],users))"
   ]
  },
  {
   "cell_type": "markdown",
   "id": "4a1ed33d",
   "metadata": {},
   "source": [
    "## 2. Filter\n",
    "* The filter() function returns an iterator were the items are filtered through a function to test if the item is accepted or not.\n",
    "* filter function will work only on filtrate conditions\n",
    "### Syntax\n",
    "    filter(function, iterable)\n",
    "        Parameter |\tDescription\n",
    "        function  -\tA Function to be run for each item in the iterable\n",
    "        iterable  -\tThe iterable to be filtered"
   ]
  },
  {
   "cell_type": "code",
   "execution_count": 40,
   "id": "15fcb6e6",
   "metadata": {},
   "outputs": [
    {
     "data": {
      "text/plain": [
       "[1, 2, 3, 4, 5, 6, 7]"
      ]
     },
     "execution_count": 40,
     "metadata": {},
     "output_type": "execute_result"
    }
   ],
   "source": [
    "L = [1, 2, 3, 4, 5, 6, 7]\n",
    "L"
   ]
  },
  {
   "cell_type": "code",
   "execution_count": 41,
   "id": "04d79a9a",
   "metadata": {},
   "outputs": [
    {
     "name": "stdout",
     "output_type": "stream",
     "text": [
      "<filter object at 0x000001C29341AE80>\n"
     ]
    },
    {
     "data": {
      "text/plain": [
       "[5, 6, 7]"
      ]
     },
     "execution_count": 41,
     "metadata": {},
     "output_type": "execute_result"
    }
   ],
   "source": [
    "a=filter(lambda x:x>4,L)\n",
    "print(filter(a,L)) \n",
    "\n",
    "# this line will give us the filter object which we can not see\n",
    "# so we will convert it in to list form\n",
    "list(a)"
   ]
  },
  {
   "cell_type": "code",
   "execution_count": 42,
   "id": "fb0ca1d5",
   "metadata": {},
   "outputs": [
    {
     "data": {
      "text/plain": [
       "['apple', 'orange']"
      ]
     },
     "execution_count": 42,
     "metadata": {},
     "output_type": "execute_result"
    }
   ],
   "source": [
    "# we want fruit names which contains the charecter e\n",
    "fruit=['apple','orange','mango','guava']\n",
    "list(filter(lambda fruit: 'e' in fruit,fruit))"
   ]
  },
  {
   "cell_type": "code",
   "execution_count": 43,
   "id": "e297eac5",
   "metadata": {},
   "outputs": [
    {
     "name": "stdout",
     "output_type": "stream",
     "text": [
      "18\n",
      "24\n",
      "32\n"
     ]
    }
   ],
   "source": [
    "# Filter the list, and return a new list \n",
    "# with only the values equal to or above 18:\n",
    "ages = [5, 12, 17, 18, 24, 32]\n",
    "\n",
    "def myFunc(i):\n",
    "    if i < 18:\n",
    "        return False\n",
    "    else:\n",
    "        return True\n",
    "\n",
    "adults = filter(myFunc, ages)\n",
    "\n",
    "for i in adults:\n",
    "    print(i)"
   ]
  },
  {
   "cell_type": "markdown",
   "id": "d680bd91",
   "metadata": {},
   "source": [
    "##  3. Reduce\n",
    "* The reduce(fun,seq) function is used to apply a particular function passed in its argument to all of the list elements mentioned in the sequence passed along.This function is defined in “functools” module.\n",
    "\n",
    "    #### Working :  \n",
    "\n",
    "    * At first step, first two elements of sequence are picked and the result is obtained.\n",
    "    * Next step is to apply the same function to the previously attained result and the number just succeeding the second element and the result is again stored.\n",
    "    * This process continues till no more elements are left in the container.\n",
    "    * The final returned result is returned and printed on console."
   ]
  },
  {
   "cell_type": "code",
   "execution_count": 44,
   "id": "1699ca3d",
   "metadata": {},
   "outputs": [
    {
     "name": "stdout",
     "output_type": "stream",
     "text": [
      "The sum of the list elements is : 17\n"
     ]
    }
   ],
   "source": [
    "# python code to demonstrate working of reduce()\n",
    "# we have to import the functool module first\n",
    "\n",
    "# importing functools for reduce()\n",
    "import functools\n",
    " \n",
    "# initializing list\n",
    "list = [1, 3, 5, 6, 2]\n",
    " \n",
    "# using reduce to compute sum of list\n",
    "print(\"The sum of the list elements is : \", end=\"\")\n",
    "print(functools.reduce(lambda a,b : a+b, list))"
   ]
  },
  {
   "cell_type": "code",
   "execution_count": 45,
   "id": "40ba5eca",
   "metadata": {},
   "outputs": [
    {
     "name": "stdout",
     "output_type": "stream",
     "text": [
      "The maximum element of the list is : 6\n"
     ]
    }
   ],
   "source": [
    "# using reduce to compute maximum element from list\n",
    "print(\"The maximum element of the list is : \", end=\"\")\n",
    "print(functools.reduce(lambda a, b: a if a > b else b, list))"
   ]
  },
  {
   "cell_type": "code",
   "execution_count": 46,
   "id": "bf83e317",
   "metadata": {},
   "outputs": [
    {
     "data": {
      "text/plain": [
       "[12, 34, 56, 11, 21, 58]"
      ]
     },
     "execution_count": 46,
     "metadata": {},
     "output_type": "execute_result"
    }
   ],
   "source": [
    "L1=[12,34,56,11,21,58]\n",
    "L1"
   ]
  },
  {
   "cell_type": "code",
   "execution_count": 47,
   "id": "85edc1d8",
   "metadata": {},
   "outputs": [
    {
     "data": {
      "text/plain": [
       "58"
      ]
     },
     "execution_count": 47,
     "metadata": {},
     "output_type": "execute_result"
    }
   ],
   "source": [
    "functools.reduce(lambda x,y: x if x>y else y, L1)\n",
    "# taking out the max value"
   ]
  },
  {
   "cell_type": "code",
   "execution_count": 48,
   "id": "75717b27",
   "metadata": {},
   "outputs": [
    {
     "data": {
      "text/plain": [
       "11"
      ]
     },
     "execution_count": 48,
     "metadata": {},
     "output_type": "execute_result"
    }
   ],
   "source": [
    "functools.reduce(lambda x,y: x if x<y else y, L1)\n",
    "# taking out the minimum value"
   ]
  },
  {
   "cell_type": "markdown",
   "id": "0d3ecb63",
   "metadata": {},
   "source": [
    "### List Comprehensions\n",
    "* List comprehension offers a shorter syntax when you want to create a new list based on the values of an existing list."
   ]
  },
  {
   "cell_type": "code",
   "execution_count": 49,
   "id": "facdf52c",
   "metadata": {},
   "outputs": [
    {
     "data": {
      "text/plain": [
       "[1, 2, 3, 4, 5, 6, 7]"
      ]
     },
     "execution_count": 49,
     "metadata": {},
     "output_type": "execute_result"
    }
   ],
   "source": [
    "L=[1,2,3,4,5,6,7]\n",
    "L"
   ]
  },
  {
   "cell_type": "code",
   "execution_count": 50,
   "id": "02421665",
   "metadata": {},
   "outputs": [
    {
     "data": {
      "text/plain": [
       "[2, 4, 6, 8, 10, 12, 14]"
      ]
     },
     "execution_count": 50,
     "metadata": {},
     "output_type": "execute_result"
    }
   ],
   "source": [
    "L1=[ x*2 for x in L]\n",
    "L1"
   ]
  },
  {
   "cell_type": "code",
   "execution_count": 51,
   "id": "cfb9832a",
   "metadata": {},
   "outputs": [
    {
     "data": {
      "text/plain": [
       "[0, 1, 4, 9, 16, 25, 36, 49, 64, 81]"
      ]
     },
     "execution_count": 51,
     "metadata": {},
     "output_type": "execute_result"
    }
   ],
   "source": [
    "# we want list with numbers which are \n",
    "# square of the numbers in range upto 10\n",
    "L2=[i**2 for i in range(10)]\n",
    "L2"
   ]
  },
  {
   "cell_type": "code",
   "execution_count": 52,
   "id": "c263a936",
   "metadata": {},
   "outputs": [
    {
     "data": {
      "text/plain": [
       "[1, 9, 25, 49, 81]"
      ]
     },
     "execution_count": 52,
     "metadata": {},
     "output_type": "execute_result"
    }
   ],
   "source": [
    "# we want square of odd numbers\n",
    "L3=[i**2 for i in range(10) if i%2!=0]\n",
    "L3"
   ]
  },
  {
   "cell_type": "code",
   "execution_count": 53,
   "id": "cee143f3",
   "metadata": {},
   "outputs": [
    {
     "ename": "IndentationError",
     "evalue": "expected an indented block (2678920804.py, line 10)",
     "output_type": "error",
     "traceback": [
      "\u001b[1;36m  File \u001b[1;32m\"C:\\Users\\gadha\\AppData\\Local\\Temp\\ipykernel_9896\\2678920804.py\"\u001b[1;36m, line \u001b[1;32m10\u001b[0m\n\u001b[1;33m    newlist.append(x)\u001b[0m\n\u001b[1;37m    ^\u001b[0m\n\u001b[1;31mIndentationError\u001b[0m\u001b[1;31m:\u001b[0m expected an indented block\n"
     ]
    }
   ],
   "source": [
    "# Based on a list of fruits, you want a new list, \n",
    "# containing only the fruits with the letter \"a\" in the name.\n",
    "# Without list comprehension you will have to write \n",
    "# a for statement with a conditional test inside:\n",
    "fruits = [\"apple\", \"banana\", \"cherry\", \"kiwi\", \"mango\"]\n",
    "newlist = []\n",
    "\n",
    "for x in fruits:\n",
    "    if \"a\" in x:\n",
    "    newlist.append(x)\n",
    "\n",
    "print(newlist)"
   ]
  },
  {
   "cell_type": "code",
   "execution_count": 54,
   "id": "4f34871f",
   "metadata": {},
   "outputs": [
    {
     "name": "stdout",
     "output_type": "stream",
     "text": [
      "['apple', 'banana', 'mango']\n"
     ]
    }
   ],
   "source": [
    "fruits = [\"apple\", \"banana\", \"cherry\", \"kiwi\", \"mango\"]\n",
    "\n",
    "newlist = [x for x in fruits if \"a\" in x]\n",
    "\n",
    "print(newlist)"
   ]
  },
  {
   "cell_type": "code",
   "execution_count": 55,
   "id": "c0463acd",
   "metadata": {},
   "outputs": [
    {
     "data": {
      "text/plain": [
       "['banana']"
      ]
     },
     "execution_count": 55,
     "metadata": {},
     "output_type": "execute_result"
    }
   ],
   "source": [
    "fruits = [\"apple\", \"banana\", \"cherry\", \"kiwi\", \"mango\"]\n",
    "L4=[fruit for fruit in fruits if fruit[-1]=='a']\n",
    "L4"
   ]
  },
  {
   "cell_type": "markdown",
   "id": "f8df2402",
   "metadata": {},
   "source": [
    "### Dictionary comprehensions\n",
    "* Like List Comprehension, Python allows dictionary comprehensions. We can create dictionaries using simple expressions. A dictionary comprehension takes the form {key: value for (key, value) in iterable}"
   ]
  },
  {
   "cell_type": "code",
   "execution_count": 56,
   "id": "6b71d6b7",
   "metadata": {},
   "outputs": [
    {
     "data": {
      "text/plain": [
       "dict_items([('name', 'himanshu'), ('gender', 'male'), ('age', 23)])"
      ]
     },
     "execution_count": 56,
     "metadata": {},
     "output_type": "execute_result"
    }
   ],
   "source": [
    "D={\"name\":\"himanshu\",\"gender\":\"male\",\"age\":23}\n",
    "D.items() \n",
    "# this will give dictionary items in the tuple form stored in the list"
   ]
  },
  {
   "cell_type": "code",
   "execution_count": 57,
   "id": "7dca5878",
   "metadata": {},
   "outputs": [
    {
     "data": {
      "text/plain": [
       "{'name': 'himanshu', 'gender': 'male'}"
      ]
     },
     "execution_count": 57,
     "metadata": {},
     "output_type": "execute_result"
    }
   ],
   "source": [
    "D1={key:value for key,value in D.items() if len(key)>3}\n",
    "D1"
   ]
  },
  {
   "cell_type": "code",
   "execution_count": 58,
   "id": "c81e460b",
   "metadata": {},
   "outputs": [
    {
     "data": {
      "text/plain": [
       "{'a': 1, 'b': 2, 'c': 3, 'd': 4, 'e': 5}"
      ]
     },
     "execution_count": 58,
     "metadata": {},
     "output_type": "execute_result"
    }
   ],
   "source": [
    "# Python code to demonstrate dictionary comprehension\n",
    " \n",
    "# Lists to represent keys and values\n",
    "keys = ['a','b','c','d','e']\n",
    "values = [1,2,3,4,5] \n",
    " \n",
    "# but this line shows dict comprehension here \n",
    "myDict = { k:v for (k,v) in zip(keys, values)} \n",
    "myDict"
   ]
  },
  {
   "cell_type": "code",
   "execution_count": 59,
   "id": "ffb0707c",
   "metadata": {},
   "outputs": [
    {
     "name": "stdout",
     "output_type": "stream",
     "text": [
      "{'a': 1, 'b': 2, 'c': 3, 'd': 4, 'e': 5}\n"
     ]
    }
   ],
   "source": [
    "# We can use below too\n",
    "myDict = dict(zip(keys, values)) \n",
    " \n",
    "print (myDict)"
   ]
  },
  {
   "cell_type": "code",
   "execution_count": 60,
   "id": "b3d4ec87",
   "metadata": {},
   "outputs": [
    {
     "name": "stdout",
     "output_type": "stream",
     "text": [
      "{1: 1, 2: 4, 3: 9, 4: 16, 5: 25}\n"
     ]
    }
   ],
   "source": [
    "# Using dictionary comprehension make dictionary\n",
    "\n",
    "L=[1,2,3,4,5]\n",
    "\n",
    "# Python code to demonstrate dictionary\n",
    "# creation using list comprehension\n",
    "\n",
    "myDict = {item: item**2 for item in L }\n",
    "print (myDict)"
   ]
  },
  {
   "cell_type": "code",
   "execution_count": 61,
   "id": "08ca6f10",
   "metadata": {},
   "outputs": [
    {
     "name": "stdout",
     "output_type": "stream",
     "text": [
      "{'C': 'ccc', 'O': 'ooo', 'D': 'ddd', 'I': 'iii', 'N': 'nnn', 'G': 'ggg'}\n"
     ]
    }
   ],
   "source": [
    "a='coding'\n",
    "sDict = {character.upper(): character*3 for character in a}\n",
    "print (sDict)"
   ]
  },
  {
   "cell_type": "code",
   "execution_count": 62,
   "id": "bdb52970",
   "metadata": {},
   "outputs": [
    {
     "name": "stdout",
     "output_type": "stream",
     "text": [
      "{0: 0, 1: 1, 2: 8, 3: 27, 4: 64, 5: 125, 6: 216, 7: 343, 8: 512, 9: 729}\n",
      "{0: 0, 2: 8, 4: 64, 6: 216, 8: 512}\n"
     ]
    }
   ],
   "source": [
    "# Using conditional statements in dictionary comprehension\n",
    "\n",
    "# This example below maps the numbers \n",
    "# to their cubes that are not divisible by 4.\n",
    "# normal syntax without use of if\n",
    "\n",
    "newdict1 = {item: item**3 for item in range(10) }\n",
    "print(newdict1)\n",
    "\n",
    "# comprehension using if\n",
    "newdict = {item: item**3 for item in range(10)  if item**3 % 4 == 0}\n",
    "print(newdict)"
   ]
  }
 ],
 "metadata": {
  "kernelspec": {
   "display_name": "Python 3 (ipykernel)",
   "language": "python",
   "name": "python3"
  },
  "language_info": {
   "codemirror_mode": {
    "name": "ipython",
    "version": 3
   },
   "file_extension": ".py",
   "mimetype": "text/x-python",
   "name": "python",
   "nbconvert_exporter": "python",
   "pygments_lexer": "ipython3",
   "version": "3.9.13"
  }
 },
 "nbformat": 4,
 "nbformat_minor": 5
}
