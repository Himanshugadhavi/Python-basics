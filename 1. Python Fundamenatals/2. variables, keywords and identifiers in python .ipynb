{
 "cells": [
  {
   "cell_type": "markdown",
   "id": "9d9956f0",
   "metadata": {},
   "source": [
    "\n",
    "# Variables in python\n",
    "* variables are container for storing the data values\n",
    "* Python has no command for declaring a variable. A variable is created the moment you first assign a value to it.\n",
    "* = is used to assign a value to the variable"
   ]
  },
  {
   "cell_type": "code",
   "execution_count": 2,
   "id": "6940e74e",
   "metadata": {},
   "outputs": [
    {
     "name": "stdout",
     "output_type": "stream",
     "text": [
      "himanshu\n"
     ]
    }
   ],
   "source": [
    "name='himanshu'\n",
    "print(name)"
   ]
  },
  {
   "cell_type": "markdown",
   "id": "5c0948ea",
   "metadata": {},
   "source": [
    ">* in python we don't have to define the type of variable because python it self knows the data type of the variable which is known as **\"Dynamic typing\"**\n",
    ">* c, c++, java supports **\"static typing\"** where we have to declare the data type that we are storing in the variable"
   ]
  },
  {
   "cell_type": "code",
   "execution_count": 3,
   "id": "45631a90",
   "metadata": {},
   "outputs": [
    {
     "name": "stdout",
     "output_type": "stream",
     "text": [
      "Sally\n"
     ]
    }
   ],
   "source": [
    "x = 4       # x is of type int\n",
    "x = \"Sally\" # x is now of type str\n",
    "print(x)"
   ]
  },
  {
   "cell_type": "markdown",
   "id": "8bf3262a",
   "metadata": {},
   "source": [
    ">* here in above code line we can see that it changes the form of the data type for given same variable this is called as **\"Dynamic bindind\"**\n",
    ">* c, c++, java supports **\"static binding\"** where it will not allow to change the data type of the particular variable"
   ]
  },
  {
   "cell_type": "code",
   "execution_count": 4,
   "id": "faeea5ad",
   "metadata": {},
   "outputs": [
    {
     "name": "stdout",
     "output_type": "stream",
     "text": [
      "himanshu\n"
     ]
    },
    {
     "data": {
      "text/plain": [
       "str"
      ]
     },
     "execution_count": 4,
     "metadata": {},
     "output_type": "execute_result"
    }
   ],
   "source": [
    "name='himanshu'\n",
    "print(name)\n",
    "type(name)"
   ]
  },
  {
   "cell_type": "code",
   "execution_count": 5,
   "id": "a49add95",
   "metadata": {},
   "outputs": [
    {
     "name": "stdout",
     "output_type": "stream",
     "text": [
      "4\n"
     ]
    },
    {
     "data": {
      "text/plain": [
       "int"
      ]
     },
     "execution_count": 5,
     "metadata": {},
     "output_type": "execute_result"
    }
   ],
   "source": [
    "name=4\n",
    "print(name)\n",
    "type(name)"
   ]
  },
  {
   "cell_type": "markdown",
   "id": "98221e4e",
   "metadata": {},
   "source": [
    "* Variable names are case-sensitive."
   ]
  },
  {
   "cell_type": "code",
   "execution_count": 6,
   "id": "f3f1d1d2",
   "metadata": {},
   "outputs": [
    {
     "name": "stdout",
     "output_type": "stream",
     "text": [
      "4\n",
      "Sally\n"
     ]
    }
   ],
   "source": [
    "a = 4\n",
    "A = \"Sally\"\n",
    "#A will not overwrite a\n",
    "print(a)\n",
    "print(A)"
   ]
  },
  {
   "cell_type": "markdown",
   "id": "8088364f",
   "metadata": {},
   "source": [
    "## Variable Names\n",
    "* A variable can have a short name (like x and y) or a more descriptive name (age, carname, total_volume). Rules for Python variables:\n",
    "    >* A variable name must start with a letter or the underscore character\n",
    "    >* A variable name cannot start with a number\n",
    "    >* A variable name can only contain alpha-numeric characters and underscores (A-z, 0-9, and _ )\n",
    "    >* Variable names are case-sensitive (age, Age and AGE are three different variables)"
   ]
  },
  {
   "cell_type": "code",
   "execution_count": 7,
   "id": "8027d81e",
   "metadata": {},
   "outputs": [],
   "source": [
    "# Legal variable names:\n",
    "myvar = \"John\"\n",
    "my_var = \"John\"\n",
    "_my_var = \"John\"\n",
    "myVar = \"John\"\n",
    "MYVAR = \"John\"\n",
    "myvar2 = \"John\""
   ]
  },
  {
   "cell_type": "code",
   "execution_count": 8,
   "id": "6b34bfa7",
   "metadata": {},
   "outputs": [
    {
     "ename": "SyntaxError",
     "evalue": "invalid syntax (1350214769.py, line 2)",
     "output_type": "error",
     "traceback": [
      "\u001b[1;36m  File \u001b[1;32m\"C:\\Users\\gadha\\AppData\\Local\\Temp\\ipykernel_6880\\1350214769.py\"\u001b[1;36m, line \u001b[1;32m2\u001b[0m\n\u001b[1;33m    2myvar = \"John\"\u001b[0m\n\u001b[1;37m     ^\u001b[0m\n\u001b[1;31mSyntaxError\u001b[0m\u001b[1;31m:\u001b[0m invalid syntax\n"
     ]
    }
   ],
   "source": [
    "# Illegal variable names:\n",
    "2myvar = \"John\"\n",
    "my-var = \"John\"\n",
    "my var = \"John\""
   ]
  },
  {
   "cell_type": "code",
   "execution_count": 9,
   "id": "a74acc55",
   "metadata": {},
   "outputs": [],
   "source": [
    "# Multi Words Variable Names\n",
    "# Variable names with more than one word can be difficult to read.\n",
    "\n",
    "# There are several techniques you can use to make them more readable:\n",
    "\n",
    "#   1.Camel Case\n",
    "#   Each word, except the first, starts with a capital letter:\n",
    "\n",
    "myVariableName = \"John\"\n",
    "\n",
    "#   2.Pascal Case\n",
    "#   Each word starts with a capital letter:\n",
    "\n",
    "MyVariableName = \"John\"\n",
    "\n",
    "#   3.Snake Case\n",
    "#   Each word is separated by an underscore character:\n",
    "\n",
    "my_variable_name = \"John\" # famously used in the data science field"
   ]
  },
  {
   "cell_type": "markdown",
   "id": "aeb0c970",
   "metadata": {},
   "source": [
    "# special syntax"
   ]
  },
  {
   "cell_type": "code",
   "execution_count": 10,
   "id": "42d3aa2b",
   "metadata": {},
   "outputs": [
    {
     "name": "stdout",
     "output_type": "stream",
     "text": [
      "5\n",
      "6\n",
      "7\n"
     ]
    }
   ],
   "source": [
    "a=5;b=6;c=7\n",
    "print(a)\n",
    "print(b)\n",
    "print(c) "
   ]
  },
  {
   "cell_type": "markdown",
   "id": "d6d1ca4a",
   "metadata": {},
   "source": [
    "### Many Values to Multiple Variables\n",
    "* Python allows you to assign values to multiple variables in one line:"
   ]
  },
  {
   "cell_type": "code",
   "execution_count": 11,
   "id": "c59c7e9a",
   "metadata": {},
   "outputs": [
    {
     "name": "stdout",
     "output_type": "stream",
     "text": [
      "Orange\n",
      "Banana\n",
      "Cherry\n"
     ]
    }
   ],
   "source": [
    "x, y, z = \"Orange\", \"Banana\", \"Cherry\"\n",
    "print(x)\n",
    "print(y)\n",
    "print(z)"
   ]
  },
  {
   "cell_type": "code",
   "execution_count": 15,
   "id": "a38e6246",
   "metadata": {},
   "outputs": [
    {
     "name": "stdout",
     "output_type": "stream",
     "text": [
      "4\n",
      "5\n",
      "6\n"
     ]
    }
   ],
   "source": [
    "a,b,c=4,5,6\n",
    "print(a)\n",
    "print(b)\n",
    "print(c)"
   ]
  },
  {
   "cell_type": "markdown",
   "id": "a529d762",
   "metadata": {},
   "source": [
    "* In the print() function, you output multiple variables, separated by a comma:"
   ]
  },
  {
   "cell_type": "code",
   "execution_count": 16,
   "id": "cfe566cc",
   "metadata": {
    "scrolled": false
   },
   "outputs": [
    {
     "name": "stdout",
     "output_type": "stream",
     "text": [
      "4 5 6\n"
     ]
    }
   ],
   "source": [
    "a,b,c=4,5,6\n",
    "print(a,b,c)"
   ]
  },
  {
   "cell_type": "markdown",
   "id": "be015c03",
   "metadata": {},
   "source": [
    "### One Value to Multiple Variables\n",
    "* And you can assign the same value to multiple variables in one line:"
   ]
  },
  {
   "cell_type": "code",
   "execution_count": 17,
   "id": "f91132d8",
   "metadata": {
    "scrolled": true
   },
   "outputs": [
    {
     "name": "stdout",
     "output_type": "stream",
     "text": [
      "6\n",
      "6\n",
      "6\n"
     ]
    }
   ],
   "source": [
    "a=b=c=6\n",
    "print(a)\n",
    "print(b)\n",
    "print(c)"
   ]
  },
  {
   "cell_type": "code",
   "execution_count": 18,
   "id": "aa7d3d09",
   "metadata": {
    "scrolled": true
   },
   "outputs": [
    {
     "name": "stdout",
     "output_type": "stream",
     "text": [
      "6 6 6\n"
     ]
    }
   ],
   "source": [
    "a=b=c=6\n",
    "print(a,b,c)"
   ]
  },
  {
   "cell_type": "markdown",
   "id": "82fe7751",
   "metadata": {},
   "source": [
    "### Unpack a Collection\n",
    "* If you have a collection of values in a list, tuple etc. Python allows you to extract the values into variables. This is called unpacking."
   ]
  },
  {
   "cell_type": "code",
   "execution_count": 23,
   "id": "3c1d5232",
   "metadata": {},
   "outputs": [
    {
     "name": "stdout",
     "output_type": "stream",
     "text": [
      "apple banana cherry\n",
      "apple\n",
      "banana\n",
      "cherry\n"
     ]
    }
   ],
   "source": [
    "# unpack a list\n",
    "fruits = [\"apple\", \"banana\", \"cherry\"]\n",
    "# x, y, z = fruits\n",
    "print(x,y,z)\n",
    "print(x)\n",
    "print(y)\n",
    "print(z)"
   ]
  },
  {
   "cell_type": "markdown",
   "id": "5d9993ee",
   "metadata": {},
   "source": [
    "### You can also use the  +  operator to output multiple variables:"
   ]
  },
  {
   "cell_type": "code",
   "execution_count": 24,
   "id": "9d8314d0",
   "metadata": {},
   "outputs": [
    {
     "name": "stdout",
     "output_type": "stream",
     "text": [
      "Python is awesome\n"
     ]
    }
   ],
   "source": [
    "x = \"Python \"\n",
    "y = \"is \"\n",
    "z = \"awesome\"\n",
    "print(x + y + z)"
   ]
  },
  {
   "cell_type": "code",
   "execution_count": 25,
   "id": "b8361e94",
   "metadata": {},
   "outputs": [
    {
     "name": "stdout",
     "output_type": "stream",
     "text": [
      "15\n"
     ]
    }
   ],
   "source": [
    "# For numbers, the + character works as a mathematical operator:\n",
    "\n",
    "# Example\n",
    "x = 5\n",
    "y = 10\n",
    "print(x + y)"
   ]
  },
  {
   "cell_type": "markdown",
   "id": "690039d1",
   "metadata": {},
   "source": [
    "# Keywords\n",
    "\n",
    "* python is a case sensitive programming language\n",
    "\n",
    "\n",
    "in programming, a keyword is a word that is resereved by a program because the word has a special meaning. Keywords can be commands or parameters. Every programming language has set of Keywords that cannot be used as variable names\n"
   ]
  },
  {
   "cell_type": "code",
   "execution_count": 4,
   "id": "8fd26edd",
   "metadata": {
    "scrolled": true
   },
   "outputs": [
    {
     "name": "stdout",
     "output_type": "stream",
     "text": [
      "['False', 'None', 'True', '__peg_parser__', 'and', 'as', 'assert', 'async', 'await', 'break', 'class', 'continue', 'def', 'del', 'elif', 'else', 'except', 'finally', 'for', 'from', 'global', 'if', 'import', 'in', 'is', 'lambda', 'nonlocal', 'not', 'or', 'pass', 'raise', 'return', 'try', 'while', 'with', 'yield']\n"
     ]
    }
   ],
   "source": [
    "# python has 33 keywords\n",
    "import keyword\n",
    "print(keyword.kwlist) "
   ]
  },
  {
   "cell_type": "code",
   "execution_count": 5,
   "id": "27d90848",
   "metadata": {
    "scrolled": false
   },
   "outputs": [
    {
     "name": "stdout",
     "output_type": "stream",
     "text": [
      "\n",
      "Here is a list of the Python keywords.  Enter any keyword to get more help.\n",
      "\n",
      "False               break               for                 not\n",
      "None                class               from                or\n",
      "True                continue            global              pass\n",
      "__peg_parser__      def                 if                  raise\n",
      "and                 del                 import              return\n",
      "as                  elif                in                  try\n",
      "assert              else                is                  while\n",
      "async               except              lambda              with\n",
      "await               finally             nonlocal            yield\n",
      "\n"
     ]
    }
   ],
   "source": [
    "help(\"keywords\")"
   ]
  },
  {
   "cell_type": "code",
   "execution_count": 6,
   "id": "99e1846c",
   "metadata": {},
   "outputs": [
    {
     "name": "stdout",
     "output_type": "stream",
     "text": [
      "Help on built-in function print in module builtins:\n",
      "\n",
      "print(...)\n",
      "    print(value, ..., sep=' ', end='\\n', file=sys.stdout, flush=False)\n",
      "    \n",
      "    Prints the values to a stream, or to sys.stdout by default.\n",
      "    Optional keyword arguments:\n",
      "    file:  a file-like object (stream); defaults to the current sys.stdout.\n",
      "    sep:   string inserted between values, default a space.\n",
      "    end:   string appended after the last value, default a newline.\n",
      "    flush: whether to forcibly flush the stream.\n",
      "\n"
     ]
    }
   ],
   "source": [
    "help(\"print\")\n",
    "# to get the help for any function"
   ]
  },
  {
   "cell_type": "code",
   "execution_count": 2,
   "id": "2dfed872",
   "metadata": {},
   "outputs": [
    {
     "data": {
      "text/plain": [
       "'we can not use this keywords as variables \\nin our programm, it will throw an error'"
      ]
     },
     "execution_count": 2,
     "metadata": {},
     "output_type": "execute_result"
    }
   ],
   "source": [
    "'''we can not use this keywords as variables \n",
    "in our programm, it will throw an error'''"
   ]
  },
  {
   "cell_type": "markdown",
   "id": "866416de",
   "metadata": {},
   "source": [
    "# Identifiers\n",
    "\n",
    "A Python identifier is a name used to identify a variable, function, class, module or other object"
   ]
  },
  {
   "cell_type": "markdown",
   "id": "a0bc2a8a",
   "metadata": {},
   "source": [
    "## Rules for setting identifiers\n",
    "\n",
    "* can only start with an alphabet or _\n",
    "* followed by O or more letter, _ and digits\n",
    "* keywords cannot be used as an identifiers"
   ]
  },
  {
   "cell_type": "code",
   "execution_count": 22,
   "id": "5544399c",
   "metadata": {},
   "outputs": [
    {
     "name": "stdout",
     "output_type": "stream",
     "text": [
      "himanshu\n"
     ]
    }
   ],
   "source": [
    "_=\"himanshu\" # here we are using _ as a variable assigner\n",
    "print(_) # but we can not start with digits or special characters"
   ]
  },
  {
   "cell_type": "code",
   "execution_count": 23,
   "id": "6388a7a7",
   "metadata": {},
   "outputs": [
    {
     "name": "stdout",
     "output_type": "stream",
     "text": [
      "himanshu\n"
     ]
    }
   ],
   "source": [
    "print(\"himanshu\")"
   ]
  },
  {
   "cell_type": "code",
   "execution_count": 24,
   "id": "a43ca98e",
   "metadata": {},
   "outputs": [
    {
     "name": "stdout",
     "output_type": "stream",
     "text": [
      "14\n"
     ]
    }
   ],
   "source": [
    "print(3+5+6)"
   ]
  },
  {
   "cell_type": "code",
   "execution_count": 25,
   "id": "f2bba4ac",
   "metadata": {},
   "outputs": [
    {
     "name": "stdout",
     "output_type": "stream",
     "text": [
      "19\n"
     ]
    }
   ],
   "source": [
    "a=7\n",
    "b=9\n",
    "c=3\n",
    "print(a+b+c)"
   ]
  },
  {
   "cell_type": "code",
   "execution_count": 26,
   "id": "e9756eeb",
   "metadata": {},
   "outputs": [
    {
     "name": "stdout",
     "output_type": "stream",
     "text": [
      "171\n"
     ]
    }
   ],
   "source": [
    "a=9\n",
    "b=19\n",
    "area=a*b\n",
    "print(area)"
   ]
  },
  {
   "cell_type": "code",
   "execution_count": 27,
   "id": "016f9914",
   "metadata": {},
   "outputs": [
    {
     "name": "stdout",
     "output_type": "stream",
     "text": [
      "254.34\n"
     ]
    }
   ],
   "source": [
    "r=9\n",
    "area=(r**2)*3.14\n",
    "print(area)"
   ]
  },
  {
   "cell_type": "code",
   "execution_count": 7,
   "id": "eba1f74c",
   "metadata": {},
   "outputs": [
    {
     "name": "stdout",
     "output_type": "stream",
     "text": [
      "314.0\n"
     ]
    }
   ],
   "source": [
    "r = 10\n",
    "PI=3.14\n",
    "aoc=PI*r**2\n",
    "print(aoc)"
   ]
  },
  {
   "cell_type": "code",
   "execution_count": 9,
   "id": "900daee2",
   "metadata": {},
   "outputs": [
    {
     "name": "stdout",
     "output_type": "stream",
     "text": [
      "314.0\n"
     ]
    }
   ],
   "source": [
    "r = 10\n",
    "PI=3.14\n",
    "aoc=PI*r*r\n",
    "print(aoc)"
   ]
  }
 ],
 "metadata": {
  "kernelspec": {
   "display_name": "Python 3 (ipykernel)",
   "language": "python",
   "name": "python3"
  },
  "language_info": {
   "codemirror_mode": {
    "name": "ipython",
    "version": 3
   },
   "file_extension": ".py",
   "mimetype": "text/x-python",
   "name": "python",
   "nbconvert_exporter": "python",
   "pygments_lexer": "ipython3",
   "version": "3.9.13"
  }
 },
 "nbformat": 4,
 "nbformat_minor": 5
}
