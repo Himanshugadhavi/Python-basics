{
 "cells": [
  {
   "cell_type": "markdown",
   "id": "58859959",
   "metadata": {},
   "source": [
    "# Static software\n",
    "\n",
    "here only software speaks to you but you can not give any input into that software eg. clock, your college website, etc."
   ]
  },
  {
   "cell_type": "markdown",
   "id": "efc43e53",
   "metadata": {},
   "source": [
    "# Dynamic software\n",
    "\n",
    "here both user and software talk to each other. eg. youtube, whatsapp, instagram, etc."
   ]
  },
  {
   "cell_type": "code",
   "execution_count": 3,
   "id": "ebac4119",
   "metadata": {},
   "outputs": [
    {
     "name": "stdout",
     "output_type": "stream",
     "text": [
      "himanshu\n"
     ]
    },
    {
     "data": {
      "text/plain": [
       "'himanshu'"
      ]
     },
     "execution_count": 3,
     "metadata": {},
     "output_type": "execute_result"
    }
   ],
   "source": [
    "input()"
   ]
  },
  {
   "cell_type": "code",
   "execution_count": 4,
   "id": "88f8c6f6",
   "metadata": {
    "scrolled": false
   },
   "outputs": [
    {
     "name": "stdout",
     "output_type": "stream",
     "text": [
      "tell me your name?himanshu\n"
     ]
    },
    {
     "data": {
      "text/plain": [
       "'himanshu'"
      ]
     },
     "execution_count": 4,
     "metadata": {},
     "output_type": "execute_result"
    }
   ],
   "source": [
    "input(\"tell me your name?\")"
   ]
  },
  {
   "cell_type": "code",
   "execution_count": 1,
   "id": "27fa3240",
   "metadata": {},
   "outputs": [
    {
     "name": "stdout",
     "output_type": "stream",
     "text": [
      "Enter your name:himasnhu\n",
      "himasnhu\n"
     ]
    }
   ],
   "source": [
    "name=input(\"Enter your name:\")\n",
    "print(name)"
   ]
  },
  {
   "cell_type": "code",
   "execution_count": 1,
   "id": "60abb4ab",
   "metadata": {},
   "outputs": [
    {
     "name": "stdout",
     "output_type": "stream",
     "text": [
      "how are you? i'm fine\n"
     ]
    },
    {
     "data": {
      "text/plain": [
       "\"i'm fine\""
      ]
     },
     "execution_count": 1,
     "metadata": {},
     "output_type": "execute_result"
    }
   ],
   "source": [
    "input(prompt=\"how are you? \")"
   ]
  },
  {
   "cell_type": "code",
   "execution_count": 4,
   "id": "78f45a8b",
   "metadata": {},
   "outputs": [
    {
     "name": "stdout",
     "output_type": "stream",
     "text": [
      "enter the first number20\n",
      "enter the second number30\n"
     ]
    }
   ],
   "source": [
    "first_num = input(\"enter the first number\")\n",
    "second_num = input(\"enter the second number\")"
   ]
  },
  {
   "cell_type": "code",
   "execution_count": 5,
   "id": "c1d6ee7d",
   "metadata": {
    "scrolled": true
   },
   "outputs": [
    {
     "name": "stdout",
     "output_type": "stream",
     "text": [
      "2030\n"
     ]
    }
   ],
   "source": [
    "result = first_num + second_num\n",
    "print(result) "
   ]
  },
  {
   "cell_type": "code",
   "execution_count": 7,
   "id": "0393ad73",
   "metadata": {},
   "outputs": [
    {
     "name": "stdout",
     "output_type": "stream",
     "text": [
      "<class 'str'> <class 'str'>\n"
     ]
    }
   ],
   "source": [
    "print(type(first_num),type(second_num))\n",
    "# python will always take user input in a string data type by default "
   ]
  },
  {
   "cell_type": "markdown",
   "id": "58527653",
   "metadata": {},
   "source": [
    "# NOTE:\n",
    "* when you are taking input from user it always takes in the form of string \n",
    "* in the above case 20 and 30 are considered as a string that is why they were added like that and it is called concatination "
   ]
  },
  {
   "cell_type": "markdown",
   "id": "1744656f",
   "metadata": {},
   "source": [
    "# Type conversion\n",
    "\n",
    "* it's a simple process which helps us to convert one data type in to another data type\n",
    "* conditions applied that those data type should be convertable in the other data type \n",
    "* you can not convert kolkata in to int because kolkata is a string  \n",
    "\n",
    "# Two type of conversions\n",
    "\n",
    "1. Implicit conversion\n",
    "\n",
    "-it happens when python automatically performs the type conversion\n",
    "\n",
    "2. Explicit conversion\n",
    "\n",
    "-it happens when a programmer you tell python to perform the type conversion \n"
   ]
  },
  {
   "cell_type": "markdown",
   "id": "66615c5f",
   "metadata": {},
   "source": [
    "## implicit conversion"
   ]
  },
  {
   "cell_type": "code",
   "execution_count": 1,
   "id": "37d2c34e",
   "metadata": {},
   "outputs": [
    {
     "data": {
      "text/plain": [
       "9.5"
      ]
     },
     "execution_count": 1,
     "metadata": {},
     "output_type": "execute_result"
    }
   ],
   "source": [
    "4+5.5 \n",
    "'''here 4 is int and 5.5 is float still python added them both \n",
    "and performed the implicit conversion'''"
   ]
  },
  {
   "cell_type": "code",
   "execution_count": 2,
   "id": "e489fb44",
   "metadata": {},
   "outputs": [
    {
     "name": "stdout",
     "output_type": "stream",
     "text": [
      "(11+7j)\n"
     ]
    }
   ],
   "source": [
    "a=5\n",
    "b=6+7j\n",
    "print(a+b)"
   ]
  },
  {
   "cell_type": "code",
   "execution_count": 3,
   "id": "96e290f9",
   "metadata": {},
   "outputs": [
    {
     "data": {
      "text/plain": [
       "(9.5+11j)"
      ]
     },
     "execution_count": 3,
     "metadata": {},
     "output_type": "execute_result"
    }
   ],
   "source": [
    "4.5+5+11j"
   ]
  },
  {
   "cell_type": "markdown",
   "id": "4c6c6da1",
   "metadata": {},
   "source": [
    "## explicit functions for type conversion are given below"
   ]
  },
  {
   "cell_type": "markdown",
   "id": "5a838397",
   "metadata": {},
   "source": [
    "* If you want to specify the data type of a variable, this can be done with casting."
   ]
  },
  {
   "cell_type": "code",
   "execution_count": 1,
   "id": "44da00c6",
   "metadata": {},
   "outputs": [],
   "source": [
    "x = str(3)    # x will be '3'\n",
    "y = int(3)    # y will be 3\n",
    "z = float(3)  # z will be 3.0"
   ]
  },
  {
   "cell_type": "code",
   "execution_count": 5,
   "id": "5898fd16",
   "metadata": {},
   "outputs": [
    {
     "data": {
      "text/plain": [
       "45"
      ]
     },
     "execution_count": 5,
     "metadata": {},
     "output_type": "execute_result"
    }
   ],
   "source": [
    "# int function\n",
    "a='45'\n",
    "int(a)"
   ]
  },
  {
   "cell_type": "code",
   "execution_count": 6,
   "id": "8a356d34",
   "metadata": {},
   "outputs": [
    {
     "data": {
      "text/plain": [
       "str"
      ]
     },
     "execution_count": 6,
     "metadata": {},
     "output_type": "execute_result"
    }
   ],
   "source": [
    "type(a)"
   ]
  },
  {
   "cell_type": "code",
   "execution_count": 7,
   "id": "ff3d05b6",
   "metadata": {},
   "outputs": [
    {
     "data": {
      "text/plain": [
       "4.0"
      ]
     },
     "execution_count": 7,
     "metadata": {},
     "output_type": "execute_result"
    }
   ],
   "source": [
    "float(4)"
   ]
  },
  {
   "cell_type": "code",
   "execution_count": 22,
   "id": "2899c3ea",
   "metadata": {},
   "outputs": [
    {
     "data": {
      "text/plain": [
       "'5'"
      ]
     },
     "execution_count": 22,
     "metadata": {},
     "output_type": "execute_result"
    }
   ],
   "source": [
    "str(5)"
   ]
  },
  {
   "cell_type": "code",
   "execution_count": 23,
   "id": "dced4dd4",
   "metadata": {},
   "outputs": [
    {
     "data": {
      "text/plain": [
       "True"
      ]
     },
     "execution_count": 23,
     "metadata": {},
     "output_type": "execute_result"
    }
   ],
   "source": [
    "bool(1)"
   ]
  },
  {
   "cell_type": "code",
   "execution_count": 24,
   "id": "775303b7",
   "metadata": {},
   "outputs": [
    {
     "data": {
      "text/plain": [
       "False"
      ]
     },
     "execution_count": 24,
     "metadata": {},
     "output_type": "execute_result"
    }
   ],
   "source": [
    "bool(0)"
   ]
  },
  {
   "cell_type": "code",
   "execution_count": 25,
   "id": "ff122eae",
   "metadata": {},
   "outputs": [
    {
     "data": {
      "text/plain": [
       "(11+0j)"
      ]
     },
     "execution_count": 25,
     "metadata": {},
     "output_type": "execute_result"
    }
   ],
   "source": [
    "complex(11)"
   ]
  },
  {
   "cell_type": "code",
   "execution_count": 8,
   "id": "ce2aaf2f",
   "metadata": {},
   "outputs": [
    {
     "data": {
      "text/plain": [
       "['h', 'e', 'l', 'l', 'o']"
      ]
     },
     "execution_count": 8,
     "metadata": {},
     "output_type": "execute_result"
    }
   ],
   "source": [
    "list('hello')"
   ]
  },
  {
   "cell_type": "code",
   "execution_count": 27,
   "id": "6f4780a2",
   "metadata": {},
   "outputs": [
    {
     "data": {
      "text/plain": [
       "('h', 'i', 'm', 'a', 'n', 's', 'h', 'u')"
      ]
     },
     "execution_count": 27,
     "metadata": {},
     "output_type": "execute_result"
    }
   ],
   "source": [
    "tuple('himanshu')"
   ]
  },
  {
   "cell_type": "code",
   "execution_count": 10,
   "id": "281a7c3f",
   "metadata": {},
   "outputs": [
    {
     "data": {
      "text/plain": [
       "{'a', 'h', 'i', 'm', 'n', 's', 'u'}"
      ]
     },
     "execution_count": 10,
     "metadata": {},
     "output_type": "execute_result"
    }
   ],
   "source": [
    "set(\"himanshu\")"
   ]
  },
  {
   "cell_type": "code",
   "execution_count": 9,
   "id": "0356601b",
   "metadata": {},
   "outputs": [
    {
     "data": {
      "text/plain": [
       "4"
      ]
     },
     "execution_count": 9,
     "metadata": {},
     "output_type": "execute_result"
    }
   ],
   "source": [
    "a=4.5\n",
    "int(a)"
   ]
  },
  {
   "cell_type": "markdown",
   "id": "7b9ba99d",
   "metadata": {},
   "source": [
    ">* python type conversion does not chage the original value, it just create a value for temporary operation "
   ]
  },
  {
   "cell_type": "code",
   "execution_count": 10,
   "id": "68ebe652",
   "metadata": {},
   "outputs": [
    {
     "name": "stdout",
     "output_type": "stream",
     "text": [
      "4.5\n"
     ]
    }
   ],
   "source": [
    "# despite apllying the int type function it does not change the variable value\n",
    "# so type conversion is not a permanent operation\n",
    "print(a)"
   ]
  },
  {
   "cell_type": "code",
   "execution_count": 12,
   "id": "7f67d933",
   "metadata": {},
   "outputs": [
    {
     "name": "stdout",
     "output_type": "stream",
     "text": [
      "enter the first number45\n",
      "enter the second number55\n",
      "4555\n"
     ]
    }
   ],
   "source": [
    "first_num = input(\"enter the first number\")\n",
    "second_num = input(\"enter the second number\")\n",
    "result = first_num + second_num\n",
    "print(result)"
   ]
  },
  {
   "cell_type": "code",
   "execution_count": 13,
   "id": "beafe26e",
   "metadata": {},
   "outputs": [
    {
     "name": "stdout",
     "output_type": "stream",
     "text": [
      "enter the first number45\n",
      "enter the second number55\n",
      "100\n"
     ]
    }
   ],
   "source": [
    "first_num = input(\"enter the first number\")\n",
    "second_num = input(\"enter the second number\")\n",
    "result = int(first_num) + int(second_num)\n",
    "print(result) "
   ]
  },
  {
   "cell_type": "code",
   "execution_count": 14,
   "id": "5b58fae1",
   "metadata": {},
   "outputs": [
    {
     "name": "stdout",
     "output_type": "stream",
     "text": [
      "enter the first number45\n",
      "enter the second number55\n",
      "100\n"
     ]
    }
   ],
   "source": [
    "first_num = int(input(\"enter the first number\"))\n",
    "second_num = int(input(\"enter the second number\"))\n",
    "result = first_num + second_num\n",
    "print(result) "
   ]
  },
  {
   "cell_type": "code",
   "execution_count": 15,
   "id": "59ba2c17",
   "metadata": {},
   "outputs": [
    {
     "name": "stdout",
     "output_type": "stream",
     "text": [
      "give first num15\n",
      "225\n"
     ]
    }
   ],
   "source": [
    "first_num=int(input(\"give first num\"))\n",
    "result=first_num**2\n",
    "print(result)"
   ]
  },
  {
   "cell_type": "code",
   "execution_count": 11,
   "id": "44c7f1bc",
   "metadata": {},
   "outputs": [
    {
     "name": "stdout",
     "output_type": "stream",
     "text": [
      "give first num7\n",
      "343\n"
     ]
    }
   ],
   "source": [
    "first_num=int(input(\"give first num\"))\n",
    "result=first_num**3\n",
    "print(result)"
   ]
  },
  {
   "cell_type": "code",
   "execution_count": 16,
   "id": "5b806c22",
   "metadata": {},
   "outputs": [
    {
     "name": "stdout",
     "output_type": "stream",
     "text": [
      "principle1000\n",
      "time2\n",
      "rate8\n",
      "160.0\n"
     ]
    }
   ],
   "source": [
    "p=int(input(\"principle\"))\n",
    "t=int(input(\"time\"))\n",
    "r=int(input(\"rate\"))\n",
    "result=(p*t*r)/100\n",
    "print(result)"
   ]
  },
  {
   "cell_type": "code",
   "execution_count": 18,
   "id": "5dbe57f4",
   "metadata": {},
   "outputs": [
    {
     "name": "stdout",
     "output_type": "stream",
     "text": [
      "principle5000\n",
      "time2\n",
      "rate5\n",
      "your interest amount: 500.0\n",
      "you will get: 5500.0\n"
     ]
    }
   ],
   "source": [
    "p=int(input(\"principle\"))\n",
    "t=int(input(\"time\"))\n",
    "r=int(input(\"rate\"))\n",
    "result=(p*t*r)/100\n",
    "print(\"your interest amount:\" ,result)\n",
    "print(\"you will get:\" ,result+p)"
   ]
  }
 ],
 "metadata": {
  "kernelspec": {
   "display_name": "Python 3 (ipykernel)",
   "language": "python",
   "name": "python3"
  },
  "language_info": {
   "codemirror_mode": {
    "name": "ipython",
    "version": 3
   },
   "file_extension": ".py",
   "mimetype": "text/x-python",
   "name": "python",
   "nbconvert_exporter": "python",
   "pygments_lexer": "ipython3",
   "version": "3.9.13"
  }
 },
 "nbformat": 4,
 "nbformat_minor": 5
}
