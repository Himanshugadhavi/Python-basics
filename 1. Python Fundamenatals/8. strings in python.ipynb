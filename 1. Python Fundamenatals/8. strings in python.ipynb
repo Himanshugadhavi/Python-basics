{
 "cells": [
  {
   "cell_type": "markdown",
   "id": "c7336728",
   "metadata": {},
   "source": [
    "# String\n",
    ">* string is one of the data type in the python\n",
    ">* Strings are sequence of Characters\n",
    ">* In python specifically, strings are a sequence of unicode characters\n",
    "    \n",
    "1. creating strings\n",
    "2. accessing strings\n",
    "3. addding chars to strings\n",
    "4. editing strings\n",
    "5. deleting strings\n",
    "6. operations on strings\n",
    "7. string functions"
   ]
  },
  {
   "cell_type": "markdown",
   "id": "8dfb2d86",
   "metadata": {},
   "source": [
    "* Strings in python are surrounded by either single quotation marks, or double quotation marks.\n",
    "* 'hello' is the same as \"hello\".\n",
    "* You can display a string literal with the print() function:"
   ]
  },
  {
   "cell_type": "markdown",
   "id": "d5df2ebc",
   "metadata": {},
   "source": [
    "## Creating strings"
   ]
  },
  {
   "cell_type": "code",
   "execution_count": 1,
   "id": "2b1913fb",
   "metadata": {
    "scrolled": true
   },
   "outputs": [
    {
     "name": "stdout",
     "output_type": "stream",
     "text": [
      "Hello\n",
      "Hello\n"
     ]
    }
   ],
   "source": [
    "print(\"Hello\")\n",
    "print('Hello')"
   ]
  },
  {
   "cell_type": "markdown",
   "id": "0a546aca",
   "metadata": {},
   "source": [
    ">* Assigning a string to a variable is done with the variable name followed by an equal sign and the string:"
   ]
  },
  {
   "cell_type": "code",
   "execution_count": 2,
   "id": "aaed4961",
   "metadata": {},
   "outputs": [
    {
     "name": "stdout",
     "output_type": "stream",
     "text": [
      "Hello\n"
     ]
    }
   ],
   "source": [
    "a = \"Hello\"\n",
    "print(a)"
   ]
  },
  {
   "cell_type": "markdown",
   "id": "36076d1b",
   "metadata": {},
   "source": [
    "### Multiline Strings\n",
    "    You can assign a multiline string to a variable by using three quotes:"
   ]
  },
  {
   "cell_type": "code",
   "execution_count": 3,
   "id": "926a8479",
   "metadata": {},
   "outputs": [
    {
     "name": "stdout",
     "output_type": "stream",
     "text": [
      "Lorem ipsum dolor sit amet,\n",
      "consectetur adipiscing elit,\n",
      "sed do eiusmod tempor incididunt\n",
      "ut labore et dolore magna aliqua.\n"
     ]
    },
    {
     "data": {
      "text/plain": [
       "'this one is used when we want multiline strings. \\nexample... when we are writing blogs'"
      ]
     },
     "execution_count": 3,
     "metadata": {},
     "output_type": "execute_result"
    }
   ],
   "source": [
    "# You can use three double quotes:\n",
    "a = \"\"\"Lorem ipsum dolor sit amet,\n",
    "consectetur adipiscing elit,\n",
    "sed do eiusmod tempor incididunt\n",
    "ut labore et dolore magna aliqua.\"\"\"\n",
    "print(a)\n",
    "\n",
    "'''this one is used when we want multiline strings. \n",
    "example... when we are writing blogs'''"
   ]
  },
  {
   "cell_type": "markdown",
   "id": "ec3481c1",
   "metadata": {},
   "source": [
    ">in the result, the line breaks are inserted at the same position as in the code."
   ]
  },
  {
   "cell_type": "code",
   "execution_count": 4,
   "id": "f29356cf",
   "metadata": {},
   "outputs": [
    {
     "name": "stdout",
     "output_type": "stream",
     "text": [
      "Lorem ipsum dolor sit amet,\n",
      "consectetur adipiscing elit,\n",
      "sed do eiusmod tempor incididunt\n",
      "ut labore et dolore magna aliqua.\n"
     ]
    }
   ],
   "source": [
    "# Or three single quotes:\n",
    "\n",
    "a = '''Lorem ipsum dolor sit amet,\n",
    "consectetur adipiscing elit,\n",
    "sed do eiusmod tempor incididunt\n",
    "ut labore et dolore magna aliqua.'''\n",
    "print(a)"
   ]
  },
  {
   "cell_type": "markdown",
   "id": "b7ab2eb2",
   "metadata": {},
   "source": [
    ">* Like many other popular programming languages, strings in Python are arrays of bytes representing unicode characters.\n",
    ">* However, Python does not have a character data type, a single character is simply a string with a length of 1."
   ]
  },
  {
   "cell_type": "code",
   "execution_count": 5,
   "id": "30fa3736",
   "metadata": {},
   "outputs": [
    {
     "name": "stdout",
     "output_type": "stream",
     "text": [
      "hello\n"
     ]
    }
   ],
   "source": [
    "c=str(\"hello\")\n",
    "print(c)"
   ]
  },
  {
   "cell_type": "code",
   "execution_count": 6,
   "id": "770f1260",
   "metadata": {},
   "outputs": [
    {
     "name": "stdout",
     "output_type": "stream",
     "text": [
      "27269292\n",
      "<class 'str'>\n"
     ]
    }
   ],
   "source": [
    "c=str(27269292)\n",
    "print(c)\n",
    "print(type(c))"
   ]
  },
  {
   "cell_type": "markdown",
   "id": "62827b58",
   "metadata": {},
   "source": [
    "## Accessing substrings from a string\n",
    "    Square brackets can be used to access elements of the string."
   ]
  },
  {
   "cell_type": "markdown",
   "id": "88b2f898",
   "metadata": {},
   "source": [
    "### 1.concept of indexing\n",
    "\n",
    "There are two type of indexing \n",
    "1. Positive indexing\n",
    "2. Negative indexing"
   ]
  },
  {
   "cell_type": "code",
   "execution_count": 7,
   "id": "d7b1d806",
   "metadata": {},
   "outputs": [
    {
     "name": "stdout",
     "output_type": "stream",
     "text": [
      "hello\n"
     ]
    }
   ],
   "source": [
    "# Positive indexing\n",
    "c=\"hello\"\n",
    "print(c)\n",
    "# here character in the strings have index position \n",
    "# h is having index 0 then e having 1 and so on"
   ]
  },
  {
   "cell_type": "code",
   "execution_count": 8,
   "id": "14b2f2c2",
   "metadata": {},
   "outputs": [
    {
     "name": "stdout",
     "output_type": "stream",
     "text": [
      "e\n"
     ]
    }
   ],
   "source": [
    "print(c[1])\n",
    "# it will fetch the first character of the string hello"
   ]
  },
  {
   "cell_type": "code",
   "execution_count": 9,
   "id": "1fda6e5a",
   "metadata": {},
   "outputs": [
    {
     "name": "stdout",
     "output_type": "stream",
     "text": [
      "o\n"
     ]
    }
   ],
   "source": [
    "print(c[4])"
   ]
  },
  {
   "cell_type": "code",
   "execution_count": 10,
   "id": "60da073c",
   "metadata": {},
   "outputs": [
    {
     "name": "stdout",
     "output_type": "stream",
     "text": [
      "o\n"
     ]
    }
   ],
   "source": [
    "# Negative indexing\n",
    "print(c[-1])\n",
    "# for last character of the string"
   ]
  },
  {
   "cell_type": "code",
   "execution_count": 11,
   "id": "4cd0c8d6",
   "metadata": {},
   "outputs": [
    {
     "name": "stdout",
     "output_type": "stream",
     "text": [
      "e\n"
     ]
    }
   ],
   "source": [
    "print(c[-4])"
   ]
  },
  {
   "cell_type": "markdown",
   "id": "3631cfb5",
   "metadata": {},
   "source": [
    "### 2.slicing\n",
    "* variable_name [from : to : jump]\n",
    ">* Specify the start index and the end index, separated by a colon, to return a part of the string."
   ]
  },
  {
   "cell_type": "code",
   "execution_count": 12,
   "id": "ab8e73b4",
   "metadata": {},
   "outputs": [
    {
     "name": "stdout",
     "output_type": "stream",
     "text": [
      "hello world\n"
     ]
    }
   ],
   "source": [
    "c=\"hello world\"\n",
    "print(c)"
   ]
  },
  {
   "cell_type": "code",
   "execution_count": 13,
   "id": "7864149e",
   "metadata": {},
   "outputs": [
    {
     "name": "stdout",
     "output_type": "stream",
     "text": [
      "hello\n"
     ]
    }
   ],
   "source": [
    "print(c[0:5])\n",
    "# here 5 is not included"
   ]
  },
  {
   "cell_type": "code",
   "execution_count": 14,
   "id": "5c1c4ab0",
   "metadata": {},
   "outputs": [
    {
     "name": "stdout",
     "output_type": "stream",
     "text": [
      "llo world\n"
     ]
    }
   ],
   "source": [
    "# Get the characters from position 2, and all the way to the end:\n",
    "print(c[2:])\n",
    "# it will give 2 onwards everything"
   ]
  },
  {
   "cell_type": "code",
   "execution_count": 15,
   "id": "502c9bb4",
   "metadata": {},
   "outputs": [
    {
     "name": "stdout",
     "output_type": "stream",
     "text": [
      "hello wor\n"
     ]
    }
   ],
   "source": [
    "'''By leaving out the start index, \n",
    "the range will start at the first character:'''\n",
    "\n",
    "print(c[:9])"
   ]
  },
  {
   "cell_type": "code",
   "execution_count": 16,
   "id": "5e6b98a7",
   "metadata": {},
   "outputs": [
    {
     "name": "stdout",
     "output_type": "stream",
     "text": [
      "hello world\n"
     ]
    }
   ],
   "source": [
    "print(c[:])"
   ]
  },
  {
   "cell_type": "code",
   "execution_count": 17,
   "id": "f8fbc672",
   "metadata": {},
   "outputs": [
    {
     "name": "stdout",
     "output_type": "stream",
     "text": [
      "lo\n"
     ]
    }
   ],
   "source": [
    "print(c[2:6:2])\n",
    "# last 2 is used for having gap of 2 between the range of 2 to 5"
   ]
  },
  {
   "cell_type": "code",
   "execution_count": 18,
   "id": "102ad020",
   "metadata": {},
   "outputs": [
    {
     "name": "stdout",
     "output_type": "stream",
     "text": [
      "hlw\n"
     ]
    }
   ],
   "source": [
    "print(c[0:8:3])"
   ]
  },
  {
   "cell_type": "markdown",
   "id": "b0a5bc72",
   "metadata": {},
   "source": [
    "Note : Indexing and jumping must be same direction otherwise return blank"
   ]
  },
  {
   "cell_type": "code",
   "execution_count": 19,
   "id": "d50bdd03",
   "metadata": {},
   "outputs": [
    {
     "name": "stdout",
     "output_type": "stream",
     "text": [
      "\n"
     ]
    },
    {
     "data": {
      "text/plain": [
       "\" because we are working with the positive indexing \\nso it won't work on the -1 value\""
      ]
     },
     "execution_count": 19,
     "metadata": {},
     "output_type": "execute_result"
    }
   ],
   "source": [
    "print(c[0:8:-1])\n",
    "# this will not give any result\n",
    "''' because we are working with the positive indexing \n",
    "so it won't work on the -1 value'''"
   ]
  },
  {
   "cell_type": "code",
   "execution_count": 20,
   "id": "310fd1b2",
   "metadata": {},
   "outputs": [
    {
     "name": "stdout",
     "output_type": "stream",
     "text": [
      "wr\n"
     ]
    }
   ],
   "source": [
    "print(c[-5:-1:2])"
   ]
  },
  {
   "cell_type": "code",
   "execution_count": 21,
   "id": "6143e07b",
   "metadata": {},
   "outputs": [
    {
     "name": "stdout",
     "output_type": "stream",
     "text": [
      "dlrow olleh\n"
     ]
    }
   ],
   "source": [
    "print(c[::-1])\n",
    "# this will reverse the whole string"
   ]
  },
  {
   "cell_type": "code",
   "execution_count": 22,
   "id": "d352e7a6",
   "metadata": {},
   "outputs": [
    {
     "name": "stdout",
     "output_type": "stream",
     "text": [
      "dlro\n"
     ]
    }
   ],
   "source": [
    "print(c[-1:-5:-1])"
   ]
  },
  {
   "cell_type": "markdown",
   "id": "0a9c72fe",
   "metadata": {},
   "source": [
    "## Editing and Deleting in Strings"
   ]
  },
  {
   "cell_type": "code",
   "execution_count": 23,
   "id": "93c6af5c",
   "metadata": {},
   "outputs": [
    {
     "name": "stdout",
     "output_type": "stream",
     "text": [
      "hello\n"
     ]
    }
   ],
   "source": [
    "c=\"hello\"\n",
    "print(c)"
   ]
  },
  {
   "cell_type": "code",
   "execution_count": 24,
   "id": "61dda247",
   "metadata": {},
   "outputs": [
    {
     "ename": "TypeError",
     "evalue": "'str' object does not support item assignment",
     "output_type": "error",
     "traceback": [
      "\u001b[1;31m---------------------------------------------------------------------------\u001b[0m",
      "\u001b[1;31mTypeError\u001b[0m                                 Traceback (most recent call last)",
      "\u001b[1;32m~\\AppData\\Local\\Temp\\ipykernel_10940\\2281394476.py\u001b[0m in \u001b[0;36m<module>\u001b[1;34m\u001b[0m\n\u001b[1;32m----> 1\u001b[1;33m \u001b[0mc\u001b[0m\u001b[1;33m[\u001b[0m\u001b[1;36m0\u001b[0m\u001b[1;33m]\u001b[0m\u001b[1;33m=\u001b[0m\u001b[1;34m'x'\u001b[0m\u001b[1;33m\u001b[0m\u001b[1;33m\u001b[0m\u001b[0m\n\u001b[0m\u001b[0;32m      2\u001b[0m \u001b[1;31m# this will throw the error\u001b[0m\u001b[1;33m\u001b[0m\u001b[1;33m\u001b[0m\u001b[0m\n\u001b[0;32m      3\u001b[0m \u001b[1;31m# because strings are not editable in the python\u001b[0m\u001b[1;33m\u001b[0m\u001b[1;33m\u001b[0m\u001b[0m\n\u001b[0;32m      4\u001b[0m \u001b[1;31m# hence strings are immutable data type\u001b[0m\u001b[1;33m\u001b[0m\u001b[1;33m\u001b[0m\u001b[0m\n\u001b[0;32m      5\u001b[0m \u001b[1;31m# immutable = can not be changed in the memory location\u001b[0m\u001b[1;33m\u001b[0m\u001b[1;33m\u001b[0m\u001b[0m\n",
      "\u001b[1;31mTypeError\u001b[0m: 'str' object does not support item assignment"
     ]
    }
   ],
   "source": [
    "c[0]='x'\n",
    "# this will throw the error\n",
    "# because strings are not editable in the python\n",
    "# hence strings are immutable data type\n",
    "# immutable = can not be changed in the memory location"
   ]
  },
  {
   "cell_type": "code",
   "execution_count": null,
   "id": "b6dc8954",
   "metadata": {},
   "outputs": [],
   "source": [
    "c=\"world\"\n",
    "print(c)\n",
    "# here we are reassigning the the word world instead of hello word"
   ]
  },
  {
   "cell_type": "code",
   "execution_count": 25,
   "id": "3c429429",
   "metadata": {},
   "outputs": [],
   "source": [
    "# we can not also add character in the strings"
   ]
  },
  {
   "cell_type": "code",
   "execution_count": 26,
   "id": "9ca6c8d5",
   "metadata": {},
   "outputs": [],
   "source": [
    "del c"
   ]
  },
  {
   "cell_type": "code",
   "execution_count": 27,
   "id": "945fa683",
   "metadata": {},
   "outputs": [
    {
     "ename": "NameError",
     "evalue": "name 'c' is not defined",
     "output_type": "error",
     "traceback": [
      "\u001b[1;31m---------------------------------------------------------------------------\u001b[0m",
      "\u001b[1;31mNameError\u001b[0m                                 Traceback (most recent call last)",
      "\u001b[1;32m~\\AppData\\Local\\Temp\\ipykernel_10940\\3312666275.py\u001b[0m in \u001b[0;36m<module>\u001b[1;34m\u001b[0m\n\u001b[1;32m----> 1\u001b[1;33m \u001b[0mprint\u001b[0m\u001b[1;33m(\u001b[0m\u001b[0mc\u001b[0m\u001b[1;33m)\u001b[0m\u001b[1;33m\u001b[0m\u001b[1;33m\u001b[0m\u001b[0m\n\u001b[0m\u001b[0;32m      2\u001b[0m '''this will throw the error because we already \n\u001b[0;32m      3\u001b[0m deleted the c string in the above code '''\n",
      "\u001b[1;31mNameError\u001b[0m: name 'c' is not defined"
     ]
    }
   ],
   "source": [
    "print(c)\n",
    "'''this will throw the error because we already \n",
    "deleted the c string in the above code '''"
   ]
  },
  {
   "cell_type": "code",
   "execution_count": 28,
   "id": "837d1113",
   "metadata": {},
   "outputs": [
    {
     "name": "stdout",
     "output_type": "stream",
     "text": [
      "hello\n"
     ]
    }
   ],
   "source": [
    "c=\"hello\"\n",
    "print(c)"
   ]
  },
  {
   "cell_type": "code",
   "execution_count": 29,
   "id": "f4b2c5b7",
   "metadata": {},
   "outputs": [
    {
     "ename": "TypeError",
     "evalue": "'str' object doesn't support item deletion",
     "output_type": "error",
     "traceback": [
      "\u001b[1;31m---------------------------------------------------------------------------\u001b[0m",
      "\u001b[1;31mTypeError\u001b[0m                                 Traceback (most recent call last)",
      "\u001b[1;32m~\\AppData\\Local\\Temp\\ipykernel_10940\\2869106239.py\u001b[0m in \u001b[0;36m<module>\u001b[1;34m\u001b[0m\n\u001b[1;32m----> 1\u001b[1;33m \u001b[1;32mdel\u001b[0m \u001b[0mc\u001b[0m\u001b[1;33m[\u001b[0m\u001b[1;36m0\u001b[0m\u001b[1;33m]\u001b[0m\u001b[1;33m\u001b[0m\u001b[1;33m\u001b[0m\u001b[0m\n\u001b[0m\u001b[0;32m      2\u001b[0m \u001b[1;31m# this will also throw the error\u001b[0m\u001b[1;33m\u001b[0m\u001b[1;33m\u001b[0m\u001b[0m\n\u001b[0;32m      3\u001b[0m '''we can not delete the particular character in the string \n\u001b[0;32m      4\u001b[0m it will bring  the changes in the existing strings and it will do mutation'''\n",
      "\u001b[1;31mTypeError\u001b[0m: 'str' object doesn't support item deletion"
     ]
    }
   ],
   "source": [
    "del c[0]\n",
    "# this will also throw the error\n",
    "'''we can not delete the particular character in the string \n",
    "it will bring  the changes in the existing strings and it will do mutation'''"
   ]
  },
  {
   "cell_type": "code",
   "execution_count": 30,
   "id": "7afab985",
   "metadata": {},
   "outputs": [
    {
     "ename": "TypeError",
     "evalue": "'str' object does not support item deletion",
     "output_type": "error",
     "traceback": [
      "\u001b[1;31m---------------------------------------------------------------------------\u001b[0m",
      "\u001b[1;31mTypeError\u001b[0m                                 Traceback (most recent call last)",
      "\u001b[1;32m~\\AppData\\Local\\Temp\\ipykernel_10940\\1604213379.py\u001b[0m in \u001b[0;36m<module>\u001b[1;34m\u001b[0m\n\u001b[0;32m      1\u001b[0m \u001b[1;31m# even we can not delete the portion of the string\u001b[0m\u001b[1;33m\u001b[0m\u001b[1;33m\u001b[0m\u001b[0m\n\u001b[1;32m----> 2\u001b[1;33m \u001b[1;32mdel\u001b[0m \u001b[0mc\u001b[0m\u001b[1;33m[\u001b[0m\u001b[1;33m:\u001b[0m\u001b[1;36m3\u001b[0m\u001b[1;33m:\u001b[0m\u001b[1;36m2\u001b[0m\u001b[1;33m]\u001b[0m\u001b[1;33m\u001b[0m\u001b[1;33m\u001b[0m\u001b[0m\n\u001b[0m\u001b[0;32m      3\u001b[0m \u001b[1;31m# this will also throw the error\u001b[0m\u001b[1;33m\u001b[0m\u001b[1;33m\u001b[0m\u001b[0m\n",
      "\u001b[1;31mTypeError\u001b[0m: 'str' object does not support item deletion"
     ]
    }
   ],
   "source": [
    "# even we can not delete the portion of the string\n",
    "del c[:3:2]\n",
    "# this will also throw the error"
   ]
  },
  {
   "cell_type": "markdown",
   "id": "5f5942de",
   "metadata": {},
   "source": [
    "## Operations on Strings\n",
    "* Arithmetic operations\n",
    "* Relational operations\n",
    "* Logical operations\n",
    "* Loops on strings\n",
    "* Membership operations"
   ]
  },
  {
   "cell_type": "code",
   "execution_count": 31,
   "id": "e63e7ab0",
   "metadata": {},
   "outputs": [
    {
     "data": {
      "text/plain": [
       "'hello-himanshu'"
      ]
     },
     "execution_count": 31,
     "metadata": {},
     "output_type": "execute_result"
    }
   ],
   "source": [
    "# To concatenate, or combine, two strings you can use the + operator.\n",
    "\"hello\" + \"-\" +\"himanshu\""
   ]
  },
  {
   "cell_type": "code",
   "execution_count": 32,
   "id": "df19c1b5",
   "metadata": {},
   "outputs": [
    {
     "name": "stdout",
     "output_type": "stream",
     "text": [
      "Hello World\n"
     ]
    }
   ],
   "source": [
    "a = \"Hello\"\n",
    "b = \"World\"\n",
    "c = a + \" \" + b\n",
    "print(c)"
   ]
  },
  {
   "cell_type": "code",
   "execution_count": 33,
   "id": "bda769e5",
   "metadata": {},
   "outputs": [
    {
     "name": "stdout",
     "output_type": "stream",
     "text": [
      "********************************************************************************************************************************************************************************************************************************************************************************************************************************************************************************************************************************************************************************************************************\n"
     ]
    }
   ],
   "source": [
    "print(\"*\"*500)\n",
    "# this one is for multiplication"
   ]
  },
  {
   "cell_type": "code",
   "execution_count": 34,
   "id": "4aadeb3e",
   "metadata": {},
   "outputs": [
    {
     "name": "stdout",
     "output_type": "stream",
     "text": [
      "hello  hello  hello  hello  hello  hello  hello  hello  hello  hello  \n"
     ]
    }
   ],
   "source": [
    "print(\"hello  \" * 10)"
   ]
  },
  {
   "cell_type": "code",
   "execution_count": 35,
   "id": "bc1edf3e",
   "metadata": {},
   "outputs": [
    {
     "data": {
      "text/plain": [
       "False"
      ]
     },
     "execution_count": 35,
     "metadata": {},
     "output_type": "execute_result"
    }
   ],
   "source": [
    "\"hello\"==\"himanshu\"\n",
    "# here both the strings are not same"
   ]
  },
  {
   "cell_type": "code",
   "execution_count": 36,
   "id": "18fa691b",
   "metadata": {},
   "outputs": [
    {
     "data": {
      "text/plain": [
       "True"
      ]
     },
     "execution_count": 36,
     "metadata": {},
     "output_type": "execute_result"
    }
   ],
   "source": [
    "\"hello\" != \"appu\""
   ]
  },
  {
   "cell_type": "markdown",
   "id": "aa572c4c",
   "metadata": {},
   "source": [
    "##### relational operators"
   ]
  },
  {
   "cell_type": "code",
   "execution_count": 37,
   "id": "a9a32370",
   "metadata": {},
   "outputs": [
    {
     "data": {
      "text/plain": [
       "'In mathematics, the lexicographic or lexicographical order\\nis a generalization of the alphabetical order of the \\ndictionaries to sequences of ordered symbols or \\nmore generally, of elements of a totally ordered set.'"
      ]
     },
     "execution_count": 37,
     "metadata": {},
     "output_type": "execute_result"
    }
   ],
   "source": [
    "\"mumbai\" > \"pune\"\n",
    "\n",
    "# here compariosion is not based on the length of the word\n",
    "# comparision is done lexicographically\n",
    "\n",
    "'''in dictionary p comes later so it is bigger than the m \n",
    "so that is why pune is greater than the mumbai'''\n",
    "\n",
    "\"\"\"In mathematics, the lexicographic or lexicographical order\n",
    "is a generalization of the alphabetical order of the \n",
    "dictionaries to sequences of ordered symbols or \n",
    "more generally, of elements of a totally ordered set.\"\"\""
   ]
  },
  {
   "cell_type": "code",
   "execution_count": 38,
   "id": "b9d1cd9e",
   "metadata": {},
   "outputs": [
    {
     "name": "stdout",
     "output_type": "stream",
     "text": [
      "False\n"
     ]
    }
   ],
   "source": [
    "c=\"mumbai\" > \"pune\"\n",
    "print(c)"
   ]
  },
  {
   "cell_type": "code",
   "execution_count": 39,
   "id": "4f42e44a",
   "metadata": {},
   "outputs": [
    {
     "data": {
      "text/plain": [
       "True"
      ]
     },
     "execution_count": 39,
     "metadata": {},
     "output_type": "execute_result"
    }
   ],
   "source": [
    "\"goa\"<\"kolkata\""
   ]
  },
  {
   "cell_type": "code",
   "execution_count": 40,
   "id": "ad129169",
   "metadata": {},
   "outputs": [
    {
     "data": {
      "text/plain": [
       "False"
      ]
     },
     "execution_count": 40,
     "metadata": {},
     "output_type": "execute_result"
    }
   ],
   "source": [
    "\"kol\"<\"Kol\"\n",
    "# small letter comes after the capital letters"
   ]
  },
  {
   "cell_type": "markdown",
   "id": "a2e597fd",
   "metadata": {},
   "source": [
    "##### logical operations "
   ]
  },
  {
   "cell_type": "code",
   "execution_count": 41,
   "id": "8e4404e5",
   "metadata": {},
   "outputs": [
    {
     "data": {
      "text/plain": [
       "'world'"
      ]
     },
     "execution_count": 41,
     "metadata": {},
     "output_type": "execute_result"
    }
   ],
   "source": [
    "\"hello\" and \"world\""
   ]
  },
  {
   "cell_type": "code",
   "execution_count": 42,
   "id": "2ab65dff",
   "metadata": {},
   "outputs": [
    {
     "ename": "SyntaxError",
     "evalue": "invalid syntax (3160823874.py, line 1)",
     "output_type": "error",
     "traceback": [
      "\u001b[1;36m  File \u001b[1;32m\"C:\\Users\\gadha\\AppData\\Local\\Temp\\ipykernel_10940\\3160823874.py\"\u001b[1;36m, line \u001b[1;32m1\u001b[0m\n\u001b[1;33m    \"\" -> False\u001b[0m\n\u001b[1;37m       ^\u001b[0m\n\u001b[1;31mSyntaxError\u001b[0m\u001b[1;31m:\u001b[0m invalid syntax\n"
     ]
    }
   ],
   "source": [
    "\"\" -> False \n",
    "# empty string is false for the python\n",
    "\"appu\" -> True \n",
    "# non-empty string is true for the python"
   ]
  },
  {
   "cell_type": "code",
   "execution_count": 43,
   "id": "54a5835c",
   "metadata": {},
   "outputs": [
    {
     "data": {
      "text/plain": [
       "'first one is false and second is true so result \\nis false because we are using the and operator'"
      ]
     },
     "execution_count": 43,
     "metadata": {},
     "output_type": "execute_result"
    }
   ],
   "source": [
    "\"\" and \"hello\"\n",
    "\n",
    "'''first one is false and second is true so result \n",
    "is false because we are using the and operator'''"
   ]
  },
  {
   "cell_type": "code",
   "execution_count": 44,
   "id": "155a52d1",
   "metadata": {},
   "outputs": [
    {
     "data": {
      "text/plain": [
       "'himanshu'"
      ]
     },
     "execution_count": 44,
     "metadata": {},
     "output_type": "execute_result"
    }
   ],
   "source": [
    "\"\" or \"himanshu\""
   ]
  },
  {
   "cell_type": "code",
   "execution_count": 45,
   "id": "09519a11",
   "metadata": {},
   "outputs": [
    {
     "data": {
      "text/plain": [
       "'hello'"
      ]
     },
     "execution_count": 45,
     "metadata": {},
     "output_type": "execute_result"
    }
   ],
   "source": [
    "\"hello\" or \"himanshu\"\n",
    "# here hello is already 1 so it will return the hello"
   ]
  },
  {
   "cell_type": "code",
   "execution_count": 46,
   "id": "e88a48e7",
   "metadata": {},
   "outputs": [
    {
     "data": {
      "text/plain": [
       "'himanshu'"
      ]
     },
     "execution_count": 46,
     "metadata": {},
     "output_type": "execute_result"
    }
   ],
   "source": [
    "\"hello\" and \"himanshu\""
   ]
  },
  {
   "cell_type": "code",
   "execution_count": 47,
   "id": "57284f5b",
   "metadata": {},
   "outputs": [
    {
     "data": {
      "text/plain": [
       "False"
      ]
     },
     "execution_count": 47,
     "metadata": {},
     "output_type": "execute_result"
    }
   ],
   "source": [
    "not \"hello\""
   ]
  },
  {
   "cell_type": "code",
   "execution_count": 48,
   "id": "f8bcaf87",
   "metadata": {},
   "outputs": [
    {
     "data": {
      "text/plain": [
       "True"
      ]
     },
     "execution_count": 48,
     "metadata": {},
     "output_type": "execute_result"
    }
   ],
   "source": [
    "not \"\""
   ]
  },
  {
   "cell_type": "markdown",
   "id": "b8dd1903",
   "metadata": {},
   "source": [
    "##### loops in strings\n",
    ">* Since strings are arrays, we can loop through the characters in a string, with a for loop."
   ]
  },
  {
   "cell_type": "code",
   "execution_count": 49,
   "id": "71628004",
   "metadata": {},
   "outputs": [
    {
     "name": "stdout",
     "output_type": "stream",
     "text": [
      " \n",
      "h\n",
      "e\n",
      "l\n",
      "l\n",
      "o\n",
      " \n",
      "w\n",
      "o\n",
      "r\n",
      "d\n"
     ]
    }
   ],
   "source": [
    "c = \" hello word\"\n",
    "for i in c :\n",
    "    print(i)"
   ]
  },
  {
   "cell_type": "code",
   "execution_count": 50,
   "id": "3d798eb4",
   "metadata": {},
   "outputs": [
    {
     "name": "stdout",
     "output_type": "stream",
     "text": [
      "e\n",
      "l\n",
      " \n"
     ]
    }
   ],
   "source": [
    "c = \" hello word\"\n",
    "for i in c [2:7:2]:\n",
    "    print(i)"
   ]
  },
  {
   "cell_type": "code",
   "execution_count": 51,
   "id": "f0f27eb4",
   "metadata": {},
   "outputs": [
    {
     "name": "stdout",
     "output_type": "stream",
     "text": [
      "d\n",
      "r\n",
      "o\n",
      "w\n",
      " \n",
      "o\n",
      "l\n",
      "l\n",
      "e\n",
      "h\n",
      " \n"
     ]
    }
   ],
   "source": [
    "c = \" hello word\"\n",
    "for i in c [::-1]:\n",
    "    print(i)"
   ]
  },
  {
   "cell_type": "markdown",
   "id": "87b37e4d",
   "metadata": {},
   "source": [
    "##### membership operators\n",
    ">* To check if a certain phrase or character is present in a string, we can use the keyword in."
   ]
  },
  {
   "cell_type": "code",
   "execution_count": 52,
   "id": "a3f7891d",
   "metadata": {},
   "outputs": [],
   "source": [
    "c=\" hello word \""
   ]
  },
  {
   "cell_type": "code",
   "execution_count": 53,
   "id": "662cbafa",
   "metadata": {},
   "outputs": [
    {
     "name": "stdout",
     "output_type": "stream",
     "text": [
      "True\n",
      "False\n",
      "True\n"
     ]
    }
   ],
   "source": [
    "print('h' in c)\n",
    "print('H' in c)\n",
    "print('word' in c)"
   ]
  },
  {
   "cell_type": "code",
   "execution_count": 54,
   "id": "4dcfa556",
   "metadata": {},
   "outputs": [
    {
     "data": {
      "text/plain": [
       "False"
      ]
     },
     "execution_count": 54,
     "metadata": {},
     "output_type": "execute_result"
    }
   ],
   "source": [
    "'''To check if a certain phrase or character is NOT present in a string, \n",
    "we can use the keyword not in'''\n",
    "'word' not in c"
   ]
  },
  {
   "cell_type": "code",
   "execution_count": 55,
   "id": "d500ded1",
   "metadata": {
    "scrolled": true
   },
   "outputs": [
    {
     "name": "stdout",
     "output_type": "stream",
     "text": [
      "True\n"
     ]
    }
   ],
   "source": [
    "txt = \"The best things in life are free!\"\n",
    "print(\"free\" in txt)"
   ]
  },
  {
   "cell_type": "code",
   "execution_count": 56,
   "id": "b63b8dc6",
   "metadata": {},
   "outputs": [
    {
     "name": "stdout",
     "output_type": "stream",
     "text": [
      "Yes, 'free' is present.\n"
     ]
    }
   ],
   "source": [
    "txt = \"The best things in life are free!\"\n",
    "if \"free\" in txt:\n",
    "  print(\"Yes, 'free' is present.\")"
   ]
  },
  {
   "cell_type": "code",
   "execution_count": 57,
   "id": "31a7ce8b",
   "metadata": {},
   "outputs": [
    {
     "name": "stdout",
     "output_type": "stream",
     "text": [
      "True\n"
     ]
    }
   ],
   "source": [
    "txt = \"The best things in life are free!\"\n",
    "print(\"expensive\" not in txt)"
   ]
  },
  {
   "cell_type": "code",
   "execution_count": 58,
   "id": "3eac76f4",
   "metadata": {},
   "outputs": [
    {
     "name": "stdout",
     "output_type": "stream",
     "text": [
      "No, 'expensive' is NOT present.\n"
     ]
    }
   ],
   "source": [
    "txt = \"The best things in life are free!\"\n",
    "if \"expensive\" not in txt:\n",
    "  print(\"No, 'expensive' is NOT present.\")"
   ]
  },
  {
   "cell_type": "markdown",
   "id": "8c406bc2",
   "metadata": {},
   "source": [
    "## String functions\n",
    "\n",
    "### common functions\n",
    "* len\n",
    "* max\n",
    "* min\n",
    "* sorted"
   ]
  },
  {
   "cell_type": "markdown",
   "id": "443539ac",
   "metadata": {},
   "source": [
    ">* To get the length of a string, use the len() function."
   ]
  },
  {
   "cell_type": "code",
   "execution_count": 59,
   "id": "fb53a932",
   "metadata": {
    "scrolled": true
   },
   "outputs": [
    {
     "data": {
      "text/plain": [
       "7"
      ]
     },
     "execution_count": 59,
     "metadata": {},
     "output_type": "execute_result"
    }
   ],
   "source": [
    "c=\"kolkata\"\n",
    "len(c)"
   ]
  },
  {
   "cell_type": "code",
   "execution_count": 60,
   "id": "a044b2bf",
   "metadata": {},
   "outputs": [
    {
     "data": {
      "text/plain": [
       "'t'"
      ]
     },
     "execution_count": 60,
     "metadata": {},
     "output_type": "execute_result"
    }
   ],
   "source": [
    "max(c)"
   ]
  },
  {
   "cell_type": "code",
   "execution_count": 61,
   "id": "3227da20",
   "metadata": {},
   "outputs": [
    {
     "data": {
      "text/plain": [
       "'a'"
      ]
     },
     "execution_count": 61,
     "metadata": {},
     "output_type": "execute_result"
    }
   ],
   "source": [
    "min(c)"
   ]
  },
  {
   "cell_type": "code",
   "execution_count": 62,
   "id": "1230a2ef",
   "metadata": {},
   "outputs": [
    {
     "data": {
      "text/plain": [
       "['a', 'a', 'k', 'k', 'l', 'o', 't']"
      ]
     },
     "execution_count": 62,
     "metadata": {},
     "output_type": "execute_result"
    }
   ],
   "source": [
    "sorted(c)\n",
    "# this will sort the charecters in the ascending order\n",
    "# it will return this in the form of list"
   ]
  },
  {
   "cell_type": "code",
   "execution_count": 63,
   "id": "403c8b01",
   "metadata": {},
   "outputs": [
    {
     "data": {
      "text/plain": [
       "['t', 'o', 'l', 'k', 'k', 'a', 'a']"
      ]
     },
     "execution_count": 63,
     "metadata": {},
     "output_type": "execute_result"
    }
   ],
   "source": [
    "sorted(c,reverse=True)"
   ]
  },
  {
   "cell_type": "markdown",
   "id": "f635ea7b",
   "metadata": {},
   "source": [
    "### 1.Capitalize/Title/Upper/Lower/Swapcase"
   ]
  },
  {
   "cell_type": "code",
   "execution_count": 64,
   "id": "bc321dd3",
   "metadata": {},
   "outputs": [
    {
     "name": "stdout",
     "output_type": "stream",
     "text": [
      "hello world\n"
     ]
    }
   ],
   "source": [
    "c='hello world'\n",
    "print(c)"
   ]
  },
  {
   "cell_type": "code",
   "execution_count": 65,
   "id": "4582ab2e",
   "metadata": {},
   "outputs": [
    {
     "name": "stdout",
     "output_type": "stream",
     "text": [
      "Hello world\n"
     ]
    }
   ],
   "source": [
    "print(c.capitalize())\n",
    "# it will capitalize the first letter of the sentence or word"
   ]
  },
  {
   "cell_type": "code",
   "execution_count": 66,
   "id": "e1484886",
   "metadata": {},
   "outputs": [
    {
     "data": {
      "text/plain": [
       "'It is raining today'"
      ]
     },
     "execution_count": 66,
     "metadata": {},
     "output_type": "execute_result"
    }
   ],
   "source": [
    "\"it is raining today\".capitalize()"
   ]
  },
  {
   "cell_type": "code",
   "execution_count": 67,
   "id": "fd0ceaa7",
   "metadata": {},
   "outputs": [
    {
     "data": {
      "text/plain": [
       "'It Is Raining Today'"
      ]
     },
     "execution_count": 67,
     "metadata": {},
     "output_type": "execute_result"
    }
   ],
   "source": [
    "\"it is raining today\".title()\n",
    "# first letter of the every word will be capital"
   ]
  },
  {
   "cell_type": "code",
   "execution_count": 68,
   "id": "f81987b8",
   "metadata": {},
   "outputs": [
    {
     "data": {
      "text/plain": [
       "'kOlKaTa'"
      ]
     },
     "execution_count": 68,
     "metadata": {},
     "output_type": "execute_result"
    }
   ],
   "source": [
    "\"KoLkAtA\".swapcase()\n",
    "# it will convert the lower into upper and upper into lower"
   ]
  },
  {
   "cell_type": "code",
   "execution_count": 69,
   "id": "173f6563",
   "metadata": {},
   "outputs": [
    {
     "name": "stdout",
     "output_type": "stream",
     "text": [
      "HELLO, WORLD!\n"
     ]
    }
   ],
   "source": [
    "# The upper() method returns the string in upper case:\n",
    "a = \"Hello, World!\"\n",
    "print(a.upper())"
   ]
  },
  {
   "cell_type": "code",
   "execution_count": 70,
   "id": "3daacac5",
   "metadata": {},
   "outputs": [
    {
     "name": "stdout",
     "output_type": "stream",
     "text": [
      "hello, world!\n"
     ]
    }
   ],
   "source": [
    "# The lower() method returns the string in lower case:\n",
    "a = \"Hello, World!\"\n",
    "print(a.lower())"
   ]
  },
  {
   "cell_type": "markdown",
   "id": "3cf89562",
   "metadata": {},
   "source": [
    "### 2. Count"
   ]
  },
  {
   "cell_type": "code",
   "execution_count": 71,
   "id": "848e343b",
   "metadata": {},
   "outputs": [
    {
     "data": {
      "text/plain": [
       "4"
      ]
     },
     "execution_count": 71,
     "metadata": {},
     "output_type": "execute_result"
    }
   ],
   "source": [
    "\"it is raining today\".count(\"i\")"
   ]
  },
  {
   "cell_type": "code",
   "execution_count": 72,
   "id": "4766725f",
   "metadata": {},
   "outputs": [
    {
     "data": {
      "text/plain": [
       "1"
      ]
     },
     "execution_count": 72,
     "metadata": {},
     "output_type": "execute_result"
    }
   ],
   "source": [
    "\"it is raining today\".count(\"ing\")\n",
    "# it will also work on the sub string also"
   ]
  },
  {
   "cell_type": "code",
   "execution_count": 73,
   "id": "15ac1b59",
   "metadata": {},
   "outputs": [
    {
     "data": {
      "text/plain": [
       "0"
      ]
     },
     "execution_count": 73,
     "metadata": {},
     "output_type": "execute_result"
    }
   ],
   "source": [
    "\"it is raining today\".count(\"x\")"
   ]
  },
  {
   "cell_type": "markdown",
   "id": "0f7408f4",
   "metadata": {},
   "source": [
    "### 3.Find/Index"
   ]
  },
  {
   "cell_type": "code",
   "execution_count": 74,
   "id": "28fad7d6",
   "metadata": {},
   "outputs": [
    {
     "data": {
      "text/plain": [
       "0"
      ]
     },
     "execution_count": 74,
     "metadata": {},
     "output_type": "execute_result"
    }
   ],
   "source": [
    "\"it is raining today\".find(\"i\")\n",
    "# it will give the position of the i charecter"
   ]
  },
  {
   "cell_type": "code",
   "execution_count": 75,
   "id": "086f0864",
   "metadata": {},
   "outputs": [
    {
     "data": {
      "text/plain": [
       "12"
      ]
     },
     "execution_count": 75,
     "metadata": {},
     "output_type": "execute_result"
    }
   ],
   "source": [
    "\"it is raining today\".find(\"g\")"
   ]
  },
  {
   "cell_type": "code",
   "execution_count": 76,
   "id": "5131c0db",
   "metadata": {},
   "outputs": [
    {
     "data": {
      "text/plain": [
       "14"
      ]
     },
     "execution_count": 76,
     "metadata": {},
     "output_type": "execute_result"
    }
   ],
   "source": [
    "\"it is raining today\".find(\"today\")"
   ]
  },
  {
   "cell_type": "code",
   "execution_count": 77,
   "id": "ea5614ff",
   "metadata": {},
   "outputs": [
    {
     "data": {
      "text/plain": [
       "'where as index will throw the error if the \\nmentioned letter is not present in the sentence'"
      ]
     },
     "execution_count": 77,
     "metadata": {},
     "output_type": "execute_result"
    }
   ],
   "source": [
    "\"it is raining today\".find(\"x\")\n",
    "\n",
    "# if the letter or sub string is not present find will return -1\n",
    "'''where as index will throw the error if the \n",
    "mentioned letter is not present in the sentence'''"
   ]
  },
  {
   "cell_type": "code",
   "execution_count": 78,
   "id": "d2a249bf",
   "metadata": {},
   "outputs": [
    {
     "data": {
      "text/plain": [
       "6"
      ]
     },
     "execution_count": 78,
     "metadata": {},
     "output_type": "execute_result"
    }
   ],
   "source": [
    "\"it is raining today\".index(\"rain\")"
   ]
  },
  {
   "cell_type": "markdown",
   "id": "540e0dc9",
   "metadata": {},
   "source": [
    "### 4.endswith/startswith"
   ]
  },
  {
   "cell_type": "code",
   "execution_count": 79,
   "id": "4149b46c",
   "metadata": {},
   "outputs": [
    {
     "data": {
      "text/plain": [
       "False"
      ]
     },
     "execution_count": 79,
     "metadata": {},
     "output_type": "execute_result"
    }
   ],
   "source": [
    "\"it is raining today\".endswith(\"ing\")"
   ]
  },
  {
   "cell_type": "code",
   "execution_count": 80,
   "id": "fce04202",
   "metadata": {},
   "outputs": [
    {
     "data": {
      "text/plain": [
       "False"
      ]
     },
     "execution_count": 80,
     "metadata": {},
     "output_type": "execute_result"
    }
   ],
   "source": [
    "\"it is raining today\".startswith(\"ef\")"
   ]
  },
  {
   "cell_type": "code",
   "execution_count": 81,
   "id": "8a2688c3",
   "metadata": {},
   "outputs": [
    {
     "data": {
      "text/plain": [
       "True"
      ]
     },
     "execution_count": 81,
     "metadata": {},
     "output_type": "execute_result"
    }
   ],
   "source": [
    "\"it is raining today\".startswith(\"it\")"
   ]
  },
  {
   "cell_type": "markdown",
   "id": "c8002b40",
   "metadata": {},
   "source": [
    "### 5. format\n",
    "* The format() method takes the passed arguments, formats them, and places them in the string where the placeholders {} are:"
   ]
  },
  {
   "cell_type": "code",
   "execution_count": 82,
   "id": "e195190f",
   "metadata": {
    "scrolled": true
   },
   "outputs": [
    {
     "name": "stdout",
     "output_type": "stream",
     "text": [
      "My name is John, and I am 36\n"
     ]
    }
   ],
   "source": [
    "age = 36\n",
    "txt = \"My name is John, and I am {}\"\n",
    "print(txt.format(age))"
   ]
  },
  {
   "cell_type": "code",
   "execution_count": 83,
   "id": "5c7306ec",
   "metadata": {},
   "outputs": [
    {
     "name": "stdout",
     "output_type": "stream",
     "text": [
      "I want 3 pieces of item 567 for 49.95 dollars.\n"
     ]
    }
   ],
   "source": [
    " '''The format() method takes unlimited number of arguments,\n",
    "and are placed into the respective placeholders:'''\n",
    "\n",
    "quantity = 3\n",
    "itemno = 567\n",
    "price = 49.95\n",
    "myorder = \"I want {} pieces of item {} for {} dollars.\"\n",
    "print(myorder.format(quantity, itemno, price))"
   ]
  },
  {
   "cell_type": "code",
   "execution_count": 84,
   "id": "3c3ef1cb",
   "metadata": {
    "scrolled": true
   },
   "outputs": [
    {
     "data": {
      "text/plain": [
       "'hello my name is himanshu and my age is 22'"
      ]
     },
     "execution_count": 84,
     "metadata": {},
     "output_type": "execute_result"
    }
   ],
   "source": [
    "\"hello my name is {} and my age is {}\".format(\"himanshu\",22)"
   ]
  },
  {
   "cell_type": "code",
   "execution_count": 85,
   "id": "c71faa11",
   "metadata": {},
   "outputs": [
    {
     "name": "stdout",
     "output_type": "stream",
     "text": [
      "I want to pay 49.95 dollars for 3 pieces of item 567.\n"
     ]
    }
   ],
   "source": [
    "''' You can use index numbers {0} to be sure the \n",
    "arguments are placed in the correct placeholders:'''\n",
    "\n",
    "quantity = 3\n",
    "itemno = 567\n",
    "price = 49.95\n",
    "myorder = \"I want to pay {2} dollars for {0} pieces of item {1}.\"\n",
    "print(myorder.format(quantity, itemno, price))"
   ]
  },
  {
   "cell_type": "code",
   "execution_count": 86,
   "id": "1237e234",
   "metadata": {},
   "outputs": [
    {
     "data": {
      "text/plain": [
       "'hello my name is 22 and my age is himanshu'"
      ]
     },
     "execution_count": 86,
     "metadata": {},
     "output_type": "execute_result"
    }
   ],
   "source": [
    "\"hello my name is {1} and my age is {0}\".format(\"himanshu\",22)"
   ]
  },
  {
   "cell_type": "code",
   "execution_count": 87,
   "id": "00755801",
   "metadata": {},
   "outputs": [
    {
     "data": {
      "text/plain": [
       "'hello my name is himanshu and my age is 22'"
      ]
     },
     "execution_count": 87,
     "metadata": {},
     "output_type": "execute_result"
    }
   ],
   "source": [
    "\"hello my name is {name} and my age is {age}\".format(name=\"himanshu\",\n",
    "                                                     age=22)"
   ]
  },
  {
   "cell_type": "code",
   "execution_count": 88,
   "id": "c2e2f8fd",
   "metadata": {},
   "outputs": [
    {
     "data": {
      "text/plain": [
       "'hello my name is himanshu and my age is 22'"
      ]
     },
     "execution_count": 88,
     "metadata": {},
     "output_type": "execute_result"
    }
   ],
   "source": [
    "\"hello my name is {age} and my age is {name}\".format(age=\"himanshu\",\n",
    "                                                     name=22)"
   ]
  },
  {
   "cell_type": "code",
   "execution_count": 89,
   "id": "3cb57a78",
   "metadata": {},
   "outputs": [
    {
     "data": {
      "text/plain": [
       "'hello my name is himanshu and my age is 70'"
      ]
     },
     "execution_count": 89,
     "metadata": {},
     "output_type": "execute_result"
    }
   ],
   "source": [
    "\"hello my name is {name} and my age is {weight}\".format(name=\"himanshu\",\n",
    "                                                        age=22,weight=70)"
   ]
  },
  {
   "cell_type": "code",
   "execution_count": 90,
   "id": "7488cbfd",
   "metadata": {},
   "outputs": [
    {
     "data": {
      "text/plain": [
       "'hello my name is himanshu and my age is himanshu'"
      ]
     },
     "execution_count": 90,
     "metadata": {},
     "output_type": "execute_result"
    }
   ],
   "source": [
    "\"hello my name is {name} and my age is {name}\".format(name=\"himanshu\",\n",
    "                                                      age=22,weight=53)"
   ]
  },
  {
   "cell_type": "markdown",
   "id": "8e7d219e",
   "metadata": {},
   "source": [
    "### 6. isalnum/isalpha/isdecimal/isdigit/isidentifier\n",
    "\n",
    "* this all are question function\n",
    "* it is useful in validation"
   ]
  },
  {
   "cell_type": "code",
   "execution_count": 91,
   "id": "efdbac0a",
   "metadata": {},
   "outputs": [
    {
     "data": {
      "text/plain": [
       "True"
      ]
     },
     "execution_count": 91,
     "metadata": {},
     "output_type": "execute_result"
    }
   ],
   "source": [
    "\"FLAT20\".isalnum()\n",
    "# it checks if the given string is alpha numeric or not"
   ]
  },
  {
   "cell_type": "code",
   "execution_count": 92,
   "id": "8f96f0c8",
   "metadata": {},
   "outputs": [
    {
     "data": {
      "text/plain": [
       "False"
      ]
     },
     "execution_count": 92,
     "metadata": {},
     "output_type": "execute_result"
    }
   ],
   "source": [
    "\"FLAT 20 & \".isalnum()"
   ]
  },
  {
   "cell_type": "code",
   "execution_count": 93,
   "id": "dd29d20e",
   "metadata": {},
   "outputs": [
    {
     "data": {
      "text/plain": [
       "True"
      ]
     },
     "execution_count": 93,
     "metadata": {},
     "output_type": "execute_result"
    }
   ],
   "source": [
    "\"FLAT\".isalpha()"
   ]
  },
  {
   "cell_type": "code",
   "execution_count": 94,
   "id": "ac8923df",
   "metadata": {},
   "outputs": [
    {
     "data": {
      "text/plain": [
       "False"
      ]
     },
     "execution_count": 94,
     "metadata": {},
     "output_type": "execute_result"
    }
   ],
   "source": [
    "\"FLAT20\".isdigit()"
   ]
  },
  {
   "cell_type": "code",
   "execution_count": 95,
   "id": "47207a42",
   "metadata": {},
   "outputs": [
    {
     "data": {
      "text/plain": [
       "True"
      ]
     },
     "execution_count": 95,
     "metadata": {},
     "output_type": "execute_result"
    }
   ],
   "source": [
    "\"20\".isdigit()"
   ]
  },
  {
   "cell_type": "code",
   "execution_count": 96,
   "id": "58f142dd",
   "metadata": {},
   "outputs": [
    {
     "data": {
      "text/plain": [
       "False"
      ]
     },
     "execution_count": 96,
     "metadata": {},
     "output_type": "execute_result"
    }
   ],
   "source": [
    "\"hello world\".isidentifier()\n",
    "# here space is there in between hello and world so it is not valid identifier"
   ]
  },
  {
   "cell_type": "code",
   "execution_count": 97,
   "id": "041c1fdd",
   "metadata": {},
   "outputs": [
    {
     "data": {
      "text/plain": [
       "True"
      ]
     },
     "execution_count": 97,
     "metadata": {},
     "output_type": "execute_result"
    }
   ],
   "source": [
    "\"hello_world\".isidentifier()"
   ]
  },
  {
   "cell_type": "markdown",
   "id": "748803b2",
   "metadata": {},
   "source": [
    "### 7. Split\n",
    "* The split() method returns a list where the text between the specified separator becomes the list items."
   ]
  },
  {
   "cell_type": "code",
   "execution_count": 98,
   "id": "2717253f",
   "metadata": {},
   "outputs": [
    {
     "name": "stdout",
     "output_type": "stream",
     "text": [
      "['Hello', ' World!']\n"
     ]
    }
   ],
   "source": [
    "a = \"Hello, World!\"\n",
    "print(a.split(\",\")) # returns ['Hello', ' World!']"
   ]
  },
  {
   "cell_type": "code",
   "execution_count": 99,
   "id": "93bcae89",
   "metadata": {},
   "outputs": [
    {
     "data": {
      "text/plain": [
       "['who', 'is', 'the', 'prime', 'minister', 'of', 'india']"
      ]
     },
     "execution_count": 99,
     "metadata": {},
     "output_type": "execute_result"
    }
   ],
   "source": [
    "\"who is the prime minister of india\".split()\n",
    "# it splits them in words in the form of list"
   ]
  },
  {
   "cell_type": "code",
   "execution_count": 100,
   "id": "f73ab801",
   "metadata": {},
   "outputs": [
    {
     "data": {
      "text/plain": [
       "['who ', 's the pr', 'me m', 'n', 'ster of ', 'nd', 'a']"
      ]
     },
     "execution_count": 100,
     "metadata": {},
     "output_type": "execute_result"
    }
   ],
   "source": [
    "\"who is the prime minister of india\".split(\"i\")"
   ]
  },
  {
   "cell_type": "markdown",
   "id": "8da5e03a",
   "metadata": {},
   "source": [
    "### 8. Join\n",
    "* it is a reverse of the split function"
   ]
  },
  {
   "cell_type": "code",
   "execution_count": 101,
   "id": "fecf2472",
   "metadata": {},
   "outputs": [
    {
     "data": {
      "text/plain": [
       "'who is the prime minister of india'"
      ]
     },
     "execution_count": 101,
     "metadata": {},
     "output_type": "execute_result"
    }
   ],
   "source": [
    "\" \".join(['who', 'is', 'the', 'prime', 'minister', 'of', 'india'])"
   ]
  },
  {
   "cell_type": "code",
   "execution_count": 102,
   "id": "37749cf0",
   "metadata": {},
   "outputs": [
    {
     "data": {
      "text/plain": [
       "'who/is/the/prime/minister/of/india'"
      ]
     },
     "execution_count": 102,
     "metadata": {},
     "output_type": "execute_result"
    }
   ],
   "source": [
    "\"/\".join(['who', 'is', 'the', 'prime', 'minister', 'of', 'india'])"
   ]
  },
  {
   "cell_type": "code",
   "execution_count": 103,
   "id": "6f1fe98b",
   "metadata": {},
   "outputs": [
    {
     "data": {
      "text/plain": [
       "'who-is-the-prime-minister-of-india'"
      ]
     },
     "execution_count": 103,
     "metadata": {},
     "output_type": "execute_result"
    }
   ],
   "source": [
    "\"-\".join(['who', 'is', 'the', 'prime', 'minister', 'of', 'india'])"
   ]
  },
  {
   "cell_type": "markdown",
   "id": "f1369f16",
   "metadata": {},
   "source": [
    "### 9. Replace\n",
    "* The replace() method replaces a string with another string:"
   ]
  },
  {
   "cell_type": "code",
   "execution_count": 104,
   "id": "c71a50c3",
   "metadata": {},
   "outputs": [
    {
     "name": "stdout",
     "output_type": "stream",
     "text": [
      "Jello, World!\n"
     ]
    }
   ],
   "source": [
    "a = \"Hello, World!\"\n",
    "print(a.replace(\"H\", \"J\"))"
   ]
  },
  {
   "cell_type": "code",
   "execution_count": 105,
   "id": "e7f67ec5",
   "metadata": {},
   "outputs": [
    {
     "data": {
      "text/plain": [
       "'Hi my name is appu'"
      ]
     },
     "execution_count": 105,
     "metadata": {},
     "output_type": "execute_result"
    }
   ],
   "source": [
    "\"Hi my name is himanshu\".replace(\"himanshu\",\"appu\")"
   ]
  },
  {
   "cell_type": "markdown",
   "id": "3fac2627",
   "metadata": {},
   "source": [
    "### 10. Strip\n",
    "* it will remove the trailing space in the string \n",
    "* the strip() method removes any whitespace from the beginning or the end:"
   ]
  },
  {
   "cell_type": "code",
   "execution_count": 106,
   "id": "341330f5",
   "metadata": {},
   "outputs": [
    {
     "name": "stdout",
     "output_type": "stream",
     "text": [
      "              himanshu          \n"
     ]
    }
   ],
   "source": [
    "name=\"              himanshu          \"\n",
    "print(name)"
   ]
  },
  {
   "cell_type": "code",
   "execution_count": 107,
   "id": "c96c27c8",
   "metadata": {},
   "outputs": [
    {
     "data": {
      "text/plain": [
       "'hi              himanshu          '"
      ]
     },
     "execution_count": 107,
     "metadata": {},
     "output_type": "execute_result"
    }
   ],
   "source": [
    "\"hi\" + name"
   ]
  },
  {
   "cell_type": "code",
   "execution_count": 108,
   "id": "20c99e14",
   "metadata": {},
   "outputs": [
    {
     "data": {
      "text/plain": [
       "'himanshu'"
      ]
     },
     "execution_count": 108,
     "metadata": {},
     "output_type": "execute_result"
    }
   ],
   "source": [
    "name.strip()\n",
    "# this will remove the spaces"
   ]
  },
  {
   "cell_type": "code",
   "execution_count": 109,
   "id": "1e1486c3",
   "metadata": {},
   "outputs": [],
   "source": [
    "# \"hello\".\n",
    "# after . press tab key to know the all availabel functions of the strings "
   ]
  },
  {
   "cell_type": "markdown",
   "id": "8bc8bf8d",
   "metadata": {},
   "source": [
    "### 11. Escape Character\n",
    "* To insert characters that are illegal in a string, use an escape character.\n",
    "* An escape character is a backslash \\ followed by the character you want to isert.\n",
    "* An example of an illegal character is a double quote inside a string that is surrounded by double quotes:\n",
    "\n",
    "         Code\t  Result\n",
    "        \\'   -  Single Quote\t\n",
    "        \\\\   -  Backslash\t\n",
    "        \\n   -  New Line\t\n",
    "        \\r   -  Carriage Return\t\n",
    "        \\t   -  Tab\t\n",
    "        \\b   -  Backspace\t\n",
    "        \\f   -  Form Feed\t\n",
    "        \\ooo -  Octal value\t\n",
    "        \\xhh -  Hex value"
   ]
  },
  {
   "cell_type": "code",
   "execution_count": 110,
   "id": "b69d6ac9",
   "metadata": {},
   "outputs": [
    {
     "ename": "SyntaxError",
     "evalue": "invalid syntax (110194180.py, line 4)",
     "output_type": "error",
     "traceback": [
      "\u001b[1;36m  File \u001b[1;32m\"C:\\Users\\gadha\\AppData\\Local\\Temp\\ipykernel_10940\\110194180.py\"\u001b[1;36m, line \u001b[1;32m4\u001b[0m\n\u001b[1;33m    txt = \"We are the so-called \"Vikings\" from the north.\"\u001b[0m\n\u001b[1;37m                                 ^\u001b[0m\n\u001b[1;31mSyntaxError\u001b[0m\u001b[1;31m:\u001b[0m invalid syntax\n"
     ]
    }
   ],
   "source": [
    "'''You will get an error if you use double quotes \n",
    "inside a string that is surrounded by double quotes:'''\n",
    "\n",
    "txt = \"We are the so-called \"Vikings\" from the north.\""
   ]
  },
  {
   "cell_type": "code",
   "execution_count": 111,
   "id": "5970a431",
   "metadata": {},
   "outputs": [
    {
     "name": "stdout",
     "output_type": "stream",
     "text": [
      "We are the so-called \"Vikings\" from the north.\n"
     ]
    }
   ],
   "source": [
    "# To fix this problem, use the escape character \\\":\n",
    "txt = \"We are the so-called \\\"Vikings\\\" from the north.\"\n",
    "print(txt)"
   ]
  },
  {
   "cell_type": "markdown",
   "id": "73e63d3f",
   "metadata": {},
   "source": [
    "    capitalize()\tConverts the first character to upper case\n",
    "    casefold()\t  Converts string into lower case\n",
    "    center()\t    Returns a centered string\n",
    "    count()\t     Returns the number of times a specified value occurs in string\n",
    "    encode()\t    Returns an encoded version of the string\n",
    "    endswith()\t  Returns true if string ends with the specified value\n",
    "    expandtabs()\tSets the tab size of the string\n",
    "    find()\t      Searches string for a specified value and returns position of where it was found\n",
    "    format()\t    Formats specified values in a string\n",
    "    format_map()\tFormats specified values in a string\n",
    "    index()\t     Searches the string for a specified value and returns the position of where it was found\n",
    "    isalnum()\t   Returns True if all characters in the string are alphanumeric\n",
    "    isalpha()\t   Returns True if all characters in the string are in the alphabet\n",
    "    isdecimal()\t Returns True if all characters in the string are decimals\n",
    "    isdigit()\t   Returns True if all characters in the string are digits\n",
    "    isidentifier()  Returns True if the string is an identifier\n",
    "    islower()\t   Returns True if all characters in the string are lower case\n",
    "    isnumeric()\t Returns True if all characters in the string are numeric\n",
    "    isprintable()   Returns True if all characters in the string are printable\n",
    "    isspace()\t   Returns True if all characters in the string are whitespaces\n",
    "    istitle()\t   Returns True if the string follows the rules of a title\n",
    "    isupper()\t   Returns True if all characters in the string are upper case\n",
    "    join()\t      Joins the elements of an iterable to the end of the string\n",
    "    ljust()\t     Returns a left justified version of the string\n",
    "    lower()\t     Converts a string into lower case\n",
    "    lstrip()\t    Returns a left trim version of the string\n",
    "    maketrans()\t Returns a translation table to be used in translations\n",
    "    partition()\t Returns a tuple where the string is parted into three parts\n",
    "    replace()\t   Returns a string where a specified value is replaced with a specified value\n",
    "    rfind()\t     Searches the string for a specified value and returns the last position of where it was found\n",
    "    rindex()\t    Searches the string for a specified value and returns the last position of where it was found\n",
    "    rjust()\t     Returns a right justified version of the string\n",
    "    rpartition()\tReturns a tuple where the string is parted into three parts\n",
    "    rsplit()\t    Splits the string at the specified separator, and returns a list\n",
    "    rstrip()\t    Returns a right trim version of the string\n",
    "    split()\t     Splits the string at the specified separator, and returns a list\n",
    "    splitlines()\tSplits the string at line breaks and returns a list\n",
    "    startswith()\tReturns true if the string starts with the specified value\n",
    "    strip()\t     Returns a trimmed version of the string\n",
    "    swapcase()\t  Swaps cases, lower case becomes upper case and vice versa\n",
    "    title()\t     Converts the first character of each word to upper case\n",
    "    translate()\t Returns a translated string\n",
    "    upper()\t     Converts a string into upper case\n",
    "    zfill()\t     Fills the string with a specified number of 0 values at the beginning"
   ]
  }
 ],
 "metadata": {
  "kernelspec": {
   "display_name": "Python 3 (ipykernel)",
   "language": "python",
   "name": "python3"
  },
  "language_info": {
   "codemirror_mode": {
    "name": "ipython",
    "version": 3
   },
   "file_extension": ".py",
   "mimetype": "text/x-python",
   "name": "python",
   "nbconvert_exporter": "python",
   "pygments_lexer": "ipython3",
   "version": "3.9.13"
  }
 },
 "nbformat": 4,
 "nbformat_minor": 5
}
