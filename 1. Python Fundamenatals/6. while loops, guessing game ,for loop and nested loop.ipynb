{
 "cells": [
  {
   "cell_type": "markdown",
   "id": "3dccf4f7",
   "metadata": {},
   "source": [
    "# Loops (iteration control block)\n",
    "* if we want to do some work repeatedly then we place that work in the loops\n",
    "\n",
    "## type of loops in python \n",
    "1. for loop\n",
    "2. while loop\n",
    "\n",
    "## use of loops\n",
    "Loops are an important programming construct that allow us to repeat \"code blocks\". Python uses \"for loops\" when the \"number of iterations are known\" and \"while loops\" when the \"number of iterations are unknown\". \n",
    "* Iterations refers to the number of times a loop's code block is run.\n"
   ]
  },
  {
   "cell_type": "markdown",
   "id": "fb044777",
   "metadata": {},
   "source": [
    "# 1.While loop\n",
    "A while loop is a control flow statement that allows you to execute a block of code repeatedly as long as a specified condition is true\n",
    "\n",
    "The condition is evaluated before each iteration of the loop. If the condition is true, the code insie the loop is executed. This process continues until the condition is false, at which point the loop terminates and control is passed to the next statement after the loop.\n",
    "\n",
    "Note that you need to ensure that the condition will eventually become false, otherwise the loop will run indefinitely and the program will hang."
   ]
  },
  {
   "cell_type": "code",
   "execution_count": 2,
   "id": "0dafd91a",
   "metadata": {
    "scrolled": false
   },
   "outputs": [
    {
     "name": "stdout",
     "output_type": "stream",
     "text": [
      "1\n",
      "2\n",
      "3\n",
      "4\n",
      "5\n",
      "6\n",
      "7\n",
      "8\n",
      "9\n",
      "10\n"
     ]
    }
   ],
   "source": [
    "i = 1\n",
    "while i<=10:\n",
    "    print(i)\n",
    "    i +=1"
   ]
  },
  {
   "cell_type": "code",
   "execution_count": 3,
   "id": "582c2172",
   "metadata": {
    "scrolled": true
   },
   "outputs": [
    {
     "name": "stdout",
     "output_type": "stream",
     "text": [
      "enter the number11\n",
      "11\n",
      "22\n",
      "33\n",
      "44\n",
      "55\n",
      "66\n",
      "77\n",
      "88\n",
      "99\n",
      "110\n"
     ]
    }
   ],
   "source": [
    "number = int(input(\"enter the number\"))\n",
    "\n",
    "i = 1 # initilization statment\n",
    "\n",
    "while i<number: # condition statment \n",
    "    print(number * i)\n",
    "    i+=1 # update statement\n",
    "# execute this in python tutor website"
   ]
  },
  {
   "cell_type": "code",
   "execution_count": 23,
   "id": "0102e986",
   "metadata": {},
   "outputs": [
    {
     "name": "stdout",
     "output_type": "stream",
     "text": [
      "Enter a number: 5\n",
      "sum of number upto 5 is:  15\n"
     ]
    }
   ],
   "source": [
    "# Sum of User enter number 1 to till end\n",
    "number = int(input(\"Enter a number: \"))\n",
    "i = 0\n",
    "sum = 0\n",
    "while i<=number:\n",
    "    sum += i\n",
    "    i +=1\n",
    "print(\"sum of number upto\", number , \"is: \",sum)"
   ]
  },
  {
   "cell_type": "code",
   "execution_count": 26,
   "id": "1d940752",
   "metadata": {},
   "outputs": [
    {
     "name": "stdout",
     "output_type": "stream",
     "text": [
      "Enter a number3\n",
      "factorial for 3 is 6\n"
     ]
    }
   ],
   "source": [
    "# Find factorial\n",
    "number = int(input(\"Enter a number\"))\n",
    "i = 1\n",
    "fact = 1\n",
    "while i<=number:\n",
    "    fact *= i\n",
    "    i +=1 #updating the value of i\n",
    "print(\"factorial for\",number,\"is\",fact)"
   ]
  },
  {
   "cell_type": "code",
   "execution_count": 4,
   "id": "a39bf6c0",
   "metadata": {},
   "outputs": [
    {
     "name": "stdout",
     "output_type": "stream",
     "text": [
      "enter the number20\n",
      "20 * 1 = 20\n",
      "20 * 2 = 40\n",
      "20 * 3 = 60\n",
      "20 * 4 = 80\n",
      "20 * 5 = 100\n",
      "20 * 6 = 120\n",
      "20 * 7 = 140\n",
      "20 * 8 = 160\n",
      "20 * 9 = 180\n",
      "20 * 10 = 200\n"
     ]
    }
   ],
   "source": [
    "# print table of numbers\n",
    "number = int(input(\"enter the number\"))\n",
    "\n",
    "i = 1\n",
    "while i<11:\n",
    "    print(number,\"*\",i,\"=\",number * i)\n",
    "    i+=1"
   ]
  },
  {
   "cell_type": "code",
   "execution_count": 2,
   "id": "7491725e",
   "metadata": {},
   "outputs": [
    {
     "name": "stdout",
     "output_type": "stream",
     "text": [
      "enter the number30\n",
      "30 * 1 = 30\n",
      "30 * 2 = 900\n",
      "30 * 3 = 27000\n",
      "30 * 4 = 810000\n",
      "30 * 5 = 24300000\n",
      "30 * 6 = 729000000\n",
      "30 * 7 = 21870000000\n",
      "30 * 8 = 656100000000\n",
      "30 * 9 = 19683000000000\n",
      "30 * 10 = 590490000000000\n"
     ]
    }
   ],
   "source": [
    "number = int(input(\"enter the number\"))\n",
    "\n",
    "i = 1\n",
    "\n",
    "while i<11:\n",
    "    print(number,\"*\",i,\"=\",number ** i)\n",
    "    i+=1"
   ]
  },
  {
   "cell_type": "code",
   "execution_count": 3,
   "id": "714d8b98",
   "metadata": {},
   "outputs": [
    {
     "name": "stdout",
     "output_type": "stream",
     "text": [
      "1\n",
      "2\n",
      "3\n",
      "4\n",
      "5\n",
      "i is no longer less than 6\n"
     ]
    }
   ],
   "source": [
    "'''With the else statement we can run a block of code once \n",
    "when the condition no longer is true:'''\n",
    "\n",
    "i = 1\n",
    "while i < 6:\n",
    "    print(i)\n",
    "    i += 1\n",
    "else:\n",
    "    print(\"i is no longer less than 6\")"
   ]
  },
  {
   "cell_type": "markdown",
   "id": "1ef0c244",
   "metadata": {},
   "source": [
    "# guessing game\n",
    "\n"
   ]
  },
  {
   "cell_type": "code",
   "execution_count": 14,
   "id": "83fcb56a",
   "metadata": {},
   "outputs": [],
   "source": [
    "import random"
   ]
  },
  {
   "cell_type": "code",
   "execution_count": 15,
   "id": "d6b6ec91",
   "metadata": {},
   "outputs": [
    {
     "data": {
      "text/plain": [
       "41"
      ]
     },
     "execution_count": 15,
     "metadata": {},
     "output_type": "execute_result"
    }
   ],
   "source": [
    "random.randint(1,100)\n",
    "# this is the way to generate the random numbers in a given range"
   ]
  },
  {
   "cell_type": "code",
   "execution_count": 17,
   "id": "16060b56",
   "metadata": {},
   "outputs": [
    {
     "name": "stdout",
     "output_type": "stream",
     "text": [
      "guess the number50\n",
      "guess higher\n",
      "guess the number60\n",
      "guess lower\n",
      "guess the number55\n",
      "guess higher\n",
      "guess the number57\n",
      "right answer\n"
     ]
    }
   ],
   "source": [
    "jackpot = random.randint(1,100)\n",
    "\n",
    "guess = int(input(\"guess the number\")) #by giving int we are doing type conversion\n",
    "\n",
    "while guess != jackpot:\n",
    "    if guess < jackpot:\n",
    "        print(\"guess higher\")\n",
    "    else :\n",
    "        print(\"guess lower\")\n",
    "    guess = int(input(\"guess the number\"))\n",
    "    \n",
    "print(\"right answer\")    "
   ]
  },
  {
   "cell_type": "code",
   "execution_count": 18,
   "id": "462f12f8",
   "metadata": {},
   "outputs": [
    {
     "name": "stdout",
     "output_type": "stream",
     "text": [
      "guess the number60\n",
      "guess lower\n",
      "guess the number40\n",
      "guess lower\n",
      "guess the number30\n",
      "guess lower\n",
      "guess the number20\n",
      "guess lower\n",
      "guess the number10\n",
      "guess higher\n",
      "guess the number15\n",
      "correct answer\n",
      "you took 6 attempts\n"
     ]
    }
   ],
   "source": [
    "jackpot = random.randint(1,100)\n",
    "\n",
    "guess = int(input(\"guess the number\")) #by giving int we are dong type conversion\n",
    "counter = 1\n",
    "\n",
    "while guess != jackpot:\n",
    "    if guess < jackpot:\n",
    "        print(\"guess higher\")\n",
    "    else :\n",
    "        print(\"guess lower\")\n",
    "    guess = int(input(\"guess the number\"))\n",
    "    counter += 1\n",
    "    \n",
    "print(\"correct answer\")    \n",
    "print(\"you took\",counter,\"attempts\")"
   ]
  },
  {
   "cell_type": "markdown",
   "id": "5d98598e",
   "metadata": {},
   "source": [
    "# 2.For loop\n",
    "* A for loop is used for iterating over a sequence (that is either a list, a tuple, a dictionary, a set, or a string)."
   ]
  },
  {
   "cell_type": "markdown",
   "id": "6b60d932",
   "metadata": {},
   "source": [
    "### The range() Function\n",
    ">* It is a built in function that is used to generate a sequence of numbers.\n",
    ">* The range() function returns a sequence of numbers, starting from 0 by default, and increments by 1 (by default), and ends at a specified number.\n",
    ">* The range() function can be used in a for loop to iterate through a sequence of numbers.\n",
    "* **start :** An integer that represents the value of the sequence (default value is 0)\n",
    "* **stop :** An integer that represents the ending value of the sequence(the value is not included in the sequence)\n",
    "* **step :** An integer that represents the increment value of the sequence(dufault value is 1)"
   ]
  },
  {
   "cell_type": "code",
   "execution_count": 25,
   "id": "e671d1f2",
   "metadata": {},
   "outputs": [
    {
     "name": "stdout",
     "output_type": "stream",
     "text": [
      "2\n",
      "3\n",
      "4\n",
      "5\n"
     ]
    }
   ],
   "source": [
    "'''The range() function defaults to 0 as a starting value, \n",
    "however it is possible to specify the starting value by adding a parameter: \n",
    "range(2, 6), which means values from 2 to 6 (but not including 6):'''\n",
    "for x in range(2, 6):\n",
    "    print(x)"
   ]
  },
  {
   "cell_type": "code",
   "execution_count": 26,
   "id": "2becf446",
   "metadata": {},
   "outputs": [
    {
     "data": {
      "text/plain": [
       "range(1, 11)"
      ]
     },
     "execution_count": 26,
     "metadata": {},
     "output_type": "execute_result"
    }
   ],
   "source": [
    "# range function \n",
    "range(1,11) \n",
    "# here numbers generated are 1 to 10, here 11 is note included"
   ]
  },
  {
   "cell_type": "code",
   "execution_count": 27,
   "id": "13485a31",
   "metadata": {},
   "outputs": [
    {
     "data": {
      "text/plain": [
       "[1, 2, 3, 4, 5, 6, 7, 8, 9, 10]"
      ]
     },
     "execution_count": 27,
     "metadata": {},
     "output_type": "execute_result"
    }
   ],
   "source": [
    "# we can convert this into any type of the data type ex. list\n",
    "list(range(1,11))"
   ]
  },
  {
   "cell_type": "code",
   "execution_count": 28,
   "id": "e09644d3",
   "metadata": {},
   "outputs": [
    {
     "data": {
      "text/plain": [
       "[1, 3, 5, 7, 9]"
      ]
     },
     "execution_count": 28,
     "metadata": {},
     "output_type": "execute_result"
    }
   ],
   "source": [
    "list(range(1,11,2))\n",
    "# here the third value 2 is a step function which defines the gap between range "
   ]
  },
  {
   "cell_type": "code",
   "execution_count": 6,
   "id": "89b1b8b4",
   "metadata": {},
   "outputs": [
    {
     "data": {
      "text/plain": [
       "[1, 4, 7, 10, 13, 16, 19]"
      ]
     },
     "execution_count": 6,
     "metadata": {},
     "output_type": "execute_result"
    }
   ],
   "source": [
    "list(range(1,20,3)) # her egap is 3"
   ]
  },
  {
   "cell_type": "code",
   "execution_count": 7,
   "id": "299e17d5",
   "metadata": {},
   "outputs": [
    {
     "data": {
      "text/plain": [
       "[10, 8, 6, 4, 2]"
      ]
     },
     "execution_count": 7,
     "metadata": {},
     "output_type": "execute_result"
    }
   ],
   "source": [
    "list(range(10,0,-2))"
   ]
  },
  {
   "cell_type": "code",
   "execution_count": 8,
   "id": "7acc3497",
   "metadata": {},
   "outputs": [
    {
     "data": {
      "text/plain": [
       "'kolkata'"
      ]
     },
     "execution_count": 8,
     "metadata": {},
     "output_type": "execute_result"
    }
   ],
   "source": [
    "# sequence function\n",
    "# string\n",
    "\"kolkata\" # kolkata is a sequence of characters"
   ]
  },
  {
   "cell_type": "code",
   "execution_count": 9,
   "id": "18373d56",
   "metadata": {},
   "outputs": [
    {
     "data": {
      "text/plain": [
       "['kolkata', 'delhi', 'mumbai']"
      ]
     },
     "execution_count": 9,
     "metadata": {},
     "output_type": "execute_result"
    }
   ],
   "source": [
    "['kolkata','delhi','mumbai']\n",
    "#this is sequence - something which is in order\n",
    "# sets,tuples, lists are also sequence"
   ]
  },
  {
   "cell_type": "code",
   "execution_count": null,
   "id": "2ea53902",
   "metadata": {},
   "outputs": [],
   "source": [
    "# what for loop does is either it will iterate on range or on sequence"
   ]
  },
  {
   "cell_type": "code",
   "execution_count": 16,
   "id": "04da3dcc",
   "metadata": {},
   "outputs": [
    {
     "name": "stdout",
     "output_type": "stream",
     "text": [
      "0\n",
      "1\n",
      "2\n",
      "3\n",
      "4\n",
      "5\n"
     ]
    }
   ],
   "source": [
    "for x in range(6):\n",
    "    print(x)"
   ]
  },
  {
   "cell_type": "code",
   "execution_count": 17,
   "id": "6b5b7b74",
   "metadata": {},
   "outputs": [
    {
     "name": "stdout",
     "output_type": "stream",
     "text": [
      "1\n",
      "2\n",
      "3\n",
      "4\n",
      "5\n",
      "6\n",
      "7\n",
      "8\n",
      "9\n",
      "10\n"
     ]
    }
   ],
   "source": [
    "for i in range(1,11):\n",
    "    print(i)"
   ]
  },
  {
   "cell_type": "code",
   "execution_count": 18,
   "id": "98e1752e",
   "metadata": {},
   "outputs": [
    {
     "name": "stdout",
     "output_type": "stream",
     "text": [
      "1\n",
      "3\n",
      "5\n",
      "7\n",
      "9\n"
     ]
    }
   ],
   "source": [
    "for i in range(1,11,2):\n",
    "    print(i)"
   ]
  },
  {
   "cell_type": "code",
   "execution_count": 19,
   "id": "84e7f817",
   "metadata": {},
   "outputs": [
    {
     "name": "stdout",
     "output_type": "stream",
     "text": [
      "11\n",
      "9\n",
      "7\n",
      "5\n",
      "3\n",
      "1\n"
     ]
    }
   ],
   "source": [
    "for i in range(11,0,-2):\n",
    "    print(i)"
   ]
  },
  {
   "cell_type": "code",
   "execution_count": 8,
   "id": "cac067f7",
   "metadata": {},
   "outputs": [
    {
     "name": "stdout",
     "output_type": "stream",
     "text": [
      "1 = 1\n",
      "2 = 4\n",
      "3 = 9\n",
      "4 = 16\n",
      "5 = 25\n",
      "6 = 36\n",
      "7 = 49\n",
      "8 = 64\n",
      "9 = 81\n",
      "10 = 100\n"
     ]
    }
   ],
   "source": [
    "for i in range(1,11):\n",
    "    print(i,\"=\",i**2)"
   ]
  },
  {
   "cell_type": "code",
   "execution_count": 9,
   "id": "ba8c6fed",
   "metadata": {},
   "outputs": [
    {
     "name": "stdout",
     "output_type": "stream",
     "text": [
      "2 * 1 = 2\n",
      "2 * 2 = 4\n",
      "2 * 3 = 6\n",
      "2 * 4 = 8\n",
      "2 * 5 = 10\n",
      "2 * 6 = 12\n",
      "2 * 7 = 14\n",
      "2 * 8 = 16\n",
      "2 * 9 = 18\n",
      "2 * 10 = 20\n"
     ]
    }
   ],
   "source": [
    "for i in range(1,11):\n",
    "    print(\"2\",\"*\",i,\"=\",i*2)"
   ]
  },
  {
   "cell_type": "code",
   "execution_count": 10,
   "id": "6e448bb2",
   "metadata": {},
   "outputs": [
    {
     "name": "stdout",
     "output_type": "stream",
     "text": [
      "enter number: 9\n",
      "9 * 1 = 9\n",
      "9 * 2 = 18\n",
      "9 * 3 = 27\n",
      "9 * 4 = 36\n",
      "9 * 5 = 45\n",
      "9 * 6 = 54\n",
      "9 * 7 = 63\n",
      "9 * 8 = 72\n",
      "9 * 9 = 81\n",
      "9 * 10 = 90\n"
     ]
    }
   ],
   "source": [
    "num=int(input(\"enter number: \"))\n",
    "for i in range(1,11):\n",
    "    print(num,\"*\",i,\"=\",i*num)"
   ]
  },
  {
   "cell_type": "code",
   "execution_count": 20,
   "id": "f29595dd",
   "metadata": {},
   "outputs": [
    {
     "name": "stdout",
     "output_type": "stream",
     "text": [
      "k\n",
      "o\n",
      "l\n",
      "k\n",
      "a\n",
      "t\n",
      "a\n"
     ]
    }
   ],
   "source": [
    "# strings are iterable objects, they contain a sequence of characters:\n",
    "for i in \"kolkata\":\n",
    "    print(i)"
   ]
  },
  {
   "cell_type": "code",
   "execution_count": 21,
   "id": "b9d9410e",
   "metadata": {},
   "outputs": [
    {
     "name": "stdout",
     "output_type": "stream",
     "text": [
      "1\n",
      "2\n",
      "3\n",
      "5\n"
     ]
    }
   ],
   "source": [
    "for i in [1,2,3,5]: #list\n",
    "    print(i)"
   ]
  },
  {
   "cell_type": "code",
   "execution_count": 22,
   "id": "79e1db51",
   "metadata": {},
   "outputs": [
    {
     "name": "stdout",
     "output_type": "stream",
     "text": [
      "1\n",
      "2\n",
      "3\n",
      "5\n"
     ]
    }
   ],
   "source": [
    "for i in {1,2,3,5}: # sets\n",
    "    print(i)"
   ]
  },
  {
   "cell_type": "code",
   "execution_count": 23,
   "id": "93dc164b",
   "metadata": {},
   "outputs": [
    {
     "name": "stdout",
     "output_type": "stream",
     "text": [
      "1\n",
      "2\n",
      "3\n",
      "5\n"
     ]
    }
   ],
   "source": [
    "for i in (1,2,3,5): # tuple\n",
    "    print(i)"
   ]
  },
  {
   "cell_type": "code",
   "execution_count": 5,
   "id": "9ceaf684",
   "metadata": {},
   "outputs": [
    {
     "name": "stdout",
     "output_type": "stream",
     "text": [
      "1 <class 'int'>\n",
      "2 <class 'int'>\n",
      "3 <class 'int'>\n",
      "4 <class 'int'>\n",
      "5 <class 'int'>\n"
     ]
    }
   ],
   "source": [
    "l=[1,2,3,4,5]\n",
    "for i in l:\n",
    "    print(i, type(i))"
   ]
  },
  {
   "cell_type": "code",
   "execution_count": 6,
   "id": "1a42a74d",
   "metadata": {},
   "outputs": [
    {
     "name": "stdout",
     "output_type": "stream",
     "text": [
      "anju\n",
      "soman\n",
      "krish\n",
      "naik\n"
     ]
    }
   ],
   "source": [
    "l1=[\"anju\",\"soman\",\"krish\",\"naik\"]\n",
    "for i in l1:\n",
    "    print(i)"
   ]
  },
  {
   "cell_type": "code",
   "execution_count": 7,
   "id": "8543f781",
   "metadata": {},
   "outputs": [
    {
     "name": "stdout",
     "output_type": "stream",
     "text": [
      "INFY 100\n",
      "INFY 101\n",
      "INFY 102\n",
      "INFY 103\n",
      "INFY 104\n",
      "INFY 105\n",
      "INFY 106\n",
      "INFY 107\n",
      "INFY 108\n",
      "INFY 109\n",
      "INFY 110\n",
      "INFY 111\n",
      "INFY 112\n",
      "INFY 113\n",
      "INFY 114\n",
      "INFY 115\n",
      "INFY 116\n",
      "INFY 117\n",
      "INFY 118\n",
      "INFY 119\n",
      "INFY 120\n"
     ]
    }
   ],
   "source": [
    "# generate the employee id for infosys company\n",
    "for i in range(100,121):\n",
    "    print(\"INFY\",i)"
   ]
  },
  {
   "cell_type": "code",
   "execution_count": 11,
   "id": "1cd69ead",
   "metadata": {},
   "outputs": [
    {
     "name": "stdout",
     "output_type": "stream",
     "text": [
      "1 = odd number\n",
      "2 = even number\n",
      "3 = odd number\n",
      "4 = even number\n",
      "5 = odd number\n",
      "6 = even number\n",
      "7 = odd number\n",
      "8 = even number\n",
      "9 = odd number\n",
      "10 = even number\n"
     ]
    }
   ],
   "source": [
    "for i in range(1,11):\n",
    "    if (i%2)==0:\n",
    "        print(i,\"=\",\"even number\")\n",
    "    else:\n",
    "        print(i,\"=\",\"odd number\")"
   ]
  },
  {
   "cell_type": "code",
   "execution_count": 24,
   "id": "64c7b63b",
   "metadata": {},
   "outputs": [],
   "source": [
    "# when you know that loop will run for fix number if times then use the for loop\n",
    "# if don't know how many times loop will run then use the while loop"
   ]
  },
  {
   "cell_type": "markdown",
   "id": "7214b86c",
   "metadata": {},
   "source": [
    "# Nested loops"
   ]
  },
  {
   "cell_type": "markdown",
   "id": "eab65e01",
   "metadata": {},
   "source": [
    "* when you are using one loop in another loop it is called nested loop\n",
    "* consumed time to run a nested loop is n square so it is less preffered\n",
    "\n",
    "\"\"\"you can use nestes loops in banking sector when you have the user information to be found so you will run a one loop\n",
    "and then you have to find the transactions by the user so we will learn another loop to know the transactions\"\"\""
   ]
  },
  {
   "cell_type": "code",
   "execution_count": 12,
   "id": "da9bbff5",
   "metadata": {},
   "outputs": [
    {
     "name": "stdout",
     "output_type": "stream",
     "text": [
      "red apple\n",
      "red banana\n",
      "red cherry\n",
      "big apple\n",
      "big banana\n",
      "big cherry\n",
      "tasty apple\n",
      "tasty banana\n",
      "tasty cherry\n"
     ]
    }
   ],
   "source": [
    "adj = [\"red\", \"big\", \"tasty\"]\n",
    "fruits = [\"apple\", \"banana\", \"cherry\"]\n",
    "\n",
    "for x in adj:\n",
    "    for y in fruits:\n",
    "        print(x, y)\n",
    "# run this in python tutor"
   ]
  },
  {
   "cell_type": "code",
   "execution_count": null,
   "id": "2e1272ae",
   "metadata": {},
   "outputs": [],
   "source": [
    "# if we want to print the following sequence for the astricks(*)\n",
    "# * \n",
    "# **\n",
    "# ***\n",
    "# ****\n",
    "# *****"
   ]
  },
  {
   "cell_type": "code",
   "execution_count": 10,
   "id": "7a022ed7",
   "metadata": {},
   "outputs": [
    {
     "name": "stdout",
     "output_type": "stream",
     "text": [
      "enter the number of rows30\n",
      "* \n",
      "* * \n",
      "* * * \n",
      "* * * * \n",
      "* * * * * \n",
      "* * * * * * \n",
      "* * * * * * * \n",
      "* * * * * * * * \n",
      "* * * * * * * * * \n",
      "* * * * * * * * * * \n",
      "* * * * * * * * * * * \n",
      "* * * * * * * * * * * * \n",
      "* * * * * * * * * * * * * \n",
      "* * * * * * * * * * * * * * \n",
      "* * * * * * * * * * * * * * * \n",
      "* * * * * * * * * * * * * * * * \n",
      "* * * * * * * * * * * * * * * * * \n",
      "* * * * * * * * * * * * * * * * * * \n",
      "* * * * * * * * * * * * * * * * * * * \n",
      "* * * * * * * * * * * * * * * * * * * * \n",
      "* * * * * * * * * * * * * * * * * * * * * \n",
      "* * * * * * * * * * * * * * * * * * * * * * \n",
      "* * * * * * * * * * * * * * * * * * * * * * * \n",
      "* * * * * * * * * * * * * * * * * * * * * * * * \n",
      "* * * * * * * * * * * * * * * * * * * * * * * * * \n",
      "* * * * * * * * * * * * * * * * * * * * * * * * * * \n",
      "* * * * * * * * * * * * * * * * * * * * * * * * * * * \n",
      "* * * * * * * * * * * * * * * * * * * * * * * * * * * * \n",
      "* * * * * * * * * * * * * * * * * * * * * * * * * * * * * \n",
      "* * * * * * * * * * * * * * * * * * * * * * * * * * * * * * \n"
     ]
    }
   ],
   "source": [
    "rows=int(input(\"enter the number of rows\"))\n",
    "\n",
    "for i in range(1,rows+1):\n",
    "    for j in range(0,i):\n",
    "        print(\"*\",end=\" \")\n",
    "    print(\"\")"
   ]
  },
  {
   "cell_type": "code",
   "execution_count": 11,
   "id": "b1f41869",
   "metadata": {},
   "outputs": [
    {
     "name": "stdout",
     "output_type": "stream",
     "text": [
      "4\n"
     ]
    }
   ],
   "source": [
    "x = [8, 10, 1, 2, 3, 4, 4, 5, 6, 7, 7, 8]\n",
    "l = []\n",
    "for i in x:\n",
    "    if i not in l:\n",
    "        l.append(i)\n",
    "    else:\n",
    "        print(i)\n",
    "        break"
   ]
  },
  {
   "cell_type": "markdown",
   "id": "ece91a57",
   "metadata": {},
   "source": [
    " "
   ]
  }
 ],
 "metadata": {
  "kernelspec": {
   "display_name": "Python 3 (ipykernel)",
   "language": "python",
   "name": "python3"
  },
  "language_info": {
   "codemirror_mode": {
    "name": "ipython",
    "version": 3
   },
   "file_extension": ".py",
   "mimetype": "text/x-python",
   "name": "python",
   "nbconvert_exporter": "python",
   "pygments_lexer": "ipython3",
   "version": "3.9.13"
  }
 },
 "nbformat": 4,
 "nbformat_minor": 5
}
