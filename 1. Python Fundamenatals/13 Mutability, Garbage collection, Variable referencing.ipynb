{
 "cells": [
  {
   "cell_type": "markdown",
   "id": "77f851e8",
   "metadata": {},
   "source": [
    "# Variable and memory references"
   ]
  },
  {
   "cell_type": "code",
   "execution_count": 1,
   "id": "a77e83e1",
   "metadata": {},
   "outputs": [],
   "source": [
    "# call by object reference\n",
    "a=4"
   ]
  },
  {
   "cell_type": "code",
   "execution_count": 2,
   "id": "69422dc5",
   "metadata": {},
   "outputs": [
    {
     "data": {
      "text/plain": [
       "1590917622160"
      ]
     },
     "execution_count": 2,
     "metadata": {},
     "output_type": "execute_result"
    }
   ],
   "source": [
    "id(a)"
   ]
  },
  {
   "cell_type": "code",
   "execution_count": 3,
   "id": "b1c5b0c3",
   "metadata": {},
   "outputs": [
    {
     "data": {
      "text/plain": [
       "'0x286014f0150'"
      ]
     },
     "execution_count": 3,
     "metadata": {},
     "output_type": "execute_result"
    }
   ],
   "source": [
    "hex(2774570828112)"
   ]
  },
  {
   "cell_type": "code",
   "execution_count": 4,
   "id": "b636c023",
   "metadata": {},
   "outputs": [
    {
     "data": {
      "text/plain": [
       "1590917622160"
      ]
     },
     "execution_count": 4,
     "metadata": {},
     "output_type": "execute_result"
    }
   ],
   "source": [
    "id(4)"
   ]
  },
  {
   "cell_type": "markdown",
   "id": "7e5e7a96",
   "metadata": {},
   "source": [
    "## Aliasing"
   ]
  },
  {
   "cell_type": "code",
   "execution_count": 5,
   "id": "9574fff1",
   "metadata": {},
   "outputs": [],
   "source": [
    "a=4"
   ]
  },
  {
   "cell_type": "code",
   "execution_count": 6,
   "id": "cbf6f30e",
   "metadata": {},
   "outputs": [],
   "source": [
    "b=a\n",
    "# this is called aliasing"
   ]
  },
  {
   "cell_type": "code",
   "execution_count": 7,
   "id": "52ff43ed",
   "metadata": {},
   "outputs": [
    {
     "data": {
      "text/plain": [
       "1590917622160"
      ]
     },
     "execution_count": 7,
     "metadata": {},
     "output_type": "execute_result"
    }
   ],
   "source": [
    "id(a)"
   ]
  },
  {
   "cell_type": "code",
   "execution_count": 8,
   "id": "2175f875",
   "metadata": {},
   "outputs": [
    {
     "data": {
      "text/plain": [
       "1590917622160"
      ]
     },
     "execution_count": 8,
     "metadata": {},
     "output_type": "execute_result"
    }
   ],
   "source": [
    "id(b)\n",
    "# id of a and b is same because they are pointing at a same point"
   ]
  },
  {
   "cell_type": "code",
   "execution_count": 9,
   "id": "884c36b1",
   "metadata": {},
   "outputs": [],
   "source": [
    "del a\n",
    "# only a will be deleted not the 5 and 5 is still in the b"
   ]
  },
  {
   "cell_type": "code",
   "execution_count": 10,
   "id": "be587017",
   "metadata": {},
   "outputs": [
    {
     "data": {
      "text/plain": [
       "4"
      ]
     },
     "execution_count": 10,
     "metadata": {},
     "output_type": "execute_result"
    }
   ],
   "source": [
    "b"
   ]
  },
  {
   "cell_type": "code",
   "execution_count": 11,
   "id": "14900f4f",
   "metadata": {},
   "outputs": [],
   "source": [
    "a=5"
   ]
  },
  {
   "cell_type": "code",
   "execution_count": 12,
   "id": "bd97f772",
   "metadata": {},
   "outputs": [],
   "source": [
    "b=a"
   ]
  },
  {
   "cell_type": "code",
   "execution_count": 13,
   "id": "a800f6d0",
   "metadata": {},
   "outputs": [],
   "source": [
    "a=6"
   ]
  },
  {
   "cell_type": "code",
   "execution_count": 14,
   "id": "63518900",
   "metadata": {},
   "outputs": [
    {
     "data": {
      "text/plain": [
       "5"
      ]
     },
     "execution_count": 14,
     "metadata": {},
     "output_type": "execute_result"
    }
   ],
   "source": [
    "b"
   ]
  },
  {
   "cell_type": "markdown",
   "id": "21627837",
   "metadata": {},
   "source": [
    "## Reference Counting"
   ]
  },
  {
   "cell_type": "code",
   "execution_count": 15,
   "id": "257403fc",
   "metadata": {},
   "outputs": [],
   "source": [
    "import sys"
   ]
  },
  {
   "cell_type": "code",
   "execution_count": 16,
   "id": "380e945d",
   "metadata": {},
   "outputs": [],
   "source": [
    "a=\"corona\""
   ]
  },
  {
   "cell_type": "code",
   "execution_count": 17,
   "id": "7ea809fd",
   "metadata": {},
   "outputs": [],
   "source": [
    "b=a"
   ]
  },
  {
   "cell_type": "code",
   "execution_count": 18,
   "id": "de9e5a0e",
   "metadata": {},
   "outputs": [],
   "source": [
    "c=b"
   ]
  },
  {
   "cell_type": "code",
   "execution_count": 19,
   "id": "a6950b77",
   "metadata": {},
   "outputs": [
    {
     "data": {
      "text/plain": [
       "1591001228528"
      ]
     },
     "execution_count": 19,
     "metadata": {},
     "output_type": "execute_result"
    }
   ],
   "source": [
    "id(a)"
   ]
  },
  {
   "cell_type": "code",
   "execution_count": 20,
   "id": "0e4dfc15",
   "metadata": {},
   "outputs": [
    {
     "data": {
      "text/plain": [
       "1591001228528"
      ]
     },
     "execution_count": 20,
     "metadata": {},
     "output_type": "execute_result"
    }
   ],
   "source": [
    "id(b)"
   ]
  },
  {
   "cell_type": "code",
   "execution_count": 21,
   "id": "da86924f",
   "metadata": {},
   "outputs": [
    {
     "data": {
      "text/plain": [
       "1591001228528"
      ]
     },
     "execution_count": 21,
     "metadata": {},
     "output_type": "execute_result"
    }
   ],
   "source": [
    "id(c)\n",
    "# all a,b and c have the same id because we did aliasing"
   ]
  },
  {
   "cell_type": "code",
   "execution_count": 22,
   "id": "bb18557d",
   "metadata": {},
   "outputs": [
    {
     "data": {
      "text/plain": [
       "'corona'"
      ]
     },
     "execution_count": 22,
     "metadata": {},
     "output_type": "execute_result"
    }
   ],
   "source": [
    "b"
   ]
  },
  {
   "cell_type": "code",
   "execution_count": 23,
   "id": "24c7bdbe",
   "metadata": {},
   "outputs": [
    {
     "data": {
      "text/plain": [
       "'corona'"
      ]
     },
     "execution_count": 23,
     "metadata": {},
     "output_type": "execute_result"
    }
   ],
   "source": [
    "c"
   ]
  },
  {
   "cell_type": "code",
   "execution_count": 24,
   "id": "ab2a02d9",
   "metadata": {},
   "outputs": [
    {
     "data": {
      "text/plain": [
       "17"
      ]
     },
     "execution_count": 24,
     "metadata": {},
     "output_type": "execute_result"
    }
   ],
   "source": [
    "'''we want to know that at corona's \n",
    "memory loacation how many variables are pointing'''\n",
    "sys.getrefcount(a)"
   ]
  },
  {
   "cell_type": "markdown",
   "id": "e46ba1f7",
   "metadata": {},
   "source": [
    "## Garbage collection"
   ]
  },
  {
   "cell_type": "markdown",
   "id": "3a907f99",
   "metadata": {},
   "source": [
    "## Weird stuff"
   ]
  },
  {
   "cell_type": "code",
   "execution_count": 25,
   "id": "c042d82e",
   "metadata": {},
   "outputs": [],
   "source": [
    "a=2"
   ]
  },
  {
   "cell_type": "code",
   "execution_count": 26,
   "id": "3094c11a",
   "metadata": {},
   "outputs": [],
   "source": [
    "b=a"
   ]
  },
  {
   "cell_type": "code",
   "execution_count": 27,
   "id": "02648fe3",
   "metadata": {},
   "outputs": [],
   "source": [
    "c=b"
   ]
  },
  {
   "cell_type": "code",
   "execution_count": 31,
   "id": "3317536a",
   "metadata": {},
   "outputs": [
    {
     "data": {
      "text/plain": [
       "3"
      ]
     },
     "execution_count": 31,
     "metadata": {},
     "output_type": "execute_result"
    }
   ],
   "source": [
    "'''there are 1636 other variable which are \n",
    "pointing out at this memory location'''\n",
    "sys.getrefcount(a)"
   ]
  },
  {
   "cell_type": "code",
   "execution_count": 32,
   "id": "5b5d2af3",
   "metadata": {},
   "outputs": [],
   "source": [
    "a=373"
   ]
  },
  {
   "cell_type": "code",
   "execution_count": 33,
   "id": "a0e385bf",
   "metadata": {},
   "outputs": [],
   "source": [
    "b=a"
   ]
  },
  {
   "cell_type": "code",
   "execution_count": 34,
   "id": "b19bd4b3",
   "metadata": {},
   "outputs": [],
   "source": [
    "c=b"
   ]
  },
  {
   "cell_type": "code",
   "execution_count": 35,
   "id": "6c1ae4d9",
   "metadata": {},
   "outputs": [
    {
     "data": {
      "text/plain": [
       "4"
      ]
     },
     "execution_count": 35,
     "metadata": {},
     "output_type": "execute_result"
    }
   ],
   "source": [
    "sys.getrefcount(a)"
   ]
  },
  {
   "cell_type": "code",
   "execution_count": 36,
   "id": "04c79bc3",
   "metadata": {},
   "outputs": [],
   "source": [
    "a=4"
   ]
  },
  {
   "cell_type": "code",
   "execution_count": 37,
   "id": "bee12293",
   "metadata": {},
   "outputs": [],
   "source": [
    "b=4"
   ]
  },
  {
   "cell_type": "code",
   "execution_count": 38,
   "id": "7f1866d9",
   "metadata": {},
   "outputs": [
    {
     "data": {
      "text/plain": [
       "1590917622160"
      ]
     },
     "execution_count": 38,
     "metadata": {},
     "output_type": "execute_result"
    }
   ],
   "source": [
    "id(a)"
   ]
  },
  {
   "cell_type": "code",
   "execution_count": 39,
   "id": "503cb2b1",
   "metadata": {},
   "outputs": [
    {
     "data": {
      "text/plain": [
       "1590917622160"
      ]
     },
     "execution_count": 39,
     "metadata": {},
     "output_type": "execute_result"
    }
   ],
   "source": [
    "id(b)"
   ]
  },
  {
   "cell_type": "code",
   "execution_count": 40,
   "id": "cc84b85c",
   "metadata": {},
   "outputs": [],
   "source": [
    "a=256"
   ]
  },
  {
   "cell_type": "code",
   "execution_count": 41,
   "id": "2885068f",
   "metadata": {},
   "outputs": [],
   "source": [
    "b=256"
   ]
  },
  {
   "cell_type": "code",
   "execution_count": 42,
   "id": "9bea69f8",
   "metadata": {},
   "outputs": [
    {
     "data": {
      "text/plain": [
       "1590917818768"
      ]
     },
     "execution_count": 42,
     "metadata": {},
     "output_type": "execute_result"
    }
   ],
   "source": [
    "id(a)"
   ]
  },
  {
   "cell_type": "code",
   "execution_count": 43,
   "id": "b2ecefb4",
   "metadata": {},
   "outputs": [
    {
     "data": {
      "text/plain": [
       "1590917818768"
      ]
     },
     "execution_count": 43,
     "metadata": {},
     "output_type": "execute_result"
    }
   ],
   "source": [
    "id(b)"
   ]
  },
  {
   "cell_type": "code",
   "execution_count": 44,
   "id": "70039d97",
   "metadata": {},
   "outputs": [],
   "source": [
    "a=257"
   ]
  },
  {
   "cell_type": "code",
   "execution_count": 45,
   "id": "fe11aa03",
   "metadata": {},
   "outputs": [],
   "source": [
    "b=257"
   ]
  },
  {
   "cell_type": "code",
   "execution_count": 46,
   "id": "c44b1779",
   "metadata": {},
   "outputs": [
    {
     "data": {
      "text/plain": [
       "1591000959856"
      ]
     },
     "execution_count": 46,
     "metadata": {},
     "output_type": "execute_result"
    }
   ],
   "source": [
    "id(a)"
   ]
  },
  {
   "cell_type": "code",
   "execution_count": 47,
   "id": "ab1aa389",
   "metadata": {},
   "outputs": [
    {
     "data": {
      "text/plain": [
       "1591001370672"
      ]
     },
     "execution_count": 47,
     "metadata": {},
     "output_type": "execute_result"
    }
   ],
   "source": [
    "id(b)"
   ]
  },
  {
   "cell_type": "code",
   "execution_count": 48,
   "id": "304bdefe",
   "metadata": {},
   "outputs": [],
   "source": [
    "a=\"haldia\""
   ]
  },
  {
   "cell_type": "code",
   "execution_count": 49,
   "id": "6ed16e29",
   "metadata": {},
   "outputs": [],
   "source": [
    "b=\"haldia\""
   ]
  },
  {
   "cell_type": "code",
   "execution_count": 50,
   "id": "5e406b0e",
   "metadata": {},
   "outputs": [
    {
     "data": {
      "text/plain": [
       "1591001220208"
      ]
     },
     "execution_count": 50,
     "metadata": {},
     "output_type": "execute_result"
    }
   ],
   "source": [
    "id(a)"
   ]
  },
  {
   "cell_type": "code",
   "execution_count": 51,
   "id": "247cf7d2",
   "metadata": {},
   "outputs": [
    {
     "data": {
      "text/plain": [
       "1591001220208"
      ]
     },
     "execution_count": 51,
     "metadata": {},
     "output_type": "execute_result"
    }
   ],
   "source": [
    "id(b)"
   ]
  },
  {
   "cell_type": "code",
   "execution_count": 52,
   "id": "1fc5464d",
   "metadata": {},
   "outputs": [],
   "source": [
    "a=\"haldia institute of technology\""
   ]
  },
  {
   "cell_type": "code",
   "execution_count": 53,
   "id": "6746a30d",
   "metadata": {},
   "outputs": [],
   "source": [
    "b=\"haldia institute of technology\"\n",
    "# this is not a valid identifier"
   ]
  },
  {
   "cell_type": "code",
   "execution_count": 54,
   "id": "c03ab35b",
   "metadata": {},
   "outputs": [
    {
     "data": {
      "text/plain": [
       "1591001354848"
      ]
     },
     "execution_count": 54,
     "metadata": {},
     "output_type": "execute_result"
    }
   ],
   "source": [
    "id(a)"
   ]
  },
  {
   "cell_type": "code",
   "execution_count": 55,
   "id": "13463f9e",
   "metadata": {},
   "outputs": [
    {
     "data": {
      "text/plain": [
       "1591001357728"
      ]
     },
     "execution_count": 55,
     "metadata": {},
     "output_type": "execute_result"
    }
   ],
   "source": [
    "id(b)"
   ]
  },
  {
   "cell_type": "code",
   "execution_count": 56,
   "id": "f6099b59",
   "metadata": {},
   "outputs": [],
   "source": [
    "a=\"haldia_ins_tech\""
   ]
  },
  {
   "cell_type": "code",
   "execution_count": 57,
   "id": "f39c7603",
   "metadata": {},
   "outputs": [],
   "source": [
    "b=\"haldia_ins_tech\"\n",
    "# this one is a valid identifier"
   ]
  },
  {
   "cell_type": "code",
   "execution_count": 58,
   "id": "a9840b36",
   "metadata": {},
   "outputs": [
    {
     "data": {
      "text/plain": [
       "1591000495152"
      ]
     },
     "execution_count": 58,
     "metadata": {},
     "output_type": "execute_result"
    }
   ],
   "source": [
    "id(a)"
   ]
  },
  {
   "cell_type": "code",
   "execution_count": 59,
   "id": "59e4f116",
   "metadata": {},
   "outputs": [
    {
     "data": {
      "text/plain": [
       "1591000495152"
      ]
     },
     "execution_count": 59,
     "metadata": {},
     "output_type": "execute_result"
    }
   ],
   "source": [
    "id(b)"
   ]
  },
  {
   "cell_type": "markdown",
   "id": "6f6de3e4",
   "metadata": {},
   "source": [
    "### Python's weird behviour\n",
    "\n",
    "1. Getrefcount anomly\n",
    "2. -5 to 256\n",
    "3. Strings"
   ]
  },
  {
   "cell_type": "code",
   "execution_count": 60,
   "id": "d1d4503a",
   "metadata": {},
   "outputs": [],
   "source": [
    "L=[1,2,3]"
   ]
  },
  {
   "cell_type": "code",
   "execution_count": 61,
   "id": "9df6fd77",
   "metadata": {},
   "outputs": [
    {
     "data": {
      "text/plain": [
       "1591001252096"
      ]
     },
     "execution_count": 61,
     "metadata": {},
     "output_type": "execute_result"
    }
   ],
   "source": [
    "id(L)"
   ]
  },
  {
   "cell_type": "code",
   "execution_count": 62,
   "id": "7b56e9c6",
   "metadata": {},
   "outputs": [
    {
     "data": {
      "text/plain": [
       "1590917622064"
      ]
     },
     "execution_count": 62,
     "metadata": {},
     "output_type": "execute_result"
    }
   ],
   "source": [
    "id(1)"
   ]
  },
  {
   "cell_type": "code",
   "execution_count": 63,
   "id": "079910e7",
   "metadata": {},
   "outputs": [
    {
     "data": {
      "text/plain": [
       "1590917622064"
      ]
     },
     "execution_count": 63,
     "metadata": {},
     "output_type": "execute_result"
    }
   ],
   "source": [
    "id(L[0])"
   ]
  },
  {
   "cell_type": "code",
   "execution_count": 64,
   "id": "da83b845",
   "metadata": {},
   "outputs": [
    {
     "data": {
      "text/plain": [
       "1590917622096"
      ]
     },
     "execution_count": 64,
     "metadata": {},
     "output_type": "execute_result"
    }
   ],
   "source": [
    "id(2)"
   ]
  },
  {
   "cell_type": "code",
   "execution_count": 65,
   "id": "2c05821a",
   "metadata": {},
   "outputs": [
    {
     "data": {
      "text/plain": [
       "1590917622096"
      ]
     },
     "execution_count": 65,
     "metadata": {},
     "output_type": "execute_result"
    }
   ],
   "source": [
    "id(L[1])"
   ]
  },
  {
   "cell_type": "markdown",
   "id": "9e535259",
   "metadata": {},
   "source": [
    "## Mutability\n",
    "\n",
    "### Mutability refers to the ability to change or edit data in it's memory location\n",
    "Mutability depends on the data type\n",
    "1. Immutable data type\n",
    "    * String\n",
    "    * int\n",
    "    * float\n",
    "    * bool\n",
    "    * comlex\n",
    "    * tuple\n",
    "2. Mutable data types\n",
    "    * List\n",
    "    * Dictionary\n",
    "    * Sets"
   ]
  },
  {
   "cell_type": "code",
   "execution_count": 66,
   "id": "c464652b",
   "metadata": {},
   "outputs": [],
   "source": [
    "a=\"hello\""
   ]
  },
  {
   "cell_type": "code",
   "execution_count": 67,
   "id": "e245bfb5",
   "metadata": {},
   "outputs": [
    {
     "data": {
      "text/plain": [
       "1590997407024"
      ]
     },
     "execution_count": 67,
     "metadata": {},
     "output_type": "execute_result"
    }
   ],
   "source": [
    "id(a)"
   ]
  },
  {
   "cell_type": "code",
   "execution_count": 68,
   "id": "96d27c56",
   "metadata": {},
   "outputs": [],
   "source": [
    "a=a+\"wolrd\""
   ]
  },
  {
   "cell_type": "code",
   "execution_count": 69,
   "id": "3221d52e",
   "metadata": {},
   "outputs": [
    {
     "data": {
      "text/plain": [
       "'hellowolrd'"
      ]
     },
     "execution_count": 69,
     "metadata": {},
     "output_type": "execute_result"
    }
   ],
   "source": [
    "a"
   ]
  },
  {
   "cell_type": "code",
   "execution_count": 70,
   "id": "0d1939e2",
   "metadata": {},
   "outputs": [
    {
     "data": {
      "text/plain": [
       "1591001299312"
      ]
     },
     "execution_count": 70,
     "metadata": {},
     "output_type": "execute_result"
    }
   ],
   "source": [
    "id(a)"
   ]
  },
  {
   "cell_type": "code",
   "execution_count": 71,
   "id": "e865b4fe",
   "metadata": {},
   "outputs": [],
   "source": [
    "T=(1,2,3)"
   ]
  },
  {
   "cell_type": "code",
   "execution_count": 72,
   "id": "8ae0e7ba",
   "metadata": {},
   "outputs": [
    {
     "data": {
      "text/plain": [
       "1590996392128"
      ]
     },
     "execution_count": 72,
     "metadata": {},
     "output_type": "execute_result"
    }
   ],
   "source": [
    "id(T)"
   ]
  },
  {
   "cell_type": "code",
   "execution_count": 73,
   "id": "ed8536e2",
   "metadata": {},
   "outputs": [],
   "source": [
    "T=T+(5,6)\n",
    "# with this it will create the new T at another memory location\n",
    "# it will not make any changes in the original memory address\n",
    "# this is true for all immutable data types"
   ]
  },
  {
   "cell_type": "code",
   "execution_count": 74,
   "id": "28eaeced",
   "metadata": {},
   "outputs": [
    {
     "data": {
      "text/plain": [
       "(1, 2, 3, 5, 6)"
      ]
     },
     "execution_count": 74,
     "metadata": {},
     "output_type": "execute_result"
    }
   ],
   "source": [
    "T"
   ]
  },
  {
   "cell_type": "code",
   "execution_count": 75,
   "id": "aa0bacf7",
   "metadata": {},
   "outputs": [
    {
     "data": {
      "text/plain": [
       "1591001051440"
      ]
     },
     "execution_count": 75,
     "metadata": {},
     "output_type": "execute_result"
    }
   ],
   "source": [
    "id(T)"
   ]
  },
  {
   "cell_type": "code",
   "execution_count": 76,
   "id": "1c2b85cf",
   "metadata": {},
   "outputs": [],
   "source": [
    "L=[1,2,3]"
   ]
  },
  {
   "cell_type": "code",
   "execution_count": 77,
   "id": "5e026ecf",
   "metadata": {},
   "outputs": [
    {
     "data": {
      "text/plain": [
       "[1, 2, 3]"
      ]
     },
     "execution_count": 77,
     "metadata": {},
     "output_type": "execute_result"
    }
   ],
   "source": [
    "L"
   ]
  },
  {
   "cell_type": "code",
   "execution_count": 78,
   "id": "43d605e1",
   "metadata": {},
   "outputs": [
    {
     "data": {
      "text/plain": [
       "1591001235584"
      ]
     },
     "execution_count": 78,
     "metadata": {},
     "output_type": "execute_result"
    }
   ],
   "source": [
    "id(L)"
   ]
  },
  {
   "cell_type": "code",
   "execution_count": 79,
   "id": "9111a2c8",
   "metadata": {},
   "outputs": [],
   "source": [
    "L.append(4)"
   ]
  },
  {
   "cell_type": "code",
   "execution_count": 80,
   "id": "7bc6634b",
   "metadata": {},
   "outputs": [
    {
     "data": {
      "text/plain": [
       "[1, 2, 3, 4]"
      ]
     },
     "execution_count": 80,
     "metadata": {},
     "output_type": "execute_result"
    }
   ],
   "source": [
    "L"
   ]
  },
  {
   "cell_type": "code",
   "execution_count": 81,
   "id": "be05ade7",
   "metadata": {},
   "outputs": [
    {
     "data": {
      "text/plain": [
       "1591001235584"
      ]
     },
     "execution_count": 81,
     "metadata": {},
     "output_type": "execute_result"
    }
   ],
   "source": [
    "id(L)\n",
    "# even after adding the 4 the change will occur in the same memory location"
   ]
  },
  {
   "cell_type": "markdown",
   "id": "1af395af",
   "metadata": {},
   "source": [
    "### Side effects of Mutation"
   ]
  },
  {
   "cell_type": "code",
   "execution_count": 82,
   "id": "e4364ca8",
   "metadata": {},
   "outputs": [],
   "source": [
    "L=[1,2,3]"
   ]
  },
  {
   "cell_type": "code",
   "execution_count": 83,
   "id": "3ef74d07",
   "metadata": {},
   "outputs": [],
   "source": [
    "L1=L"
   ]
  },
  {
   "cell_type": "code",
   "execution_count": 84,
   "id": "70d90e8d",
   "metadata": {},
   "outputs": [
    {
     "data": {
      "text/plain": [
       "[1, 2, 3]"
      ]
     },
     "execution_count": 84,
     "metadata": {},
     "output_type": "execute_result"
    }
   ],
   "source": [
    "L"
   ]
  },
  {
   "cell_type": "code",
   "execution_count": 85,
   "id": "27aa2f14",
   "metadata": {},
   "outputs": [
    {
     "data": {
      "text/plain": [
       "[1, 2, 3]"
      ]
     },
     "execution_count": 85,
     "metadata": {},
     "output_type": "execute_result"
    }
   ],
   "source": [
    "L1"
   ]
  },
  {
   "cell_type": "code",
   "execution_count": 86,
   "id": "9e0eb605",
   "metadata": {},
   "outputs": [
    {
     "data": {
      "text/plain": [
       "1591001191168"
      ]
     },
     "execution_count": 86,
     "metadata": {},
     "output_type": "execute_result"
    }
   ],
   "source": [
    "id(L)"
   ]
  },
  {
   "cell_type": "code",
   "execution_count": 87,
   "id": "677d94ef",
   "metadata": {},
   "outputs": [
    {
     "data": {
      "text/plain": [
       "1591001191168"
      ]
     },
     "execution_count": 87,
     "metadata": {},
     "output_type": "execute_result"
    }
   ],
   "source": [
    "id(L1)"
   ]
  },
  {
   "cell_type": "code",
   "execution_count": 88,
   "id": "4134f57d",
   "metadata": {},
   "outputs": [],
   "source": [
    "L1.append(4)"
   ]
  },
  {
   "cell_type": "code",
   "execution_count": 89,
   "id": "df6ecbee",
   "metadata": {},
   "outputs": [
    {
     "data": {
      "text/plain": [
       "1591001191168"
      ]
     },
     "execution_count": 89,
     "metadata": {},
     "output_type": "execute_result"
    }
   ],
   "source": [
    "id(L1)"
   ]
  },
  {
   "cell_type": "code",
   "execution_count": 90,
   "id": "515d83db",
   "metadata": {},
   "outputs": [
    {
     "data": {
      "text/plain": [
       "1591001191168"
      ]
     },
     "execution_count": 90,
     "metadata": {},
     "output_type": "execute_result"
    }
   ],
   "source": [
    "id(L)"
   ]
  },
  {
   "cell_type": "code",
   "execution_count": 91,
   "id": "76ffbdbe",
   "metadata": {},
   "outputs": [
    {
     "data": {
      "text/plain": [
       "[1, 2, 3, 4]"
      ]
     },
     "execution_count": 91,
     "metadata": {},
     "output_type": "execute_result"
    }
   ],
   "source": [
    "L"
   ]
  },
  {
   "cell_type": "code",
   "execution_count": 93,
   "id": "16748ece",
   "metadata": {},
   "outputs": [
    {
     "data": {
      "text/plain": [
       "\"beacause list is mutable data type \\nit make changes in the L also \\n\\n# if in a company we use list from any othe team mate \\nand we copy that list and make changes in that \\n\\n# then it will also make changes in the original list \\nwhich the other teammate doesn't want\""
      ]
     },
     "execution_count": 93,
     "metadata": {},
     "output_type": "execute_result"
    }
   ],
   "source": [
    "'''beacause list is mutable data type \n",
    "it make changes in the L also \n",
    "\n",
    "# if in a company we use list from any othe team mate \n",
    "and we copy that list and make changes in that \n",
    "\n",
    "# then it will also make changes in the original list \n",
    "which the other teammate doesn't want'''"
   ]
  },
  {
   "cell_type": "markdown",
   "id": "3b4f2825",
   "metadata": {},
   "source": [
    "# Cloning \n",
    "when we are working with the mutable data type we will not do like L=L1\n",
    "instead we will use the cloning"
   ]
  },
  {
   "cell_type": "code",
   "execution_count": 94,
   "id": "842d00d8",
   "metadata": {},
   "outputs": [
    {
     "data": {
      "text/plain": [
       "[1, 2, 3, 4]"
      ]
     },
     "execution_count": 94,
     "metadata": {},
     "output_type": "execute_result"
    }
   ],
   "source": [
    "L"
   ]
  },
  {
   "cell_type": "code",
   "execution_count": 95,
   "id": "bca68adc",
   "metadata": {},
   "outputs": [],
   "source": [
    "L1=L[:]\n",
    "# we are doing cloning here \n",
    "# so the id of L and L1 will be different after doing cloning"
   ]
  },
  {
   "cell_type": "code",
   "execution_count": 96,
   "id": "dfce9f61",
   "metadata": {},
   "outputs": [
    {
     "data": {
      "text/plain": [
       "1591001191168"
      ]
     },
     "execution_count": 96,
     "metadata": {},
     "output_type": "execute_result"
    }
   ],
   "source": [
    "id(L)"
   ]
  },
  {
   "cell_type": "code",
   "execution_count": 97,
   "id": "0ac82e7b",
   "metadata": {},
   "outputs": [
    {
     "data": {
      "text/plain": [
       "1591001270720"
      ]
     },
     "execution_count": 97,
     "metadata": {},
     "output_type": "execute_result"
    }
   ],
   "source": [
    "id(L1)"
   ]
  },
  {
   "cell_type": "markdown",
   "id": "f1860d17",
   "metadata": {},
   "source": [
    "### Example"
   ]
  },
  {
   "cell_type": "code",
   "execution_count": 98,
   "id": "38320f5b",
   "metadata": {},
   "outputs": [],
   "source": [
    "a=(1,2,3,[4,5])"
   ]
  },
  {
   "cell_type": "code",
   "execution_count": 99,
   "id": "8f7a3303",
   "metadata": {},
   "outputs": [
    {
     "data": {
      "text/plain": [
       "(1, 2, 3, [4, 5])"
      ]
     },
     "execution_count": 99,
     "metadata": {},
     "output_type": "execute_result"
    }
   ],
   "source": [
    "a"
   ]
  },
  {
   "cell_type": "code",
   "execution_count": 100,
   "id": "2a10bfc1",
   "metadata": {},
   "outputs": [],
   "source": [
    "a[-1][-1]=500\n",
    "# we are making changes in the list inside the tuple not in the items of the tuple \n",
    "# so this will work and not throw any error"
   ]
  },
  {
   "cell_type": "code",
   "execution_count": 101,
   "id": "6dffe2ed",
   "metadata": {},
   "outputs": [
    {
     "data": {
      "text/plain": [
       "(1, 2, 3, [4, 500])"
      ]
     },
     "execution_count": 101,
     "metadata": {},
     "output_type": "execute_result"
    }
   ],
   "source": [
    "a"
   ]
  },
  {
   "cell_type": "code",
   "execution_count": 102,
   "id": "dc0d8654",
   "metadata": {},
   "outputs": [],
   "source": [
    "b=[1,2,3,(4,5)]"
   ]
  },
  {
   "cell_type": "code",
   "execution_count": 103,
   "id": "1a0fd57a",
   "metadata": {},
   "outputs": [
    {
     "data": {
      "text/plain": [
       "[1, 2, 3, (4, 5)]"
      ]
     },
     "execution_count": 103,
     "metadata": {},
     "output_type": "execute_result"
    }
   ],
   "source": [
    "b"
   ]
  },
  {
   "cell_type": "code",
   "execution_count": 104,
   "id": "454ba0ec",
   "metadata": {},
   "outputs": [
    {
     "ename": "TypeError",
     "evalue": "'tuple' object does not support item assignment",
     "output_type": "error",
     "traceback": [
      "\u001b[1;31m---------------------------------------------------------------------------\u001b[0m",
      "\u001b[1;31mTypeError\u001b[0m                                 Traceback (most recent call last)",
      "\u001b[1;32m~\\AppData\\Local\\Temp\\ipykernel_11252\\1021571347.py\u001b[0m in \u001b[0;36m<module>\u001b[1;34m\u001b[0m\n\u001b[1;32m----> 1\u001b[1;33m \u001b[0mb\u001b[0m\u001b[1;33m[\u001b[0m\u001b[1;33m-\u001b[0m\u001b[1;36m1\u001b[0m\u001b[1;33m]\u001b[0m\u001b[1;33m[\u001b[0m\u001b[1;33m-\u001b[0m\u001b[1;36m1\u001b[0m\u001b[1;33m]\u001b[0m\u001b[1;33m=\u001b[0m\u001b[1;36m500\u001b[0m\u001b[1;33m\u001b[0m\u001b[1;33m\u001b[0m\u001b[0m\n\u001b[0m\u001b[0;32m      2\u001b[0m \u001b[1;31m# this will not work and throw an error because tuple is immutable\u001b[0m\u001b[1;33m\u001b[0m\u001b[1;33m\u001b[0m\u001b[0m\n",
      "\u001b[1;31mTypeError\u001b[0m: 'tuple' object does not support item assignment"
     ]
    }
   ],
   "source": [
    "b[-1][-1]=500\n",
    "# this will not work and throw an error because tuple is immutable"
   ]
  },
  {
   "cell_type": "code",
   "execution_count": 105,
   "id": "08707b31",
   "metadata": {},
   "outputs": [],
   "source": [
    "a=[1,2]"
   ]
  },
  {
   "cell_type": "code",
   "execution_count": 106,
   "id": "e39d1aa2",
   "metadata": {},
   "outputs": [],
   "source": [
    "b=[3,4]"
   ]
  },
  {
   "cell_type": "code",
   "execution_count": 107,
   "id": "2d504b13",
   "metadata": {},
   "outputs": [],
   "source": [
    "c=(a,b)"
   ]
  },
  {
   "cell_type": "code",
   "execution_count": 108,
   "id": "a8e08db1",
   "metadata": {},
   "outputs": [
    {
     "data": {
      "text/plain": [
       "([1, 2], [3, 4])"
      ]
     },
     "execution_count": 108,
     "metadata": {},
     "output_type": "execute_result"
    }
   ],
   "source": [
    "c"
   ]
  },
  {
   "cell_type": "code",
   "execution_count": 109,
   "id": "12ea56be",
   "metadata": {},
   "outputs": [
    {
     "data": {
      "text/plain": [
       "1591001669568"
      ]
     },
     "execution_count": 109,
     "metadata": {},
     "output_type": "execute_result"
    }
   ],
   "source": [
    "id(a)"
   ]
  },
  {
   "cell_type": "code",
   "execution_count": 110,
   "id": "f40639c9",
   "metadata": {},
   "outputs": [
    {
     "data": {
      "text/plain": [
       "1591001304128"
      ]
     },
     "execution_count": 110,
     "metadata": {},
     "output_type": "execute_result"
    }
   ],
   "source": [
    "id(b)"
   ]
  },
  {
   "cell_type": "code",
   "execution_count": 111,
   "id": "a0742fb9",
   "metadata": {},
   "outputs": [
    {
     "data": {
      "text/plain": [
       "1591000407488"
      ]
     },
     "execution_count": 111,
     "metadata": {},
     "output_type": "execute_result"
    }
   ],
   "source": [
    "id(c)"
   ]
  },
  {
   "cell_type": "code",
   "execution_count": 117,
   "id": "a4a16b88",
   "metadata": {},
   "outputs": [],
   "source": [
    "c[0][0]=100\n",
    "# this will work because we are making changes in the list b \n",
    "# inside the tuple c"
   ]
  },
  {
   "cell_type": "code",
   "execution_count": 118,
   "id": "784b15ee",
   "metadata": {},
   "outputs": [
    {
     "data": {
      "text/plain": [
       "([100, 2], [3, 4])"
      ]
     },
     "execution_count": 118,
     "metadata": {},
     "output_type": "execute_result"
    }
   ],
   "source": [
    "c"
   ]
  },
  {
   "cell_type": "code",
   "execution_count": 119,
   "id": "ed85cdcc",
   "metadata": {},
   "outputs": [
    {
     "data": {
      "text/plain": [
       "1591001669568"
      ]
     },
     "execution_count": 119,
     "metadata": {},
     "output_type": "execute_result"
    }
   ],
   "source": [
    "id(a)"
   ]
  },
  {
   "cell_type": "code",
   "execution_count": 120,
   "id": "15994138",
   "metadata": {},
   "outputs": [
    {
     "data": {
      "text/plain": [
       "1591001304128"
      ]
     },
     "execution_count": 120,
     "metadata": {},
     "output_type": "execute_result"
    }
   ],
   "source": [
    "id(b)"
   ]
  },
  {
   "cell_type": "code",
   "execution_count": 121,
   "id": "a2f2987c",
   "metadata": {},
   "outputs": [
    {
     "data": {
      "text/plain": [
       "1591000407488"
      ]
     },
     "execution_count": 121,
     "metadata": {},
     "output_type": "execute_result"
    }
   ],
   "source": [
    "id(c)"
   ]
  },
  {
   "cell_type": "code",
   "execution_count": 122,
   "id": "1b6d9b3c",
   "metadata": {},
   "outputs": [],
   "source": [
    "L=[1,2,3]"
   ]
  },
  {
   "cell_type": "code",
   "execution_count": 123,
   "id": "ae6ffeb7",
   "metadata": {},
   "outputs": [
    {
     "data": {
      "text/plain": [
       "1591001281600"
      ]
     },
     "execution_count": 123,
     "metadata": {},
     "output_type": "execute_result"
    }
   ],
   "source": [
    "id(L)"
   ]
  },
  {
   "cell_type": "code",
   "execution_count": 124,
   "id": "36ded237",
   "metadata": {},
   "outputs": [],
   "source": [
    "# address will change if we do concatination\n",
    "L=L+[4,5]"
   ]
  },
  {
   "cell_type": "code",
   "execution_count": 125,
   "id": "b11efbc8",
   "metadata": {},
   "outputs": [
    {
     "data": {
      "text/plain": [
       "1591002116160"
      ]
     },
     "execution_count": 125,
     "metadata": {},
     "output_type": "execute_result"
    }
   ],
   "source": [
    "id(L)\n",
    "# address of L is changed due to concationation"
   ]
  },
  {
   "cell_type": "code",
   "execution_count": 126,
   "id": "f5f6d20e",
   "metadata": {},
   "outputs": [
    {
     "data": {
      "text/plain": [
       "([100, 2], [3, 4])"
      ]
     },
     "execution_count": 126,
     "metadata": {},
     "output_type": "execute_result"
    }
   ],
   "source": [
    "c"
   ]
  },
  {
   "cell_type": "code",
   "execution_count": 127,
   "id": "2bdd691d",
   "metadata": {},
   "outputs": [
    {
     "ename": "TypeError",
     "evalue": "'tuple' object does not support item assignment",
     "output_type": "error",
     "traceback": [
      "\u001b[1;31m---------------------------------------------------------------------------\u001b[0m",
      "\u001b[1;31mTypeError\u001b[0m                                 Traceback (most recent call last)",
      "\u001b[1;32m~\\AppData\\Local\\Temp\\ipykernel_11252\\3089238654.py\u001b[0m in \u001b[0;36m<module>\u001b[1;34m\u001b[0m\n\u001b[1;32m----> 1\u001b[1;33m \u001b[0mc\u001b[0m\u001b[1;33m[\u001b[0m\u001b[1;36m0\u001b[0m\u001b[1;33m]\u001b[0m\u001b[1;33m=\u001b[0m\u001b[0mc\u001b[0m\u001b[1;33m[\u001b[0m\u001b[1;36m0\u001b[0m\u001b[1;33m]\u001b[0m\u001b[1;33m+\u001b[0m\u001b[1;33m[\u001b[0m\u001b[1;36m5\u001b[0m\u001b[1;33m,\u001b[0m\u001b[1;36m6\u001b[0m\u001b[1;33m]\u001b[0m\u001b[1;33m\u001b[0m\u001b[1;33m\u001b[0m\u001b[0m\n\u001b[0m\u001b[0;32m      2\u001b[0m \u001b[1;31m# this will throw an error\u001b[0m\u001b[1;33m\u001b[0m\u001b[1;33m\u001b[0m\u001b[0m\n\u001b[0;32m      3\u001b[0m \u001b[1;31m# because we are making changes in the tuple c\u001b[0m\u001b[1;33m\u001b[0m\u001b[1;33m\u001b[0m\u001b[0m\n",
      "\u001b[1;31mTypeError\u001b[0m: 'tuple' object does not support item assignment"
     ]
    }
   ],
   "source": [
    "c[0]=c[0]+[5,6]\n",
    "# this will throw an error\n",
    "# because we are making changes in the tuple c"
   ]
  }
 ],
 "metadata": {
  "kernelspec": {
   "display_name": "Python 3 (ipykernel)",
   "language": "python",
   "name": "python3"
  },
  "language_info": {
   "codemirror_mode": {
    "name": "ipython",
    "version": 3
   },
   "file_extension": ".py",
   "mimetype": "text/x-python",
   "name": "python",
   "nbconvert_exporter": "python",
   "pygments_lexer": "ipython3",
   "version": "3.9.13"
  }
 },
 "nbformat": 4,
 "nbformat_minor": 5
}
