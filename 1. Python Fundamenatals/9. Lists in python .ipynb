{
 "cells": [
  {
   "cell_type": "markdown",
   "id": "593bedc1",
   "metadata": {},
   "source": [
    "# Python Collections (Arrays)\n",
    "* There are four collection data types in the Python programming language:\n",
    "\n",
    ">1. List is a collection which is ordered and changeable. Allows duplicate members.\n",
    ">2. Tuple is a collection which is ordered and unchangeable. Allows duplicate members.\n",
    ">3. Set is a collection which is unordered, unchangeable, and unindexed. No duplicate members.\n",
    ">4. Dictionary is a collection which is ordered and changeable. No duplicate members.\n",
    "\n",
    "* When choosing a collection type, it is useful to understand the properties of that type. Choosing the right type for a particular data set could mean retention of meaning, and, it could mean an increase in efficiency or security."
   ]
  },
  {
   "cell_type": "markdown",
   "id": "6b387407",
   "metadata": {},
   "source": [
    "# List\n",
    "1. What is a list\n",
    "2. List vs. Array\n",
    "3. create\n",
    "4. access\n",
    "5. edit\n",
    "6. add\n",
    "7. delete\n",
    "8. operatins\n",
    "9. functions"
   ]
  },
  {
   "cell_type": "markdown",
   "id": "c203c112",
   "metadata": {},
   "source": [
    "### 1.What is List\n",
    ">* List items are ordered, mutable and allow duplicate values.\n",
    ">* Lists are used to store multiple items in a single variable.\n",
    ">* Lists are one of 4 built-in data types in Python used to store collections of data, the other 3 are Tuple, Set, and Dictionary, all with different qualities and usage.\n",
    ">* Lists are created using square brackets:\n",
    ">* The list is changeable, meaning that we can change, add, and remove items in a list after it has been created.\n",
    ">* **Allow Duplicates** - Since lists are indexed, lists can have items with the same value:\n",
    ">* Lists can contain any arbitrary objects. List elements can be accessed by index. Lists can be nested to arbitrary depth.\n",
    ">* list() is a function, used to data type conversion"
   ]
  },
  {
   "cell_type": "code",
   "execution_count": 149,
   "id": "bc68269e",
   "metadata": {},
   "outputs": [],
   "source": [
    "# to know more about list type the below code\n",
    "list?"
   ]
  },
  {
   "cell_type": "markdown",
   "id": "fe6d7b08",
   "metadata": {},
   "source": [
    "### 2.List Vs. Array"
   ]
  },
  {
   "cell_type": "markdown",
   "id": "c88571ba",
   "metadata": {},
   "source": [
    "* list is a data type where you can save multiple things at a same time\n",
    "* array is homegenous data type\n",
    "* list can have different data types inside the same list\n",
    "* list can be heterogenous\n",
    "* array will have continous memory storage one after another\n",
    "* array are much faster\n",
    "* lists are more programmer friendly"
   ]
  },
  {
   "cell_type": "markdown",
   "id": "996cde53",
   "metadata": {},
   "source": [
    "### 3. creating the list"
   ]
  },
  {
   "cell_type": "code",
   "execution_count": 150,
   "id": "05ad4ba9",
   "metadata": {},
   "outputs": [
    {
     "data": {
      "text/plain": [
       "[]"
      ]
     },
     "execution_count": 150,
     "metadata": {},
     "output_type": "execute_result"
    }
   ],
   "source": [
    "l=[]\n",
    "l\n",
    "# this is empty list"
   ]
  },
  {
   "cell_type": "code",
   "execution_count": 151,
   "id": "58c43c7c",
   "metadata": {},
   "outputs": [
    {
     "name": "stdout",
     "output_type": "stream",
     "text": [
      "[1, 2, 3, 4]\n"
     ]
    }
   ],
   "source": [
    "# homogenous list\n",
    "L=[1,2,3,4]\n",
    "print(L)"
   ]
  },
  {
   "cell_type": "code",
   "execution_count": 152,
   "id": "ae086bec",
   "metadata": {},
   "outputs": [
    {
     "name": "stdout",
     "output_type": "stream",
     "text": [
      "['hello', 22, 'badhiya he', 'appu', 21, True, (5+6j)]\n"
     ]
    }
   ],
   "source": [
    "# heterogenous list:\n",
    "# A list can contain different data types:\n",
    "L2=[\"hello\",22,\"badhiya he\",\"appu\",21,True,5+6j]\n",
    "print(L2)"
   ]
  },
  {
   "cell_type": "code",
   "execution_count": 153,
   "id": "962ae007",
   "metadata": {},
   "outputs": [
    {
     "name": "stdout",
     "output_type": "stream",
     "text": [
      "['apple', 'banana', 'cherry']\n",
      "[1, 5, 7, 9, 3]\n",
      "[True, False, False]\n"
     ]
    }
   ],
   "source": [
    "# List items can be of any data type:\n",
    "# String, int and boolean data types:\n",
    "\n",
    "list1 = [\"apple\", \"banana\", \"cherry\"]\n",
    "list2 = [1, 5, 7, 9, 3]\n",
    "list3 = [True, False, False]\n",
    "print(list1)\n",
    "print(list2)\n",
    "print(list3)"
   ]
  },
  {
   "cell_type": "code",
   "execution_count": 154,
   "id": "c7709b71",
   "metadata": {},
   "outputs": [
    {
     "name": "stdout",
     "output_type": "stream",
     "text": [
      "['apple', 'banana', 'cherry']\n"
     ]
    }
   ],
   "source": [
    "thislist = [\"apple\", \"banana\", \"cherry\"]\n",
    "print(thislist)"
   ]
  },
  {
   "cell_type": "markdown",
   "id": "d87ecdf8",
   "metadata": {},
   "source": [
    ">* The list() Constructor\n",
    ">* It is also possible to use the list() constructor when creating a new list."
   ]
  },
  {
   "cell_type": "code",
   "execution_count": 155,
   "id": "a7297382",
   "metadata": {},
   "outputs": [
    {
     "data": {
      "text/plain": [
       "['h', 'a', 'l', 'd', 'i', 'a']"
      ]
     },
     "execution_count": 155,
     "metadata": {},
     "output_type": "execute_result"
    }
   ],
   "source": [
    "l5=list((\"haldia\"))\n",
    "l5"
   ]
  },
  {
   "cell_type": "code",
   "execution_count": 156,
   "id": "ad1a4e05",
   "metadata": {},
   "outputs": [
    {
     "name": "stdout",
     "output_type": "stream",
     "text": [
      "['apple', 'banana', 'cherry']\n"
     ]
    }
   ],
   "source": [
    "thislist = list((\"apple\", \"banana\", \"cherry\")) \n",
    "# note the double round-brackets\n",
    "print(thislist)"
   ]
  },
  {
   "cell_type": "code",
   "execution_count": 157,
   "id": "fb55d04f",
   "metadata": {},
   "outputs": [
    {
     "name": "stdout",
     "output_type": "stream",
     "text": [
      "['apple', 'banana', 'cherry', 'apple', 'cherry']\n"
     ]
    }
   ],
   "source": [
    "# Lists allow duplicate values:\n",
    "thislist = [\"apple\", \"banana\", \"cherry\", \"apple\", \"cherry\"]\n",
    "print(thislist)"
   ]
  },
  {
   "cell_type": "markdown",
   "id": "f633df16",
   "metadata": {},
   "source": [
    "### Multi-dimensional list\n",
    "* list within a list"
   ]
  },
  {
   "cell_type": "code",
   "execution_count": 158,
   "id": "100084a4",
   "metadata": {},
   "outputs": [
    {
     "data": {
      "text/plain": [
       "[1, 2, 3, [4, 5]]"
      ]
     },
     "execution_count": 158,
     "metadata": {},
     "output_type": "execute_result"
    }
   ],
   "source": [
    "# 2D list\n",
    "l3=[1,2,3,[4,5]]\n",
    "# it is heterogenous\n",
    "l3"
   ]
  },
  {
   "cell_type": "code",
   "execution_count": 159,
   "id": "fc9ff897",
   "metadata": {},
   "outputs": [
    {
     "data": {
      "text/plain": [
       "[[[1, 2], [5, 6], [7, 8]]]"
      ]
     },
     "execution_count": 159,
     "metadata": {},
     "output_type": "execute_result"
    }
   ],
   "source": [
    "# 3D list\n",
    "l4=[[[1,2],[5,6],[7,8]]]\n",
    "l4"
   ]
  },
  {
   "cell_type": "markdown",
   "id": "99794126",
   "metadata": {},
   "source": [
    "### 4. accessing the list\n",
    ">* List items are indexed and you can access them by referring to the index number:\n",
    ">* List items are indexed, the first item has index [0], the second item has index [1] etc."
   ]
  },
  {
   "cell_type": "code",
   "execution_count": 160,
   "id": "70d39948",
   "metadata": {},
   "outputs": [
    {
     "data": {
      "text/plain": [
       "1"
      ]
     },
     "execution_count": 160,
     "metadata": {},
     "output_type": "execute_result"
    }
   ],
   "source": [
    "L=[1,2,3,4]\n",
    "L[0]\n",
    "# [] used to get the index of the item saved in the list"
   ]
  },
  {
   "cell_type": "code",
   "execution_count": 161,
   "id": "84da4aca",
   "metadata": {},
   "outputs": [
    {
     "ename": "IndexError",
     "evalue": "list index out of range",
     "output_type": "error",
     "traceback": [
      "\u001b[1;31m---------------------------------------------------------------------------\u001b[0m",
      "\u001b[1;31mIndexError\u001b[0m                                Traceback (most recent call last)",
      "\u001b[1;32m~\\AppData\\Local\\Temp\\ipykernel_20684\\3923098151.py\u001b[0m in \u001b[0;36m<module>\u001b[1;34m\u001b[0m\n\u001b[0;32m      1\u001b[0m \u001b[1;31m# positive indexing\u001b[0m\u001b[1;33m\u001b[0m\u001b[1;33m\u001b[0m\u001b[0m\n\u001b[1;32m----> 2\u001b[1;33m \u001b[0mL\u001b[0m\u001b[1;33m[\u001b[0m\u001b[1;36m4\u001b[0m\u001b[1;33m]\u001b[0m\u001b[1;33m\u001b[0m\u001b[1;33m\u001b[0m\u001b[0m\n\u001b[0m\u001b[0;32m      3\u001b[0m \u001b[1;31m# we will get an index error\u001b[0m\u001b[1;33m\u001b[0m\u001b[1;33m\u001b[0m\u001b[0m\n\u001b[0;32m      4\u001b[0m \u001b[1;31m# because the given index is out of range\u001b[0m\u001b[1;33m\u001b[0m\u001b[1;33m\u001b[0m\u001b[0m\n\u001b[0;32m      5\u001b[0m \u001b[1;31m# index error - list index out of range\u001b[0m\u001b[1;33m\u001b[0m\u001b[1;33m\u001b[0m\u001b[0m\n",
      "\u001b[1;31mIndexError\u001b[0m: list index out of range"
     ]
    }
   ],
   "source": [
    "# positive indexing\n",
    "L[4]\n",
    "# we will get an index error\n",
    "# because the given index is out of range\n",
    "# index error - list index out of range"
   ]
  },
  {
   "cell_type": "markdown",
   "id": "88484ac6",
   "metadata": {},
   "source": [
    "* Range of Indexes\n",
    ">* You can specify a range of indexes by specifying where to start and where to end the range.\n",
    ">* When specifying a range, the return value will be a new list with the specified items."
   ]
  },
  {
   "cell_type": "markdown",
   "id": "45768f3d",
   "metadata": {},
   "source": [
    "### slicing\n",
    "#### List_name[from : to : jump ]\n",
    ">* **from**, **to** and **jump** must be same direction\n",
    ">* forward to forward\n",
    ">* backward to backward"
   ]
  },
  {
   "cell_type": "code",
   "execution_count": 162,
   "id": "caa836b7",
   "metadata": {
    "scrolled": true
   },
   "outputs": [
    {
     "name": "stdout",
     "output_type": "stream",
     "text": [
      "['cherry', 'orange', 'kiwi']\n"
     ]
    }
   ],
   "source": [
    "# Return the third, fourth, and fifth item:\n",
    "thislist = [\"apple\", \"banana\", \"cherry\", \"orange\", \"kiwi\", \"melon\", \"mango\"]\n",
    "print(thislist[2:5])"
   ]
  },
  {
   "cell_type": "markdown",
   "id": "03a41380",
   "metadata": {},
   "source": [
    "* Note: The search will start at index 2 (included) and end at index 5 (not included)."
   ]
  },
  {
   "cell_type": "code",
   "execution_count": 163,
   "id": "c2b50ca9",
   "metadata": {},
   "outputs": [
    {
     "name": "stdout",
     "output_type": "stream",
     "text": [
      "['apple', 'banana', 'cherry', 'orange']\n"
     ]
    }
   ],
   "source": [
    "# By leaving out the start value, the range will start at the first item:\n",
    "thislist = [\"apple\", \"banana\", \"cherry\", \"orange\", \"kiwi\", \"melon\", \"mango\"]\n",
    "print(thislist[:4])"
   ]
  },
  {
   "cell_type": "code",
   "execution_count": 164,
   "id": "44d7e7ea",
   "metadata": {},
   "outputs": [
    {
     "name": "stdout",
     "output_type": "stream",
     "text": [
      "['cherry', 'orange', 'kiwi', 'melon', 'mango']\n"
     ]
    }
   ],
   "source": [
    "# By leaving out the end value, the range will go on to the end of the list:\n",
    "thislist = [\"apple\", \"banana\", \"cherry\", \"orange\", \"kiwi\", \"melon\", \"mango\"]\n",
    "print(thislist[2:])"
   ]
  },
  {
   "cell_type": "markdown",
   "id": "370309c3",
   "metadata": {},
   "source": [
    "* Negative Indexing\n",
    ">* Negative indexing means start from the end\n",
    ">* -1 refers to the last item, -2 refers to the second last item etc."
   ]
  },
  {
   "cell_type": "code",
   "execution_count": 165,
   "id": "1bd844ca",
   "metadata": {},
   "outputs": [
    {
     "data": {
      "text/plain": [
       "4"
      ]
     },
     "execution_count": 165,
     "metadata": {},
     "output_type": "execute_result"
    }
   ],
   "source": [
    "# negative indexing\n",
    "L[-1]"
   ]
  },
  {
   "cell_type": "code",
   "execution_count": 166,
   "id": "deda2960",
   "metadata": {},
   "outputs": [
    {
     "name": "stdout",
     "output_type": "stream",
     "text": [
      "['orange', 'kiwi', 'melon']\n"
     ]
    }
   ],
   "source": [
    "# Range of Negative Indexes\n",
    "'''Specify negative indexes if you want to \n",
    "start the search from the end of the list:'''\n",
    "\n",
    "thislist = [\"apple\", \"banana\", \"cherry\", \"orange\", \"kiwi\", \"melon\", \"mango\"]\n",
    "print(thislist[-4:-1])"
   ]
  },
  {
   "cell_type": "code",
   "execution_count": 167,
   "id": "61bcea48",
   "metadata": {},
   "outputs": [
    {
     "data": {
      "text/plain": [
       "[4, 3, 2, 1]"
      ]
     },
     "execution_count": 167,
     "metadata": {},
     "output_type": "execute_result"
    }
   ],
   "source": [
    "L[::-1]"
   ]
  },
  {
   "cell_type": "code",
   "execution_count": 168,
   "id": "8b5caea9",
   "metadata": {},
   "outputs": [
    {
     "name": "stdout",
     "output_type": "stream",
     "text": [
      "[4, 5]\n",
      "4\n"
     ]
    }
   ],
   "source": [
    "# here list is 2D and we want to extract the number 4\n",
    "l3=[1,2,3,[4,5]]\n",
    "print(l3[-1])\n",
    "x=l3[-1]\n",
    "print(x[0])"
   ]
  },
  {
   "cell_type": "code",
   "execution_count": 169,
   "id": "46ca97cf",
   "metadata": {},
   "outputs": [
    {
     "data": {
      "text/plain": [
       "5"
      ]
     },
     "execution_count": 169,
     "metadata": {},
     "output_type": "execute_result"
    }
   ],
   "source": [
    "# for that we will use two square brackets\n",
    "l3[-1][1]"
   ]
  },
  {
   "cell_type": "code",
   "execution_count": 170,
   "id": "68305f3f",
   "metadata": {},
   "outputs": [
    {
     "name": "stdout",
     "output_type": "stream",
     "text": [
      "[[[1, 2], [5, 6], [7, 8]]]\n"
     ]
    }
   ],
   "source": [
    "print(l4)\n",
    "# here we want 7 of the list l4\n",
    "# we will use 3 square brackets because list is 3D"
   ]
  },
  {
   "cell_type": "code",
   "execution_count": 171,
   "id": "9b4e95b8",
   "metadata": {},
   "outputs": [
    {
     "data": {
      "text/plain": [
       "7"
      ]
     },
     "execution_count": 171,
     "metadata": {},
     "output_type": "execute_result"
    }
   ],
   "source": [
    "l4[0][-1][0]"
   ]
  },
  {
   "cell_type": "code",
   "execution_count": 172,
   "id": "5e171eca",
   "metadata": {},
   "outputs": [
    {
     "name": "stdout",
     "output_type": "stream",
     "text": [
      "[[[1, 2], [3, 4]], [[5, 6], [7, 8]]]\n"
     ]
    }
   ],
   "source": [
    "l5=[[[1,2],[3,4]],[[5,6],[7,8]]]\n",
    "print(l5)"
   ]
  },
  {
   "cell_type": "code",
   "execution_count": 173,
   "id": "a35dcfe7",
   "metadata": {},
   "outputs": [
    {
     "data": {
      "text/plain": [
       "7"
      ]
     },
     "execution_count": 173,
     "metadata": {},
     "output_type": "execute_result"
    }
   ],
   "source": [
    "l5[1][-1][0]"
   ]
  },
  {
   "cell_type": "code",
   "execution_count": 174,
   "id": "3fbf4b7f",
   "metadata": {
    "scrolled": true
   },
   "outputs": [
    {
     "data": {
      "text/plain": [
       "2"
      ]
     },
     "execution_count": 174,
     "metadata": {},
     "output_type": "execute_result"
    }
   ],
   "source": [
    "l5[0][0][1]"
   ]
  },
  {
   "cell_type": "code",
   "execution_count": 175,
   "id": "dca3fc7c",
   "metadata": {},
   "outputs": [
    {
     "name": "stdout",
     "output_type": "stream",
     "text": [
      "True\n"
     ]
    },
    {
     "data": {
      "text/plain": [
       "'ru'"
      ]
     },
     "execution_count": 175,
     "metadata": {},
     "output_type": "execute_result"
    }
   ],
   "source": [
    "# nested list\n",
    "List8 = [4,5,6,3,4,[4,'foo','tur',[True, 'now', 45]],67,]\n",
    "# Trying to access 'ru' from True\n",
    "print(List8[5][-1][0])\n",
    "str(List8[5][-1][0])[1:3]"
   ]
  },
  {
   "cell_type": "markdown",
   "id": "85cdc016",
   "metadata": {},
   "source": [
    "### 5. edit\n",
    ">* we can do editing in list using positive indexing, negative indexing or slicing\n",
    ">* To change the value of a specific item, refer to the index number:"
   ]
  },
  {
   "cell_type": "code",
   "execution_count": 176,
   "id": "42672f64",
   "metadata": {},
   "outputs": [
    {
     "data": {
      "text/plain": [
       "[100, 2, 3, 4, 5]"
      ]
     },
     "execution_count": 176,
     "metadata": {},
     "output_type": "execute_result"
    }
   ],
   "source": [
    "l=[1,2,3,4,5]\n",
    "l[0]=100\n",
    "l\n",
    "# lists in python are mutable"
   ]
  },
  {
   "cell_type": "code",
   "execution_count": 177,
   "id": "c4d66dc2",
   "metadata": {},
   "outputs": [
    {
     "data": {
      "text/plain": [
       "[100, 2, 3, 4, 500]"
      ]
     },
     "execution_count": 177,
     "metadata": {},
     "output_type": "execute_result"
    }
   ],
   "source": [
    "l[-1]=500\n",
    "l"
   ]
  },
  {
   "cell_type": "code",
   "execution_count": 178,
   "id": "faeef778",
   "metadata": {},
   "outputs": [
    {
     "name": "stdout",
     "output_type": "stream",
     "text": [
      "['apple', 'blackcurrant', 'cherry']\n"
     ]
    }
   ],
   "source": [
    "# Change the second item:\n",
    "thislist = [\"apple\", \"banana\", \"cherry\"]\n",
    "thislist[1] = \"blackcurrant\"\n",
    "print(thislist)"
   ]
  },
  {
   "cell_type": "markdown",
   "id": "1c1c4adb",
   "metadata": {},
   "source": [
    "###### Change a Range of Item Values\n",
    ">* To change the value of items within a specific range, define a list with the new values, and refer to the range of index numbers where you want to insert the new values:"
   ]
  },
  {
   "cell_type": "code",
   "execution_count": 179,
   "id": "077db63e",
   "metadata": {},
   "outputs": [
    {
     "name": "stdout",
     "output_type": "stream",
     "text": [
      "['apple', 'blackcurrant', 'watermelon', 'orange', 'kiwi', 'mango']\n"
     ]
    }
   ],
   "source": [
    "'''Change the values \"banana\" and \"cherry\" with \n",
    "the values \"blackcurrant\" and \"watermelon\":'''\n",
    "\n",
    "thislist = [\"apple\", \"banana\", \"cherry\", \"orange\", \"kiwi\", \"mango\"]\n",
    "thislist[1:3] = [\"blackcurrant\", \"watermelon\"]\n",
    "print(thislist)"
   ]
  },
  {
   "cell_type": "code",
   "execution_count": 180,
   "id": "446e7e43",
   "metadata": {},
   "outputs": [
    {
     "name": "stdout",
     "output_type": "stream",
     "text": [
      "['apple', 'blackcurrant', 'watermelon', 'cherry']\n"
     ]
    }
   ],
   "source": [
    "'''# If you insert more items than you replace, \n",
    "the new items will be inserted where you specified,''' \n",
    "# and the remaining items will move accordingly:\n",
    "# Change the second value by replacing it with two new values:\n",
    "\n",
    "thislist = [\"apple\", \"banana\", \"cherry\"]\n",
    "thislist[1:2] = [\"blackcurrant\", \"watermelon\"]\n",
    "print(thislist)"
   ]
  },
  {
   "cell_type": "markdown",
   "id": "e3ff8836",
   "metadata": {},
   "source": [
    "* The length of the list will change when the number of items inserted does not match the number of items replaced."
   ]
  },
  {
   "cell_type": "code",
   "execution_count": 181,
   "id": "2fb62ee2",
   "metadata": {},
   "outputs": [
    {
     "name": "stdout",
     "output_type": "stream",
     "text": [
      "['apple', 'watermelon']\n"
     ]
    }
   ],
   "source": [
    "''' If you insert less items than you replace, \n",
    "the new items will be inserted where you specified,''' \n",
    "# and the remaining items will move accordingly:\n",
    "\n",
    "# Change the second and third value by replacing it with one value:\n",
    "\n",
    "thislist = [\"apple\", \"banana\", \"cherry\"]\n",
    "thislist[1:3] = [\"watermelon\"]\n",
    "print(thislist)"
   ]
  },
  {
   "cell_type": "code",
   "execution_count": 182,
   "id": "b947e80a",
   "metadata": {},
   "outputs": [
    {
     "data": {
      "text/plain": [
       "[100, 200, 300, 450, 500]"
      ]
     },
     "execution_count": 182,
     "metadata": {},
     "output_type": "execute_result"
    }
   ],
   "source": [
    "l[1:4]=[200,300,450]\n",
    "l"
   ]
  },
  {
   "cell_type": "code",
   "execution_count": 243,
   "id": "1cad1d80",
   "metadata": {},
   "outputs": [
    {
     "name": "stdout",
     "output_type": "stream",
     "text": [
      "Old Name  alex\n",
      "New Name  Krish\n",
      "new list: ['ram', 'Krish', 'salmaan']\n"
     ]
    }
   ],
   "source": [
    "name=[\"ram\",\"alex\",\"salmaan\"]\n",
    "print(\"Old Name \",name[1])\n",
    "name[1]=\"Krish\"\n",
    "print(\"New Name \",name[1])\n",
    "print(\"new list:\",name)"
   ]
  },
  {
   "cell_type": "markdown",
   "id": "8e8f76a6",
   "metadata": {},
   "source": [
    "### 6. Add\n",
    "* When we say that lists are ordered, it means that the items have a defined order, and that order will not change. If you add new items to a list, the new items will be placed at the end of the list.\n",
    "> 1. append\n",
    "> 2. extend\n",
    "> 3. insert"
   ]
  },
  {
   "cell_type": "markdown",
   "id": "e9ba958c",
   "metadata": {},
   "source": [
    "* append\n",
    ">* to add an item to the end of the list, use the append() method:"
   ]
  },
  {
   "cell_type": "code",
   "execution_count": 183,
   "id": "874e99f9",
   "metadata": {},
   "outputs": [
    {
     "name": "stdout",
     "output_type": "stream",
     "text": [
      "[100, 200, 300, 450, 500]\n",
      "[100, 200, 300, 450, 500, 1000]\n"
     ]
    }
   ],
   "source": [
    "l=[100, 200, 300, 450, 500]\n",
    "print(l)\n",
    "# if we want to add 1000 in the last of list l we will use append function\n",
    "l.append(1000)\n",
    "print(l)"
   ]
  },
  {
   "cell_type": "code",
   "execution_count": 184,
   "id": "c5d64536",
   "metadata": {},
   "outputs": [
    {
     "name": "stdout",
     "output_type": "stream",
     "text": [
      "[100, 200, 300, 450, 500, 1000, 'himanshu is amazing']\n"
     ]
    }
   ],
   "source": [
    "l.append(\"himanshu is amazing\")\n",
    "print(l)"
   ]
  },
  {
   "cell_type": "code",
   "execution_count": 245,
   "id": "1c634fe2",
   "metadata": {},
   "outputs": [
    {
     "name": "stdout",
     "output_type": "stream",
     "text": [
      "Old List ['ram', 'alex', 'salmaan']\n",
      "Enter name to be added: himanshu\n",
      "New List ['ram', 'alex', 'salmaan', 'himanshu']\n"
     ]
    }
   ],
   "source": [
    "name=[\"ram\",\"alex\",\"salmaan\"]\n",
    "print(\"Old List\",name)\n",
    "inp=input(\"Enter name to be added: \")\n",
    "name.append(inp)\n",
    "print(\"New List\",name)"
   ]
  },
  {
   "cell_type": "markdown",
   "id": "12eec421",
   "metadata": {},
   "source": [
    ">* if we want to add multiple things in the list we will use extend function"
   ]
  },
  {
   "cell_type": "markdown",
   "id": "bcab8809",
   "metadata": {},
   "source": [
    "* extend\n",
    ">* To append elements from another list to the current list, use the extend() method."
   ]
  },
  {
   "cell_type": "code",
   "execution_count": 185,
   "id": "bf3e6547",
   "metadata": {},
   "outputs": [
    {
     "name": "stdout",
     "output_type": "stream",
     "text": [
      "[100, 200, 300, 450, 500, 1000, 'himanshu is amazing', 5000, 6000]\n"
     ]
    }
   ],
   "source": [
    "l.extend([5000,6000])\n",
    "print(l)"
   ]
  },
  {
   "cell_type": "code",
   "execution_count": 186,
   "id": "3c1c9b8c",
   "metadata": {},
   "outputs": [
    {
     "name": "stdout",
     "output_type": "stream",
     "text": [
      "[100, 200, 300, 450, 500, 1000, 'himanshu is amazing', 5000, 6000, [5, 6]]\n"
     ]
    }
   ],
   "source": [
    "l.append([5,6])\n",
    "print(l)\n",
    "# 5,6 will be entered as a single item at the end"
   ]
  },
  {
   "cell_type": "code",
   "execution_count": 187,
   "id": "07a9de62",
   "metadata": {},
   "outputs": [
    {
     "name": "stdout",
     "output_type": "stream",
     "text": [
      "[100, 200, 300, 450, 500, 1000, 'himanshu is amazing', 5000, 6000, [5, 6], 'g', 'o', 'a']\n"
     ]
    }
   ],
   "source": [
    "l.extend(\"goa\")\n",
    "print(l)"
   ]
  },
  {
   "cell_type": "markdown",
   "id": "0cd391a9",
   "metadata": {},
   "source": [
    "* insert\n",
    ">* To insert a list item at a specified index, use the insert() method.\n",
    ">* The insert() method inserts an item at the specified index:"
   ]
  },
  {
   "cell_type": "code",
   "execution_count": 188,
   "id": "15c58024",
   "metadata": {},
   "outputs": [
    {
     "name": "stdout",
     "output_type": "stream",
     "text": [
      "[100, 'world', 200, 300, 450, 500, 1000, 'himanshu is amazing', 5000, 6000, [5, 6], 'g', 'o', 'a']\n"
     ]
    }
   ],
   "source": [
    "l.insert(1,\"world\")\n",
    "print(l)"
   ]
  },
  {
   "cell_type": "code",
   "execution_count": 189,
   "id": "a0f05c04",
   "metadata": {},
   "outputs": [
    {
     "name": "stdout",
     "output_type": "stream",
     "text": [
      "['apple', 'banana', 'watermelon', 'cherry']\n",
      "4\n"
     ]
    }
   ],
   "source": [
    "# The insert() method inserts an item at the specified index:\n",
    "\n",
    "thislist = [\"apple\", \"banana\", \"cherry\"]\n",
    "# Insert \"watermelon\" as the third item:\n",
    "thislist.insert(2, \"watermelon\")\n",
    "print(thislist)\n",
    "# As a result of the example above, the list will now contain 4 items.\n",
    "print(len(thislist))"
   ]
  },
  {
   "cell_type": "markdown",
   "id": "60da9cee",
   "metadata": {},
   "source": [
    "### 7. delete\n",
    "* del\n",
    "* remove\n",
    "* pop\n",
    "* clear"
   ]
  },
  {
   "cell_type": "markdown",
   "id": "ae3d8300",
   "metadata": {},
   "source": [
    ">* del keyword will delete the list completely."
   ]
  },
  {
   "cell_type": "code",
   "execution_count": 190,
   "id": "cc110538",
   "metadata": {},
   "outputs": [
    {
     "data": {
      "text/plain": [
       "['hello', 22, 'badhiya he', 'appu', 21, True, (5+6j)]"
      ]
     },
     "execution_count": 190,
     "metadata": {},
     "output_type": "execute_result"
    }
   ],
   "source": [
    "L2=[\"hello\",22,\"badhiya he\",\"appu\",21,True,5+6j]\n",
    "L2"
   ]
  },
  {
   "cell_type": "code",
   "execution_count": 191,
   "id": "a962de21",
   "metadata": {},
   "outputs": [
    {
     "ename": "NameError",
     "evalue": "name 'L2' is not defined",
     "output_type": "error",
     "traceback": [
      "\u001b[1;31m---------------------------------------------------------------------------\u001b[0m",
      "\u001b[1;31mNameError\u001b[0m                                 Traceback (most recent call last)",
      "\u001b[1;32m~\\AppData\\Local\\Temp\\ipykernel_20684\\1937323919.py\u001b[0m in \u001b[0;36m<module>\u001b[1;34m\u001b[0m\n\u001b[0;32m      1\u001b[0m \u001b[1;32mdel\u001b[0m \u001b[0mL2\u001b[0m\u001b[1;33m\u001b[0m\u001b[1;33m\u001b[0m\u001b[0m\n\u001b[1;32m----> 2\u001b[1;33m \u001b[0mL2\u001b[0m \u001b[1;31m# it will show an error because L2 is deleted so it is not defined\u001b[0m\u001b[1;33m\u001b[0m\u001b[1;33m\u001b[0m\u001b[0m\n\u001b[0m",
      "\u001b[1;31mNameError\u001b[0m: name 'L2' is not defined"
     ]
    }
   ],
   "source": [
    "del L2\n",
    "L2 \n",
    "# it will show an error because L2 is deleted so it is not defined"
   ]
  },
  {
   "cell_type": "markdown",
   "id": "8550267d",
   "metadata": {},
   "source": [
    ">* del keyword removes the specified index:"
   ]
  },
  {
   "cell_type": "code",
   "execution_count": 192,
   "id": "5a3530ac",
   "metadata": {},
   "outputs": [
    {
     "name": "stdout",
     "output_type": "stream",
     "text": [
      "['banana', 'cherry']\n"
     ]
    }
   ],
   "source": [
    "thislist = [\"apple\", \"banana\", \"cherry\"]\n",
    "del thislist[0]\n",
    "print(thislist)"
   ]
  },
  {
   "cell_type": "code",
   "execution_count": 193,
   "id": "d5179afd",
   "metadata": {},
   "outputs": [
    {
     "name": "stdout",
     "output_type": "stream",
     "text": [
      "[1, 2, 3, 4]\n",
      "[2, 3, 4]\n",
      "[2, 4]\n"
     ]
    }
   ],
   "source": [
    "L=[1,2,3,4]\n",
    "print(L)\n",
    "del L[0]\n",
    "print(L)\n",
    "del L[-2]\n",
    "print(L)"
   ]
  },
  {
   "cell_type": "code",
   "execution_count": 194,
   "id": "8a5e937d",
   "metadata": {},
   "outputs": [
    {
     "name": "stdout",
     "output_type": "stream",
     "text": [
      "[100, 'world', 200, 300, 450, 500, 1000, 'himanshu is amazing', 5000, 6000, [5, 6], 'g', 'o', 'a', 'g', 'o', 'a']\n"
     ]
    }
   ],
   "source": [
    "l=[100, 'world', 200, 300, 450, 500, 1000, 'himanshu is amazing', \n",
    "   5000, 6000, [5, 6], 'g', 'o', 'a', 'g', 'o', 'a']\n",
    "print(l)"
   ]
  },
  {
   "cell_type": "code",
   "execution_count": 195,
   "id": "129fd266",
   "metadata": {},
   "outputs": [
    {
     "name": "stdout",
     "output_type": "stream",
     "text": [
      "[100, 'world', 200, 300, 450, 500, 1000, 'himanshu is amazing', 5000, 6000, [5, 6], 'g', 'o', 'a']\n"
     ]
    }
   ],
   "source": [
    "del l[-3:]\n",
    "# it will remove the goa \n",
    "print(l)"
   ]
  },
  {
   "cell_type": "markdown",
   "id": "e9a747fb",
   "metadata": {},
   "source": [
    ">* Remove Specified Item\n",
    ">* The remove() method removes the specified item.\n",
    ">* if we don't know the index position and still want to delete something"
   ]
  },
  {
   "cell_type": "code",
   "execution_count": 196,
   "id": "b0b10ec9",
   "metadata": {},
   "outputs": [
    {
     "name": "stdout",
     "output_type": "stream",
     "text": [
      "['apple', 'cherry']\n"
     ]
    }
   ],
   "source": [
    "thislist = [\"apple\", \"banana\", \"cherry\"]\n",
    "thislist.remove(\"banana\")\n",
    "print(thislist)"
   ]
  },
  {
   "cell_type": "code",
   "execution_count": 197,
   "id": "91d48ac2",
   "metadata": {
    "scrolled": true
   },
   "outputs": [
    {
     "name": "stdout",
     "output_type": "stream",
     "text": [
      "[100, 'world', 200, 300, 450, 500, 1000, 'himanshu is amazing', 5000, 6000, [5, 6], 'g', 'o', 'a']\n",
      "[100, 200, 300, 450, 500, 1000, 'himanshu is amazing', 5000, 6000, [5, 6], 'g', 'o', 'a']\n"
     ]
    }
   ],
   "source": [
    "print(l)\n",
    "l.remove(\"world\")\n",
    "print(l)"
   ]
  },
  {
   "cell_type": "code",
   "execution_count": 244,
   "id": "2865d498",
   "metadata": {},
   "outputs": [
    {
     "name": "stdout",
     "output_type": "stream",
     "text": [
      "Old List ['ram', 'alex', 'salmaan']\n",
      "Enter name to be removed: alex\n",
      "New List ['ram', 'salmaan']\n"
     ]
    }
   ],
   "source": [
    "name=[\"ram\",\"alex\",\"salmaan\"]\n",
    "print(\"Old List\",name)\n",
    "inp=input(\"Enter name to be removed: \")\n",
    "name.remove(inp)\n",
    "print(\"New List\",name)"
   ]
  },
  {
   "cell_type": "markdown",
   "id": "7eb60a64",
   "metadata": {},
   "source": [
    ">* Remove Specified Index\n",
    ">* The pop() method removes the specified index."
   ]
  },
  {
   "cell_type": "code",
   "execution_count": 198,
   "id": "9c825e77",
   "metadata": {},
   "outputs": [
    {
     "name": "stdout",
     "output_type": "stream",
     "text": [
      "['apple', 'cherry']\n"
     ]
    }
   ],
   "source": [
    "thislist = [\"apple\", \"banana\", \"cherry\"]\n",
    "thislist.pop(1)\n",
    "print(thislist)"
   ]
  },
  {
   "cell_type": "markdown",
   "id": "0a116758",
   "metadata": {},
   "source": [
    ">* If you do not specify the index, the pop() method removes the last item."
   ]
  },
  {
   "cell_type": "code",
   "execution_count": 199,
   "id": "d89472ce",
   "metadata": {},
   "outputs": [
    {
     "name": "stdout",
     "output_type": "stream",
     "text": [
      "[100, 200, 300, 450, 500, 1000, 'himanshu is amazing', 5000, 6000, [5, 6], 'g', 'o']\n"
     ]
    }
   ],
   "source": [
    "l.pop()\n",
    "print(l)"
   ]
  },
  {
   "cell_type": "code",
   "execution_count": 200,
   "id": "d5033138",
   "metadata": {},
   "outputs": [
    {
     "name": "stdout",
     "output_type": "stream",
     "text": [
      "[100, 200, 300, 450, 500, 1000, 'himanshu is amazing', 5000, 6000, [5, 6], 'g']\n"
     ]
    }
   ],
   "source": [
    "l.pop()\n",
    "print(l)\n",
    "# pop will delete the last item of the list"
   ]
  },
  {
   "cell_type": "markdown",
   "id": "37e45bfa",
   "metadata": {},
   "source": [
    ">* The clear() method empties the list.\n",
    ">* The list still remains, but it has no content."
   ]
  },
  {
   "cell_type": "code",
   "execution_count": 201,
   "id": "e3fe3a58",
   "metadata": {},
   "outputs": [
    {
     "name": "stdout",
     "output_type": "stream",
     "text": [
      "[]\n"
     ]
    }
   ],
   "source": [
    "l.clear()\n",
    "print(l)\n",
    "# clear will not delete the list but it will empty the given list"
   ]
  },
  {
   "cell_type": "code",
   "execution_count": 202,
   "id": "5fdf7dc1",
   "metadata": {},
   "outputs": [
    {
     "name": "stdout",
     "output_type": "stream",
     "text": [
      "[]\n"
     ]
    }
   ],
   "source": [
    "thislist = [\"apple\", \"banana\", \"cherry\"]\n",
    "thislist.clear()\n",
    "print(thislist)"
   ]
  },
  {
   "cell_type": "markdown",
   "id": "318f91fd",
   "metadata": {},
   "source": [
    "### 8. operations"
   ]
  },
  {
   "cell_type": "code",
   "execution_count": 203,
   "id": "853a0b5e",
   "metadata": {},
   "outputs": [
    {
     "name": "stdout",
     "output_type": "stream",
     "text": [
      "[1, 2, 3, 4, 5, 6, 7, 8]\n"
     ]
    }
   ],
   "source": [
    "L=[1,2,3,4]\n",
    "L1=[5,6,7,8]\n",
    "print(L+L1)\n",
    "# concatination will happen"
   ]
  },
  {
   "cell_type": "code",
   "execution_count": 204,
   "id": "f66dba4e",
   "metadata": {},
   "outputs": [
    {
     "name": "stdout",
     "output_type": "stream",
     "text": [
      "['a', 'b', 'c', 1, 2, 3]\n"
     ]
    }
   ],
   "source": [
    "'''Another way to join two lists is by appending \n",
    "all the items from list2 into list1, one by one:'''\n",
    "\n",
    "\n",
    "list1 = [\"a\", \"b\" , \"c\"]\n",
    "list2 = [1, 2, 3]\n",
    "\n",
    "for x in list2:\n",
    "    list1.append(x)\n",
    "\n",
    "print(list1)"
   ]
  },
  {
   "cell_type": "code",
   "execution_count": 205,
   "id": "de708f75",
   "metadata": {},
   "outputs": [
    {
     "name": "stdout",
     "output_type": "stream",
     "text": [
      "['a', 'b', 'c', 1, 2, 3]\n"
     ]
    }
   ],
   "source": [
    "# Use the extend() method to add list2 at the end of list1:\n",
    "\n",
    "list1 = [\"a\", \"b\" , \"c\"]\n",
    "list2 = [1, 2, 3]\n",
    "\n",
    "list1.extend(list2)\n",
    "print(list1)"
   ]
  },
  {
   "cell_type": "code",
   "execution_count": 206,
   "id": "95ea3570",
   "metadata": {},
   "outputs": [
    {
     "data": {
      "text/plain": [
       "[1, 2, 3, 4, 1, 2, 3, 4, 1, 2, 3, 4, 1, 2, 3, 4]"
      ]
     },
     "execution_count": 206,
     "metadata": {},
     "output_type": "execute_result"
    }
   ],
   "source": [
    "# multiplications\n",
    "L*4"
   ]
  },
  {
   "cell_type": "code",
   "execution_count": 207,
   "id": "dcded5e7",
   "metadata": {},
   "outputs": [
    {
     "name": "stdout",
     "output_type": "stream",
     "text": [
      "Yes, 'apple' is in the fruits list\n"
     ]
    }
   ],
   "source": [
    "# Check if Item Exists\n",
    "# To determine if a specified item is present in a list use the in keyword:\n",
    "\n",
    "# Check if \"apple\" is present in the list:\n",
    "\n",
    "thislist = [\"apple\", \"banana\", \"cherry\"]\n",
    "if \"apple\" in thislist:\n",
    "    print(\"Yes, 'apple' is in the fruits list\")\n",
    "else:\n",
    "    print(\"sorry! it's not there. \")"
   ]
  },
  {
   "cell_type": "code",
   "execution_count": 208,
   "id": "81ff637c",
   "metadata": {},
   "outputs": [
    {
     "name": "stdout",
     "output_type": "stream",
     "text": [
      "apple\n",
      "banana\n",
      "cherry\n"
     ]
    }
   ],
   "source": [
    "# loop operations\n",
    "# You can loop through the list items by using a for loop:\n",
    "thislist = [\"apple\", \"banana\", \"cherry\"]\n",
    "for x in thislist:\n",
    "  print(x)"
   ]
  },
  {
   "cell_type": "code",
   "execution_count": 209,
   "id": "dedb8c52",
   "metadata": {},
   "outputs": [
    {
     "name": "stdout",
     "output_type": "stream",
     "text": [
      "1\n",
      "2\n",
      "3\n",
      "[4, 5]\n"
     ]
    }
   ],
   "source": [
    "L3=[1,2,3,[4,5]]\n",
    "for i in L3:\n",
    "    print(i)\n",
    "# here [4,5] is a single element so loop will occur 4 times in list L3"
   ]
  },
  {
   "cell_type": "markdown",
   "id": "d2fc864d",
   "metadata": {},
   "source": [
    ">* You can loop through the list items by using a while loop.\n",
    ">* Use the len() function to determine the length of the list, then start at 0 and loop your way through the list items by referring to their indexes.\n",
    ">* Remember to increase the index by 1 after each iteration."
   ]
  },
  {
   "cell_type": "code",
   "execution_count": 210,
   "id": "d2ddfa3f",
   "metadata": {},
   "outputs": [
    {
     "name": "stdout",
     "output_type": "stream",
     "text": [
      "apple\n",
      "banana\n",
      "cherry\n"
     ]
    }
   ],
   "source": [
    "thislist = [\"apple\", \"banana\", \"cherry\"]\n",
    "i = 0\n",
    "while i < len(thislist):\n",
    "  print(thislist[i])\n",
    "  i += 1"
   ]
  },
  {
   "cell_type": "code",
   "execution_count": 211,
   "id": "a7a1e907",
   "metadata": {},
   "outputs": [
    {
     "name": "stdout",
     "output_type": "stream",
     "text": [
      "False\n"
     ]
    }
   ],
   "source": [
    "# membership operator\n",
    "print(4 in L3)"
   ]
  },
  {
   "cell_type": "code",
   "execution_count": 212,
   "id": "ce81a1d7",
   "metadata": {},
   "outputs": [
    {
     "data": {
      "text/plain": [
       "True"
      ]
     },
     "execution_count": 212,
     "metadata": {},
     "output_type": "execute_result"
    }
   ],
   "source": [
    "[4,5] in L3"
   ]
  },
  {
   "cell_type": "markdown",
   "id": "87dd575c",
   "metadata": {},
   "source": [
    "### 9. Functions on List"
   ]
  },
  {
   "cell_type": "code",
   "execution_count": 213,
   "id": "62eab5ac",
   "metadata": {},
   "outputs": [
    {
     "name": "stdout",
     "output_type": "stream",
     "text": [
      "<class 'list'>\n"
     ]
    }
   ],
   "source": [
    "'''From Python's perspective, \n",
    "lists are defined as objects with the data type 'list':'''\n",
    "\n",
    "\n",
    "mylist = [\"apple\", \"banana\", \"cherry\"]\n",
    "print(type(mylist))"
   ]
  },
  {
   "cell_type": "code",
   "execution_count": 214,
   "id": "d8c2c6d9",
   "metadata": {},
   "outputs": [
    {
     "data": {
      "text/plain": [
       "7"
      ]
     },
     "execution_count": 214,
     "metadata": {},
     "output_type": "execute_result"
    }
   ],
   "source": [
    "# To determine how many items a list has, use the len() function:\n",
    "L2=[\"hello\",22,\"badhiya he\",\"appu\",21,True,5+6j]\n",
    "len(L2)"
   ]
  },
  {
   "cell_type": "code",
   "execution_count": 215,
   "id": "2ef7adf4",
   "metadata": {},
   "outputs": [
    {
     "data": {
      "text/plain": [
       "1"
      ]
     },
     "execution_count": 215,
     "metadata": {},
     "output_type": "execute_result"
    }
   ],
   "source": [
    "l=[1, 2, 3, 4, 5, 6, 7, 8]\n",
    "min(l)"
   ]
  },
  {
   "cell_type": "code",
   "execution_count": 216,
   "id": "0aa593d7",
   "metadata": {},
   "outputs": [
    {
     "data": {
      "text/plain": [
       "8"
      ]
     },
     "execution_count": 216,
     "metadata": {},
     "output_type": "execute_result"
    }
   ],
   "source": [
    "max(l)"
   ]
  },
  {
   "cell_type": "code",
   "execution_count": 246,
   "id": "8eb32448",
   "metadata": {},
   "outputs": [
    {
     "name": "stdout",
     "output_type": "stream",
     "text": [
      "Enter name to be counted: salmaan\n",
      "Total Element are  2\n"
     ]
    }
   ],
   "source": [
    "name=[\"ram\",\"alex\",\"salmaan\",\"salmaan\",\"sita\"]\n",
    "inp=input(\"Enter name to be counted: \")\n",
    "x=name.count(inp)\n",
    "print(\"Total Element are \",x)"
   ]
  },
  {
   "cell_type": "code",
   "execution_count": 217,
   "id": "ee02328a",
   "metadata": {},
   "outputs": [
    {
     "name": "stdout",
     "output_type": "stream",
     "text": [
      "['banana', 'kiwi', 'mango', 'orange', 'pineapple']\n"
     ]
    }
   ],
   "source": [
    "'''# List objects have a sort() method that \n",
    "will sort the list alphanumerically, ascending, by default:'''\n",
    "# Sort the list alphabetically:\n",
    "# this sort will do the permanent changes in the list\n",
    "\n",
    "thislist = [\"orange\", \"mango\", \"kiwi\", \"pineapple\", \"banana\"]\n",
    "thislist.sort()\n",
    "print(thislist)"
   ]
  },
  {
   "cell_type": "code",
   "execution_count": 218,
   "id": "8a8914de",
   "metadata": {},
   "outputs": [
    {
     "name": "stdout",
     "output_type": "stream",
     "text": [
      "[23, 50, 65, 82, 100]\n"
     ]
    }
   ],
   "source": [
    "# Sort the list numerically:\n",
    "\n",
    "thislist = [100, 50, 65, 82, 23]\n",
    "thislist.sort()\n",
    "print(thislist)"
   ]
  },
  {
   "cell_type": "code",
   "execution_count": 219,
   "id": "65342908",
   "metadata": {},
   "outputs": [
    {
     "name": "stdout",
     "output_type": "stream",
     "text": [
      "['pineapple', 'orange', 'mango', 'kiwi', 'banana']\n"
     ]
    }
   ],
   "source": [
    "# To sort descending, use the keyword argument reverse = True:\n",
    "# Sort the list descending:\n",
    "\n",
    "thislist = [\"orange\", \"mango\", \"kiwi\", \"pineapple\", \"banana\"]\n",
    "thislist.sort(reverse = True)\n",
    "print(thislist)"
   ]
  },
  {
   "cell_type": "code",
   "execution_count": 220,
   "id": "9edffd1c",
   "metadata": {},
   "outputs": [
    {
     "name": "stdout",
     "output_type": "stream",
     "text": [
      "['Kiwi', 'Orange', 'banana', 'cherry']\n"
     ]
    }
   ],
   "source": [
    "''' By default the sort() method is case sensitive, \n",
    "resulting in all capital letters being sorted before lower case letters:'''\n",
    "# Case sensitive sorting can give an unexpected result:\n",
    "\n",
    "thislist = [\"banana\", \"Orange\", \"Kiwi\", \"cherry\"]\n",
    "thislist.sort()\n",
    "print(thislist)"
   ]
  },
  {
   "cell_type": "code",
   "execution_count": 221,
   "id": "d0c098a0",
   "metadata": {},
   "outputs": [
    {
     "name": "stdout",
     "output_type": "stream",
     "text": [
      "['banana', 'cherry', 'Kiwi', 'Orange']\n"
     ]
    }
   ],
   "source": [
    "'''#So if you want a case-insensitive sort function, \n",
    "use str.lower as a key function:\n",
    "Perform a case-insensitive sort of the list:'''\n",
    "\n",
    "thislist = [\"banana\", \"Orange\", \"Kiwi\", \"cherry\"]\n",
    "thislist.sort(key = str.lower)\n",
    "print(thislist)"
   ]
  },
  {
   "cell_type": "code",
   "execution_count": 222,
   "id": "aa7e89ab",
   "metadata": {},
   "outputs": [
    {
     "data": {
      "text/plain": [
       "[1, 2, 3, 4, 5, 6, 7, 8]"
      ]
     },
     "execution_count": 222,
     "metadata": {},
     "output_type": "execute_result"
    }
   ],
   "source": [
    "# to make changes tempororary in the list we use sorted\n",
    "# sorted will only create new list in the memory\n",
    "\n",
    "l=[1, 2, 3, 4, 5, 6, 7, 8]\n",
    "sorted(l)"
   ]
  },
  {
   "cell_type": "code",
   "execution_count": 223,
   "id": "9055ebf6",
   "metadata": {},
   "outputs": [
    {
     "data": {
      "text/plain": [
       "[8, 7, 6, 5, 4, 3, 2, 1]"
      ]
     },
     "execution_count": 223,
     "metadata": {},
     "output_type": "execute_result"
    }
   ],
   "source": [
    "# for descending oreder\n",
    "sorted(l,reverse=True)"
   ]
  },
  {
   "cell_type": "code",
   "execution_count": 224,
   "id": "8371fe50",
   "metadata": {},
   "outputs": [
    {
     "name": "stdout",
     "output_type": "stream",
     "text": [
      "[1, 2, 3, 4, 5, 6, 7, 8]\n"
     ]
    }
   ],
   "source": [
    "''' because it's a temporary opration, \n",
    "it will not make changes in the original list'''\n",
    "print(l)"
   ]
  },
  {
   "cell_type": "code",
   "execution_count": 225,
   "id": "f548b8ee",
   "metadata": {},
   "outputs": [
    {
     "data": {
      "text/plain": [
       "[8, 7, 6, 5, 4, 3, 2, 1]"
      ]
     },
     "execution_count": 225,
     "metadata": {},
     "output_type": "execute_result"
    }
   ],
   "source": [
    "l.sort(reverse=True)\n",
    "l\n",
    "# this sort will do the permanent changes in the list"
   ]
  },
  {
   "cell_type": "code",
   "execution_count": 226,
   "id": "ed002cb4",
   "metadata": {},
   "outputs": [
    {
     "data": {
      "text/plain": [
       "[1, 2, 3, 4, 5, 6, 7, 8]"
      ]
     },
     "execution_count": 226,
     "metadata": {},
     "output_type": "execute_result"
    }
   ],
   "source": [
    "l.sort()\n",
    "l"
   ]
  },
  {
   "cell_type": "code",
   "execution_count": 227,
   "id": "413e7a9f",
   "metadata": {},
   "outputs": [
    {
     "name": "stdout",
     "output_type": "stream",
     "text": [
      "['cherry', 'Kiwi', 'Orange', 'banana']\n"
     ]
    }
   ],
   "source": [
    "# The reverse() method reverses the current sorting order of the elements.\n",
    "# Reverse the order of the list items:\n",
    "\n",
    "thislist = [\"banana\", \"Orange\", \"Kiwi\", \"cherry\"]\n",
    "thislist.reverse()\n",
    "print(thislist)"
   ]
  },
  {
   "cell_type": "code",
   "execution_count": 228,
   "id": "1bd31801",
   "metadata": {},
   "outputs": [
    {
     "data": {
      "text/plain": [
       "2"
      ]
     },
     "execution_count": 228,
     "metadata": {},
     "output_type": "execute_result"
    }
   ],
   "source": [
    "l.index(3)"
   ]
  },
  {
   "cell_type": "code",
   "execution_count": 229,
   "id": "1994b723",
   "metadata": {},
   "outputs": [
    {
     "data": {
      "text/plain": [
       "'Hello How Are You'"
      ]
     },
     "execution_count": 229,
     "metadata": {},
     "output_type": "execute_result"
    }
   ],
   "source": [
    "\"hello how are you\".title()\n",
    "# this will make first letter of each word capital"
   ]
  },
  {
   "cell_type": "code",
   "execution_count": 230,
   "id": "d62d2ff4",
   "metadata": {},
   "outputs": [
    {
     "name": "stdout",
     "output_type": "stream",
     "text": [
      "['how', 'are', 'you?']\n"
     ]
    }
   ],
   "source": [
    "sample=\"how are you?\"\n",
    "x=print(sample.split())"
   ]
  },
  {
   "cell_type": "code",
   "execution_count": 231,
   "id": "7aae80b1",
   "metadata": {},
   "outputs": [
    {
     "name": "stdout",
     "output_type": "stream",
     "text": [
      "how\n",
      "are\n",
      "you?\n"
     ]
    }
   ],
   "source": [
    "for i in sample.split():\n",
    "    print(i)"
   ]
  },
  {
   "cell_type": "code",
   "execution_count": 232,
   "id": "c20f5255",
   "metadata": {},
   "outputs": [
    {
     "name": "stdout",
     "output_type": "stream",
     "text": [
      "How\n",
      "Are\n",
      "You?\n"
     ]
    }
   ],
   "source": [
    "for i in sample.split():\n",
    "    print(i.capitalize())"
   ]
  },
  {
   "cell_type": "code",
   "execution_count": 233,
   "id": "f26906ce",
   "metadata": {},
   "outputs": [
    {
     "name": "stdout",
     "output_type": "stream",
     "text": [
      "How\n",
      "Are\n",
      "You?\n"
     ]
    },
    {
     "data": {
      "text/plain": [
       "['How', 'Are', 'You?']"
      ]
     },
     "execution_count": 233,
     "metadata": {},
     "output_type": "execute_result"
    }
   ],
   "source": [
    "l=[]\n",
    "for i in sample.split():\n",
    "    print(i.capitalize())\n",
    "    l.append(i.capitalize())\n",
    "l"
   ]
  },
  {
   "cell_type": "code",
   "execution_count": 234,
   "id": "5a6c302c",
   "metadata": {},
   "outputs": [
    {
     "name": "stdout",
     "output_type": "stream",
     "text": [
      "How-Are-You?\n"
     ]
    }
   ],
   "source": [
    "print(\"-\".join(l))"
   ]
  },
  {
   "cell_type": "code",
   "execution_count": 235,
   "id": "446fac99",
   "metadata": {},
   "outputs": [
    {
     "name": "stdout",
     "output_type": "stream",
     "text": [
      "['today', 'has', 'been', 'great', 'for', 'me']\n",
      "Today\n",
      "Has\n",
      "Been\n",
      "Great\n",
      "For\n",
      "Me\n",
      "Today\n",
      "Has\n",
      "Been\n",
      "Great\n",
      "For\n",
      "Me\n",
      "TodayHasBeenGreatForMe\n"
     ]
    }
   ],
   "source": [
    "sample=\"today has been great for me\"\n",
    "x=print(sample.split())\n",
    "for i in sample.split():\n",
    "    print(i.capitalize())\n",
    "l=[]\n",
    "for i in sample.split():\n",
    "    print(i.capitalize())\n",
    "    l.append(i.capitalize())\n",
    "l\n",
    "print(\"\".join(l))"
   ]
  },
  {
   "cell_type": "code",
   "execution_count": 236,
   "id": "dd5b97d9",
   "metadata": {},
   "outputs": [
    {
     "name": "stdout",
     "output_type": "stream",
     "text": [
      "abc@gmail.com\n"
     ]
    }
   ],
   "source": [
    "x=\"abc@gmail.com\"\n",
    "print(x)"
   ]
  },
  {
   "cell_type": "code",
   "execution_count": 237,
   "id": "1069eb0d",
   "metadata": {},
   "outputs": [
    {
     "name": "stdout",
     "output_type": "stream",
     "text": [
      "abc\n"
     ]
    }
   ],
   "source": [
    "print(x[:x.find(\"@\")])"
   ]
  },
  {
   "cell_type": "code",
   "execution_count": 238,
   "id": "2028c549",
   "metadata": {},
   "outputs": [
    {
     "name": "stdout",
     "output_type": "stream",
     "text": [
      "1\n",
      "1\n",
      "2\n",
      "2\n",
      "3\n",
      "3\n",
      "4\n",
      "4\n"
     ]
    }
   ],
   "source": [
    "# we want to remove the duplicates from te following list\n",
    "y=[1,1,2,2,3,3,4,4]\n",
    "l=[]\n",
    "for i in y:\n",
    "    print(i)"
   ]
  },
  {
   "cell_type": "code",
   "execution_count": 239,
   "id": "213cb436",
   "metadata": {},
   "outputs": [
    {
     "name": "stdout",
     "output_type": "stream",
     "text": [
      "[1, 2, 3, 4]\n"
     ]
    }
   ],
   "source": [
    "for i in y:\n",
    "    if i not in l:\n",
    "        l.append(i)\n",
    "print(l)"
   ]
  },
  {
   "cell_type": "code",
   "execution_count": 240,
   "id": "5390e376",
   "metadata": {},
   "outputs": [],
   "source": [
    "# Copy a List\n",
    "# You cannot copy a list simply by typing list2 = list1,\n",
    "''' because: list2 will only be a reference to list1, \n",
    "and changes made in list1 will automatically also be made in list2.'''"
   ]
  },
  {
   "cell_type": "code",
   "execution_count": 241,
   "id": "2b4ce0ed",
   "metadata": {},
   "outputs": [
    {
     "name": "stdout",
     "output_type": "stream",
     "text": [
      "['apple', 'banana', 'cherry']\n"
     ]
    }
   ],
   "source": [
    "# Make a copy of a list with the copy() method:\n",
    "\n",
    "thislist = [\"apple\", \"banana\", \"cherry\"]\n",
    "mylist = thislist.copy()\n",
    "print(mylist)"
   ]
  },
  {
   "cell_type": "code",
   "execution_count": 242,
   "id": "6bf40a2b",
   "metadata": {},
   "outputs": [
    {
     "name": "stdout",
     "output_type": "stream",
     "text": [
      "['apple', 'banana', 'cherry']\n"
     ]
    }
   ],
   "source": [
    "# Another way to make a copy is to use the built-in method list().\n",
    "\n",
    "# Make a copy of a list with the list() method:\n",
    "\n",
    "thislist = [\"apple\", \"banana\", \"cherry\"]\n",
    "mylist = list(thislist)\n",
    "print(mylist)"
   ]
  }
 ],
 "metadata": {
  "kernelspec": {
   "display_name": "Python 3 (ipykernel)",
   "language": "python",
   "name": "python3"
  },
  "language_info": {
   "codemirror_mode": {
    "name": "ipython",
    "version": 3
   },
   "file_extension": ".py",
   "mimetype": "text/x-python",
   "name": "python",
   "nbconvert_exporter": "python",
   "pygments_lexer": "ipython3",
   "version": "3.9.13"
  }
 },
 "nbformat": 4,
 "nbformat_minor": 5
}
