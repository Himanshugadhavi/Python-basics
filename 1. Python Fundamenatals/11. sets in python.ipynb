{
 "cells": [
  {
   "cell_type": "markdown",
   "id": "2fdb4f7f",
   "metadata": {},
   "source": [
    "# Sets\n",
    "1. sets do not allow the duplicates\n",
    "2. sets have no indexing and slicing\n",
    "3. they don't allow mutable data type\n",
    "4. sets itself a mutable data type\n",
    "\n",
    "* **Note :** because set is mutable data type, set will not allow another set inside a particular set, so 2D set or 3D sets will not be possible to make\n",
    "\n",
    "* **Unordered :** Unordered means that the items in a set do not have a defined order.Set items can appear in a different order every time you use them, and cannot be referred to by index or key.\n",
    "* **Unchangeable :** Set items are unchangeable, meaning that we cannot change the items after the set has been created.\n",
    "* Once a set is created, you cannot change its items, but you can remove items and add new items.\n",
    "* **Duplicates Not Allowed :** Sets cannot have two items with the same value."
   ]
  },
  {
   "cell_type": "markdown",
   "id": "521202b3",
   "metadata": {},
   "source": [
    "### Creating a Set"
   ]
  },
  {
   "cell_type": "code",
   "execution_count": 1,
   "id": "f0880ff9",
   "metadata": {},
   "outputs": [],
   "source": [
    "S1={}\n",
    "# for dictionary and set python has curly brackets {}\n",
    "# by default this will create a dictionary rather than set\n",
    "# by this code we can not create a set"
   ]
  },
  {
   "cell_type": "code",
   "execution_count": 2,
   "id": "e5f7e2c1",
   "metadata": {},
   "outputs": [
    {
     "data": {
      "text/plain": [
       "dict"
      ]
     },
     "execution_count": 2,
     "metadata": {},
     "output_type": "execute_result"
    }
   ],
   "source": [
    "type(S1)\n",
    "# it will show as dictinary in the type fucntion"
   ]
  },
  {
   "cell_type": "markdown",
   "id": "bae022b6",
   "metadata": {},
   "source": [
    ">* Empty set is a dict data type"
   ]
  },
  {
   "cell_type": "code",
   "execution_count": 3,
   "id": "524156fb",
   "metadata": {
    "scrolled": true
   },
   "outputs": [
    {
     "data": {
      "text/plain": [
       "set"
      ]
     },
     "execution_count": 3,
     "metadata": {},
     "output_type": "execute_result"
    }
   ],
   "source": [
    "s1=set()\n",
    "type(s1)\n",
    "# this will create an empty set"
   ]
  },
  {
   "cell_type": "markdown",
   "id": "e6c829f7",
   "metadata": {},
   "source": [
    "* **The set() Constructor :**\n",
    ">* It is also possible to use the set() constructor to make a set."
   ]
  },
  {
   "cell_type": "code",
   "execution_count": 4,
   "id": "d8b8b43f",
   "metadata": {},
   "outputs": [
    {
     "name": "stdout",
     "output_type": "stream",
     "text": [
      "{'apple', 'banana', 'cherry'}\n"
     ]
    }
   ],
   "source": [
    "thisset = set((\"apple\", \"banana\", \"cherry\")) \n",
    "# note the double round-brackets\n",
    "print(thisset)"
   ]
  },
  {
   "cell_type": "code",
   "execution_count": 5,
   "id": "adcbb03c",
   "metadata": {},
   "outputs": [
    {
     "data": {
      "text/plain": [
       "{1, 2, 3, 4, 5, 6}"
      ]
     },
     "execution_count": 5,
     "metadata": {},
     "output_type": "execute_result"
    }
   ],
   "source": [
    "S1={1,2,3,4,5,6}\n",
    "# homegenous set\n",
    "S1"
   ]
  },
  {
   "cell_type": "markdown",
   "id": "a2f77488",
   "metadata": {},
   "source": [
    ">* **Note :** Sets are unordered, so you cannot be sure in which order the items will appear."
   ]
  },
  {
   "cell_type": "code",
   "execution_count": 6,
   "id": "d61eba4e",
   "metadata": {},
   "outputs": [
    {
     "data": {
      "text/plain": [
       "{4.5, True, 'hello'}"
      ]
     },
     "execution_count": 6,
     "metadata": {},
     "output_type": "execute_result"
    }
   ],
   "source": [
    "S2={\"hello\",4.5,True}\n",
    "S2"
   ]
  },
  {
   "cell_type": "code",
   "execution_count": 7,
   "id": "aeeb9902",
   "metadata": {},
   "outputs": [
    {
     "data": {
      "text/plain": [
       "{1, 2, 3, 4}"
      ]
     },
     "execution_count": 7,
     "metadata": {},
     "output_type": "execute_result"
    }
   ],
   "source": [
    "S3={1,1,2,2,3,3,4,4}\n",
    "# in result it will remove all the duplicate items\n",
    "S3"
   ]
  },
  {
   "cell_type": "markdown",
   "id": "fd824fa1",
   "metadata": {},
   "source": [
    ">* **Note :** The values True and 1 are considered the same value in sets, and are treated as duplicates:"
   ]
  },
  {
   "cell_type": "code",
   "execution_count": 8,
   "id": "17f86fef",
   "metadata": {},
   "outputs": [
    {
     "name": "stdout",
     "output_type": "stream",
     "text": [
      "{True, 'banana', 2, 'apple', 'cherry'}\n"
     ]
    }
   ],
   "source": [
    "thisset = {\"apple\", \"banana\", \"cherry\", True, 1, 2}\n",
    "\n",
    "print(thisset)"
   ]
  },
  {
   "cell_type": "code",
   "execution_count": 9,
   "id": "e10168e9",
   "metadata": {},
   "outputs": [
    {
     "ename": "TypeError",
     "evalue": "unhashable type: 'list'",
     "output_type": "error",
     "traceback": [
      "\u001b[1;31m---------------------------------------------------------------------------\u001b[0m",
      "\u001b[1;31mTypeError\u001b[0m                                 Traceback (most recent call last)",
      "\u001b[1;32m~\\AppData\\Local\\Temp\\ipykernel_11500\\16228853.py\u001b[0m in \u001b[0;36m<module>\u001b[1;34m\u001b[0m\n\u001b[1;32m----> 1\u001b[1;33m \u001b[0mS4\u001b[0m\u001b[1;33m=\u001b[0m\u001b[1;33m{\u001b[0m\u001b[1;33m[\u001b[0m\u001b[1;36m1\u001b[0m\u001b[1;33m,\u001b[0m\u001b[1;36m2\u001b[0m\u001b[1;33m,\u001b[0m\u001b[1;36m3\u001b[0m\u001b[1;33m]\u001b[0m\u001b[1;33m,\u001b[0m\u001b[1;34m\"hello\"\u001b[0m\u001b[1;33m}\u001b[0m\u001b[1;33m\u001b[0m\u001b[1;33m\u001b[0m\u001b[0m\n\u001b[0m\u001b[0;32m      2\u001b[0m \u001b[1;31m# this will throw an error\u001b[0m\u001b[1;33m\u001b[0m\u001b[1;33m\u001b[0m\u001b[0m\n\u001b[0;32m      3\u001b[0m \u001b[1;31m# because sets doesn't allow mutable data type in it\u001b[0m\u001b[1;33m\u001b[0m\u001b[1;33m\u001b[0m\u001b[0m\n",
      "\u001b[1;31mTypeError\u001b[0m: unhashable type: 'list'"
     ]
    }
   ],
   "source": [
    "S4={[1,2,3],\"hello\"}\n",
    "# this will throw an error\n",
    "# because sets doesn't allow mutable data type in it"
   ]
  },
  {
   "cell_type": "code",
   "execution_count": null,
   "id": "9bb28c93",
   "metadata": {},
   "outputs": [],
   "source": [
    "'''if we perform the same previous code \n",
    "by having tuple inside the set then....'''\n",
    "\n",
    "S5={(1,2,3),\"Hello\"}\n",
    "S5\n",
    "# this will create a set because tuple is immutable"
   ]
  },
  {
   "cell_type": "code",
   "execution_count": null,
   "id": "09e984ad",
   "metadata": {},
   "outputs": [],
   "source": [
    "type(S5)\n",
    "# note : set have no indexing"
   ]
  },
  {
   "cell_type": "code",
   "execution_count": null,
   "id": "9ac544bd",
   "metadata": {},
   "outputs": [],
   "source": [
    "# 2D sets are not possible\n",
    "S5={{1},{2}}\n",
    "S5\n",
    "# this will throw an error"
   ]
  },
  {
   "cell_type": "markdown",
   "id": "eb264262",
   "metadata": {},
   "source": [
    "###  Access items\n",
    "* You cannot access items in a set by referring to an index or a key.\n",
    "* you can not access item out of a set"
   ]
  },
  {
   "cell_type": "code",
   "execution_count": null,
   "id": "53ef764e",
   "metadata": {},
   "outputs": [],
   "source": [
    "S1 = {1, 2, 3, 4, 5, 6}"
   ]
  },
  {
   "cell_type": "code",
   "execution_count": null,
   "id": "ada6580a",
   "metadata": {},
   "outputs": [],
   "source": [
    "S1[0]\n",
    "# this will throw an error because set do not support indexing or slicing "
   ]
  },
  {
   "cell_type": "code",
   "execution_count": null,
   "id": "04e1e375",
   "metadata": {},
   "outputs": [],
   "source": [
    "S1[:3]\n",
    "# even slicing will not work on sets"
   ]
  },
  {
   "cell_type": "markdown",
   "id": "4bb33aaf",
   "metadata": {},
   "source": [
    ">* we can not edit items in set"
   ]
  },
  {
   "cell_type": "code",
   "execution_count": 10,
   "id": "47b0e9db",
   "metadata": {},
   "outputs": [
    {
     "data": {
      "text/plain": [
       "1983962130464"
      ]
     },
     "execution_count": 10,
     "metadata": {},
     "output_type": "execute_result"
    }
   ],
   "source": [
    "S1\n",
    "id(S1) # this is memory address of S1"
   ]
  },
  {
   "cell_type": "code",
   "execution_count": 11,
   "id": "54f30506",
   "metadata": {},
   "outputs": [
    {
     "data": {
      "text/plain": [
       "[1, 2, 3, 4, 5, 6]"
      ]
     },
     "execution_count": 11,
     "metadata": {},
     "output_type": "execute_result"
    }
   ],
   "source": [
    "L=list(S1)\n",
    "L\n",
    "# converted in the list"
   ]
  },
  {
   "cell_type": "code",
   "execution_count": 12,
   "id": "3e9c4f5a",
   "metadata": {},
   "outputs": [
    {
     "data": {
      "text/plain": [
       "[100, 2, 3, 4, 5, 6]"
      ]
     },
     "execution_count": 12,
     "metadata": {},
     "output_type": "execute_result"
    }
   ],
   "source": [
    "L[0]=100\n",
    "L"
   ]
  },
  {
   "cell_type": "code",
   "execution_count": 13,
   "id": "63e4382a",
   "metadata": {},
   "outputs": [
    {
     "data": {
      "text/plain": [
       "{2, 3, 4, 5, 6, 100}"
      ]
     },
     "execution_count": 13,
     "metadata": {},
     "output_type": "execute_result"
    }
   ],
   "source": [
    "S1=set(L)\n",
    "S1"
   ]
  },
  {
   "cell_type": "code",
   "execution_count": 14,
   "id": "0a317ca2",
   "metadata": {},
   "outputs": [
    {
     "data": {
      "text/plain": [
       "1983962960384"
      ]
     },
     "execution_count": 14,
     "metadata": {},
     "output_type": "execute_result"
    }
   ],
   "source": [
    "id(S1)\n",
    "# we are not editing the set but we are creating a new set"
   ]
  },
  {
   "cell_type": "code",
   "execution_count": 15,
   "id": "7362850c",
   "metadata": {},
   "outputs": [
    {
     "data": {
      "text/plain": [
       "'though set is a mutable data type we can not edit it \\nand also we cannot access any item out of it'"
      ]
     },
     "execution_count": 15,
     "metadata": {},
     "output_type": "execute_result"
    }
   ],
   "source": [
    "'''though set is a mutable data type we can not edit it \n",
    "and also we cannot access any item out of it'''"
   ]
  },
  {
   "cell_type": "markdown",
   "id": "f95983ed",
   "metadata": {},
   "source": [
    "### Add item\n",
    "* Once a set is created, you cannot change its items, but you can add new items.\n",
    "* To add one item to a set use the add() method."
   ]
  },
  {
   "cell_type": "code",
   "execution_count": 16,
   "id": "cfe4fefc",
   "metadata": {},
   "outputs": [],
   "source": [
    "S1 = {2, 3, 4, 5, 6, 100}"
   ]
  },
  {
   "cell_type": "code",
   "execution_count": 17,
   "id": "4f0b02d3",
   "metadata": {},
   "outputs": [
    {
     "data": {
      "text/plain": [
       "1983962961504"
      ]
     },
     "execution_count": 17,
     "metadata": {},
     "output_type": "execute_result"
    }
   ],
   "source": [
    "id(S1)"
   ]
  },
  {
   "cell_type": "code",
   "execution_count": 18,
   "id": "39b2a8da",
   "metadata": {},
   "outputs": [],
   "source": [
    "S1.add(7)"
   ]
  },
  {
   "cell_type": "code",
   "execution_count": 19,
   "id": "65c73b65",
   "metadata": {},
   "outputs": [
    {
     "data": {
      "text/plain": [
       "{2, 3, 4, 5, 6, 7, 100}"
      ]
     },
     "execution_count": 19,
     "metadata": {},
     "output_type": "execute_result"
    }
   ],
   "source": [
    "S1"
   ]
  },
  {
   "cell_type": "code",
   "execution_count": 20,
   "id": "79f59fe5",
   "metadata": {
    "scrolled": true
   },
   "outputs": [
    {
     "data": {
      "text/plain": [
       "1983962961504"
      ]
     },
     "execution_count": 20,
     "metadata": {},
     "output_type": "execute_result"
    }
   ],
   "source": [
    "id(S1)\n",
    "# memory place is still same"
   ]
  },
  {
   "cell_type": "code",
   "execution_count": 21,
   "id": "64abb90d",
   "metadata": {},
   "outputs": [
    {
     "name": "stdout",
     "output_type": "stream",
     "text": [
      "{'apple', 'banana', 'cherry', 'orange'}\n"
     ]
    }
   ],
   "source": [
    "thisset = {\"apple\", \"banana\", \"cherry\"}\n",
    "thisset.add(\"orange\")\n",
    "\n",
    "print(thisset)"
   ]
  },
  {
   "cell_type": "markdown",
   "id": "9fd855f6",
   "metadata": {},
   "source": [
    "* **Add Sets**\n",
    ">* To add items from another set into the current set, use the update() method."
   ]
  },
  {
   "cell_type": "code",
   "execution_count": 22,
   "id": "9dcfa081",
   "metadata": {},
   "outputs": [
    {
     "name": "stdout",
     "output_type": "stream",
     "text": [
      "{'banana', 'pineapple', 'apple', 'mango', 'papaya', 'cherry'}\n"
     ]
    }
   ],
   "source": [
    "thisset = {\"apple\", \"banana\", \"cherry\"}\n",
    "tropical = {\"pineapple\", \"mango\", \"papaya\"}\n",
    "\n",
    "thisset.update(tropical)\n",
    "\n",
    "print(thisset)"
   ]
  },
  {
   "cell_type": "markdown",
   "id": "b08d37a6",
   "metadata": {},
   "source": [
    "* **Add Any Iterable**\n",
    ">* The object in the update() method does not have to be a set, it can be any iterable object (tuples, lists, dictionaries etc.)."
   ]
  },
  {
   "cell_type": "code",
   "execution_count": 23,
   "id": "f2facb91",
   "metadata": {},
   "outputs": [
    {
     "name": "stdout",
     "output_type": "stream",
     "text": [
      "{'banana', 'orange', 'cherry', 'apple', 'kiwi'}\n"
     ]
    }
   ],
   "source": [
    "thisset = {\"apple\", \"banana\", \"cherry\"}\n",
    "mylist = [\"kiwi\", \"orange\"]\n",
    "\n",
    "thisset.update(mylist)\n",
    "\n",
    "print(thisset)"
   ]
  },
  {
   "cell_type": "markdown",
   "id": "34cc931a",
   "metadata": {},
   "source": [
    "### Delete\n",
    "1. del\n",
    "2. remove/discard\n",
    "3. pop\n",
    "4. clear"
   ]
  },
  {
   "cell_type": "code",
   "execution_count": 24,
   "id": "def562d8",
   "metadata": {},
   "outputs": [
    {
     "data": {
      "text/plain": [
       "{2, 3, 4, 5, 6, 7, 100}"
      ]
     },
     "execution_count": 24,
     "metadata": {},
     "output_type": "execute_result"
    }
   ],
   "source": [
    "S1={2, 3, 4, 5, 6, 7, 100}\n",
    "S1"
   ]
  },
  {
   "cell_type": "code",
   "execution_count": 25,
   "id": "b99a597a",
   "metadata": {},
   "outputs": [
    {
     "data": {
      "text/plain": [
       "{4.5, True, 'hello'}"
      ]
     },
     "execution_count": 25,
     "metadata": {},
     "output_type": "execute_result"
    }
   ],
   "source": [
    "S2={4.5, True, 'hello'}\n",
    "S2"
   ]
  },
  {
   "cell_type": "code",
   "execution_count": 26,
   "id": "0721486a",
   "metadata": {},
   "outputs": [],
   "source": [
    "del S2"
   ]
  },
  {
   "cell_type": "code",
   "execution_count": 27,
   "id": "99d210b3",
   "metadata": {},
   "outputs": [
    {
     "ename": "NameError",
     "evalue": "name 'S2' is not defined",
     "output_type": "error",
     "traceback": [
      "\u001b[1;31m---------------------------------------------------------------------------\u001b[0m",
      "\u001b[1;31mNameError\u001b[0m                                 Traceback (most recent call last)",
      "\u001b[1;32m~\\AppData\\Local\\Temp\\ipykernel_11500\\2193174547.py\u001b[0m in \u001b[0;36m<module>\u001b[1;34m\u001b[0m\n\u001b[1;32m----> 1\u001b[1;33m \u001b[0mS2\u001b[0m\u001b[1;33m\u001b[0m\u001b[1;33m\u001b[0m\u001b[0m\n\u001b[0m\u001b[0;32m      2\u001b[0m \u001b[1;31m# S2 is deleted so it will show an error\u001b[0m\u001b[1;33m\u001b[0m\u001b[1;33m\u001b[0m\u001b[0m\n",
      "\u001b[1;31mNameError\u001b[0m: name 'S2' is not defined"
     ]
    }
   ],
   "source": [
    "S2\n",
    "# S2 is deleted so it will show an error"
   ]
  },
  {
   "cell_type": "code",
   "execution_count": 28,
   "id": "a76fb3b3",
   "metadata": {},
   "outputs": [
    {
     "ename": "TypeError",
     "evalue": "'set' object doesn't support item deletion",
     "output_type": "error",
     "traceback": [
      "\u001b[1;31m---------------------------------------------------------------------------\u001b[0m",
      "\u001b[1;31mTypeError\u001b[0m                                 Traceback (most recent call last)",
      "\u001b[1;32m~\\AppData\\Local\\Temp\\ipykernel_11500\\1251276716.py\u001b[0m in \u001b[0;36m<module>\u001b[1;34m\u001b[0m\n\u001b[1;32m----> 1\u001b[1;33m \u001b[1;32mdel\u001b[0m \u001b[0mS1\u001b[0m\u001b[1;33m[\u001b[0m\u001b[1;36m0\u001b[0m\u001b[1;33m]\u001b[0m\u001b[1;33m\u001b[0m\u001b[1;33m\u001b[0m\u001b[0m\n\u001b[0m\u001b[0;32m      2\u001b[0m \u001b[1;31m# this will not work because we can not delete an item of set\u001b[0m\u001b[1;33m\u001b[0m\u001b[1;33m\u001b[0m\u001b[0m\n\u001b[0;32m      3\u001b[0m \u001b[1;31m# only whole set can be deleted\u001b[0m\u001b[1;33m\u001b[0m\u001b[1;33m\u001b[0m\u001b[0m\n\u001b[0;32m      4\u001b[0m \u001b[1;31m#'set' object doesn't support item deletion\u001b[0m\u001b[1;33m\u001b[0m\u001b[1;33m\u001b[0m\u001b[0m\n",
      "\u001b[1;31mTypeError\u001b[0m: 'set' object doesn't support item deletion"
     ]
    }
   ],
   "source": [
    "del S1[0]\n",
    "# this will not work because we can not delete an item of set\n",
    "# only whole set can be deleted \n",
    "#'set' object doesn't support item deletion"
   ]
  },
  {
   "cell_type": "markdown",
   "id": "1efafe18",
   "metadata": {},
   "source": [
    "* **Remove Item :**\n",
    ">* To remove an item in a set, use the remove(), or the discard() method."
   ]
  },
  {
   "cell_type": "code",
   "execution_count": 29,
   "id": "1ad6d1f4",
   "metadata": {},
   "outputs": [],
   "source": [
    "S1.remove(100)"
   ]
  },
  {
   "cell_type": "code",
   "execution_count": 30,
   "id": "04fd3e2d",
   "metadata": {},
   "outputs": [
    {
     "data": {
      "text/plain": [
       "{2, 3, 4, 5, 6, 7}"
      ]
     },
     "execution_count": 30,
     "metadata": {},
     "output_type": "execute_result"
    }
   ],
   "source": [
    "S1"
   ]
  },
  {
   "cell_type": "code",
   "execution_count": 31,
   "id": "262f26bd",
   "metadata": {},
   "outputs": [
    {
     "name": "stdout",
     "output_type": "stream",
     "text": [
      "{'apple', 'cherry'}\n"
     ]
    }
   ],
   "source": [
    "thisset = {\"apple\", \"banana\", \"cherry\"}\n",
    "thisset.remove(\"banana\")\n",
    "print(thisset)"
   ]
  },
  {
   "cell_type": "code",
   "execution_count": 32,
   "id": "a4cdeff0",
   "metadata": {},
   "outputs": [
    {
     "name": "stdout",
     "output_type": "stream",
     "text": [
      "{'apple', 'cherry'}\n"
     ]
    }
   ],
   "source": [
    "# Remove \"banana\" by using the discard() method:\n",
    "\n",
    "thisset = {\"apple\", \"banana\", \"cherry\"}\n",
    "thisset.discard(\"banana\")\n",
    "print(thisset)"
   ]
  },
  {
   "cell_type": "markdown",
   "id": "5afecda7",
   "metadata": {},
   "source": [
    ">* You can also use the pop() method to remove an item, but this method will remove a random item, so you cannot be sure what item that gets removed.\n",
    ">* The return value of the pop() method is the removed item."
   ]
  },
  {
   "cell_type": "code",
   "execution_count": 33,
   "id": "4dbfe904",
   "metadata": {},
   "outputs": [
    {
     "data": {
      "text/plain": [
       "2"
      ]
     },
     "execution_count": 33,
     "metadata": {},
     "output_type": "execute_result"
    }
   ],
   "source": [
    "S1.pop()\n",
    "# answer 2 is due to hashing"
   ]
  },
  {
   "cell_type": "code",
   "execution_count": 34,
   "id": "94e663a0",
   "metadata": {},
   "outputs": [
    {
     "name": "stdout",
     "output_type": "stream",
     "text": [
      "apple\n",
      "{'banana', 'cherry'}\n"
     ]
    }
   ],
   "source": [
    "thisset = {\"apple\", \"banana\", \"cherry\"}\n",
    "x = thisset.pop()\n",
    "print(x)\n",
    "print(thisset)"
   ]
  },
  {
   "cell_type": "code",
   "execution_count": 35,
   "id": "388a8d40",
   "metadata": {},
   "outputs": [
    {
     "name": "stdout",
     "output_type": "stream",
     "text": [
      "set()\n"
     ]
    }
   ],
   "source": [
    "# The clear() method empties the set:\n",
    "\n",
    "thisset = {\"apple\", \"banana\", \"cherry\"}\n",
    "thisset.clear()\n",
    "print(thisset)\n",
    "#  this will not delete the set permanently"
   ]
  },
  {
   "cell_type": "markdown",
   "id": "6b0eda7c",
   "metadata": {},
   "source": [
    "### Set operations"
   ]
  },
  {
   "cell_type": "code",
   "execution_count": 36,
   "id": "4f85a32d",
   "metadata": {},
   "outputs": [],
   "source": [
    "S1={1,2,3,4,5}\n",
    "S2={3,4,5,6,6}"
   ]
  },
  {
   "cell_type": "code",
   "execution_count": 37,
   "id": "bfdfb38f",
   "metadata": {},
   "outputs": [
    {
     "ename": "TypeError",
     "evalue": "unsupported operand type(s) for +: 'set' and 'set'",
     "output_type": "error",
     "traceback": [
      "\u001b[1;31m---------------------------------------------------------------------------\u001b[0m",
      "\u001b[1;31mTypeError\u001b[0m                                 Traceback (most recent call last)",
      "\u001b[1;32m~\\AppData\\Local\\Temp\\ipykernel_11500\\1723678476.py\u001b[0m in \u001b[0;36m<module>\u001b[1;34m\u001b[0m\n\u001b[1;32m----> 1\u001b[1;33m \u001b[0mS1\u001b[0m\u001b[1;33m+\u001b[0m\u001b[0mS2\u001b[0m\u001b[1;33m\u001b[0m\u001b[1;33m\u001b[0m\u001b[0m\n\u001b[0m\u001b[0;32m      2\u001b[0m \u001b[1;31m# this will throw an error because there is no concatination\u001b[0m\u001b[1;33m\u001b[0m\u001b[1;33m\u001b[0m\u001b[0m\n",
      "\u001b[1;31mTypeError\u001b[0m: unsupported operand type(s) for +: 'set' and 'set'"
     ]
    }
   ],
   "source": [
    "S1+S2\n",
    "# this will throw an error because there is no concatination"
   ]
  },
  {
   "cell_type": "code",
   "execution_count": 38,
   "id": "06d663b6",
   "metadata": {},
   "outputs": [
    {
     "ename": "TypeError",
     "evalue": "unsupported operand type(s) for *: 'set' and 'int'",
     "output_type": "error",
     "traceback": [
      "\u001b[1;31m---------------------------------------------------------------------------\u001b[0m",
      "\u001b[1;31mTypeError\u001b[0m                                 Traceback (most recent call last)",
      "\u001b[1;32m~\\AppData\\Local\\Temp\\ipykernel_11500\\2877602794.py\u001b[0m in \u001b[0;36m<module>\u001b[1;34m\u001b[0m\n\u001b[1;32m----> 1\u001b[1;33m \u001b[0mS1\u001b[0m\u001b[1;33m*\u001b[0m\u001b[1;36m3\u001b[0m\u001b[1;33m\u001b[0m\u001b[1;33m\u001b[0m\u001b[0m\n\u001b[0m\u001b[0;32m      2\u001b[0m \u001b[1;31m# we also can not multiply it\u001b[0m\u001b[1;33m\u001b[0m\u001b[1;33m\u001b[0m\u001b[0m\n",
      "\u001b[1;31mTypeError\u001b[0m: unsupported operand type(s) for *: 'set' and 'int'"
     ]
    }
   ],
   "source": [
    "S1*3\n",
    "# we also can not multiply it "
   ]
  },
  {
   "cell_type": "markdown",
   "id": "c73067de",
   "metadata": {},
   "source": [
    "* **Loop Items :**\n",
    ">* You can loop through the set items by using a for loop:"
   ]
  },
  {
   "cell_type": "code",
   "execution_count": 39,
   "id": "ebda2db9",
   "metadata": {},
   "outputs": [
    {
     "name": "stdout",
     "output_type": "stream",
     "text": [
      "1\n",
      "2\n",
      "3\n",
      "4\n",
      "5\n"
     ]
    }
   ],
   "source": [
    "# but we can run the loop\n",
    "for i in S1:\n",
    "    print(i)"
   ]
  },
  {
   "cell_type": "code",
   "execution_count": 40,
   "id": "cef24d6b",
   "metadata": {},
   "outputs": [
    {
     "name": "stdout",
     "output_type": "stream",
     "text": [
      "apple\n",
      "banana\n",
      "cherry\n"
     ]
    }
   ],
   "source": [
    "thisset = {\"apple\", \"banana\", \"cherry\"}\n",
    "\n",
    "for x in thisset:\n",
    "    print(x)"
   ]
  },
  {
   "cell_type": "markdown",
   "id": "ed1c2c08",
   "metadata": {},
   "source": [
    "* **membership operation :**"
   ]
  },
  {
   "cell_type": "code",
   "execution_count": 41,
   "id": "c890e0e4",
   "metadata": {},
   "outputs": [
    {
     "data": {
      "text/plain": [
       "True"
      ]
     },
     "execution_count": 41,
     "metadata": {},
     "output_type": "execute_result"
    }
   ],
   "source": [
    "1 in S1"
   ]
  },
  {
   "cell_type": "code",
   "execution_count": 42,
   "id": "f69a3fb6",
   "metadata": {},
   "outputs": [
    {
     "name": "stdout",
     "output_type": "stream",
     "text": [
      "True\n"
     ]
    }
   ],
   "source": [
    "thisset = {\"apple\", \"banana\", \"cherry\"}\n",
    "\n",
    "print(\"banana\" in thisset)"
   ]
  },
  {
   "cell_type": "markdown",
   "id": "6c1ddf10",
   "metadata": {},
   "source": [
    "* **functions :**"
   ]
  },
  {
   "cell_type": "code",
   "execution_count": 43,
   "id": "b096db2e",
   "metadata": {},
   "outputs": [
    {
     "data": {
      "text/plain": [
       "5"
      ]
     },
     "execution_count": 43,
     "metadata": {},
     "output_type": "execute_result"
    }
   ],
   "source": [
    "len(S1)"
   ]
  },
  {
   "cell_type": "code",
   "execution_count": 44,
   "id": "9e9ad147",
   "metadata": {},
   "outputs": [
    {
     "data": {
      "text/plain": [
       "1"
      ]
     },
     "execution_count": 44,
     "metadata": {},
     "output_type": "execute_result"
    }
   ],
   "source": [
    "min(S1)"
   ]
  },
  {
   "cell_type": "code",
   "execution_count": 45,
   "id": "79e786b6",
   "metadata": {},
   "outputs": [
    {
     "data": {
      "text/plain": [
       "5"
      ]
     },
     "execution_count": 45,
     "metadata": {},
     "output_type": "execute_result"
    }
   ],
   "source": [
    "max(S1)"
   ]
  },
  {
   "cell_type": "code",
   "execution_count": 46,
   "id": "a1bf9035",
   "metadata": {},
   "outputs": [
    {
     "data": {
      "text/plain": [
       "list"
      ]
     },
     "execution_count": 46,
     "metadata": {},
     "output_type": "execute_result"
    }
   ],
   "source": [
    "x=sorted(S1)\n",
    "type(x)\n",
    "# it will return it as a list"
   ]
  },
  {
   "cell_type": "code",
   "execution_count": 47,
   "id": "7d1f2539",
   "metadata": {},
   "outputs": [
    {
     "data": {
      "text/plain": [
       "15"
      ]
     },
     "execution_count": 47,
     "metadata": {},
     "output_type": "execute_result"
    }
   ],
   "source": [
    "sum(S1)"
   ]
  },
  {
   "cell_type": "code",
   "execution_count": 48,
   "id": "e1c6cb86",
   "metadata": {},
   "outputs": [
    {
     "data": {
      "text/plain": [
       "[5, 4, 3, 2, 1]"
      ]
     },
     "execution_count": 48,
     "metadata": {},
     "output_type": "execute_result"
    }
   ],
   "source": [
    "sorted(S1,reverse=True)"
   ]
  },
  {
   "cell_type": "code",
   "execution_count": 49,
   "id": "c30ef92d",
   "metadata": {},
   "outputs": [
    {
     "data": {
      "text/plain": [
       "{1, 2, 3, 4, 5}"
      ]
     },
     "execution_count": 49,
     "metadata": {},
     "output_type": "execute_result"
    }
   ],
   "source": [
    "S1 = {1, 2, 3, 4, 5}\n",
    "S1"
   ]
  },
  {
   "cell_type": "code",
   "execution_count": 50,
   "id": "990413d9",
   "metadata": {},
   "outputs": [
    {
     "data": {
      "text/plain": [
       "{3, 4, 5, 6}"
      ]
     },
     "execution_count": 50,
     "metadata": {},
     "output_type": "execute_result"
    }
   ],
   "source": [
    "S2 = {3, 4, 5, 6}\n",
    "S2"
   ]
  },
  {
   "cell_type": "markdown",
   "id": "24a1766b",
   "metadata": {},
   "source": [
    "* **Join Two Sets :**\n",
    ">* There are several ways to join two or more sets in Python.\n",
    ">* You can use the union() method that returns a new set containing all items from both sets, or the update() method that inserts all the items from one set into another:"
   ]
  },
  {
   "cell_type": "code",
   "execution_count": 51,
   "id": "08e607e9",
   "metadata": {},
   "outputs": [
    {
     "data": {
      "text/plain": [
       "{1, 2, 3, 4, 5, 6}"
      ]
     },
     "execution_count": 51,
     "metadata": {},
     "output_type": "execute_result"
    }
   ],
   "source": [
    "S1.union(S2)"
   ]
  },
  {
   "cell_type": "code",
   "execution_count": 52,
   "id": "82d9f0da",
   "metadata": {},
   "outputs": [
    {
     "name": "stdout",
     "output_type": "stream",
     "text": [
      "{1, 'a', 2, 3, 'c', 'b'}\n"
     ]
    }
   ],
   "source": [
    "set1 = {\"a\", \"b\" , \"c\"}\n",
    "set2 = {1, 2, 3}\n",
    "\n",
    "set3 = set1.union(set2)\n",
    "print(set3)"
   ]
  },
  {
   "cell_type": "code",
   "execution_count": 53,
   "id": "7d3e03c2",
   "metadata": {},
   "outputs": [
    {
     "name": "stdout",
     "output_type": "stream",
     "text": [
      "{1, 'a', 2, 3, 'c', 'b'}\n"
     ]
    }
   ],
   "source": [
    "set1 = {\"a\", \"b\" , \"c\"}\n",
    "set2 = {1, 2, 3}\n",
    "\n",
    "set1.update(set2)\n",
    "print(set1)"
   ]
  },
  {
   "cell_type": "markdown",
   "id": "a0fcc1f2",
   "metadata": {},
   "source": [
    "* **Note :** Both union() and update() will exclude any duplicate items."
   ]
  },
  {
   "cell_type": "code",
   "execution_count": 54,
   "id": "5274c074",
   "metadata": {},
   "outputs": [
    {
     "name": "stdout",
     "output_type": "stream",
     "text": [
      "{1, 2, 3, 4, 5}\n",
      "{3, 4, 5, 6}\n"
     ]
    }
   ],
   "source": [
    "S1 = {1, 2, 3, 4, 5}\n",
    "print(S1)\n",
    "S2 = {3, 4, 5, 6}\n",
    "print(S2)"
   ]
  },
  {
   "cell_type": "code",
   "execution_count": 55,
   "id": "7150cb91",
   "metadata": {},
   "outputs": [
    {
     "data": {
      "text/plain": [
       "{3, 4, 5}"
      ]
     },
     "execution_count": 55,
     "metadata": {},
     "output_type": "execute_result"
    }
   ],
   "source": [
    "S1.intersection(S2)"
   ]
  },
  {
   "cell_type": "code",
   "execution_count": 56,
   "id": "955e1eb2",
   "metadata": {},
   "outputs": [
    {
     "data": {
      "text/plain": [
       "{1, 2}"
      ]
     },
     "execution_count": 56,
     "metadata": {},
     "output_type": "execute_result"
    }
   ],
   "source": [
    "S1.difference(S2)"
   ]
  },
  {
   "cell_type": "code",
   "execution_count": 57,
   "id": "b149ebee",
   "metadata": {},
   "outputs": [
    {
     "data": {
      "text/plain": [
       "{6}"
      ]
     },
     "execution_count": 57,
     "metadata": {},
     "output_type": "execute_result"
    }
   ],
   "source": [
    "S2.difference(S1)"
   ]
  },
  {
   "cell_type": "code",
   "execution_count": 58,
   "id": "8b85ab43",
   "metadata": {},
   "outputs": [
    {
     "data": {
      "text/plain": [
       "{1, 2, 6}"
      ]
     },
     "execution_count": 58,
     "metadata": {},
     "output_type": "execute_result"
    }
   ],
   "source": [
    "S1.symmetric_difference(S2)"
   ]
  },
  {
   "cell_type": "code",
   "execution_count": 59,
   "id": "9ffd8208",
   "metadata": {},
   "outputs": [
    {
     "data": {
      "text/plain": [
       "False"
      ]
     },
     "execution_count": 59,
     "metadata": {},
     "output_type": "execute_result"
    }
   ],
   "source": [
    "S1.isdisjoint(S2)"
   ]
  },
  {
   "cell_type": "code",
   "execution_count": 60,
   "id": "bb57ace6",
   "metadata": {},
   "outputs": [
    {
     "data": {
      "text/plain": [
       "False"
      ]
     },
     "execution_count": 60,
     "metadata": {},
     "output_type": "execute_result"
    }
   ],
   "source": [
    "S1.issubset(S2)"
   ]
  },
  {
   "cell_type": "code",
   "execution_count": 61,
   "id": "2539297b",
   "metadata": {
    "scrolled": true
   },
   "outputs": [
    {
     "data": {
      "text/plain": [
       "False"
      ]
     },
     "execution_count": 61,
     "metadata": {},
     "output_type": "execute_result"
    }
   ],
   "source": [
    "S1.issuperset(S2)"
   ]
  },
  {
   "cell_type": "code",
   "execution_count": 62,
   "id": "cbb0f061",
   "metadata": {},
   "outputs": [
    {
     "ename": "SyntaxError",
     "evalue": "invalid syntax (4087239274.py, line 1)",
     "output_type": "error",
     "traceback": [
      "\u001b[1;36m  File \u001b[1;32m\"C:\\Users\\gadha\\AppData\\Local\\Temp\\ipykernel_11500\\4087239274.py\"\u001b[1;36m, line \u001b[1;32m1\u001b[0m\n\u001b[1;33m    S1.\u001b[0m\n\u001b[1;37m       ^\u001b[0m\n\u001b[1;31mSyntaxError\u001b[0m\u001b[1;31m:\u001b[0m invalid syntax\n"
     ]
    }
   ],
   "source": [
    "S1.\n",
    "# press tab key to know the available fucntions of set"
   ]
  },
  {
   "cell_type": "markdown",
   "id": "446d8e65",
   "metadata": {},
   "source": [
    "    add()       \t      Adds an element to the set\n",
    "    clear()\t              Removes all the elements from the set\n",
    "    copy()\t              Returns a copy of the set\n",
    "    difference()\t      Returns a set containing the difference between two or more sets\n",
    "    difference_update()\t  Removes the items in this set that are also included in another, specified set\n",
    "    discard()\t          Remove the specified item\n",
    "    intersection()\t      Returns a set, that is the intersection of two other sets\n",
    "    intersection_update() Removes the items in this set that are not present in other, specified set(s)\n",
    "    isdisjoint()\t      Returns whether two sets have a intersection or not\n",
    "    issubset()\t          Returns whether another set contains this set or not\n",
    "    issuperset()\t      Returns whether this set contains another set or not\n",
    "    pop()\t              Removes an element from the set\n",
    "    remove()\t          Removes the specified element\n",
    "    symmetric_difference()Returns a set with the symmetric differences of two sets\n",
    "    symmetric_difference_update()\tinserts the symmetric differences from this set and another\n",
    "    union()\t              Return a set containing the union of sets\n",
    "    update()\t          Update the set with the union of this set and others"
   ]
  }
 ],
 "metadata": {
  "kernelspec": {
   "display_name": "Python 3 (ipykernel)",
   "language": "python",
   "name": "python3"
  },
  "language_info": {
   "codemirror_mode": {
    "name": "ipython",
    "version": 3
   },
   "file_extension": ".py",
   "mimetype": "text/x-python",
   "name": "python",
   "nbconvert_exporter": "python",
   "pygments_lexer": "ipython3",
   "version": "3.9.13"
  }
 },
 "nbformat": 4,
 "nbformat_minor": 5
}
