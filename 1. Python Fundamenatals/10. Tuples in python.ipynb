{
 "cells": [
  {
   "cell_type": "markdown",
   "id": "c6bf50dc",
   "metadata": {},
   "source": [
    "# Tuples\n",
    ">* Tuples are used to store multiple items in a single variable.\n",
    ">* A tuple is a collection which is ordered and unchangeable and allow duplicate values.\n",
    ">* Tuples are written with round brackets.\n",
    ">* tuple are read only data type but it has not write functionality\n",
    "\n",
    "\n",
    ">>* **Ordered :** When we say that tuples are ordered, it means that the items have a defined order, and that order will not change.\n",
    ">>* **Unchangeable :** Tuples are unchangeable, meaning that we cannot change, add or remove items after the tuple has been created.\n",
    ">>* **Allow Duplicates :** Since tuples are indexed, they can have items with the same value:\n",
    "\n",
    "* create\n",
    "* access\n",
    "* edit\n",
    "* add\n",
    "* delete\n",
    "* operations\n",
    "* functions"
   ]
  },
  {
   "cell_type": "markdown",
   "id": "a45e6fa3",
   "metadata": {},
   "source": [
    "### 1. Create"
   ]
  },
  {
   "cell_type": "code",
   "execution_count": 1,
   "id": "dae313e3",
   "metadata": {},
   "outputs": [],
   "source": [
    "# how to create a tuple\n",
    "T1=()"
   ]
  },
  {
   "cell_type": "code",
   "execution_count": 2,
   "id": "e57bc0aa",
   "metadata": {},
   "outputs": [
    {
     "data": {
      "text/plain": [
       "(1, 2, 3, 4)"
      ]
     },
     "execution_count": 2,
     "metadata": {},
     "output_type": "execute_result"
    }
   ],
   "source": [
    "T2=(1,2,3,4)\n",
    "T2\n",
    "# homogenous tuple"
   ]
  },
  {
   "cell_type": "code",
   "execution_count": 3,
   "id": "cbc56257",
   "metadata": {},
   "outputs": [
    {
     "data": {
      "text/plain": [
       "('hello', 4, 5.6, True)"
      ]
     },
     "execution_count": 3,
     "metadata": {},
     "output_type": "execute_result"
    }
   ],
   "source": [
    "T3=(\"hello\",4,5.6,True)\n",
    "T3\n",
    "# heterogenous tuple"
   ]
  },
  {
   "cell_type": "code",
   "execution_count": 4,
   "id": "e3b0edb9",
   "metadata": {},
   "outputs": [
    {
     "data": {
      "text/plain": [
       "(1, 2, 3, (4, 5))"
      ]
     },
     "execution_count": 4,
     "metadata": {},
     "output_type": "execute_result"
    }
   ],
   "source": [
    "T4=(1,2,3,(4,5))\n",
    "# 2D tuple\n",
    "T4"
   ]
  },
  {
   "cell_type": "markdown",
   "id": "acd454a2",
   "metadata": {},
   "source": [
    "* **Note :** \n",
    ">* we can't make single object tuple, it will show in as a class of variable"
   ]
  },
  {
   "cell_type": "code",
   "execution_count": 5,
   "id": "a22f13ba",
   "metadata": {},
   "outputs": [
    {
     "name": "stdout",
     "output_type": "stream",
     "text": [
      "1\n"
     ]
    },
    {
     "data": {
      "text/plain": [
       "int"
      ]
     },
     "execution_count": 5,
     "metadata": {},
     "output_type": "execute_result"
    }
   ],
   "source": [
    "T5=(1)\n",
    "print(T5)\n",
    "type(T5)"
   ]
  },
  {
   "cell_type": "code",
   "execution_count": 6,
   "id": "a77fc201",
   "metadata": {},
   "outputs": [
    {
     "data": {
      "text/plain": [
       "str"
      ]
     },
     "execution_count": 6,
     "metadata": {},
     "output_type": "execute_result"
    }
   ],
   "source": [
    "T5=(\"himanshu\")\n",
    "type(T5)\n",
    "# srtill it will not become as a tuple"
   ]
  },
  {
   "cell_type": "markdown",
   "id": "cc7ba1da",
   "metadata": {},
   "source": [
    "* **Create Tuple With One Item**\n",
    ">* To create a tuple with only one item, you have to add a comma after the item, otherwise Python will not recognize it as a tuple."
   ]
  },
  {
   "cell_type": "code",
   "execution_count": 7,
   "id": "091d20cf",
   "metadata": {},
   "outputs": [
    {
     "data": {
      "text/plain": [
       "('hello',)"
      ]
     },
     "execution_count": 7,
     "metadata": {},
     "output_type": "execute_result"
    }
   ],
   "source": [
    "T5=(\"hello\",)\n",
    "T5"
   ]
  },
  {
   "cell_type": "markdown",
   "id": "9881d543",
   "metadata": {},
   "source": [
    "* **The tuple() Constructor**\n",
    ">* It is also possible to use the tuple() constructor to make a tuple."
   ]
  },
  {
   "cell_type": "code",
   "execution_count": 8,
   "id": "e1554411",
   "metadata": {},
   "outputs": [
    {
     "name": "stdout",
     "output_type": "stream",
     "text": [
      "('apple', 'banana', 'cherry')\n"
     ]
    }
   ],
   "source": [
    "thistuple = tuple((\"apple\", \"banana\", \"cherry\")) \n",
    "# note the double round-brackets\n",
    "print(thistuple)"
   ]
  },
  {
   "cell_type": "code",
   "execution_count": 9,
   "id": "ec84b4bf",
   "metadata": {},
   "outputs": [
    {
     "data": {
      "text/plain": [
       "('g', 'o', 'a')"
      ]
     },
     "execution_count": 9,
     "metadata": {},
     "output_type": "execute_result"
    }
   ],
   "source": [
    "T6=tuple(\"goa\")\n",
    "T6"
   ]
  },
  {
   "cell_type": "code",
   "execution_count": 10,
   "id": "f131f154",
   "metadata": {},
   "outputs": [
    {
     "data": {
      "text/plain": [
       "(1, 2, 3, 4)"
      ]
     },
     "execution_count": 10,
     "metadata": {},
     "output_type": "execute_result"
    }
   ],
   "source": [
    "T6=tuple([1,2,3,4])\n",
    "T6\n",
    "# it will make a tuple of the items inside the lists"
   ]
  },
  {
   "cell_type": "code",
   "execution_count": 11,
   "id": "e279f049",
   "metadata": {},
   "outputs": [
    {
     "name": "stdout",
     "output_type": "stream",
     "text": [
      "('apple', 'banana', 'cherry', 'apple', 'cherry')\n"
     ]
    }
   ],
   "source": [
    "# Tuples allow duplicate values:\n",
    "thistuple = (\"apple\", \"banana\", \"cherry\", \"apple\", \"cherry\")\n",
    "print(thistuple)"
   ]
  },
  {
   "cell_type": "markdown",
   "id": "4c6fdb9f",
   "metadata": {},
   "source": [
    "### 2. Access\n",
    "* You can access tuple items by referring to the index number, inside square brackets:\n",
    "* **Note :** The first item has index 0."
   ]
  },
  {
   "cell_type": "code",
   "execution_count": 12,
   "id": "894477c6",
   "metadata": {},
   "outputs": [
    {
     "data": {
      "text/plain": [
       "(1, 2, 3, 4)"
      ]
     },
     "execution_count": 12,
     "metadata": {},
     "output_type": "execute_result"
    }
   ],
   "source": [
    "T2=(1,2,3,4)\n",
    "T2"
   ]
  },
  {
   "cell_type": "code",
   "execution_count": 13,
   "id": "276a1158",
   "metadata": {},
   "outputs": [
    {
     "data": {
      "text/plain": [
       "1"
      ]
     },
     "execution_count": 13,
     "metadata": {},
     "output_type": "execute_result"
    }
   ],
   "source": [
    "T2[0]\n",
    "# for indexing "
   ]
  },
  {
   "cell_type": "code",
   "execution_count": 14,
   "id": "c9eec580",
   "metadata": {},
   "outputs": [
    {
     "data": {
      "text/plain": [
       "(1, 2, 3, 4)"
      ]
     },
     "execution_count": 14,
     "metadata": {},
     "output_type": "execute_result"
    }
   ],
   "source": [
    "''' By leaving out the start value, \n",
    "the range will start at the first item:'''\n",
    "T2[:4]"
   ]
  },
  {
   "cell_type": "code",
   "execution_count": 16,
   "id": "d39c0298",
   "metadata": {},
   "outputs": [
    {
     "name": "stdout",
     "output_type": "stream",
     "text": [
      "('cherry', 'orange', 'kiwi', 'melon', 'mango')\n"
     ]
    }
   ],
   "source": [
    "'''By leaving out the end value, \n",
    "the range will go on to the end of the list:'''\n",
    "\n",
    "thistuple = (\"apple\", \"banana\", \"cherry\", \n",
    "             \"orange\", \"kiwi\", \"melon\", \"mango\")\n",
    "print(thistuple[2:])"
   ]
  },
  {
   "cell_type": "code",
   "execution_count": 17,
   "id": "e62069e8",
   "metadata": {},
   "outputs": [
    {
     "data": {
      "text/plain": [
       "(1, 2, 3, (4, 5))"
      ]
     },
     "execution_count": 17,
     "metadata": {},
     "output_type": "execute_result"
    }
   ],
   "source": [
    "T4=(1,2,3,(4,5))\n",
    "T4"
   ]
  },
  {
   "cell_type": "code",
   "execution_count": 18,
   "id": "6e1d789d",
   "metadata": {},
   "outputs": [
    {
     "data": {
      "text/plain": [
       "5"
      ]
     },
     "execution_count": 18,
     "metadata": {},
     "output_type": "execute_result"
    }
   ],
   "source": [
    "T4[-1][1]"
   ]
  },
  {
   "cell_type": "markdown",
   "id": "846c5803",
   "metadata": {},
   "source": [
    "* **Range of Indexes**\n",
    ">* You can specify a range of indexes by specifying where to start and where to end the range.\n",
    ">* When specifying a range, the return value will be a new tuple with the specified items."
   ]
  },
  {
   "cell_type": "code",
   "execution_count": 20,
   "id": "bc40caeb",
   "metadata": {},
   "outputs": [
    {
     "name": "stdout",
     "output_type": "stream",
     "text": [
      "('cherry', 'orange', 'kiwi')\n"
     ]
    },
    {
     "data": {
      "text/plain": [
       "'Note: The search will start at index 2 (included) and \\nend at index 5 (not included).'"
      ]
     },
     "execution_count": 20,
     "metadata": {},
     "output_type": "execute_result"
    }
   ],
   "source": [
    "thistuple = (\"apple\", \"banana\", \"cherry\", \"orange\", \n",
    "             \"kiwi\", \"melon\", \"mango\")\n",
    "print(thistuple[2:5])\n",
    "\n",
    "'''Note: The search will start at index 2 (included) and \n",
    "end at index 5 (not included).'''"
   ]
  },
  {
   "cell_type": "code",
   "execution_count": 22,
   "id": "e892e706",
   "metadata": {},
   "outputs": [
    {
     "name": "stdout",
     "output_type": "stream",
     "text": [
      "('orange', 'kiwi', 'melon')\n"
     ]
    },
    {
     "data": {
      "text/plain": [
       "'This example returns the items from index -4 (included) \\nto index -1 (excluded)'"
      ]
     },
     "execution_count": 22,
     "metadata": {},
     "output_type": "execute_result"
    }
   ],
   "source": [
    "'''Specify negative indexes if you want to start the search \n",
    "from the end of the tuple:'''\n",
    "\n",
    "thistuple = (\"apple\", \"banana\", \"cherry\", \"orange\", \n",
    "             \"kiwi\", \"melon\", \"mango\")\n",
    "print(thistuple[-4:-1])\n",
    "\n",
    "'''This example returns the items from index -4 (included) \n",
    "to index -1 (excluded)'''"
   ]
  },
  {
   "cell_type": "markdown",
   "id": "b22a5435",
   "metadata": {},
   "source": [
    "### 3. Edit\n",
    "* Tuples are unchangeable, meaning that you cannot change, add, or remove items once the tuple is created."
   ]
  },
  {
   "cell_type": "code",
   "execution_count": 23,
   "id": "6941ff18",
   "metadata": {},
   "outputs": [
    {
     "data": {
      "text/plain": [
       "[100, 2, 3, 4, 5]"
      ]
     },
     "execution_count": 23,
     "metadata": {},
     "output_type": "execute_result"
    }
   ],
   "source": [
    "L=[1,2,3,4,5]\n",
    "L[0]=100\n",
    "L\n",
    "# editing is easy in the list"
   ]
  },
  {
   "cell_type": "code",
   "execution_count": 24,
   "id": "f09d2e2b",
   "metadata": {},
   "outputs": [
    {
     "data": {
      "text/plain": [
       "(1, 2, 3, 4)"
      ]
     },
     "execution_count": 24,
     "metadata": {},
     "output_type": "execute_result"
    }
   ],
   "source": [
    "T2=(1, 2, 3, 4)\n",
    "T2"
   ]
  },
  {
   "cell_type": "code",
   "execution_count": 25,
   "id": "e3be96df",
   "metadata": {
    "scrolled": false
   },
   "outputs": [
    {
     "ename": "TypeError",
     "evalue": "'tuple' object does not support item assignment",
     "output_type": "error",
     "traceback": [
      "\u001b[1;31m---------------------------------------------------------------------------\u001b[0m",
      "\u001b[1;31mTypeError\u001b[0m                                 Traceback (most recent call last)",
      "\u001b[1;32m~\\AppData\\Local\\Temp\\ipykernel_10744\\3555532746.py\u001b[0m in \u001b[0;36m<module>\u001b[1;34m\u001b[0m\n\u001b[1;32m----> 1\u001b[1;33m \u001b[0mT2\u001b[0m\u001b[1;33m[\u001b[0m\u001b[1;36m0\u001b[0m\u001b[1;33m]\u001b[0m\u001b[1;33m=\u001b[0m\u001b[1;36m100\u001b[0m\u001b[1;33m\u001b[0m\u001b[1;33m\u001b[0m\u001b[0m\n\u001b[0m\u001b[0;32m      2\u001b[0m \u001b[1;31m# it will throw an error because tuple does not support the editing\u001b[0m\u001b[1;33m\u001b[0m\u001b[1;33m\u001b[0m\u001b[0m\n",
      "\u001b[1;31mTypeError\u001b[0m: 'tuple' object does not support item assignment"
     ]
    }
   ],
   "source": [
    "T2[0]=100\n",
    "# it will throw an error because tuple does not support the editing"
   ]
  },
  {
   "cell_type": "markdown",
   "id": "a9cb9841",
   "metadata": {},
   "source": [
    "* Change Tuple Values\n",
    ">* Once a tuple is created, you cannot change its values. Tuples are unchangeable, or immutable as it also is called.\n",
    ">* But there is a workaround. You can convert the tuple into a list, change the list, and convert the list back into a tuple."
   ]
  },
  {
   "cell_type": "code",
   "execution_count": 26,
   "id": "3b2d5f7d",
   "metadata": {},
   "outputs": [
    {
     "name": "stdout",
     "output_type": "stream",
     "text": [
      "('apple', 'kiwi', 'cherry')\n"
     ]
    }
   ],
   "source": [
    "# Convert the tuple into a list to be able to change it:\n",
    "\n",
    "x = (\"apple\", \"banana\", \"cherry\")\n",
    "y = list(x)\n",
    "y[1] = \"kiwi\"\n",
    "x = tuple(y)\n",
    "\n",
    "print(x)"
   ]
  },
  {
   "cell_type": "markdown",
   "id": "ec517e44",
   "metadata": {},
   "source": [
    "### 4. Add\n",
    "* Since tuples are immutable, they do not have a build-in append() method.\n",
    "* tuples just like strings are immutable\n",
    "* we can not add new item in the existing tuple"
   ]
  },
  {
   "cell_type": "code",
   "execution_count": 28,
   "id": "681aa811",
   "metadata": {},
   "outputs": [
    {
     "name": "stdout",
     "output_type": "stream",
     "text": [
      "('apple', 'banana', 'cherry', 'orange')\n"
     ]
    }
   ],
   "source": [
    "'''Convert the tuple into a list, add \"orange\", \n",
    "and convert it back into a tuple:'''\n",
    "\n",
    "thistuple = (\"apple\", \"banana\", \"cherry\")\n",
    "y = list(thistuple)\n",
    "y.append(\"orange\")\n",
    "thistuple = tuple(y)\n",
    "print(thistuple)"
   ]
  },
  {
   "cell_type": "markdown",
   "id": "6bb764a0",
   "metadata": {},
   "source": [
    "### 5. Delete\n",
    "* The del keyword can delete the tuple completely:"
   ]
  },
  {
   "cell_type": "code",
   "execution_count": 29,
   "id": "332f9e60",
   "metadata": {},
   "outputs": [
    {
     "data": {
      "text/plain": [
       "()"
      ]
     },
     "execution_count": 29,
     "metadata": {},
     "output_type": "execute_result"
    }
   ],
   "source": [
    "T1=()\n",
    "T1"
   ]
  },
  {
   "cell_type": "code",
   "execution_count": 30,
   "id": "6db1ae74",
   "metadata": {},
   "outputs": [],
   "source": [
    "del T1"
   ]
  },
  {
   "cell_type": "code",
   "execution_count": 31,
   "id": "7f9f8fb3",
   "metadata": {},
   "outputs": [
    {
     "ename": "NameError",
     "evalue": "name 'T1' is not defined",
     "output_type": "error",
     "traceback": [
      "\u001b[1;31m---------------------------------------------------------------------------\u001b[0m",
      "\u001b[1;31mNameError\u001b[0m                                 Traceback (most recent call last)",
      "\u001b[1;32m~\\AppData\\Local\\Temp\\ipykernel_10744\\889919135.py\u001b[0m in \u001b[0;36m<module>\u001b[1;34m\u001b[0m\n\u001b[1;32m----> 1\u001b[1;33m \u001b[0mT1\u001b[0m\u001b[1;33m\u001b[0m\u001b[1;33m\u001b[0m\u001b[0m\n\u001b[0m\u001b[0;32m      2\u001b[0m \u001b[1;31m# this will throw and error because T1 is already deleted\u001b[0m\u001b[1;33m\u001b[0m\u001b[1;33m\u001b[0m\u001b[0m\n",
      "\u001b[1;31mNameError\u001b[0m: name 'T1' is not defined"
     ]
    }
   ],
   "source": [
    "T1\n",
    "# this will throw and error because T1 is already deleted"
   ]
  },
  {
   "cell_type": "code",
   "execution_count": 32,
   "id": "e6f4677c",
   "metadata": {},
   "outputs": [
    {
     "data": {
      "text/plain": [
       "(1, 2, 3, 4)"
      ]
     },
     "execution_count": 32,
     "metadata": {},
     "output_type": "execute_result"
    }
   ],
   "source": [
    "T2=(1, 2, 3, 4)\n",
    "T2"
   ]
  },
  {
   "cell_type": "code",
   "execution_count": 33,
   "id": "18c6eb7f",
   "metadata": {
    "scrolled": true
   },
   "outputs": [
    {
     "ename": "TypeError",
     "evalue": "'tuple' object doesn't support item deletion",
     "output_type": "error",
     "traceback": [
      "\u001b[1;31m---------------------------------------------------------------------------\u001b[0m",
      "\u001b[1;31mTypeError\u001b[0m                                 Traceback (most recent call last)",
      "\u001b[1;32m~\\AppData\\Local\\Temp\\ipykernel_10744\\1119365915.py\u001b[0m in \u001b[0;36m<module>\u001b[1;34m\u001b[0m\n\u001b[1;32m----> 1\u001b[1;33m \u001b[1;32mdel\u001b[0m \u001b[0mT2\u001b[0m\u001b[1;33m[\u001b[0m\u001b[1;33m-\u001b[0m\u001b[1;36m1\u001b[0m\u001b[1;33m]\u001b[0m\u001b[1;33m\u001b[0m\u001b[1;33m\u001b[0m\u001b[0m\n\u001b[0m\u001b[0;32m      2\u001b[0m \u001b[1;31m# we can not delete a single item from the tuple because it is immutable\u001b[0m\u001b[1;33m\u001b[0m\u001b[1;33m\u001b[0m\u001b[0m\n\u001b[0;32m      3\u001b[0m \u001b[1;31m# also we can not delete a part of tuple\u001b[0m\u001b[1;33m\u001b[0m\u001b[1;33m\u001b[0m\u001b[0m\n",
      "\u001b[1;31mTypeError\u001b[0m: 'tuple' object doesn't support item deletion"
     ]
    }
   ],
   "source": [
    "del T2[-1]\n",
    "# we can not delete a single item from the tuple because it is immutable\n",
    "# also we can not delete a part of tuple"
   ]
  },
  {
   "cell_type": "code",
   "execution_count": 35,
   "id": "779772ef",
   "metadata": {},
   "outputs": [
    {
     "ename": "NameError",
     "evalue": "name 'thistuple' is not defined",
     "output_type": "error",
     "traceback": [
      "\u001b[1;31m---------------------------------------------------------------------------\u001b[0m",
      "\u001b[1;31mNameError\u001b[0m                                 Traceback (most recent call last)",
      "\u001b[1;32m~\\AppData\\Local\\Temp\\ipykernel_10744\\3513908944.py\u001b[0m in \u001b[0;36m<module>\u001b[1;34m\u001b[0m\n\u001b[0;32m      1\u001b[0m \u001b[0mthistuple\u001b[0m \u001b[1;33m=\u001b[0m \u001b[1;33m(\u001b[0m\u001b[1;34m\"apple\"\u001b[0m\u001b[1;33m,\u001b[0m \u001b[1;34m\"banana\"\u001b[0m\u001b[1;33m,\u001b[0m \u001b[1;34m\"cherry\"\u001b[0m\u001b[1;33m)\u001b[0m\u001b[1;33m\u001b[0m\u001b[1;33m\u001b[0m\u001b[0m\n\u001b[0;32m      2\u001b[0m \u001b[1;32mdel\u001b[0m \u001b[0mthistuple\u001b[0m\u001b[1;33m\u001b[0m\u001b[1;33m\u001b[0m\u001b[0m\n\u001b[1;32m----> 3\u001b[1;33m \u001b[0mprint\u001b[0m\u001b[1;33m(\u001b[0m\u001b[0mthistuple\u001b[0m\u001b[1;33m)\u001b[0m\u001b[1;33m\u001b[0m\u001b[1;33m\u001b[0m\u001b[0m\n\u001b[0m\u001b[0;32m      4\u001b[0m \u001b[1;31m#this will raise an error because the tuple no longer exists\u001b[0m\u001b[1;33m\u001b[0m\u001b[1;33m\u001b[0m\u001b[0m\n",
      "\u001b[1;31mNameError\u001b[0m: name 'thistuple' is not defined"
     ]
    }
   ],
   "source": [
    "thistuple = (\"apple\", \"banana\", \"cherry\")\n",
    "del thistuple\n",
    "print(thistuple) \n",
    "#this will raise an error because the tuple no longer exists"
   ]
  },
  {
   "cell_type": "markdown",
   "id": "e05610bc",
   "metadata": {},
   "source": [
    "### 6. Operations"
   ]
  },
  {
   "cell_type": "code",
   "execution_count": 36,
   "id": "906b3c5e",
   "metadata": {},
   "outputs": [
    {
     "data": {
      "text/plain": [
       "(1, 2, 3, 4)"
      ]
     },
     "execution_count": 36,
     "metadata": {},
     "output_type": "execute_result"
    }
   ],
   "source": [
    "T2=(1, 2, 3, 4)\n",
    "T2"
   ]
  },
  {
   "cell_type": "code",
   "execution_count": 37,
   "id": "cf0998fd",
   "metadata": {},
   "outputs": [
    {
     "data": {
      "text/plain": [
       "('hello', 4, 5.6, True)"
      ]
     },
     "execution_count": 37,
     "metadata": {},
     "output_type": "execute_result"
    }
   ],
   "source": [
    "T3=('hello', 4, 5.6, True)\n",
    "T3"
   ]
  },
  {
   "cell_type": "markdown",
   "id": "76470b4f",
   "metadata": {},
   "source": [
    "* **Join Two Tuples**\n",
    ">* To join two or more tuples you can use the + operator:"
   ]
  },
  {
   "cell_type": "code",
   "execution_count": 38,
   "id": "224b3bc4",
   "metadata": {
    "scrolled": true
   },
   "outputs": [
    {
     "data": {
      "text/plain": [
       "(1, 2, 3, 4, 'hello', 4, 5.6, True)"
      ]
     },
     "execution_count": 38,
     "metadata": {},
     "output_type": "execute_result"
    }
   ],
   "source": [
    "T2+T3\n",
    "# this is concatination"
   ]
  },
  {
   "cell_type": "code",
   "execution_count": 39,
   "id": "475c7c79",
   "metadata": {},
   "outputs": [
    {
     "name": "stdout",
     "output_type": "stream",
     "text": [
      "('a', 'b', 'c', 1, 2, 3)\n"
     ]
    }
   ],
   "source": [
    "tuple1 = (\"a\", \"b\" , \"c\")\n",
    "tuple2 = (1, 2, 3)\n",
    "\n",
    "tuple3 = tuple1 + tuple2\n",
    "print(tuple3)"
   ]
  },
  {
   "cell_type": "code",
   "execution_count": 40,
   "id": "4bdaa6a9",
   "metadata": {},
   "outputs": [
    {
     "name": "stdout",
     "output_type": "stream",
     "text": [
      "('apple', 'banana', 'cherry', 'orange')\n"
     ]
    }
   ],
   "source": [
    "# Create a new tuple with the value \"orange\", and add that tuple:\n",
    "\n",
    "thistuple = (\"apple\", \"banana\", \"cherry\")\n",
    "y = (\"orange\",)\n",
    "thistuple += y\n",
    "\n",
    "print(thistuple)"
   ]
  },
  {
   "cell_type": "markdown",
   "id": "a32121da",
   "metadata": {},
   "source": [
    "* **Multiply Tuples**\n",
    ">* If you want to multiply the content of a tuple a given number of times, you can use the * operator:"
   ]
  },
  {
   "cell_type": "code",
   "execution_count": 41,
   "id": "880c5176",
   "metadata": {},
   "outputs": [
    {
     "name": "stdout",
     "output_type": "stream",
     "text": [
      "(1, 2, 3, 4, 1, 2, 3, 4, 1, 2, 3, 4)\n"
     ]
    }
   ],
   "source": [
    "print(T2*3)\n",
    "# this is multiplication"
   ]
  },
  {
   "cell_type": "code",
   "execution_count": 42,
   "id": "32b6c330",
   "metadata": {},
   "outputs": [
    {
     "name": "stdout",
     "output_type": "stream",
     "text": [
      "('apple', 'banana', 'cherry', 'apple', 'banana', 'cherry')\n"
     ]
    }
   ],
   "source": [
    "fruits = (\"apple\", \"banana\", \"cherry\")\n",
    "mytuple = fruits * 2\n",
    "\n",
    "print(mytuple)"
   ]
  },
  {
   "cell_type": "markdown",
   "id": "59fbc197",
   "metadata": {},
   "source": [
    "* **Loop Through a Tuple**\n",
    ">* You can loop through the tuple items by using a for loop."
   ]
  },
  {
   "cell_type": "code",
   "execution_count": 43,
   "id": "886cfb7d",
   "metadata": {},
   "outputs": [
    {
     "name": "stdout",
     "output_type": "stream",
     "text": [
      "1\n",
      "2\n",
      "3\n",
      "4\n",
      "5\n",
      "6\n",
      "7\n",
      "8\n",
      "9\n",
      "10\n"
     ]
    }
   ],
   "source": [
    "# we can run a loop\n",
    "T2=(1,2,3,4,5,6,7,8,9,10)\n",
    "for i in T2:\n",
    "    print(i)    "
   ]
  },
  {
   "cell_type": "markdown",
   "id": "8a176fe3",
   "metadata": {},
   "source": [
    "* **Loop Through the Index Numbers**\n",
    ">* You can also loop through the tuple items by referring to their index number.\n",
    ">* Use the range() and len() functions to create a suitable iterable."
   ]
  },
  {
   "cell_type": "code",
   "execution_count": 44,
   "id": "764060f5",
   "metadata": {},
   "outputs": [
    {
     "name": "stdout",
     "output_type": "stream",
     "text": [
      "apple\n",
      "banana\n",
      "cherry\n"
     ]
    }
   ],
   "source": [
    "# Print all items by referring to their index number:\n",
    "\n",
    "thistuple = (\"apple\", \"banana\", \"cherry\")\n",
    "for i in range(len(thistuple)):\n",
    "    print(thistuple[i])"
   ]
  },
  {
   "cell_type": "markdown",
   "id": "8e0a0a2a",
   "metadata": {},
   "source": [
    "* **Using a While Loop**\n",
    ">* You can loop through the tuple items by using a while loop.\n",
    ">* Use the len() function to determine the length of the tuple, then start at 0 and loop your way through the tuple items by referring to their indexes.\n",
    ">* Remember to increase the index by 1 after each iteration."
   ]
  },
  {
   "cell_type": "code",
   "execution_count": 45,
   "id": "4e09fec8",
   "metadata": {},
   "outputs": [
    {
     "name": "stdout",
     "output_type": "stream",
     "text": [
      "apple\n",
      "banana\n",
      "cherry\n"
     ]
    }
   ],
   "source": [
    "thistuple = (\"apple\", \"banana\", \"cherry\")\n",
    "i = 0\n",
    "while i < len(thistuple):\n",
    "    print(thistuple[i])\n",
    "    i = i + 1"
   ]
  },
  {
   "cell_type": "markdown",
   "id": "9b96d3d5",
   "metadata": {},
   "source": [
    "* **membership operators in tuple**"
   ]
  },
  {
   "cell_type": "code",
   "execution_count": 46,
   "id": "d464f996",
   "metadata": {},
   "outputs": [
    {
     "data": {
      "text/plain": [
       "True"
      ]
     },
     "execution_count": 46,
     "metadata": {},
     "output_type": "execute_result"
    }
   ],
   "source": [
    "T2=(1, 2, 3, 4)\n",
    "1 in T2"
   ]
  },
  {
   "cell_type": "code",
   "execution_count": 47,
   "id": "a71db15d",
   "metadata": {},
   "outputs": [
    {
     "data": {
      "text/plain": [
       "False"
      ]
     },
     "execution_count": 47,
     "metadata": {},
     "output_type": "execute_result"
    }
   ],
   "source": [
    "T3=('hello', 4, 5.6, True)\n",
    "5 in T3"
   ]
  },
  {
   "cell_type": "code",
   "execution_count": 48,
   "id": "518e2c8c",
   "metadata": {},
   "outputs": [
    {
     "name": "stdout",
     "output_type": "stream",
     "text": [
      "Yes, 'apple' is in the fruits tuple\n"
     ]
    }
   ],
   "source": [
    "thistuple = (\"apple\", \"banana\", \"cherry\")\n",
    "if \"apple\" in thistuple:\n",
    "    print(\"Yes, 'apple' is in the fruits tuple\")"
   ]
  },
  {
   "cell_type": "markdown",
   "id": "498c5f74",
   "metadata": {},
   "source": [
    "* **Unpacking a Tuple**\n",
    ">* When we create a tuple, we normally assign values to it. This is called \"packing\" a tuple:"
   ]
  },
  {
   "cell_type": "code",
   "execution_count": 49,
   "id": "ca63031b",
   "metadata": {},
   "outputs": [
    {
     "data": {
      "text/plain": [
       "('apple', 'banana', 'cherry')"
      ]
     },
     "execution_count": 49,
     "metadata": {},
     "output_type": "execute_result"
    }
   ],
   "source": [
    "# Packing a tuple:\n",
    "fruits = (\"apple\", \"banana\", \"cherry\")\n",
    "fruits"
   ]
  },
  {
   "cell_type": "markdown",
   "id": "78ef3eb8",
   "metadata": {},
   "source": [
    ">* But, in Python, we are also allowed to extract the values back into variables. This is called \"unpacking\":\n",
    "\n",
    "**Note :**  \n",
    ">* The number of variables must match the number of values in the tuple, if not, you must use an asterisk to collect the remaining values as a list."
   ]
  },
  {
   "cell_type": "code",
   "execution_count": 50,
   "id": "7a31b578",
   "metadata": {},
   "outputs": [
    {
     "name": "stdout",
     "output_type": "stream",
     "text": [
      "apple\n",
      "banana\n",
      "cherry\n"
     ]
    }
   ],
   "source": [
    "# Unpacking a tuple:\n",
    "\n",
    "fruits = (\"apple\", \"banana\", \"cherry\")\n",
    "(green, yellow, red) = fruits\n",
    "print(green)\n",
    "print(yellow)\n",
    "print(red)"
   ]
  },
  {
   "cell_type": "markdown",
   "id": "f392108a",
   "metadata": {},
   "source": [
    "* **Using Asterisk ***\n",
    ">* If the number of variables is less than the number of values, you can add an * to the variable name and the values will be assigned to the variable as a list:"
   ]
  },
  {
   "cell_type": "code",
   "execution_count": 51,
   "id": "625bd980",
   "metadata": {},
   "outputs": [
    {
     "name": "stdout",
     "output_type": "stream",
     "text": [
      "apple\n",
      "banana\n",
      "['cherry', 'strawberry', 'raspberry']\n"
     ]
    }
   ],
   "source": [
    "# Assign the rest of the values as a list called \"red\":\n",
    "\n",
    "fruits = (\"apple\", \"banana\", \"cherry\", \"strawberry\", \"raspberry\")\n",
    "(green, yellow, *red) = fruits\n",
    "\n",
    "print(green)\n",
    "print(yellow)\n",
    "print(red)"
   ]
  },
  {
   "cell_type": "markdown",
   "id": "ca9aa3a6",
   "metadata": {},
   "source": [
    ">* If the asterisk is added to another variable name than the last, Python will assign values to the variable until the number of values left matches the number of variables left."
   ]
  },
  {
   "cell_type": "code",
   "execution_count": 52,
   "id": "2fe06597",
   "metadata": {},
   "outputs": [
    {
     "name": "stdout",
     "output_type": "stream",
     "text": [
      "apple\n",
      "['mango', 'papaya', 'pineapple']\n",
      "cherry\n"
     ]
    }
   ],
   "source": [
    "# Add a list of values the \"tropic\" variable:\n",
    "\n",
    "fruits = (\"apple\", \"mango\", \"papaya\", \"pineapple\", \"cherry\")\n",
    "(green, *tropic, red) = fruits\n",
    "\n",
    "print(green)\n",
    "print(tropic)\n",
    "print(red)"
   ]
  },
  {
   "cell_type": "markdown",
   "id": "ab66b210",
   "metadata": {},
   "source": [
    "### 7. Functions"
   ]
  },
  {
   "cell_type": "markdown",
   "id": "f18d1312",
   "metadata": {},
   "source": [
    ">* To determine how many items a tuple has, use the len() function:"
   ]
  },
  {
   "cell_type": "code",
   "execution_count": 53,
   "id": "c363cad3",
   "metadata": {},
   "outputs": [
    {
     "data": {
      "text/plain": [
       "(1, 2, 3, 4)"
      ]
     },
     "execution_count": 53,
     "metadata": {},
     "output_type": "execute_result"
    }
   ],
   "source": [
    "T2=(1, 2, 3, 4)\n",
    "T2"
   ]
  },
  {
   "cell_type": "code",
   "execution_count": 54,
   "id": "7e615d25",
   "metadata": {},
   "outputs": [
    {
     "data": {
      "text/plain": [
       "4"
      ]
     },
     "execution_count": 54,
     "metadata": {},
     "output_type": "execute_result"
    }
   ],
   "source": [
    "len(T2)"
   ]
  },
  {
   "cell_type": "code",
   "execution_count": 55,
   "id": "294b471f",
   "metadata": {},
   "outputs": [
    {
     "data": {
      "text/plain": [
       "1"
      ]
     },
     "execution_count": 55,
     "metadata": {},
     "output_type": "execute_result"
    }
   ],
   "source": [
    "min(T2)"
   ]
  },
  {
   "cell_type": "code",
   "execution_count": 56,
   "id": "6a9eb742",
   "metadata": {},
   "outputs": [
    {
     "data": {
      "text/plain": [
       "4"
      ]
     },
     "execution_count": 56,
     "metadata": {},
     "output_type": "execute_result"
    }
   ],
   "source": [
    "max(T2)"
   ]
  },
  {
   "cell_type": "code",
   "execution_count": 57,
   "id": "8fdd4d6e",
   "metadata": {},
   "outputs": [
    {
     "data": {
      "text/plain": [
       "10"
      ]
     },
     "execution_count": 57,
     "metadata": {},
     "output_type": "execute_result"
    }
   ],
   "source": [
    "sum(T2)"
   ]
  },
  {
   "cell_type": "code",
   "execution_count": 58,
   "id": "fb6b1a6b",
   "metadata": {},
   "outputs": [
    {
     "data": {
      "text/plain": [
       "[4, 3, 2, 1]"
      ]
     },
     "execution_count": 58,
     "metadata": {},
     "output_type": "execute_result"
    }
   ],
   "source": [
    "sorted(T2,reverse=True)\\\n",
    "# it will be converted in the list"
   ]
  },
  {
   "cell_type": "code",
   "execution_count": 48,
   "id": "a7d6c3eb",
   "metadata": {},
   "outputs": [],
   "source": [
    "# tuple is immutable\n",
    "# list is a mutable"
   ]
  }
 ],
 "metadata": {
  "kernelspec": {
   "display_name": "Python 3 (ipykernel)",
   "language": "python",
   "name": "python3"
  },
  "language_info": {
   "codemirror_mode": {
    "name": "ipython",
    "version": 3
   },
   "file_extension": ".py",
   "mimetype": "text/x-python",
   "name": "python",
   "nbconvert_exporter": "python",
   "pygments_lexer": "ipython3",
   "version": "3.9.13"
  }
 },
 "nbformat": 4,
 "nbformat_minor": 5
}
