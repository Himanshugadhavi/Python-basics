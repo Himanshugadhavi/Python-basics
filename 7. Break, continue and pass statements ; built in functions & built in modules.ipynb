{
 "cells": [
  {
   "cell_type": "markdown",
   "id": "d69b9144",
   "metadata": {},
   "source": [
    "* break, continue and pass statements are generally used with loops only"
   ]
  },
  {
   "cell_type": "markdown",
   "id": "7cde881b",
   "metadata": {},
   "source": [
    "# Break statements\n",
    "* The **break** statement is used to exit a loop prematurely. When a **break** statement is encountered, the loop is terminated.\n",
    "* With the break statement we can stop the loop even if the while condition is true:\n",
    "* this will be very usefull in the linear searching \n",
    "* it will decrease the run time and make our program faster "
   ]
  },
  {
   "cell_type": "code",
   "execution_count": null,
   "id": "5e275d37",
   "metadata": {},
   "outputs": [],
   "source": [
    "i = 1\n",
    "while i < 6:\n",
    "  print(i)\n",
    "  if i == 3:\n",
    "    break\n",
    "  i += 1"
   ]
  },
  {
   "cell_type": "code",
   "execution_count": null,
   "id": "ce34834b",
   "metadata": {},
   "outputs": [],
   "source": [
    "for i in range(1,11):\n",
    "    if i==5:\n",
    "        break\n",
    "    print(i)\n",
    "# here by using break statement the loop will terminate at the point 5 "
   ]
  },
  {
   "cell_type": "code",
   "execution_count": null,
   "id": "7ca5fe4b",
   "metadata": {
    "scrolled": true
   },
   "outputs": [],
   "source": [
    "fruits = [\"apple\", \"banana\", \"cherry\"]\n",
    "for x in fruits:\n",
    "  print(x)\n",
    "  if x == \"banana\":\n",
    "    break"
   ]
  },
  {
   "cell_type": "markdown",
   "id": "35604322",
   "metadata": {},
   "source": [
    "# Continue statement\n",
    "* The **continue** statement is used to skip the current iteration of a loop and continue with the next iteration. When a **continue** statement is encountered. the current iteration is skipped and the program continues with the next iteration.\n",
    "* With the continue statement we can stop the current iteration, and continue with the next:"
   ]
  },
  {
   "cell_type": "code",
   "execution_count": null,
   "id": "96d69c80",
   "metadata": {
    "scrolled": true
   },
   "outputs": [],
   "source": [
    "for i in range(1,11):\n",
    "    if i == 6 :\n",
    "        continue\n",
    "    print(i)\n",
    "    print(\"hello himanshu\")\n",
    "# here it will only miss the iteration of the continue condition"
   ]
  },
  {
   "cell_type": "code",
   "execution_count": null,
   "id": "5aad0639",
   "metadata": {},
   "outputs": [],
   "source": [
    "fruits = [\"apple\", \"banana\", \"cherry\"]\n",
    "for x in fruits:\n",
    "  if x == \"banana\":\n",
    "    continue\n",
    "  print(x)"
   ]
  },
  {
   "cell_type": "markdown",
   "id": "2d4e6bc2",
   "metadata": {},
   "source": [
    "# Pass statement "
   ]
  },
  {
   "cell_type": "code",
   "execution_count": null,
   "id": "bed98de0",
   "metadata": {},
   "outputs": [],
   "source": [
    "for i in range(1,15):\n",
    "    pass\n",
    "'''when you are unsure of implimenting the code \n",
    "you can just give pass and it will not throw the \n",
    "error. we can use it in the class or functions'''"
   ]
  },
  {
   "cell_type": "markdown",
   "id": "f7654494",
   "metadata": {},
   "source": [
    "# Inbuilt functions in python"
   ]
  },
  {
   "cell_type": "markdown",
   "id": "6eb1dd20",
   "metadata": {},
   "source": [
    "## 1.Print"
   ]
  },
  {
   "cell_type": "code",
   "execution_count": null,
   "id": "2ea26eef",
   "metadata": {},
   "outputs": [],
   "source": [
    "print(\"hello himanshu how are you\")"
   ]
  },
  {
   "cell_type": "markdown",
   "id": "4b4a32bf",
   "metadata": {},
   "source": [
    "## 2.Input"
   ]
  },
  {
   "cell_type": "code",
   "execution_count": null,
   "id": "5b6c67a3",
   "metadata": {},
   "outputs": [],
   "source": [
    "input(\"enter your name\")"
   ]
  },
  {
   "cell_type": "markdown",
   "id": "8b351fa5",
   "metadata": {},
   "source": [
    "## 3.Type\n",
    "* it is used to detect the data type stored in the variable"
   ]
  },
  {
   "cell_type": "code",
   "execution_count": null,
   "id": "6683d8dd",
   "metadata": {},
   "outputs": [],
   "source": [
    "a=3\n",
    "type(a)\n",
    "b=3.7\n",
    "type(b)"
   ]
  },
  {
   "cell_type": "markdown",
   "id": "5d0c183c",
   "metadata": {},
   "source": [
    "## 4.Type converision"
   ]
  },
  {
   "cell_type": "code",
   "execution_count": null,
   "id": "c42b826f",
   "metadata": {},
   "outputs": [],
   "source": [
    "int(\"5\")\n",
    "int(5.829)\n",
    "#float\n",
    "#str\n",
    "#list\n",
    "#tuple"
   ]
  },
  {
   "cell_type": "markdown",
   "id": "e8b1cd19",
   "metadata": {},
   "source": [
    "## 5. Abs"
   ]
  },
  {
   "cell_type": "code",
   "execution_count": null,
   "id": "fee3f145",
   "metadata": {},
   "outputs": [],
   "source": [
    "abs(-4)"
   ]
  },
  {
   "cell_type": "markdown",
   "id": "1ec6d329",
   "metadata": {},
   "source": [
    "## 6.pow = power function"
   ]
  },
  {
   "cell_type": "code",
   "execution_count": null,
   "id": "bec1159a",
   "metadata": {},
   "outputs": [],
   "source": [
    "a=pow(5,3)\n",
    "print(\"a is =\",a)\n",
    "b=pow(2,-3)\n",
    "print(\"b is =\",b)"
   ]
  },
  {
   "cell_type": "markdown",
   "id": "eab9152d",
   "metadata": {},
   "source": [
    "## 7. Min/Max"
   ]
  },
  {
   "cell_type": "code",
   "execution_count": null,
   "id": "69998f6f",
   "metadata": {},
   "outputs": [],
   "source": [
    "min(1,3,6,8,2)"
   ]
  },
  {
   "cell_type": "code",
   "execution_count": null,
   "id": "fbd72285",
   "metadata": {},
   "outputs": [],
   "source": [
    "max(1,18,181,234,118,199)"
   ]
  },
  {
   "cell_type": "code",
   "execution_count": null,
   "id": "64bc2b7e",
   "metadata": {},
   "outputs": [],
   "source": [
    "max(\"kolkata\")"
   ]
  },
  {
   "cell_type": "code",
   "execution_count": null,
   "id": "0286d45b",
   "metadata": {},
   "outputs": [],
   "source": [
    "min(\"kolkata\")"
   ]
  },
  {
   "cell_type": "markdown",
   "id": "631c1355",
   "metadata": {},
   "source": [
    "## 8.round"
   ]
  },
  {
   "cell_type": "code",
   "execution_count": null,
   "id": "e2a0aeb6",
   "metadata": {},
   "outputs": [],
   "source": [
    "c=22/7\n",
    "round(c,4)\n",
    "# here after comma we use 4 to have decimal value up to 4 points"
   ]
  },
  {
   "cell_type": "markdown",
   "id": "0cf256aa",
   "metadata": {},
   "source": [
    "## 9.divmod"
   ]
  },
  {
   "cell_type": "code",
   "execution_count": null,
   "id": "b5f8b64e",
   "metadata": {},
   "outputs": [],
   "source": [
    "divmod(5,2)\n",
    "\n",
    "# Docstring: Return the tuple (x//y, x%y).\n",
    "\n",
    "# first value is the result of integer division\n",
    "# second is value of modulus or remainder"
   ]
  },
  {
   "cell_type": "code",
   "execution_count": null,
   "id": "90ed42d5",
   "metadata": {},
   "outputs": [],
   "source": [
    "divmod(10,3)"
   ]
  },
  {
   "cell_type": "markdown",
   "id": "4882f841",
   "metadata": {},
   "source": [
    "## 10. bin/oct/hex\n",
    "* it is used to get the binary or octa or hexadecimal value "
   ]
  },
  {
   "cell_type": "code",
   "execution_count": null,
   "id": "4145509a",
   "metadata": {},
   "outputs": [],
   "source": [
    "bin(4)"
   ]
  },
  {
   "cell_type": "code",
   "execution_count": null,
   "id": "135ec664",
   "metadata": {},
   "outputs": [],
   "source": [
    "oct(8)"
   ]
  },
  {
   "cell_type": "code",
   "execution_count": null,
   "id": "10dbe84c",
   "metadata": {},
   "outputs": [],
   "source": [
    "hex(4)"
   ]
  },
  {
   "cell_type": "markdown",
   "id": "a2b81aee",
   "metadata": {},
   "source": [
    "## 11. id"
   ]
  },
  {
   "cell_type": "code",
   "execution_count": null,
   "id": "105dc2af",
   "metadata": {},
   "outputs": [],
   "source": [
    "a=13\n",
    "id(a)\n",
    "# used for knowing the memory address allocated to the saved variable 13 "
   ]
  },
  {
   "cell_type": "markdown",
   "id": "13a1e643",
   "metadata": {},
   "source": [
    "## 12. ord"
   ]
  },
  {
   "cell_type": "code",
   "execution_count": null,
   "id": "91f671ce",
   "metadata": {},
   "outputs": [],
   "source": [
    "a=ord('A')\n",
    "b=ord('c')\n",
    "# Docstring: Return the Unicode code point for a one-character string.\n",
    "# Type:      builtin_function_or_method\n",
    "print(a)\n",
    "print(b)"
   ]
  },
  {
   "cell_type": "markdown",
   "id": "c4e6b545",
   "metadata": {},
   "source": [
    "## 13. len"
   ]
  },
  {
   "cell_type": "code",
   "execution_count": null,
   "id": "cbb1c4e6",
   "metadata": {},
   "outputs": [],
   "source": [
    "len(\"kolkata\")\n",
    "# Docstring: Return the number of items in a container."
   ]
  },
  {
   "cell_type": "markdown",
   "id": "0e413bf1",
   "metadata": {},
   "source": [
    "## 14. sum"
   ]
  },
  {
   "cell_type": "code",
   "execution_count": null,
   "id": "89a22e39",
   "metadata": {},
   "outputs": [],
   "source": [
    "sum([1,2,3,4,5])\n",
    "# Signature: sum(iterable, /, start=0)\n",
    "# Docstring: Return the sum of a 'start' value (default: 0) \n",
    "# When the iterable is empty, return the start value.\n",
    "# This function is intended specifically for use with numeric values \n",
    "# and may reject non-numeric types.\n",
    "# Type:      builtin_function_or_method"
   ]
  },
  {
   "cell_type": "code",
   "execution_count": null,
   "id": "0b8c4dc6",
   "metadata": {},
   "outputs": [],
   "source": [
    "sum((1,2,3,4,67,7))"
   ]
  },
  {
   "cell_type": "markdown",
   "id": "6e5d3c03",
   "metadata": {},
   "source": [
    "## 15. help"
   ]
  },
  {
   "cell_type": "code",
   "execution_count": null,
   "id": "934a3f8b",
   "metadata": {},
   "outputs": [],
   "source": [
    "help(print)"
   ]
  },
  {
   "cell_type": "code",
   "execution_count": null,
   "id": "83d97e11",
   "metadata": {},
   "outputs": [],
   "source": [
    "\"\"\" Signature:   help(*args, **kwds)\n",
    "This is a wrapper around pydoc.help that provides a helpful message\n",
    "when 'help' is typed at the Python interactive prompt.\n",
    "\n",
    "Calling help() at the Python prompt starts an interactive help session.\n",
    "Calling help(thing) prints help for the python object 'thing'.\"\"\""
   ]
  },
  {
   "cell_type": "markdown",
   "id": "6860df90",
   "metadata": {},
   "source": [
    "# What are Modules?\n",
    "\n",
    "Consider a module to be the same as a code library.\n",
    "\n",
    "a file containing a set of functions you want to include in your application.\n",
    "\n",
    "Exaple of python modules.\n",
    "\n",
    "* Math\n",
    "* Random\n",
    "* os\n",
    "* time\n",
    "\n"
   ]
  },
  {
   "cell_type": "code",
   "execution_count": 1,
   "id": "19fa8000",
   "metadata": {},
   "outputs": [
    {
     "name": "stdout",
     "output_type": "stream",
     "text": [
      "\n",
      "Please wait a moment while I gather a list of all available modules...\n",
      "\n"
     ]
    },
    {
     "name": "stderr",
     "output_type": "stream",
     "text": [
      "C:\\Users\\gadha\\anaconda3\\lib\\site-packages\\IPython\\kernel\\__init__.py:12: ShimWarning: The `IPython.kernel` package has been deprecated since IPython 4.0.You should import from ipykernel or jupyter_client instead.\n",
      "  warn(\"The `IPython.kernel` package has been deprecated since IPython 4.0.\"\n",
      "WARNING: AstropyDeprecationWarning: The private astropy._erfa module has been made into its own package, pyerfa, which is a dependency of astropy and can be imported directly using \"import erfa\" [astropy._erfa]\n",
      "C:\\Users\\gadha\\anaconda3\\lib\\site-packages\\paramiko\\transport.py:219: CryptographyDeprecationWarning: Blowfish has been deprecated\n",
      "  \"class\": algorithms.Blowfish,\n",
      "C:\\Users\\gadha\\anaconda3\\lib\\site-packages\\nltk\\twitter\\__init__.py:20: UserWarning: The twython library has not been installed. Some functionality from the twitter package will not be available.\n",
      "  warnings.warn(\n",
      "C:\\Users\\gadha\\anaconda3\\lib\\pkgutil.py:93: UserWarning: The numpy.array_api submodule is still experimental. See NEP 47.\n",
      "  __import__(info.name)\n",
      "C:\\Users\\gadha\\anaconda3\\lib\\site-packages\\_distutils_hack\\__init__.py:33: UserWarning: Setuptools is replacing distutils.\n",
      "  warnings.warn(\"Setuptools is replacing distutils.\")\n",
      "No QCoreApplication instance found. Application patches not applied. You have to call load_stylesheet function after instantiation of QApplication to take effect. \n",
      "C:\\Users\\gadha\\anaconda3\\lib\\pkgutil.py:108: VisibleDeprecationWarning:\n",
      "\n",
      "zmq.eventloop.minitornado is deprecated in pyzmq 14.0 and will be removed.\n",
      "    Install tornado itself to use zmq with the tornado IOLoop.\n",
      "    \n",
      "\n"
     ]
    },
    {
     "name": "stdout",
     "output_type": "stream",
     "text": [
      "Cython              comtypes            mock                socketserver\n",
      "IPython             concurrent          modulefinder        socks\n",
      "OpenSSL             conda               mpmath              sockshandler\n",
      "PIL                 conda_build         msgpack             sortedcollections\n",
      "PyQt5               conda_content_trust msilib              sortedcontainers\n",
      "TBB                 conda_env           msvcrt              soupsieve\n",
      "__future__          conda_pack          multipledispatch    sphinx\n",
      "_abc                conda_package_handling multiprocessing     spyder\n",
      "_aix_support        conda_token         munkres             spyder_kernels\n",
      "_argon2_cffi_bindings conda_verify        mypy_extensions     sqlalchemy\n",
      "_ast                configparser        nacl                sqlite3\n",
      "_asyncio            constantly          navigator_updater   sre_compile\n",
      "_bisect             contextlib          nbclassic           sre_constants\n",
      "_black_version      contextvars         nbclient            sre_parse\n",
      "_blake2             cookiecutter        nbconvert           ssl\n",
      "_bootlocale         copy                nbformat            sspi\n",
      "_bootsubprocess     copyreg             nest_asyncio        sspicon\n",
      "_bz2                crypt               netbios             stat\n",
      "_cffi_backend       cryptography        netrc               statistics\n",
      "_codecs             cssselect           networkx            statsmodels\n",
      "_codecs_cn          csv                 nltk                storemagic\n",
      "_codecs_hk          ctypes              nntplib             string\n",
      "_codecs_iso2022     curl                nose                stringprep\n",
      "_codecs_jp          curses              notebook            struct\n",
      "_codecs_kr          cwp                 nsepy               subprocess\n",
      "_codecs_tw          cycler              nt                  sunau\n",
      "_collections        cython              ntpath              symbol\n",
      "_collections_abc    cythonmagic         ntsecuritycon       sympy\n",
      "_compat_pickle      cytoolz             nturl2path          sympyprinting\n",
      "_compression        daal4py             numba               symtable\n",
      "_contextvars        dask                numbergen           sys\n",
      "_csv                dataclasses         numbers             sysconfig\n",
      "_ctypes             datashader          numexpr             tables\n",
      "_ctypes_test        datashape           numpy               tabnanny\n",
      "_datetime           datetime            numpydoc            tabulate\n",
      "_decimal            dateutil            odbc                tarfile\n",
      "_distutils_hack     dbi                 olefile             tbb\n",
      "_elementtree        dbm                 onedal              tblib\n",
      "_functools          dde                 opcode              telnetlib\n",
      "_hashlib            debugpy             openpyxl            tempfile\n",
      "_heapq              decimal             operator            tenacity\n",
      "_imp                decorator           optparse            terminado\n",
      "_io                 defusedxml          os                  test\n",
      "_json               diff_match_patch    packaging           test_pycosat\n",
      "_locale             difflib             pandas              testpath\n",
      "_lsprof             dill                pandocfilters       tests\n",
      "_lzma               dis                 panel               text_unidecode\n",
      "_markupbase         distributed         param               textdistance\n",
      "_md5                distutils           paramiko            textwrap\n",
      "_msi                doctest             parsel              this\n",
      "_multibytecodec     docutils            parser              threading\n",
      "_multiprocessing    email               parso               threadpoolctl\n",
      "_nsis               encodings           partd               three_merge\n",
      "_opcode             ensurepip           past                tifffile\n",
      "_operator           entrypoints         pathlib             time\n",
      "_osx_support        enum                pathspec            timeit\n",
      "_overlapped         erfa                patsy               timer\n",
      "_peg_parser         errno               pdb                 tinycss\n",
      "_pickle             et_xmlfile          pep8                tkinter\n",
      "_plotly_future_     fastjsonschema      perfmon             tldextract\n",
      "_plotly_utils       faulthandler        pexpect             tlz\n",
      "_py_abc             filecmp             pickle              token\n",
      "_pydecimal          fileinput           pickleshare         tokenize\n",
      "_pyio               filelock            pickletools         toml\n",
      "_pyrsistent_version flake8              pip                 tomli\n",
      "_pytest             flask               pipes               tomlkit\n",
      "_queue              fnmatch             pkg_resources       toolz\n",
      "_random             fontTools           pkginfo             tornado\n",
      "_sha1               formatter           pkgutil             tqdm\n",
      "_sha256             fractions           platform            trace\n",
      "_sha3               fsspec              platformdirs        traceback\n",
      "_sha512             ftplib              plistlib            tracemalloc\n",
      "_signal             functools           plotly              traitlets\n",
      "_sitebuiltins       future              pluggy              tty\n",
      "_socket             gc                  poplib              turtle\n",
      "_sqlite3            genericpath         posixpath           turtledemo\n",
      "_sre                gensim              poyo                twisted\n",
      "_ssl                getopt              pprint              types\n",
      "_stat               getpass             profile             typing\n",
      "_statistics         gettext             prometheus_client   typing_extensions\n",
      "_string             glob                prompt_toolkit      ujson\n",
      "_strptime           glob2               protego             unicodedata\n",
      "_struct             graphlib            pstats              unidecode\n",
      "_symtable           greenlet            psutil              unittest\n",
      "_system_path        gzip                pty                 urllib\n",
      "_testbuffer         h5py                ptyprocess          urllib3\n",
      "_testcapi           hamcrest            pvectorc            uu\n",
      "_testconsole        hashlib             py                  uuid\n",
      "_testimportmultiple heapdict            py_compile          venv\n",
      "_testinternalcapi   heapq               pyasn1              w3lib\n",
      "_testmultiphase     hmac                pyasn1_modules      warnings\n",
      "_thread             holoviews           pyclbr              watchdog\n",
      "_threading_local    html                pycodestyle         wave\n",
      "_tkinter            http                pycosat             wcwidth\n",
      "_tracemalloc        hvplot              pycparser           weakref\n",
      "_uuid               hyperlink           pyct                webbrowser\n",
      "_warnings           idlelib             pycurl              webencodings\n",
      "_weakref            idna                pydispatch          websocket\n",
      "_weakrefset         imagecodecs         pydoc               werkzeug\n",
      "_win32sysloader     imageio             pydoc_data          wheel\n",
      "_winapi             imagesize           pydocstyle          widgetsnbextension\n",
      "_winxptheme         imaplib             pyexpat             win2kras\n",
      "_xxsubinterpreters  imghdr              pyflakes            win32api\n",
      "_yaml               imp                 pygments            win32clipboard\n",
      "_zoneinfo           importlib           pylab               win32com\n",
      "abc                 importlib_metadata  pylint              win32con\n",
      "adodbapi            incremental         pyls_spyder         win32console\n",
      "afxres              inflection          pylsp               win32cred\n",
      "aifc                iniconfig           pylsp_black         win32crypt\n",
      "alabaster           inspect             pylsp_jsonrpc       win32cryptcon\n",
      "anaconda_navigator  intake              pyodbc              win32ctypes\n",
      "anaconda_project    intervaltree        pyparsing           win32event\n",
      "antigravity         io                  pyrsistent          win32evtlog\n",
      "anyio               ipaddress           pytest              win32evtlogutil\n",
      "appdirs             ipykernel           pythoncom           win32file\n",
      "argon2              ipykernel_launcher  pytz                win32gui\n",
      "argparse            ipython_genutils    pyviz_comms         win32gui_struct\n",
      "array               ipywidgets          pywin               win32help\n",
      "arrow               isapi               pywin32_bootstrap   win32inet\n",
      "ast                 isort               pywin32_testutil    win32inetcon\n",
      "astroid             isympy              pywintypes          win32job\n",
      "astropy             itemadapter         pywt                win32lz\n",
      "asynchat            itemloaders         pyximport           win32net\n",
      "asyncio             itertools           qdarkstyle          win32netcon\n",
      "asyncore            itsdangerous        qstylizer           win32pdh\n",
      "atexit              jdcal               qtawesome           win32pdhquery\n",
      "atomicwrites        jedi                qtconsole           win32pdhutil\n",
      "attr                jellyfish           qtpy                win32pipe\n",
      "attrs               jinja2              queue               win32print\n",
      "audioop             jinja2_time         queuelib            win32process\n",
      "automat             jmespath            quopri              win32profile\n",
      "autopep8            joblib              random              win32ras\n",
      "autoreload          json                rasutil             win32rcparser\n",
      "babel               json5               re                  win32security\n",
      "backcall            jsonschema          regcheck            win32service\n",
      "backports           jupyter             regex               win32serviceutil\n",
      "base64              jupyter_client      regutil             win32timezone\n",
      "bcrypt              jupyter_console     repo_cli            win32trace\n",
      "bdb                 jupyter_core        reprlib             win32traceutil\n",
      "binaryornot         jupyter_server      requests            win32transaction\n",
      "binascii            jupyterlab          requests_file       win32ts\n",
      "binhex              jupyterlab_plotly   rlcompleter         win32ui\n",
      "binstar_client      jupyterlab_pygments rmagic              win32uiole\n",
      "bisect              jupyterlab_server   rope                win32verstamp\n",
      "bitarray            jupyterlab_widgets  rtree               win32wnet\n",
      "bkcharts            jwt                 ruamel_yaml         win_inet_pton\n",
      "black               keyring             run                 win_unicode_console\n",
      "blackd              keyword             runpy               wincertstore\n",
      "bleach              kiwisolver          s3transfer          winerror\n",
      "blib2to3            lazy_object_proxy   sched               winioctlcon\n",
      "bokeh               lib2to3             scipy               winnt\n",
      "boto3               libarchive          scrapy              winperf\n",
      "botocore            libfuturize         seaborn             winpty\n",
      "bottleneck          libpasteurize       secrets             winreg\n",
      "brotli              lief                select              winsound\n",
      "bs4                 linecache           selectors           winxpgui\n",
      "builtins            llvmlite            send2trash          winxptheme\n",
      "bz2                 locale              service_identity    wrapt\n",
      "cProfile            locket              servicemanager      wsgiref\n",
      "calendar            logging             setuptools          xarray\n",
      "certifi             lxml                shelve              xdrlib\n",
      "cffi                lz4                 shlex               xlrd\n",
      "cgi                 lzma                shutil              xlsxwriter\n",
      "cgitb               mailbox             signal              xlwings\n",
      "chardet             mailcap             sip                 xml\n",
      "charset_normalizer  markdown            sipconfig           xmlrpc\n",
      "chunk               markupsafe          sipdistutils        xxsubtype\n",
      "click               marshal             site                yaml\n",
      "cloudpickle         math                six                 yapf\n",
      "clyent              matplotlib          skimage             yapftests\n",
      "cmath               matplotlib_inline   sklearn             zict\n",
      "cmd                 mccabe              sklearnex           zipapp\n",
      "code                menuinst            slugify             zipfile\n",
      "codecs              mimetypes           smart_open          zipimport\n",
      "codeop              mistune             smtpd               zipp\n",
      "collections         mkl                 smtplib             zlib\n",
      "colorama            mkl_fft             snappy              zmq\n",
      "colorcet            mkl_random          sndhdr              zoneinfo\n",
      "colorsys            mmap                sniffio             zope\n",
      "commctrl            mmapfile            snowballstemmer     \n",
      "compileall          mmsystem            socket              \n",
      "\n",
      "Enter any module name to get more help.  Or, type \"modules spam\" to search\n",
      "for modules whose name or summary contain the string \"spam\".\n",
      "\n"
     ]
    }
   ],
   "source": [
    "help('modules')"
   ]
  },
  {
   "cell_type": "markdown",
   "id": "40a83756",
   "metadata": {},
   "source": [
    "## Math module"
   ]
  },
  {
   "cell_type": "code",
   "execution_count": 4,
   "id": "810ccb52",
   "metadata": {},
   "outputs": [
    {
     "data": {
      "text/plain": [
       "\"if the module name is correct then it won't show \\nany  output it means our module name is correct\\n# if we type math. and the press tab key then \\nwe get the list of the availabel in the math module\""
      ]
     },
     "execution_count": 4,
     "metadata": {},
     "output_type": "execute_result"
    }
   ],
   "source": [
    "import math\n",
    "'''if the module name is correct then it won't show \n",
    "any  output it means our module name is correct\n",
    "# if we type math. and the press tab key then \n",
    "we get the list of the availabel in the math module'''"
   ]
  },
  {
   "cell_type": "code",
   "execution_count": 5,
   "id": "d41fd564",
   "metadata": {},
   "outputs": [
    {
     "data": {
      "text/plain": [
       "3.141592653589793"
      ]
     },
     "execution_count": 5,
     "metadata": {},
     "output_type": "execute_result"
    }
   ],
   "source": [
    "math.pi"
   ]
  },
  {
   "cell_type": "code",
   "execution_count": 6,
   "id": "cca3ebb9",
   "metadata": {},
   "outputs": [
    {
     "data": {
      "text/plain": [
       "2.718281828459045"
      ]
     },
     "execution_count": 6,
     "metadata": {},
     "output_type": "execute_result"
    }
   ],
   "source": [
    "math.e"
   ]
  },
  {
   "cell_type": "code",
   "execution_count": 7,
   "id": "68dfd63b",
   "metadata": {},
   "outputs": [
    {
     "data": {
      "text/plain": [
       "7"
      ]
     },
     "execution_count": 7,
     "metadata": {},
     "output_type": "execute_result"
    }
   ],
   "source": [
    "math.ceil(6.3)"
   ]
  },
  {
   "cell_type": "code",
   "execution_count": 8,
   "id": "22a48aa5",
   "metadata": {},
   "outputs": [
    {
     "data": {
      "text/plain": [
       "6"
      ]
     },
     "execution_count": 8,
     "metadata": {},
     "output_type": "execute_result"
    }
   ],
   "source": [
    "math.floor(6.3)"
   ]
  },
  {
   "cell_type": "code",
   "execution_count": 9,
   "id": "21ff2e3d",
   "metadata": {},
   "outputs": [
    {
     "data": {
      "text/plain": [
       "2.8284271247461903"
      ]
     },
     "execution_count": 9,
     "metadata": {},
     "output_type": "execute_result"
    }
   ],
   "source": [
    "math.sqrt(8)"
   ]
  },
  {
   "cell_type": "code",
   "execution_count": 10,
   "id": "5b05feab",
   "metadata": {},
   "outputs": [
    {
     "data": {
      "text/plain": [
       "40320"
      ]
     },
     "execution_count": 10,
     "metadata": {},
     "output_type": "execute_result"
    }
   ],
   "source": [
    "math.factorial(8)"
   ]
  },
  {
   "cell_type": "markdown",
   "id": "0718d2b1",
   "metadata": {},
   "source": [
    "## Random module \n",
    "Python does not have a random() function to make a random number, but Python has a built-in module called random that can be used to make random numbers:"
   ]
  },
  {
   "cell_type": "code",
   "execution_count": 11,
   "id": "d348e07c",
   "metadata": {},
   "outputs": [],
   "source": [
    "import random"
   ]
  },
  {
   "cell_type": "code",
   "execution_count": 12,
   "id": "80cae208",
   "metadata": {},
   "outputs": [
    {
     "data": {
      "text/plain": [
       "35"
      ]
     },
     "execution_count": 12,
     "metadata": {},
     "output_type": "execute_result"
    }
   ],
   "source": [
    "random.randint(1,100)"
   ]
  },
  {
   "cell_type": "code",
   "execution_count": 13,
   "id": "7f92a1ad",
   "metadata": {},
   "outputs": [
    {
     "name": "stdout",
     "output_type": "stream",
     "text": [
      "3\n"
     ]
    }
   ],
   "source": [
    "# Import the random module, and display a random number between 1 and 9:\n",
    "\n",
    "import random\n",
    "print(random.randrange(1, 10))"
   ]
  },
  {
   "cell_type": "code",
   "execution_count": 14,
   "id": "33b30b63",
   "metadata": {
    "scrolled": true
   },
   "outputs": [
    {
     "name": "stdout",
     "output_type": "stream",
     "text": [
      "[1, 7, 5, 6, 4, 2, 3]\n"
     ]
    }
   ],
   "source": [
    "a=[1,2,3,4,5,6,7]\n",
    "random.shuffle(a)\n",
    "print(a)\n",
    "# it will shuffle the value stored in the variable a"
   ]
  },
  {
   "cell_type": "markdown",
   "id": "1202f7c3",
   "metadata": {},
   "source": [
    "## time"
   ]
  },
  {
   "cell_type": "code",
   "execution_count": 15,
   "id": "e8cfbc15",
   "metadata": {},
   "outputs": [],
   "source": [
    "import time"
   ]
  },
  {
   "cell_type": "code",
   "execution_count": 16,
   "id": "b3c63bd6",
   "metadata": {},
   "outputs": [
    {
     "data": {
      "text/plain": [
       "1677658258.9123538"
      ]
     },
     "execution_count": 16,
     "metadata": {},
     "output_type": "execute_result"
    }
   ],
   "source": [
    "time.time()\n",
    "# it returns the values in seconds since 1st january 2022"
   ]
  },
  {
   "cell_type": "code",
   "execution_count": 17,
   "id": "c73d05ef",
   "metadata": {},
   "outputs": [
    {
     "data": {
      "text/plain": [
       "'Wed Mar  1 13:40:59 2023'"
      ]
     },
     "execution_count": 17,
     "metadata": {},
     "output_type": "execute_result"
    }
   ],
   "source": [
    "time.ctime()\n",
    "# c is for current time"
   ]
  },
  {
   "cell_type": "code",
   "execution_count": 18,
   "id": "7a9bf366",
   "metadata": {},
   "outputs": [
    {
     "name": "stdout",
     "output_type": "stream",
     "text": [
      "hello\n",
      "himanshu\n"
     ]
    }
   ],
   "source": [
    "print(\"hello\")\n",
    "time.sleep(2)\n",
    "print(\"himanshu\")\n",
    "# it will print the himanshu after 2 seconds of printing the hello word"
   ]
  },
  {
   "cell_type": "code",
   "execution_count": 19,
   "id": "ec59feb9",
   "metadata": {},
   "outputs": [],
   "source": [
    "import os"
   ]
  },
  {
   "cell_type": "code",
   "execution_count": 20,
   "id": "9897aa19",
   "metadata": {},
   "outputs": [
    {
     "data": {
      "text/plain": [
       "'E:\\\\1. Python\\\\1. Python programming beginner and intermediate'"
      ]
     },
     "execution_count": 20,
     "metadata": {},
     "output_type": "execute_result"
    }
   ],
   "source": [
    "os.getcwd()\n",
    "# cwd is for current working dictionary"
   ]
  },
  {
   "cell_type": "code",
   "execution_count": 21,
   "id": "c05bae84",
   "metadata": {
    "scrolled": true
   },
   "outputs": [
    {
     "data": {
      "text/plain": [
       "['.ipynb_checkpoints',\n",
       " '1. hello word, print function, comments.ipynb',\n",
       " '10. Tuples in python.ipynb',\n",
       " '11. sets in python.ipynb',\n",
       " '12. Dictionary in python.ipynb',\n",
       " '13 Mutability, Garbage collection, Variable referencing.ipynb',\n",
       " '14. Python Functions.ipynb',\n",
       " '15. Recurssion.ipynb',\n",
       " '16. Lambda function.ipynb',\n",
       " '17. Comprehensions.ipynb',\n",
       " '2. variables, keywords and identifiers in python .ipynb',\n",
       " '3. Taking user input and Type conversion.ipynb',\n",
       " '4. Literals and Operators in python.ipynb',\n",
       " '5. if else statement, indentation and Markdown uses.ipynb',\n",
       " '6. while loops, guessing game ,for loop and nested loop.ipynb',\n",
       " '7. Break, continue and pass statements ; built in functions & built in modules.ipynb',\n",
       " '8. strings in python.ipynb',\n",
       " '9. Lists in python .ipynb',\n",
       " 'function.png',\n",
       " 'functiontypes.jpg',\n",
       " 'jupyter notebook']"
      ]
     },
     "execution_count": 21,
     "metadata": {},
     "output_type": "execute_result"
    }
   ],
   "source": [
    "os.listdir()"
   ]
  }
 ],
 "metadata": {
  "kernelspec": {
   "display_name": "Python 3 (ipykernel)",
   "language": "python",
   "name": "python3"
  },
  "language_info": {
   "codemirror_mode": {
    "name": "ipython",
    "version": 3
   },
   "file_extension": ".py",
   "mimetype": "text/x-python",
   "name": "python",
   "nbconvert_exporter": "python",
   "pygments_lexer": "ipython3",
   "version": "3.9.13"
  }
 },
 "nbformat": 4,
 "nbformat_minor": 5
}
