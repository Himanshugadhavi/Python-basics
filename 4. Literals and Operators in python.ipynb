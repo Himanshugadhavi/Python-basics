{
 "cells": [
  {
   "cell_type": "markdown",
   "id": "a49b278a",
   "metadata": {},
   "source": [
    "# Literals \n",
    "\n",
    "Literals are a raw data given in variable. In python, there are various type of literals as follows\n",
    "\n",
    "* Numeric literals\n",
    "* String literals\n",
    "* Boolean literals\n",
    "* Special Literals"
   ]
  },
  {
   "cell_type": "code",
   "execution_count": 1,
   "id": "7137d3f5",
   "metadata": {},
   "outputs": [],
   "source": [
    "a=2\n",
    "# here a is variable\n",
    "# = is assigner to assign value 2 to variable a\n",
    "# 2 is a literal or raw value given to the variable a"
   ]
  },
  {
   "cell_type": "markdown",
   "id": "bb083135",
   "metadata": {},
   "source": [
    "## 1. Numeric Literals"
   ]
  },
  {
   "cell_type": "code",
   "execution_count": 2,
   "id": "7d15de05",
   "metadata": {},
   "outputs": [
    {
     "name": "stdout",
     "output_type": "stream",
     "text": [
      "10 100 200 300\n",
      "10.5 150.0 0.0015\n",
      "3.14j 3.14 0.0\n"
     ]
    }
   ],
   "source": [
    "# we have three numerical data types in python integer, float, complex\n",
    "a=0b1010 # binary Literals \n",
    "# here python knows that given literal or value is binary\n",
    "b=100 # decimal literals\n",
    "c=0o310 # octal lliterals\n",
    "d=0x12c # hexadecimal literals\n",
    "\n",
    "#float literals\n",
    "float_1=10.5\n",
    "float_2=1.5e2 # it is 1.5*10^2\n",
    "float_3=1.5e-3 # it is 1.5*10^-3\n",
    "\n",
    "#complex literals\n",
    "x=3.14j\n",
    "\n",
    "print(a,b,c,d)\n",
    "print(float_1,float_2,float_3)\n",
    "print(x, x.imag, x.real)"
   ]
  },
  {
   "cell_type": "markdown",
   "id": "42e5ea54",
   "metadata": {},
   "source": [
    "## 2. String literals"
   ]
  },
  {
   "cell_type": "code",
   "execution_count": 3,
   "id": "02393ee3",
   "metadata": {},
   "outputs": [
    {
     "name": "stdout",
     "output_type": "stream",
     "text": [
      "himanshu\n",
      "himanshu\n",
      "c\n",
      "this is a multiline string with more than one line code\n",
      "😀😆🤣\n",
      "raw\\n string\n"
     ]
    }
   ],
   "source": [
    "string='himanshu'\n",
    "strings=\"himanshu\"\n",
    "char=\"c\"\n",
    "multiline_str=\"\"\"this is a multiline string with more than one line code\"\"\" \n",
    "# used in big text like big blog text\n",
    "unicode=u\"\\U0001F600\\U0001F606\\U0001F923\"\n",
    "raw_str=r\"raw\\n string\"\n",
    "\n",
    "print(string)\n",
    "print(strings)\n",
    "print(char)\n",
    "print(multiline_str)\n",
    "print(unicode)\n",
    "print(raw_str)"
   ]
  },
  {
   "cell_type": "markdown",
   "id": "e7844da3",
   "metadata": {},
   "source": [
    "## 3. Boolean literals"
   ]
  },
  {
   "cell_type": "code",
   "execution_count": 4,
   "id": "384bd298",
   "metadata": {},
   "outputs": [
    {
     "name": "stdout",
     "output_type": "stream",
     "text": [
      "a: 5\n",
      "b: 10\n"
     ]
    }
   ],
   "source": [
    "a=True+4 # value of True is 1 in python + 4 = 5 \n",
    "b=False+10 # value of Flase is 0 in python +10 = 10 \n",
    "\n",
    "print(\"a:\",a)\n",
    "print(\"b:\",b) # here implicit type of conversion is happpening"
   ]
  },
  {
   "cell_type": "markdown",
   "id": "2eeba7be",
   "metadata": {},
   "source": [
    "## 4. Special literals"
   ]
  },
  {
   "cell_type": "code",
   "execution_count": 5,
   "id": "3cde4243",
   "metadata": {},
   "outputs": [
    {
     "name": "stdout",
     "output_type": "stream",
     "text": [
      "None\n"
     ]
    }
   ],
   "source": [
    "a=None # None is is absence of anything\n",
    "print(a)\n",
    "# in python we can not declair the variable \n",
    "# so using none function is the safest way to declair the variable "
   ]
  },
  {
   "cell_type": "markdown",
   "id": "1d295986",
   "metadata": {},
   "source": [
    "# Operators \n",
    "\n",
    "operators are used to perform operations on variables and values. Python has the following operators\n",
    "\n",
    "* Arithmeitc operators\n",
    "* Comparison operators (relational operators)\n",
    "* Logical operators\n",
    "* Bitwise operators\n",
    "* Assignment operators\n",
    "* Identity operators\n",
    "* Membership operators"
   ]
  },
  {
   "cell_type": "markdown",
   "id": "8672246a",
   "metadata": {},
   "source": [
    "## Arithmetic operators"
   ]
  },
  {
   "cell_type": "code",
   "execution_count": 6,
   "id": "3fe0eb4c",
   "metadata": {},
   "outputs": [
    {
     "name": "stdout",
     "output_type": "stream",
     "text": [
      "7\n"
     ]
    }
   ],
   "source": [
    "x=5;y=2\n",
    "print(x+y)"
   ]
  },
  {
   "cell_type": "code",
   "execution_count": 7,
   "id": "34e5f179",
   "metadata": {},
   "outputs": [
    {
     "name": "stdout",
     "output_type": "stream",
     "text": [
      "10\n"
     ]
    }
   ],
   "source": [
    "print(x*y)"
   ]
  },
  {
   "cell_type": "code",
   "execution_count": 8,
   "id": "d2880b7c",
   "metadata": {},
   "outputs": [
    {
     "name": "stdout",
     "output_type": "stream",
     "text": [
      "3\n"
     ]
    }
   ],
   "source": [
    "print(x-y)"
   ]
  },
  {
   "cell_type": "code",
   "execution_count": 9,
   "id": "6d852810",
   "metadata": {},
   "outputs": [
    {
     "name": "stdout",
     "output_type": "stream",
     "text": [
      "2.5\n"
     ]
    }
   ],
   "source": [
    "print(x/y) # pure division"
   ]
  },
  {
   "cell_type": "code",
   "execution_count": 10,
   "id": "a278bd2d",
   "metadata": {
    "scrolled": true
   },
   "outputs": [
    {
     "name": "stdout",
     "output_type": "stream",
     "text": [
      "1\n"
     ]
    }
   ],
   "source": [
    "print(x%y) # modulus operators"
   ]
  },
  {
   "cell_type": "code",
   "execution_count": 11,
   "id": "2de985f2",
   "metadata": {},
   "outputs": [
    {
     "data": {
      "text/plain": [
       "2"
      ]
     },
     "execution_count": 11,
     "metadata": {},
     "output_type": "execute_result"
    }
   ],
   "source": [
    "a=11\n",
    "b=3\n",
    "a%b"
   ]
  },
  {
   "cell_type": "code",
   "execution_count": 12,
   "id": "422e8dca",
   "metadata": {},
   "outputs": [
    {
     "name": "stdout",
     "output_type": "stream",
     "text": [
      "25\n"
     ]
    }
   ],
   "source": [
    "print(x**y) #power function"
   ]
  },
  {
   "cell_type": "code",
   "execution_count": 13,
   "id": "94ec2154",
   "metadata": {
    "scrolled": true
   },
   "outputs": [
    {
     "name": "stdout",
     "output_type": "stream",
     "text": [
      "2\n"
     ]
    }
   ],
   "source": [
    "print(x//2) # integer division \n",
    "# it will conevrt the quotient into integer # floor division"
   ]
  },
  {
   "cell_type": "code",
   "execution_count": 14,
   "id": "59885baa",
   "metadata": {},
   "outputs": [
    {
     "name": "stdout",
     "output_type": "stream",
     "text": [
      "4\n"
     ]
    }
   ],
   "source": [
    "a=9\n",
    "b=2\n",
    "print(a//b)"
   ]
  },
  {
   "cell_type": "markdown",
   "id": "d3a71b91",
   "metadata": {},
   "source": [
    "## Comparision operation"
   ]
  },
  {
   "cell_type": "code",
   "execution_count": 15,
   "id": "fd0530e6",
   "metadata": {},
   "outputs": [],
   "source": [
    "x=5;y=2"
   ]
  },
  {
   "cell_type": "code",
   "execution_count": 16,
   "id": "5cee2d87",
   "metadata": {
    "scrolled": false
   },
   "outputs": [
    {
     "name": "stdout",
     "output_type": "stream",
     "text": [
      "True\n"
     ]
    }
   ],
   "source": [
    "print(x>y)"
   ]
  },
  {
   "cell_type": "code",
   "execution_count": 17,
   "id": "c3216183",
   "metadata": {},
   "outputs": [
    {
     "name": "stdout",
     "output_type": "stream",
     "text": [
      "False\n"
     ]
    }
   ],
   "source": [
    "print(x<y)"
   ]
  },
  {
   "cell_type": "code",
   "execution_count": 18,
   "id": "bd3349df",
   "metadata": {},
   "outputs": [
    {
     "name": "stdout",
     "output_type": "stream",
     "text": [
      "True\n"
     ]
    }
   ],
   "source": [
    "print(x>=y)"
   ]
  },
  {
   "cell_type": "code",
   "execution_count": 19,
   "id": "24f7a4ed",
   "metadata": {},
   "outputs": [
    {
     "name": "stdout",
     "output_type": "stream",
     "text": [
      "False\n"
     ]
    }
   ],
   "source": [
    "print(x<=y)"
   ]
  },
  {
   "cell_type": "code",
   "execution_count": 20,
   "id": "a5ab53e5",
   "metadata": {},
   "outputs": [
    {
     "name": "stdout",
     "output_type": "stream",
     "text": [
      "False\n"
     ]
    }
   ],
   "source": [
    "print(x==y)"
   ]
  },
  {
   "cell_type": "code",
   "execution_count": 21,
   "id": "ca52591f",
   "metadata": {},
   "outputs": [
    {
     "name": "stdout",
     "output_type": "stream",
     "text": [
      "True\n"
     ]
    }
   ],
   "source": [
    "print(x!=y) # != stands for not equal to"
   ]
  },
  {
   "cell_type": "markdown",
   "id": "c8c6122e",
   "metadata": {},
   "source": [
    "## Logical operators\n",
    ">* **and** -\tReturns True if both statements are true\t\n",
    ">* **or** - Returns True if one of the statements is true\t\n",
    ">* **not** -\tReverse the result, returns False if the result is true"
   ]
  },
  {
   "cell_type": "code",
   "execution_count": 30,
   "id": "b63443ce",
   "metadata": {},
   "outputs": [
    {
     "name": "stdout",
     "output_type": "stream",
     "text": [
      "True\n"
     ]
    }
   ],
   "source": [
    "x=True\n",
    "y=False\n",
    "\n",
    "print(x or y)"
   ]
  },
  {
   "cell_type": "code",
   "execution_count": 31,
   "id": "66462e21",
   "metadata": {},
   "outputs": [
    {
     "name": "stdout",
     "output_type": "stream",
     "text": [
      "False\n"
     ]
    }
   ],
   "source": [
    "print(x and y)"
   ]
  },
  {
   "cell_type": "code",
   "execution_count": 32,
   "id": "6097e717",
   "metadata": {},
   "outputs": [
    {
     "name": "stdout",
     "output_type": "stream",
     "text": [
      "False\n"
     ]
    }
   ],
   "source": [
    "print(not x)"
   ]
  },
  {
   "cell_type": "code",
   "execution_count": 33,
   "id": "9f78b1ee",
   "metadata": {},
   "outputs": [
    {
     "name": "stdout",
     "output_type": "stream",
     "text": [
      "True\n"
     ]
    }
   ],
   "source": [
    "print(not y)"
   ]
  },
  {
   "cell_type": "markdown",
   "id": "25b7ea20",
   "metadata": {},
   "source": [
    "## Bitwise operators\n",
    "* they always work on binary values\n",
    "* when we have to work on binary values say for example if we are working on a image processing data, when we apply black and white filters then we convert the image in to 1 0 or in the numbers and then we have to use bitwise operators"
   ]
  },
  {
   "cell_type": "code",
   "execution_count": 24,
   "id": "0b7f9738",
   "metadata": {},
   "outputs": [
    {
     "name": "stdout",
     "output_type": "stream",
     "text": [
      "2\n"
     ]
    }
   ],
   "source": [
    "x=2 # binary value of 2 is 010\n",
    "y=3 # binary value of 3 is 110\n",
    "\n",
    "print(x & y)"
   ]
  },
  {
   "cell_type": "code",
   "execution_count": 25,
   "id": "04dfbc95",
   "metadata": {},
   "outputs": [
    {
     "data": {
      "text/plain": [
       "'\\n010 \\n110\\n-----   is\\n010     which is two\\n'"
      ]
     },
     "execution_count": 25,
     "metadata": {},
     "output_type": "execute_result"
    }
   ],
   "source": [
    "# now binary pattern of \n",
    "\"\"\"\n",
    "010 \n",
    "110\n",
    "-----   is\n",
    "010     which is two\n",
    "\"\"\""
   ]
  },
  {
   "cell_type": "code",
   "execution_count": 26,
   "id": "d87a6b1f",
   "metadata": {},
   "outputs": [
    {
     "name": "stdout",
     "output_type": "stream",
     "text": [
      "2\n"
     ]
    }
   ],
   "source": [
    "print(x or y)"
   ]
  },
  {
   "cell_type": "code",
   "execution_count": 27,
   "id": "e6164392",
   "metadata": {},
   "outputs": [
    {
     "name": "stdout",
     "output_type": "stream",
     "text": [
      "0\n"
     ]
    }
   ],
   "source": [
    "print(x >> 2)"
   ]
  },
  {
   "cell_type": "code",
   "execution_count": 28,
   "id": "107489a1",
   "metadata": {},
   "outputs": [
    {
     "name": "stdout",
     "output_type": "stream",
     "text": [
      "24\n"
     ]
    }
   ],
   "source": [
    "print(y << 3)"
   ]
  },
  {
   "cell_type": "code",
   "execution_count": 29,
   "id": "e2eaae94",
   "metadata": {},
   "outputs": [
    {
     "name": "stdout",
     "output_type": "stream",
     "text": [
      "-3\n"
     ]
    }
   ],
   "source": [
    "print(~x)"
   ]
  },
  {
   "cell_type": "markdown",
   "id": "d4495c71",
   "metadata": {},
   "source": [
    "## assignment operators"
   ]
  },
  {
   "cell_type": "code",
   "execution_count": 44,
   "id": "07ef63ff",
   "metadata": {},
   "outputs": [
    {
     "name": "stdout",
     "output_type": "stream",
     "text": [
      "3\n"
     ]
    }
   ],
   "source": [
    "a=3 #here we are assigning the value 3 to a\n",
    "print(a)"
   ]
  },
  {
   "cell_type": "code",
   "execution_count": 45,
   "id": "8f7abd5b",
   "metadata": {},
   "outputs": [
    {
     "name": "stdout",
     "output_type": "stream",
     "text": [
      "6\n"
     ]
    }
   ],
   "source": [
    "# a += 3  same as a = a + 3\n",
    "a+=3\n",
    "print(a)"
   ]
  },
  {
   "cell_type": "code",
   "execution_count": 46,
   "id": "622d4177",
   "metadata": {},
   "outputs": [
    {
     "name": "stdout",
     "output_type": "stream",
     "text": [
      "3\n"
     ]
    }
   ],
   "source": [
    "# a -= 3  same as a = a - 3\n",
    "a -= 3\n",
    "print(a)"
   ]
  },
  {
   "cell_type": "code",
   "execution_count": 47,
   "id": "3ed18c81",
   "metadata": {},
   "outputs": [
    {
     "name": "stdout",
     "output_type": "stream",
     "text": [
      "9\n"
     ]
    }
   ],
   "source": [
    "# a *= 3  same as a = a * 3\n",
    "a*=3\n",
    "print(a)"
   ]
  },
  {
   "cell_type": "code",
   "execution_count": 48,
   "id": "7f8ddeb6",
   "metadata": {},
   "outputs": [
    {
     "name": "stdout",
     "output_type": "stream",
     "text": [
      "729\n"
     ]
    }
   ],
   "source": [
    "# a **= 3 same as a = a ** 3\n",
    "a**=3\n",
    "print(a)"
   ]
  },
  {
   "cell_type": "code",
   "execution_count": 49,
   "id": "3e52e61f",
   "metadata": {},
   "outputs": [
    {
     "name": "stdout",
     "output_type": "stream",
     "text": [
      "1\n"
     ]
    }
   ],
   "source": [
    "a&=3\n",
    "print(a)"
   ]
  },
  {
   "cell_type": "markdown",
   "id": "7cb8b070",
   "metadata": {},
   "source": [
    "## Identity operators\n",
    "it checks that two variables are on the same memory location or not\n",
    ">* **is** -\tReturns True if both variables are the same object\t\n",
    ">* **is not** -\tReturns True if both variables are not the same object"
   ]
  },
  {
   "cell_type": "code",
   "execution_count": 23,
   "id": "a943c433",
   "metadata": {},
   "outputs": [
    {
     "name": "stdout",
     "output_type": "stream",
     "text": [
      "True\n"
     ]
    }
   ],
   "source": [
    "h=3  \n",
    "j=3\n",
    "print(h is j)\n",
    "# here h and j are on the same memory location \n",
    "# so they are identical and it will print True"
   ]
  },
  {
   "cell_type": "code",
   "execution_count": 71,
   "id": "27eae891",
   "metadata": {},
   "outputs": [
    {
     "name": "stdout",
     "output_type": "stream",
     "text": [
      "True\n"
     ]
    }
   ],
   "source": [
    "a = \"hello\"\n",
    "b = \"hello\"\n",
    "print(a is b)"
   ]
  },
  {
   "cell_type": "code",
   "execution_count": 78,
   "id": "61fb4bb6",
   "metadata": {},
   "outputs": [
    {
     "name": "stdout",
     "output_type": "stream",
     "text": [
      "False\n",
      "True\n"
     ]
    }
   ],
   "source": [
    "a=[1,2,3]\n",
    "b=[1,2,3]\n",
    "print(a is b)\n",
    "print(a is not b)\n",
    "# here they are not on the same memory location"
   ]
  },
  {
   "cell_type": "code",
   "execution_count": 77,
   "id": "448b95b3",
   "metadata": {},
   "outputs": [
    {
     "name": "stdout",
     "output_type": "stream",
     "text": [
      "False\n",
      "True\n"
     ]
    }
   ],
   "source": [
    "a=\"hello-himanshu\"\n",
    "b=\"hello-himanshu\"\n",
    "print(a is b)\n",
    "print(a is not b)"
   ]
  },
  {
   "cell_type": "markdown",
   "id": "b46b2344",
   "metadata": {},
   "source": [
    "## Membership operators\n",
    ">1. **in** - Returns True if a sequence with the specified value is present in the object\n",
    ">2. **not in** -\tReturns True if a sequence with the specified value is not present in the object\n",
    "* Membership operators are used to test if a sequence is presented in an object:\n",
    "* it tells us that whether one thing is in another thing or not"
   ]
  },
  {
   "cell_type": "code",
   "execution_count": 74,
   "id": "bd47955c",
   "metadata": {},
   "outputs": [
    {
     "name": "stdout",
     "output_type": "stream",
     "text": [
      "True\n",
      "False\n"
     ]
    }
   ],
   "source": [
    "x=\"delhi\"\n",
    "print(\"d\" in x)\n",
    "print(\"d\" not in x)"
   ]
  },
  {
   "cell_type": "code",
   "execution_count": 76,
   "id": "216ba614",
   "metadata": {
    "scrolled": true
   },
   "outputs": [
    {
     "name": "stdout",
     "output_type": "stream",
     "text": [
      "True\n"
     ]
    }
   ],
   "source": [
    "h=[1,2,3,4,5]\n",
    "print(5 in h) \n",
    "# this is applicable on set,tuple,dict and list everywhere"
   ]
  },
  {
   "cell_type": "markdown",
   "id": "dcca2b1b",
   "metadata": {},
   "source": [
    "# Operator Precedence\n",
    "* Operator precedence describes the order in which operations are performed."
   ]
  },
  {
   "cell_type": "code",
   "execution_count": 50,
   "id": "a86685ff",
   "metadata": {},
   "outputs": [
    {
     "name": "stdout",
     "output_type": "stream",
     "text": [
      "0\n"
     ]
    }
   ],
   "source": [
    "'''Parentheses has the highest precedence, \n",
    "means that expressions inside parentheses must be evaluated first:'''\n",
    "print((6 + 3) - (6 + 3))"
   ]
  },
  {
   "cell_type": "code",
   "execution_count": 1,
   "id": "e457f3c6",
   "metadata": {},
   "outputs": [
    {
     "name": "stdout",
     "output_type": "stream",
     "text": [
      "115\n"
     ]
    }
   ],
   "source": [
    "'''Multiplication * has higher precedence than addition +,\n",
    "and therefor multiplications are evaluated before additions:''' \n",
    "print(100 + 5 * 3)"
   ]
  }
 ],
 "metadata": {
  "kernelspec": {
   "display_name": "Python 3 (ipykernel)",
   "language": "python",
   "name": "python3"
  },
  "language_info": {
   "codemirror_mode": {
    "name": "ipython",
    "version": 3
   },
   "file_extension": ".py",
   "mimetype": "text/x-python",
   "name": "python",
   "nbconvert_exporter": "python",
   "pygments_lexer": "ipython3",
   "version": "3.9.13"
  }
 },
 "nbformat": 4,
 "nbformat_minor": 5
}
