{
 "cells": [
  {
   "cell_type": "markdown",
   "id": "46017d7a",
   "metadata": {},
   "source": [
    "# If-else statment (decision control statement)\n",
    "* There comes situations in real life when we need to make some decisions and based on these decisions, we decide what should we do next. Similar situations arise in programming also where we need to make some decisions and based on these decisions we will execute the next block of code. Decision-making statements in programming languages decide the direction of the flow of program execution. \n",
    "* In Python, if-else elif statement is used for decision making.   \n",
    "    \n",
    "    Python supports the usual logical conditions from mathematics:\n",
    "\n",
    "    * Equals: a == b\n",
    "    * Not Equals: a != b\n",
    "    * Less than: a < b\n",
    "    * Less than or equal to: a <= b\n",
    "    * Greater than: a > b\n",
    "    * Greater than or equal to: a >= b\n",
    "\n",
    "These conditions can be used in several ways, most commonly in \"if statements\" and loops."
   ]
  },
  {
   "cell_type": "markdown",
   "id": "c6e855aa",
   "metadata": {},
   "source": [
    "#### if statement\n",
    "* if statement is the most simple decision-making statement. It is used to decide whether a certain statement or block of statements will be executed or not i.e if a certain condition is true then a block of statement is executed otherwise not."
   ]
  },
  {
   "cell_type": "code",
   "execution_count": 2,
   "id": "efcfaabf",
   "metadata": {},
   "outputs": [
    {
     "name": "stdout",
     "output_type": "stream",
     "text": [
      "I am Not in if\n"
     ]
    }
   ],
   "source": [
    "# python program to illustrate If statement\n",
    "i = 10\n",
    "if (i > 15):\n",
    "    print(\"10 is less than 15\")\n",
    "print(\"I am Not in if\")"
   ]
  },
  {
   "cell_type": "markdown",
   "id": "c6d78a09",
   "metadata": {},
   "source": [
    "#### if-else\n",
    "* The if statement alone tells us that if a condition is true it will execute a block of statements and if the condition is false it won’t. But what if we want to do something else if the condition is false. Here comes the else statement. We can use the else statement with if statement to execute a block of code when the condition is false. "
   ]
  },
  {
   "cell_type": "markdown",
   "id": "0b086771",
   "metadata": {},
   "source": [
    "    if (condition):\n",
    "        # Executes this block if condition is true\n",
    "    else:\n",
    "        # Executes this block if condition is false"
   ]
  },
  {
   "cell_type": "code",
   "execution_count": 3,
   "id": "4c4cf42d",
   "metadata": {},
   "outputs": [
    {
     "name": "stdout",
     "output_type": "stream",
     "text": [
      "i is greater than 15\n",
      "i'm in else Block\n"
     ]
    }
   ],
   "source": [
    "# python program to illustrate If else statement\n",
    "i = 20\n",
    "if (i < 15):\n",
    "    print(\"i is smaller than 15\")\n",
    "    print(\"i'm in if Block\")\n",
    "else:\n",
    "    print(\"i is greater than 15\")\n",
    "    print(\"i'm in else Block\")"
   ]
  },
  {
   "cell_type": "code",
   "execution_count": 1,
   "id": "2c0d956f",
   "metadata": {},
   "outputs": [
    {
     "name": "stdout",
     "output_type": "stream",
     "text": [
      "apna email batahimsash@gmail.com\n",
      "apna password bhi bata12345\n",
      "welcome\n"
     ]
    }
   ],
   "source": [
    "# correct email is himsash@gmail.com\n",
    "# correct passworod is 12345\n",
    "\n",
    "email=input(\"enter your email\")\n",
    "password=input(\"eenter your passwords\")\n",
    "\n",
    "if email==\"himsash@gmail.com\" and password==\"12345\":\n",
    "    print(\"welcome\")\n",
    "else:\n",
    "    print(\"incorrect credentials\")"
   ]
  },
  {
   "cell_type": "markdown",
   "id": "72b7e04c",
   "metadata": {},
   "source": [
    "#### if-elif-else ladder\n",
    "* Here, a user can decide among multiple options. The if statements are executed from the top down. As soon as one of the conditions controlling the if is true, the statement associated with that if is executed, and the rest of the ladder is bypassed. If none of the conditions is true, then the final else statement will be executed."
   ]
  },
  {
   "cell_type": "code",
   "execution_count": 4,
   "id": "1721ccac",
   "metadata": {},
   "outputs": [
    {
     "name": "stdout",
     "output_type": "stream",
     "text": [
      "a is greater than b\n"
     ]
    }
   ],
   "source": [
    "a = 200\n",
    "b = 33\n",
    "if b > a:\n",
    "  print(\"b is greater than a\")\n",
    "elif a == b:\n",
    "  print(\"a and b are equal\")\n",
    "else:\n",
    "  print(\"a is greater than b\")"
   ]
  },
  {
   "cell_type": "code",
   "execution_count": 5,
   "id": "504e62d3",
   "metadata": {},
   "outputs": [
    {
     "name": "stdout",
     "output_type": "stream",
     "text": [
      "enter the number: 21\n",
      "i is not present\n"
     ]
    }
   ],
   "source": [
    "# Python program to illustrate if-elif-else ladder:\n",
    "  \n",
    "i = int(input(\"enter the number: \"))\n",
    "if (i == 10):\n",
    "    print(\"i is 10\")\n",
    "elif (i == 15):\n",
    "    print(\"i is 15\")\n",
    "elif (i == 20):\n",
    "    print(\"i is 20\")\n",
    "else:\n",
    "    print(\"i is not present\")"
   ]
  },
  {
   "cell_type": "markdown",
   "id": "8f428b7f",
   "metadata": {},
   "source": [
    "#### And\n",
    "* The and keyword is a logical operator, and is used to combine conditional statements:"
   ]
  },
  {
   "cell_type": "code",
   "execution_count": 6,
   "id": "9946d215",
   "metadata": {},
   "outputs": [
    {
     "name": "stdout",
     "output_type": "stream",
     "text": [
      "Both conditions are True\n"
     ]
    }
   ],
   "source": [
    "a = 200\n",
    "b = 33\n",
    "c = 500\n",
    "if a > b and c > a:\n",
    "  print(\"Both conditions are True\")"
   ]
  },
  {
   "cell_type": "markdown",
   "id": "89549f02",
   "metadata": {},
   "source": [
    "#### Or\n",
    "* The or keyword is a logical operator, and is used to combine conditional statements:"
   ]
  },
  {
   "cell_type": "code",
   "execution_count": 7,
   "id": "f8cbc6ad",
   "metadata": {},
   "outputs": [
    {
     "name": "stdout",
     "output_type": "stream",
     "text": [
      "At least one of the conditions is True\n"
     ]
    }
   ],
   "source": [
    "a = 200\n",
    "b = 33\n",
    "c = 500\n",
    "if a > b or a > c:\n",
    "  print(\"At least one of the conditions is True\")"
   ]
  },
  {
   "cell_type": "markdown",
   "id": "4a8357f6",
   "metadata": {},
   "source": [
    "#### nested-if\n",
    "* A nested if is an if statement that is the target of another if statement. Nested if statements mean an if statement inside another if statement. Python allows us to nest if statements within if statements. i.e, we can place an if statement inside another if statement."
   ]
  },
  {
   "cell_type": "code",
   "execution_count": 13,
   "id": "d2c67c6a",
   "metadata": {},
   "outputs": [
    {
     "name": "stdout",
     "output_type": "stream",
     "text": [
      "i is smaller than 15\n",
      "i is smaller than 12 too\n"
     ]
    }
   ],
   "source": [
    "# python program to illustrate nested If statement\n",
    "i = 10\n",
    "if (i == 10):\n",
    "    #  First if statement\n",
    "    if (i < 15):\n",
    "        print(\"i is smaller than 15\")\n",
    "    # Nested - if statement\n",
    "    # Will only be executed if statement above is true\n",
    "    if (i < 12):\n",
    "        print(\"i is smaller than 12 too\")\n",
    "    else:\n",
    "        print(\"i is greater than 15\")"
   ]
  },
  {
   "cell_type": "code",
   "execution_count": 14,
   "id": "63a47397",
   "metadata": {},
   "outputs": [
    {
     "name": "stdout",
     "output_type": "stream",
     "text": [
      "Above ten,\n",
      "and also above 20!\n"
     ]
    }
   ],
   "source": [
    "x = 41\n",
    "\n",
    "if x > 10:\n",
    "    print(\"Above ten,\")\n",
    "    if x > 20:\n",
    "        print(\"and also above 20!\")\n",
    "    else:\n",
    "        print(\"but not above 20.\")"
   ]
  },
  {
   "cell_type": "markdown",
   "id": "c16d091a",
   "metadata": {},
   "source": [
    "#### Short Hand if statement\n",
    "* Whenever there is only a single statement to be executed inside the if block then shorthand if can be used. The statement can be put on the same line as the if statement. "
   ]
  },
  {
   "cell_type": "code",
   "execution_count": 15,
   "id": "b51f8b94",
   "metadata": {},
   "outputs": [
    {
     "name": "stdout",
     "output_type": "stream",
     "text": [
      "enter the number: 10\n",
      "i is less than 15\n"
     ]
    }
   ],
   "source": [
    "# Python program to illustrate short hand if\n",
    "i = int(input(\"enter the number: \"))\n",
    "if i < 15:\n",
    "    print(\"i is less than 15\")"
   ]
  },
  {
   "cell_type": "markdown",
   "id": "c3cd6382",
   "metadata": {},
   "source": [
    "#### Short Hand if-else statement\n",
    "* This can be used to write the if-else statements in a single line where there is only one statement to be executed in both if and else block. "
   ]
  },
  {
   "cell_type": "code",
   "execution_count": 16,
   "id": "722df375",
   "metadata": {},
   "outputs": [
    {
     "name": "stdout",
     "output_type": "stream",
     "text": [
      "True\n"
     ]
    }
   ],
   "source": [
    "# Python program to illustrate short hand if-else\n",
    "i = 10\n",
    "print(True) if i < 15 else print(False)"
   ]
  },
  {
   "cell_type": "code",
   "execution_count": 17,
   "id": "cd3fb907",
   "metadata": {},
   "outputs": [
    {
     "name": "stdout",
     "output_type": "stream",
     "text": [
      "B\n"
     ]
    }
   ],
   "source": [
    "a = 2\n",
    "b = 330\n",
    "print(\"A\") if a > b else print(\"B\")"
   ]
  },
  {
   "cell_type": "markdown",
   "id": "17472cfe",
   "metadata": {},
   "source": [
    "## case\n",
    "\n",
    "when your user gives you the right email but password is incorrect then for passsword give your user one more chance"
   ]
  },
  {
   "cell_type": "code",
   "execution_count": 1,
   "id": "fbf73d66",
   "metadata": {
    "scrolled": true
   },
   "outputs": [
    {
     "name": "stdout",
     "output_type": "stream",
     "text": [
      "enter your emailabc@gmail.com\n",
      "enter your password123\n",
      "password incorrect\n",
      "again enter yout password12345\n",
      "finally correct\n"
     ]
    }
   ],
   "source": [
    "email=input(\"enter your email\")\n",
    "password=input(\"enter your password\")\n",
    "\n",
    "if email==\"abc@gmail.com\" and password==\"12345\":\n",
    "    print(\"welcome\")\n",
    "elif email==\"abc@gmail.com\" and password !=\"12345\":\n",
    "    print(\"password incorrect\")\n",
    "    password=input(\"again enter yout password\")\n",
    "    if password==\"12345\":\n",
    "        print(\"finally correct\")\n",
    "    else:\n",
    "        print(\"still incorrect\")\n",
    "    \n",
    "else:\n",
    "    print(\"incorrect credentials\")\n",
    "    \n",
    "'''if we are using the if else statment inside the if else statment \n",
    "then it is called nested if else''' "
   ]
  },
  {
   "cell_type": "markdown",
   "id": "186dac2c",
   "metadata": {},
   "source": [
    "# Identation\n",
    "* python uses indentation to identify a block.\n",
    "* Indentation refers to the spaces at the beginning of a code line.\n",
    "* Where in other programming languages the indentation in code is for readability only, the indentation in Python is very important."
   ]
  },
  {
   "cell_type": "code",
   "execution_count": 19,
   "id": "c8e530bc",
   "metadata": {},
   "outputs": [
    {
     "name": "stdout",
     "output_type": "stream",
     "text": [
      "enter idxyz\n",
      "line 1\n"
     ]
    }
   ],
   "source": [
    "name=input(\"enter id\")\n",
    "\n",
    "if name==\"xyz\":\n",
    "    print(\"line 1\")\n",
    "else:\n",
    "    print(\"line 2\")"
   ]
  },
  {
   "cell_type": "markdown",
   "id": "d32317f5",
   "metadata": {},
   "source": [
    "* here in if statement in the first line of code after : the code is ended\n",
    "* then the space before line 1 is called identation\n",
    "* same in the case of else statement"
   ]
  },
  {
   "cell_type": "code",
   "execution_count": 23,
   "id": "93fdb1b2",
   "metadata": {},
   "outputs": [
    {
     "name": "stdout",
     "output_type": "stream",
     "text": [
      "id bataxyz\n",
      "line 1\n",
      "correct\n",
      "wrong\n"
     ]
    }
   ],
   "source": [
    "name=input(\"id bata\")\n",
    "if name==\"xyz\":\n",
    "    print(\"line 1\")\n",
    "    if 5==5:\n",
    "        print(\"correct\")\n",
    "        if 5!=6:\n",
    "            print(\"wrong\")\n",
    "        \n",
    "else:\n",
    "    print(\"line 2\")"
   ]
  },
  {
   "cell_type": "markdown",
   "id": "9337dc77",
   "metadata": {},
   "source": [
    "## voting application"
   ]
  },
  {
   "cell_type": "code",
   "execution_count": null,
   "id": "723d6b80",
   "metadata": {},
   "outputs": [],
   "source": [
    "age=int(input(\"give the age\"))\n",
    "if age<18:\n",
    "    print(\"you cannot give the vote: \")\n",
    "else:\n",
    "    print(\"you can give the vote: \")"
   ]
  },
  {
   "cell_type": "code",
   "execution_count": 20,
   "id": "1af0b471",
   "metadata": {},
   "outputs": [
    {
     "name": "stdout",
     "output_type": "stream",
     "text": [
      "give the number30\n",
      "it is divisable by 5\n"
     ]
    }
   ],
   "source": [
    "num=int(input(\"give the number\"))\n",
    "if (num%5)==0:\n",
    "    print(\"it is divisable by 5\")\n",
    "else:\n",
    "    print(\"sorry bro\")"
   ]
  },
  {
   "cell_type": "code",
   "execution_count": 21,
   "id": "59f03d84",
   "metadata": {},
   "outputs": [
    {
     "name": "stdout",
     "output_type": "stream",
     "text": [
      "give the number6\n",
      "even number\n"
     ]
    }
   ],
   "source": [
    "num=int(input(\"give the number\"))\n",
    "if (num%2)==0:\n",
    "    print(\"even number\")\n",
    "else:\n",
    "    print(\"sorry bro\")"
   ]
  }
 ],
 "metadata": {
  "kernelspec": {
   "display_name": "Python 3 (ipykernel)",
   "language": "python",
   "name": "python3"
  },
  "language_info": {
   "codemirror_mode": {
    "name": "ipython",
    "version": 3
   },
   "file_extension": ".py",
   "mimetype": "text/x-python",
   "name": "python",
   "nbconvert_exporter": "python",
   "pygments_lexer": "ipython3",
   "version": "3.9.13"
  }
 },
 "nbformat": 4,
 "nbformat_minor": 5
}
