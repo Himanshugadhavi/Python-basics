{
 "cells": [
  {
   "cell_type": "markdown",
   "id": "38ef2f50",
   "metadata": {},
   "source": [
    "# What is Python?\n",
    "Python is a popular programming language. It was created by Guido van Rossum, and released in 1991."
   ]
  },
  {
   "cell_type": "markdown",
   "id": "e643447f",
   "metadata": {},
   "source": [
    "# What is the Scripting Language ?\n",
    "Programming languages use either of the following specialized programs to translate code:\n",
    "\n",
    ">1. **A Compiler** - translates your entire code, then runs the program.\n",
    ">2. **An Interpreter** - translates and runs your code one instruction at a time\n",
    "\n",
    "* A scripting language is a programming language that uses an Interpreter to translate its source code. The interpreter reads and executes each line of code one at a time, just like a SCRIPT for a play or an audition, hence the the term \"scripting language\". Python uses an interpreter to translate and run its code and that's why it's called a scripting language\n"
   ]
  },
  {
   "cell_type": "markdown",
   "id": "8aacb8c8",
   "metadata": {},
   "source": [
    "# Python Data Types"
   ]
  },
  {
   "cell_type": "markdown",
   "id": "5b650395",
   "metadata": {},
   "source": [
    "## Built-in Data Types\n",
    "* In programming, data type is an important concept.\n",
    "* Variables can store data of different types, and different types can do different things."
   ]
  },
  {
   "cell_type": "markdown",
   "id": "80ece1e2",
   "metadata": {},
   "source": [
    "### Python has the following data types built-in by default, in these categories:\n",
    "    * Text Type:\t    str\n",
    "    * Numeric Types:\tint, float, complex\n",
    "    * Sequence Types:   list, tuple, range\n",
    "    * Mapping Type:\t dict\n",
    "    * Set Types:\t    set, frozenset\n",
    "    * Boolean Type:\t bool\n",
    "    * Binary Types:\t bytes, bytearray, memoryview\n",
    "    * None Type:\t    NoneType"
   ]
  },
  {
   "cell_type": "markdown",
   "id": "2e156b82",
   "metadata": {},
   "source": [
    "# print function\n",
    ">* The Python print() function is often used to output variables.\n",
    ">* python is a case sensitive language so 'Print' is not allowed, print is the correct syntax"
   ]
  },
  {
   "cell_type": "code",
   "execution_count": 1,
   "id": "993d6ea5",
   "metadata": {
    "scrolled": true
   },
   "outputs": [
    {
     "name": "stdout",
     "output_type": "stream",
     "text": [
      "hello word\n"
     ]
    }
   ],
   "source": [
    "print(\"hello word\")"
   ]
  },
  {
   "cell_type": "code",
   "execution_count": 3,
   "id": "e3dcf7ed",
   "metadata": {},
   "outputs": [
    {
     "name": "stdout",
     "output_type": "stream",
     "text": [
      "how are you? 5\n"
     ]
    }
   ],
   "source": [
    "print(\"how are you?\",5)"
   ]
  },
  {
   "cell_type": "code",
   "execution_count": 4,
   "id": "8e402729",
   "metadata": {
    "scrolled": true
   },
   "outputs": [
    {
     "name": "stdout",
     "output_type": "stream",
     "text": [
      "1+8\n"
     ]
    }
   ],
   "source": [
    "print(\"1+8\")"
   ]
  },
  {
   "cell_type": "markdown",
   "id": "8035bbb1",
   "metadata": {},
   "source": [
    ">In the print() function, when you try to combine a string and a number with the + operator, Python will give you an error:"
   ]
  },
  {
   "cell_type": "code",
   "execution_count": 5,
   "id": "793ddd1f",
   "metadata": {
    "scrolled": true
   },
   "outputs": [
    {
     "ename": "TypeError",
     "evalue": "can only concatenate str (not \"int\") to str",
     "output_type": "error",
     "traceback": [
      "\u001b[1;31m---------------------------------------------------------------------------\u001b[0m",
      "\u001b[1;31mTypeError\u001b[0m                                 Traceback (most recent call last)",
      "\u001b[1;32m~\\AppData\\Local\\Temp\\ipykernel_20948\\891212945.py\u001b[0m in \u001b[0;36m<module>\u001b[1;34m\u001b[0m\n\u001b[1;32m----> 1\u001b[1;33m \u001b[0mprint\u001b[0m\u001b[1;33m(\u001b[0m\u001b[1;34m\"1\"\u001b[0m\u001b[1;33m+\u001b[0m\u001b[1;36m9\u001b[0m\u001b[1;33m)\u001b[0m\u001b[1;33m\u001b[0m\u001b[1;33m\u001b[0m\u001b[0m\n\u001b[0m",
      "\u001b[1;31mTypeError\u001b[0m: can only concatenate str (not \"int\") to str"
     ]
    }
   ],
   "source": [
    "print(\"1\"+9)"
   ]
  },
  {
   "cell_type": "markdown",
   "id": "a2226863",
   "metadata": {},
   "source": [
    ">The best way to output multiple variables in the print() function is to separate them with commas, which even support different data types:"
   ]
  },
  {
   "cell_type": "code",
   "execution_count": 6,
   "id": "5b69ac83",
   "metadata": {},
   "outputs": [
    {
     "name": "stdout",
     "output_type": "stream",
     "text": [
      "5 John\n"
     ]
    }
   ],
   "source": [
    "x = 5\n",
    "y = \"John\"\n",
    "print(x, y)"
   ]
  },
  {
   "cell_type": "code",
   "execution_count": 7,
   "id": "feea477d",
   "metadata": {
    "scrolled": true
   },
   "outputs": [
    {
     "name": "stdout",
     "output_type": "stream",
     "text": [
      "19\n"
     ]
    }
   ],
   "source": [
    "print(\"1\"+\"9\")"
   ]
  },
  {
   "cell_type": "code",
   "execution_count": 8,
   "id": "a9814e06",
   "metadata": {},
   "outputs": [
    {
     "name": "stdout",
     "output_type": "stream",
     "text": [
      "6\n"
     ]
    }
   ],
   "source": [
    "print(6)"
   ]
  },
  {
   "cell_type": "code",
   "execution_count": 9,
   "id": "5617e00f",
   "metadata": {},
   "outputs": [
    {
     "name": "stdout",
     "output_type": "stream",
     "text": [
      "himanshu\n"
     ]
    }
   ],
   "source": [
    "print(\"himanshu\")"
   ]
  },
  {
   "cell_type": "code",
   "execution_count": 10,
   "id": "706dbfa9",
   "metadata": {
    "scrolled": true
   },
   "outputs": [
    {
     "name": "stdout",
     "output_type": "stream",
     "text": [
      "india france russia\n"
     ]
    }
   ],
   "source": [
    "print(\"india\",\"france\",\"russia\") "
   ]
  },
  {
   "cell_type": "code",
   "execution_count": 11,
   "id": "0846430c",
   "metadata": {
    "scrolled": true
   },
   "outputs": [
    {
     "name": "stdout",
     "output_type": "stream",
     "text": [
      "False\n"
     ]
    }
   ],
   "source": [
    "print(False) #boolean data type"
   ]
  },
  {
   "cell_type": "markdown",
   "id": "01a7f197",
   "metadata": {},
   "source": [
    "# sepration of the print values in the print function\n",
    ">* when ever we print something with print function then in result it will seprate the given values by space\n",
    "as we can see in india france and russia there is automatic space in the printed result\n",
    "\n",
    ">* suppose, we don't want that space and for that follow the next line"
   ]
  },
  {
   "cell_type": "code",
   "execution_count": 12,
   "id": "7121786a",
   "metadata": {},
   "outputs": [
    {
     "name": "stdout",
     "output_type": "stream",
     "text": [
      "india/france/russia\n"
     ]
    }
   ],
   "source": [
    "print(\"india\",\"france\",\"russia\",sep=\"/\")  \n",
    "#we are usig / to seprate the value inside the print function"
   ]
  },
  {
   "cell_type": "code",
   "execution_count": 13,
   "id": "cc6bcd06",
   "metadata": {
    "scrolled": true
   },
   "outputs": [
    {
     "name": "stdout",
     "output_type": "stream",
     "text": [
      "india-france-russia\n"
     ]
    }
   ],
   "source": [
    "print(\"india\",\"france\",\"russia\",sep=\"-\") \n",
    "#we are using hyphen (-) to seprate the value inside the print function"
   ]
  },
  {
   "cell_type": "code",
   "execution_count": 14,
   "id": "e51f1bbc",
   "metadata": {},
   "outputs": [
    {
     "name": "stdout",
     "output_type": "stream",
     "text": [
      "india 5 True\n"
     ]
    }
   ],
   "source": [
    "print(\"india\",5,True) \n",
    "# print is a flexible function"
   ]
  },
  {
   "cell_type": "code",
   "execution_count": 16,
   "id": "68bc8f61",
   "metadata": {},
   "outputs": [
    {
     "name": "stdout",
     "output_type": "stream",
     "text": [
      "\n"
     ]
    },
    {
     "data": {
      "text/plain": [
       "'if we press shift + tab then it will show \\nthe documentation of that command or function  '"
      ]
     },
     "execution_count": 16,
     "metadata": {},
     "output_type": "execute_result"
    }
   ],
   "source": [
    "print() \n",
    "'''if we press shift + tab then it will show \n",
    "the documentation of that command or function  '''"
   ]
  },
  {
   "cell_type": "code",
   "execution_count": 17,
   "id": "56f8a67a",
   "metadata": {
    "scrolled": true
   },
   "outputs": [
    {
     "name": "stdout",
     "output_type": "stream",
     "text": [
      "\n"
     ]
    }
   ],
   "source": [
    "print()"
   ]
  },
  {
   "cell_type": "code",
   "execution_count": 19,
   "id": "043d01d7",
   "metadata": {},
   "outputs": [],
   "source": [
    "type()\n",
    "'''press shift + tab inside the type function \n",
    "and you will get documentation'''"
   ]
  },
  {
   "cell_type": "code",
   "execution_count": 13,
   "id": "304a89f2",
   "metadata": {},
   "outputs": [
    {
     "name": "stdout",
     "output_type": "stream",
     "text": [
      "hello\n",
      "world\n",
      "himanshu\n"
     ]
    }
   ],
   "source": [
    "print(\"hello\")    \n",
    "# here it will print the values in the new line every time\n",
    "print(\"world\")    \n",
    "# because in the print manual it end with /n which means new line character\n",
    "print(\"himanshu\")"
   ]
  },
  {
   "cell_type": "markdown",
   "id": "1c2ca9d9",
   "metadata": {},
   "source": [
    ">if we want to print the values above in the same line then follow as shown    belove"
   ]
  },
  {
   "cell_type": "code",
   "execution_count": 14,
   "id": "5f59e1f2",
   "metadata": {},
   "outputs": [
    {
     "name": "stdout",
     "output_type": "stream",
     "text": [
      "hello _ himanshu\n"
     ]
    }
   ],
   "source": [
    "print(\"hello\",end=' _ ')\n",
    "print(\"himanshu\")\n",
    "# now it will be printed in the same line "
   ]
  },
  {
   "cell_type": "code",
   "execution_count": 15,
   "id": "17ae7570",
   "metadata": {},
   "outputs": [
    {
     "name": "stdout",
     "output_type": "stream",
     "text": [
      "hello 2 himanshu\n"
     ]
    }
   ],
   "source": [
    "print(\"hello\",end=' 2 ')\n",
    "print(\"himanshu\")"
   ]
  },
  {
   "cell_type": "markdown",
   "id": "2745e0b0",
   "metadata": {},
   "source": [
    "# Python supports 3 categories of data types:\n",
    "\n",
    "* basic types : (integer,float,complex,boolean,string)\n",
    "* container types : (list,tupels,sets,dictionary)\n",
    "* user-defined types : (class)"
   ]
  },
  {
   "cell_type": "code",
   "execution_count": 20,
   "id": "eba4b27d",
   "metadata": {},
   "outputs": [
    {
     "data": {
      "text/plain": [
       "'in container data type we keep more than one \\ntype of data type in a single container'"
      ]
     },
     "execution_count": 20,
     "metadata": {},
     "output_type": "execute_result"
    }
   ],
   "source": [
    "'''in container data type we keep more than one \n",
    "type of data type in a single container'''"
   ]
  },
  {
   "cell_type": "code",
   "execution_count": 17,
   "id": "688a2727",
   "metadata": {
    "scrolled": true
   },
   "outputs": [
    {
     "name": "stdout",
     "output_type": "stream",
     "text": [
      "4\n",
      "50030000000000000000009999999999999999999903\n",
      "inf\n"
     ]
    }
   ],
   "source": [
    "# Int, or integer, is a whole number, positive or negative\n",
    "# without decimals, of unlimited length.\n",
    "print(4)\n",
    "print(50030000000000000000009999999999999999999903)\n",
    "print(1e309)\n",
    "# largest no. range python can save \n",
    "# 1*10^309 = 1e309"
   ]
  },
  {
   "cell_type": "code",
   "execution_count": 18,
   "id": "90aaf4fc",
   "metadata": {},
   "outputs": [
    {
     "name": "stdout",
     "output_type": "stream",
     "text": [
      "<class 'int'>\n",
      "<class 'int'>\n",
      "<class 'int'>\n"
     ]
    }
   ],
   "source": [
    "x = 1\n",
    "y = 35656222554887711\n",
    "z = -3255522\n",
    "\n",
    "print(type(x))\n",
    "print(type(y))\n",
    "print(type(z))"
   ]
  },
  {
   "cell_type": "code",
   "execution_count": 1,
   "id": "fab24438",
   "metadata": {
    "scrolled": true
   },
   "outputs": [
    {
     "name": "stdout",
     "output_type": "stream",
     "text": [
      "4.5\n"
     ]
    }
   ],
   "source": [
    "# Float, or \"floating point number\" is a number, \n",
    "# positive or negative, containing one or more decimals.\n",
    "print(4.5)"
   ]
  },
  {
   "cell_type": "code",
   "execution_count": 20,
   "id": "6eee0b54",
   "metadata": {
    "scrolled": true
   },
   "outputs": [
    {
     "name": "stdout",
     "output_type": "stream",
     "text": [
      "<class 'float'>\n",
      "<class 'float'>\n",
      "<class 'float'>\n"
     ]
    }
   ],
   "source": [
    "x = 1.10\n",
    "y = 1.0\n",
    "z = -35.59\n",
    "\n",
    "print(type(x))\n",
    "print(type(y))\n",
    "print(type(z))"
   ]
  },
  {
   "cell_type": "code",
   "execution_count": 21,
   "id": "a6bc6827",
   "metadata": {
    "scrolled": true
   },
   "outputs": [
    {
     "name": "stdout",
     "output_type": "stream",
     "text": [
      "<class 'float'>\n",
      "<class 'float'>\n",
      "<class 'float'>\n"
     ]
    }
   ],
   "source": [
    "# Float can also be scientific numbers with an \"e\" to indicate the power of 10.\n",
    "x = 35e3\n",
    "y = 12E4\n",
    "z = -87.7e100\n",
    "\n",
    "print(type(x))\n",
    "print(type(y))\n",
    "print(type(z))"
   ]
  },
  {
   "cell_type": "code",
   "execution_count": 22,
   "id": "e64ecbca",
   "metadata": {},
   "outputs": [
    {
     "name": "stdout",
     "output_type": "stream",
     "text": [
      "False\n",
      "True\n"
     ]
    }
   ],
   "source": [
    "# boolean\n",
    "print(False)\n",
    "print(True)"
   ]
  },
  {
   "cell_type": "code",
   "execution_count": 23,
   "id": "4bfd8e03",
   "metadata": {},
   "outputs": [
    {
     "name": "stdout",
     "output_type": "stream",
     "text": [
      "<class 'complex'>\n",
      "<class 'complex'>\n",
      "<class 'complex'>\n"
     ]
    }
   ],
   "source": [
    "# Complex numbers are written with a \"j\" as the imaginary part:\n",
    "x = 3+5j\n",
    "y = 5j\n",
    "z = -5j\n",
    "\n",
    "print(type(x))\n",
    "print(type(y))\n",
    "print(type(z))"
   ]
  },
  {
   "cell_type": "code",
   "execution_count": 24,
   "id": "5474d39a",
   "metadata": {},
   "outputs": [
    {
     "name": "stdout",
     "output_type": "stream",
     "text": [
      "3.0\n"
     ]
    }
   ],
   "source": [
    "# to print the real part of the complex data type\n",
    "print(x.real)"
   ]
  },
  {
   "cell_type": "code",
   "execution_count": 25,
   "id": "bbf3732e",
   "metadata": {},
   "outputs": [
    {
     "name": "stdout",
     "output_type": "stream",
     "text": [
      "5.0\n"
     ]
    }
   ],
   "source": [
    "# to print the imaginery part of the complex data type\n",
    "print(x.imag)"
   ]
  },
  {
   "cell_type": "code",
   "execution_count": 26,
   "id": "f2ad33d9",
   "metadata": {},
   "outputs": [
    {
     "name": "stdout",
     "output_type": "stream",
     "text": [
      "himanshu\n",
      "himanshu\n",
      "himanshu\n"
     ]
    }
   ],
   "source": [
    "# String/Text\n",
    "print(\"himanshu\")\n",
    "print('himanshu')\n",
    "print('''himanshu''')"
   ]
  },
  {
   "cell_type": "code",
   "execution_count": 27,
   "id": "5f87b8bb",
   "metadata": {},
   "outputs": [
    {
     "name": "stdout",
     "output_type": "stream",
     "text": [
      "[1, 2, 3, 4, 5]\n"
     ]
    }
   ],
   "source": [
    "# list\n",
    "print([1,2,3,4,5])"
   ]
  },
  {
   "cell_type": "code",
   "execution_count": 28,
   "id": "1ad3c630",
   "metadata": {},
   "outputs": [
    {
     "name": "stdout",
     "output_type": "stream",
     "text": [
      "(1, 2, 3, 4, 5)\n"
     ]
    }
   ],
   "source": [
    "# tuple\n",
    "print((1,2,3,4,5))"
   ]
  },
  {
   "cell_type": "code",
   "execution_count": 29,
   "id": "cfa99969",
   "metadata": {},
   "outputs": [
    {
     "name": "stdout",
     "output_type": "stream",
     "text": [
      "{1, 2, 3, 4, 5}\n"
     ]
    }
   ],
   "source": [
    "# set\n",
    "print({1,2,3,4,5})"
   ]
  },
  {
   "cell_type": "markdown",
   "id": "50b0c0bc",
   "metadata": {},
   "source": [
    "# dictionary\n",
    "in below cell name is the key and hianshu is the value and similarly age is the key and 23 is the value and gender is the key where as male is the value"
   ]
  },
  {
   "cell_type": "code",
   "execution_count": 30,
   "id": "253a180f",
   "metadata": {
    "scrolled": true
   },
   "outputs": [
    {
     "name": "stdout",
     "output_type": "stream",
     "text": [
      "{'name': 'himanshu', 'age': 23, 'gender': 'male'}\n"
     ]
    }
   ],
   "source": [
    "# dictionary\n",
    "print({\"name\":\"himanshu\",\"age\":23,\"gender\":\"male\"})"
   ]
  },
  {
   "cell_type": "markdown",
   "id": "3447d247",
   "metadata": {},
   "source": [
    "### Type function\n",
    ">You can get the data type of a variable with the type() function."
   ]
  },
  {
   "cell_type": "code",
   "execution_count": 31,
   "id": "d7f21816",
   "metadata": {},
   "outputs": [
    {
     "data": {
      "text/plain": [
       "float"
      ]
     },
     "execution_count": 31,
     "metadata": {},
     "output_type": "execute_result"
    }
   ],
   "source": [
    "type(6.838)"
   ]
  },
  {
   "cell_type": "code",
   "execution_count": 32,
   "id": "bfa40e65",
   "metadata": {},
   "outputs": [
    {
     "data": {
      "text/plain": [
       "bool"
      ]
     },
     "execution_count": 32,
     "metadata": {},
     "output_type": "execute_result"
    }
   ],
   "source": [
    "type(True)"
   ]
  },
  {
   "cell_type": "code",
   "execution_count": 33,
   "id": "4025a425",
   "metadata": {},
   "outputs": [
    {
     "data": {
      "text/plain": [
       "str"
      ]
     },
     "execution_count": 33,
     "metadata": {},
     "output_type": "execute_result"
    }
   ],
   "source": [
    "type(\"himanshu\")"
   ]
  },
  {
   "cell_type": "code",
   "execution_count": 34,
   "id": "71ee7921",
   "metadata": {},
   "outputs": [
    {
     "data": {
      "text/plain": [
       "int"
      ]
     },
     "execution_count": 34,
     "metadata": {},
     "output_type": "execute_result"
    }
   ],
   "source": [
    "type(4)"
   ]
  },
  {
   "cell_type": "code",
   "execution_count": 35,
   "id": "f87b5277",
   "metadata": {},
   "outputs": [
    {
     "data": {
      "text/plain": [
       "list"
      ]
     },
     "execution_count": 35,
     "metadata": {},
     "output_type": "execute_result"
    }
   ],
   "source": [
    "type([1,2,3,4,5])"
   ]
  },
  {
   "cell_type": "markdown",
   "id": "d2c9616a",
   "metadata": {},
   "source": [
    "# comments\n",
    "\n",
    "* a piece of code which is not executed by compiler or interpriter \n",
    "* it is use full when you are working in team to give logic to the code below\n",
    "* to write comment we can use #\n",
    "* it will not show any output\n",
    "* Comments can be used to explain Python code.\n",
    "* Comments can be used to make the code more readable.\n",
    "* Comments can be used to prevent execution when testing code."
   ]
  },
  {
   "cell_type": "code",
   "execution_count": 23,
   "id": "7c879b9f",
   "metadata": {},
   "outputs": [
    {
     "name": "stdout",
     "output_type": "stream",
     "text": [
      "Hello, World!\n"
     ]
    }
   ],
   "source": [
    "# Comments can be placed at the end of a line, \n",
    "# and Python will ignore the rest of the line:\n",
    "\n",
    "print(\"Hello, World!\") #This is a comment"
   ]
  },
  {
   "cell_type": "code",
   "execution_count": 22,
   "id": "0e690e28",
   "metadata": {},
   "outputs": [
    {
     "name": "stdout",
     "output_type": "stream",
     "text": [
      "Cheers, Mate!\n"
     ]
    }
   ],
   "source": [
    "# A comment does not have to be text that explains the code\n",
    "# it can also be used to prevent Python from executing code:\n",
    "# print(\"Hello, World!\")\n",
    "print(\"Cheers, Mate!\")"
   ]
  },
  {
   "cell_type": "code",
   "execution_count": 26,
   "id": "7cbef84d",
   "metadata": {},
   "outputs": [
    {
     "name": "stdout",
     "output_type": "stream",
     "text": [
      "Hello, World!\n"
     ]
    }
   ],
   "source": [
    "# Since Python will ignore string literals that are not assigned to a variable, \n",
    "# you can add a multiline string (triple quotes) in your code, \n",
    "# and place your comment inside it:\n",
    "\"\"\"\n",
    "This is a comment\n",
    "written in\n",
    "more than just one line\n",
    "\"\"\"\n",
    "print(\"Hello, World!\")"
   ]
  }
 ],
 "metadata": {
  "kernelspec": {
   "display_name": "Python 3 (ipykernel)",
   "language": "python",
   "name": "python3"
  },
  "language_info": {
   "codemirror_mode": {
    "name": "ipython",
    "version": 3
   },
   "file_extension": ".py",
   "mimetype": "text/x-python",
   "name": "python",
   "nbconvert_exporter": "python",
   "pygments_lexer": "ipython3",
   "version": "3.9.13"
  }
 },
 "nbformat": 4,
 "nbformat_minor": 5
}
